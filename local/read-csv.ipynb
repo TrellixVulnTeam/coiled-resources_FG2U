{
 "cells": [
  {
   "cell_type": "markdown",
   "id": "b07618f1-9fc3-429d-8d03-561fa3ec21a3",
   "metadata": {},
   "source": [
    "# Dask read_csv"
   ]
  },
  {
   "cell_type": "code",
   "execution_count": 1,
   "id": "6bf8be14-f360-4501-8531-3268357f02c7",
   "metadata": {},
   "outputs": [],
   "source": [
    "import dask.dataframe as dd"
   ]
  },
  {
   "cell_type": "code",
   "execution_count": 2,
   "id": "7d811e68-a5aa-4894-9ad3-ff24231b313e",
   "metadata": {},
   "outputs": [],
   "source": [
    "ddf = dd.read_csv(\"dogs.csv\")"
   ]
  },
  {
   "cell_type": "code",
   "execution_count": 3,
   "id": "0eaea06b-92a9-4ad5-983f-6436eab23019",
   "metadata": {},
   "outputs": [
    {
     "data": {
      "text/html": [
       "<div>\n",
       "<style scoped>\n",
       "    .dataframe tbody tr th:only-of-type {\n",
       "        vertical-align: middle;\n",
       "    }\n",
       "\n",
       "    .dataframe tbody tr th {\n",
       "        vertical-align: top;\n",
       "    }\n",
       "\n",
       "    .dataframe thead th {\n",
       "        text-align: right;\n",
       "    }\n",
       "</style>\n",
       "<table border=\"1\" class=\"dataframe\">\n",
       "  <thead>\n",
       "    <tr style=\"text-align: right;\">\n",
       "      <th></th>\n",
       "      <th>first_name</th>\n",
       "      <th>age</th>\n",
       "    </tr>\n",
       "  </thead>\n",
       "  <tbody>\n",
       "    <tr>\n",
       "      <th>0</th>\n",
       "      <td>fido</td>\n",
       "      <td>3</td>\n",
       "    </tr>\n",
       "    <tr>\n",
       "      <th>1</th>\n",
       "      <td>lucky</td>\n",
       "      <td>4</td>\n",
       "    </tr>\n",
       "    <tr>\n",
       "      <th>2</th>\n",
       "      <td>gus</td>\n",
       "      <td>8</td>\n",
       "    </tr>\n",
       "  </tbody>\n",
       "</table>\n",
       "</div>"
      ],
      "text/plain": [
       "  first_name  age\n",
       "0       fido    3\n",
       "1      lucky    4\n",
       "2        gus    8"
      ]
     },
     "execution_count": 3,
     "metadata": {},
     "output_type": "execute_result"
    }
   ],
   "source": [
    "ddf.compute()"
   ]
  },
  {
   "cell_type": "code",
   "execution_count": 6,
   "id": "68faaaf9-15e2-4aa9-9d0a-d8f8735085a1",
   "metadata": {},
   "outputs": [
    {
     "name": "stdout",
     "output_type": "stream",
     "text": [
      "  first_name  age\n",
      "0       fido    3\n",
      "1      lucky    4\n",
      "2        gus    8\n"
     ]
    }
   ],
   "source": [
    "print(ddf.compute())"
   ]
  },
  {
   "cell_type": "code",
   "execution_count": 5,
   "id": "d230fec4-b965-43ae-8de9-49a369a6ae77",
   "metadata": {},
   "outputs": [
    {
     "name": "stdout",
     "output_type": "stream",
     "text": [
      "+----+--------------+-------+\n",
      "|    | first_name   |   age |\n",
      "+====+==============+=======+\n",
      "|  0 | fido         |     3 |\n",
      "+----+--------------+-------+\n",
      "|  1 | lucky        |     4 |\n",
      "+----+--------------+-------+\n",
      "|  2 | gus          |     8 |\n",
      "+----+--------------+-------+\n"
     ]
    }
   ],
   "source": [
    "print(ddf.compute().to_markdown(tablefmt=\"grid\"))"
   ]
  },
  {
   "cell_type": "markdown",
   "id": "0817a493-53a3-4b03-b962-fd513e426e79",
   "metadata": {},
   "source": [
    "## Similar to syntax for reading pandas files"
   ]
  },
  {
   "cell_type": "code",
   "execution_count": 6,
   "id": "4591f727-bd8b-4c09-ac80-c1e093493d03",
   "metadata": {},
   "outputs": [],
   "source": [
    "import pandas as pd"
   ]
  },
  {
   "cell_type": "code",
   "execution_count": 7,
   "id": "03d238e3-4f77-4f76-9b8a-54dfbcc6304f",
   "metadata": {},
   "outputs": [],
   "source": [
    "df = pd.read_csv(\"dogs.csv\")"
   ]
  },
  {
   "cell_type": "code",
   "execution_count": 8,
   "id": "5b92b0b9-b2b6-49c6-878f-4db9322caf58",
   "metadata": {},
   "outputs": [
    {
     "data": {
      "text/html": [
       "<div>\n",
       "<style scoped>\n",
       "    .dataframe tbody tr th:only-of-type {\n",
       "        vertical-align: middle;\n",
       "    }\n",
       "\n",
       "    .dataframe tbody tr th {\n",
       "        vertical-align: top;\n",
       "    }\n",
       "\n",
       "    .dataframe thead th {\n",
       "        text-align: right;\n",
       "    }\n",
       "</style>\n",
       "<table border=\"1\" class=\"dataframe\">\n",
       "  <thead>\n",
       "    <tr style=\"text-align: right;\">\n",
       "      <th></th>\n",
       "      <th>first_name</th>\n",
       "      <th>age</th>\n",
       "    </tr>\n",
       "  </thead>\n",
       "  <tbody>\n",
       "    <tr>\n",
       "      <th>0</th>\n",
       "      <td>fido</td>\n",
       "      <td>3</td>\n",
       "    </tr>\n",
       "    <tr>\n",
       "      <th>1</th>\n",
       "      <td>lucky</td>\n",
       "      <td>4</td>\n",
       "    </tr>\n",
       "    <tr>\n",
       "      <th>2</th>\n",
       "      <td>gus</td>\n",
       "      <td>8</td>\n",
       "    </tr>\n",
       "  </tbody>\n",
       "</table>\n",
       "</div>"
      ],
      "text/plain": [
       "  first_name  age\n",
       "0       fido    3\n",
       "1      lucky    4\n",
       "2        gus    8"
      ]
     },
     "execution_count": 8,
     "metadata": {},
     "output_type": "execute_result"
    }
   ],
   "source": [
    "df"
   ]
  },
  {
   "cell_type": "markdown",
   "id": "47e10735-269e-4d06-bede-f25c331b101b",
   "metadata": {},
   "source": [
    "## Reading large CSV file"
   ]
  },
  {
   "cell_type": "code",
   "execution_count": 9,
   "id": "cad72a66-485c-4a03-beee-210a285d7501",
   "metadata": {},
   "outputs": [],
   "source": [
    "ddf = dd.read_csv(\"data/G1_1e8_1e2_0_0.csv\")"
   ]
  },
  {
   "cell_type": "code",
   "execution_count": 14,
   "id": "e88bb637-0e65-4621-b273-98e3b3187eb3",
   "metadata": {},
   "outputs": [
    {
     "data": {
      "text/plain": [
       "id1     object\n",
       "id2     object\n",
       "id3     object\n",
       "id4      int64\n",
       "id5      int64\n",
       "id6      int64\n",
       "v1       int64\n",
       "v2       int64\n",
       "v3     float64\n",
       "dtype: object"
      ]
     },
     "execution_count": 14,
     "metadata": {},
     "output_type": "execute_result"
    }
   ],
   "source": [
    "ddf.dtypes"
   ]
  },
  {
   "cell_type": "code",
   "execution_count": 13,
   "id": "7a19514b-f73f-4b1e-9e66-5d06e4111dd0",
   "metadata": {},
   "outputs": [
    {
     "data": {
      "text/plain": [
       "Index         10496\n",
       "id1      6200000000\n",
       "id2      6200000000\n",
       "id3      6900000000\n",
       "id4       800000000\n",
       "id5       800000000\n",
       "id6       800000000\n",
       "v1        800000000\n",
       "v2        800000000\n",
       "v3        800000000\n",
       "dtype: int64"
      ]
     },
     "execution_count": 13,
     "metadata": {},
     "output_type": "execute_result"
    }
   ],
   "source": [
    "ddf.memory_usage(deep=True).compute()"
   ]
  },
  {
   "cell_type": "code",
   "execution_count": 12,
   "id": "6311f294-1594-4843-8fc0-73b5b9d97fbe",
   "metadata": {},
   "outputs": [
    {
     "data": {
      "text/plain": [
       "24100010496"
      ]
     },
     "execution_count": 12,
     "metadata": {},
     "output_type": "execute_result"
    }
   ],
   "source": [
    "ddf.memory_usage(deep=True).sum().compute()"
   ]
  },
  {
   "cell_type": "code",
   "execution_count": 10,
   "id": "732b0a33-7ef5-430b-88ba-43b39a8902a3",
   "metadata": {},
   "outputs": [
    {
     "data": {
      "text/plain": [
       "82"
      ]
     },
     "execution_count": 10,
     "metadata": {},
     "output_type": "execute_result"
    }
   ],
   "source": [
    "ddf.npartitions"
   ]
  },
  {
   "cell_type": "code",
   "execution_count": 19,
   "id": "e7e1977c-d626-4e2c-aeec-b7c8cf1232b4",
   "metadata": {},
   "outputs": [],
   "source": [
    "ddf = dd.read_csv(\"data/G1_1e8_1e2_0_0.csv\", blocksize=\"16MB\")"
   ]
  },
  {
   "cell_type": "code",
   "execution_count": 20,
   "id": "f7f28aec-e518-4f07-9291-d939b25a87b8",
   "metadata": {},
   "outputs": [
    {
     "data": {
      "text/plain": [
       "325"
      ]
     },
     "execution_count": 20,
     "metadata": {},
     "output_type": "execute_result"
    }
   ],
   "source": [
    "ddf.npartitions"
   ]
  },
  {
   "cell_type": "code",
   "execution_count": 23,
   "id": "bb8e6e36-3c21-4f30-bb0f-f3670ac2e71f",
   "metadata": {},
   "outputs": [],
   "source": [
    "ddf = dd.read_csv(\"data/G1_1e8_1e2_0_0.csv\", blocksize=\"128MB\")"
   ]
  },
  {
   "cell_type": "code",
   "execution_count": 24,
   "id": "24879731-ec85-43e0-9f32-ac9df4e3992b",
   "metadata": {},
   "outputs": [
    {
     "data": {
      "text/plain": [
       "41"
      ]
     },
     "execution_count": 24,
     "metadata": {},
     "output_type": "execute_result"
    }
   ],
   "source": [
    "ddf.npartitions"
   ]
  },
  {
   "cell_type": "markdown",
   "id": "6234937e-4a1e-4d9b-b6e6-ec4c9d2d8c81",
   "metadata": {},
   "source": [
    "## inferring dtypes"
   ]
  },
  {
   "cell_type": "code",
   "execution_count": 25,
   "id": "bb3726ff-4ee5-4016-a645-90c3022a34e0",
   "metadata": {},
   "outputs": [
    {
     "data": {
      "text/plain": [
       "id1     object\n",
       "id2     object\n",
       "id3     object\n",
       "id4      int64\n",
       "id5      int64\n",
       "id6      int64\n",
       "v1       int64\n",
       "v2       int64\n",
       "v3     float64\n",
       "dtype: object"
      ]
     },
     "execution_count": 25,
     "metadata": {},
     "output_type": "execute_result"
    }
   ],
   "source": [
    "ddf.dtypes"
   ]
  },
  {
   "cell_type": "code",
   "execution_count": 26,
   "id": "9d64ab49-d606-4e1d-8116-61b4ae1c7d16",
   "metadata": {},
   "outputs": [],
   "source": [
    "ddf = dd.read_csv(\"data/G1_1e8_1e2_0_0.csv\", sample_rows=5000)"
   ]
  },
  {
   "cell_type": "code",
   "execution_count": 27,
   "id": "a2a5b432-5403-4ff3-8f97-1fadc9d12693",
   "metadata": {},
   "outputs": [
    {
     "data": {
      "text/plain": [
       "id1     object\n",
       "id2     object\n",
       "id3     object\n",
       "id4      int64\n",
       "id5      int64\n",
       "id6      int64\n",
       "v1       int64\n",
       "v2       int64\n",
       "v3     float64\n",
       "dtype: object"
      ]
     },
     "execution_count": 27,
     "metadata": {},
     "output_type": "execute_result"
    }
   ],
   "source": [
    "ddf.dtypes"
   ]
  },
  {
   "cell_type": "markdown",
   "id": "da617392-ef50-459e-87b2-9e1b25cc69b2",
   "metadata": {},
   "source": [
    "## Explicitly specify dtypes"
   ]
  },
  {
   "cell_type": "code",
   "execution_count": 29,
   "id": "691a15ce-c920-423e-9372-418edcc31b2e",
   "metadata": {},
   "outputs": [],
   "source": [
    "ddf = dd.read_csv(\n",
    "    \"data/G1_1e8_1e2_0_0.csv\",\n",
    "    dtype={\n",
    "        \"id1\": \"string[pyarrow]\",\n",
    "        \"id2\": \"string[pyarrow]\",\n",
    "        \"id3\": \"string[pyarrow]\",\n",
    "    },\n",
    ")"
   ]
  },
  {
   "cell_type": "code",
   "execution_count": 30,
   "id": "ca01dad8-6a46-4bb9-bf01-f21fa0035d7d",
   "metadata": {},
   "outputs": [
    {
     "data": {
      "text/plain": [
       "id1     string\n",
       "id2     string\n",
       "id3     string\n",
       "id4      int64\n",
       "id5      int64\n",
       "id6      int64\n",
       "v1       int64\n",
       "v2       int64\n",
       "v3     float64\n",
       "dtype: object"
      ]
     },
     "execution_count": 30,
     "metadata": {},
     "output_type": "execute_result"
    }
   ],
   "source": [
    "ddf.dtypes"
   ]
  },
  {
   "cell_type": "markdown",
   "id": "48af2ef6-41c5-4ee8-a9cd-f8bd87b4a8de",
   "metadata": {},
   "source": [
    "## Read multiple CSVs to Dask DataFrame"
   ]
  },
  {
   "cell_type": "code",
   "execution_count": 34,
   "id": "8301c2ad-1132-4299-884a-1e254011f05e",
   "metadata": {},
   "outputs": [],
   "source": [
    "ddf = dd.read_csv(\"data/csvs/*.part\")"
   ]
  },
  {
   "cell_type": "code",
   "execution_count": 35,
   "id": "dc8e7137-edcb-4edf-862b-9b57912943e5",
   "metadata": {},
   "outputs": [
    {
     "data": {
      "text/plain": [
       "162"
      ]
     },
     "execution_count": 35,
     "metadata": {},
     "output_type": "execute_result"
    }
   ],
   "source": [
    "ddf.npartitions"
   ]
  },
  {
   "cell_type": "markdown",
   "id": "441abadf-5f54-480e-8604-654890aaa381",
   "metadata": {},
   "source": [
    "## Read multiple CSVs to Pandas DataFrame"
   ]
  },
  {
   "cell_type": "code",
   "execution_count": 36,
   "id": "5c7eaed7-e6b0-42a3-83fa-284d57c162b5",
   "metadata": {},
   "outputs": [],
   "source": [
    "import glob\n",
    "import pandas as pd"
   ]
  },
  {
   "cell_type": "code",
   "execution_count": 42,
   "id": "e6921472-cb68-4120-9e42-62f171633a98",
   "metadata": {},
   "outputs": [],
   "source": [
    "all_files = glob.glob(\"./data/csvs/*.part\")"
   ]
  },
  {
   "cell_type": "code",
   "execution_count": 44,
   "id": "a908186a-46b6-4ef3-8b3e-f3fc5430e7d6",
   "metadata": {},
   "outputs": [],
   "source": [
    "df = pd.concat((pd.read_csv(f) for f in all_files))"
   ]
  },
  {
   "cell_type": "markdown",
   "id": "766b5224-8140-4ba1-bc5f-000b26843842",
   "metadata": {},
   "source": [
    "## Read CSV in S3 to localhost"
   ]
  },
  {
   "cell_type": "code",
   "execution_count": 46,
   "id": "d89c8fc3-f74e-4b54-9214-7e7f66a87236",
   "metadata": {},
   "outputs": [],
   "source": [
    "ddf = dd.read_csv(\"s3://coiled-datasets/timeseries/20-years/csv/0000.part\")"
   ]
  },
  {
   "cell_type": "code",
   "execution_count": 47,
   "id": "418f4031-2306-4254-8a68-14c9bface99c",
   "metadata": {},
   "outputs": [
    {
     "data": {
      "text/html": [
       "<div>\n",
       "<style scoped>\n",
       "    .dataframe tbody tr th:only-of-type {\n",
       "        vertical-align: middle;\n",
       "    }\n",
       "\n",
       "    .dataframe tbody tr th {\n",
       "        vertical-align: top;\n",
       "    }\n",
       "\n",
       "    .dataframe thead th {\n",
       "        text-align: right;\n",
       "    }\n",
       "</style>\n",
       "<table border=\"1\" class=\"dataframe\">\n",
       "  <thead>\n",
       "    <tr style=\"text-align: right;\">\n",
       "      <th></th>\n",
       "      <th>timestamp</th>\n",
       "      <th>id</th>\n",
       "      <th>name</th>\n",
       "      <th>x</th>\n",
       "      <th>y</th>\n",
       "    </tr>\n",
       "  </thead>\n",
       "  <tbody>\n",
       "    <tr>\n",
       "      <th>0</th>\n",
       "      <td>2000-01-01 00:00:00</td>\n",
       "      <td>1008</td>\n",
       "      <td>Dan</td>\n",
       "      <td>-0.259374</td>\n",
       "      <td>-0.118314</td>\n",
       "    </tr>\n",
       "    <tr>\n",
       "      <th>1</th>\n",
       "      <td>2000-01-01 00:00:01</td>\n",
       "      <td>987</td>\n",
       "      <td>Patricia</td>\n",
       "      <td>0.069601</td>\n",
       "      <td>0.755351</td>\n",
       "    </tr>\n",
       "    <tr>\n",
       "      <th>2</th>\n",
       "      <td>2000-01-01 00:00:02</td>\n",
       "      <td>980</td>\n",
       "      <td>Zelda</td>\n",
       "      <td>-0.281843</td>\n",
       "      <td>-0.510507</td>\n",
       "    </tr>\n",
       "    <tr>\n",
       "      <th>3</th>\n",
       "      <td>2000-01-01 00:00:03</td>\n",
       "      <td>1020</td>\n",
       "      <td>Ursula</td>\n",
       "      <td>-0.569904</td>\n",
       "      <td>0.523132</td>\n",
       "    </tr>\n",
       "    <tr>\n",
       "      <th>4</th>\n",
       "      <td>2000-01-01 00:00:04</td>\n",
       "      <td>967</td>\n",
       "      <td>Michael</td>\n",
       "      <td>-0.251460</td>\n",
       "      <td>0.810930</td>\n",
       "    </tr>\n",
       "  </tbody>\n",
       "</table>\n",
       "</div>"
      ],
      "text/plain": [
       "             timestamp    id      name         x         y\n",
       "0  2000-01-01 00:00:00  1008       Dan -0.259374 -0.118314\n",
       "1  2000-01-01 00:00:01   987  Patricia  0.069601  0.755351\n",
       "2  2000-01-01 00:00:02   980     Zelda -0.281843 -0.510507\n",
       "3  2000-01-01 00:00:03  1020    Ursula -0.569904  0.523132\n",
       "4  2000-01-01 00:00:04   967   Michael -0.251460  0.810930"
      ]
     },
     "execution_count": 47,
     "metadata": {},
     "output_type": "execute_result"
    }
   ],
   "source": [
    "ddf.head()"
   ]
  },
  {
   "cell_type": "code",
   "execution_count": 49,
   "id": "eb8362bd-1d86-45a0-bdf1-cb6b5b8b36fd",
   "metadata": {},
   "outputs": [
    {
     "name": "stdout",
     "output_type": "stream",
     "text": [
      "CPU times: user 1.02 s, sys: 117 ms, total: 1.14 s\n",
      "Wall time: 1.56 s\n"
     ]
    }
   ],
   "source": [
    "%%time\n",
    "ddf = dd.read_csv(\"s3://coiled-datasets/timeseries/20-years/csv/*.part\")"
   ]
  },
  {
   "cell_type": "code",
   "execution_count": 51,
   "id": "e060e58b-0208-4c8c-8738-ecc20356e394",
   "metadata": {},
   "outputs": [
    {
     "ename": "KeyboardInterrupt",
     "evalue": "",
     "output_type": "error",
     "traceback": [
      "\u001b[0;31m---------------------------------------------------------------------------\u001b[0m",
      "\u001b[0;31mKeyboardInterrupt\u001b[0m                         Traceback (most recent call last)",
      "File \u001b[0;32m<timed eval>:1\u001b[0m, in \u001b[0;36m<module>\u001b[0;34m\u001b[0m\n",
      "File \u001b[0;32m~/opt/miniconda3/envs/standard-coiled/lib/python3.9/site-packages/dask/base.py:288\u001b[0m, in \u001b[0;36mDaskMethodsMixin.compute\u001b[0;34m(self, **kwargs)\u001b[0m\n\u001b[1;32m    264\u001b[0m \u001b[38;5;28;01mdef\u001b[39;00m \u001b[38;5;21mcompute\u001b[39m(\u001b[38;5;28mself\u001b[39m, \u001b[38;5;241m*\u001b[39m\u001b[38;5;241m*\u001b[39mkwargs):\n\u001b[1;32m    265\u001b[0m     \u001b[38;5;124;03m\"\"\"Compute this dask collection\u001b[39;00m\n\u001b[1;32m    266\u001b[0m \n\u001b[1;32m    267\u001b[0m \u001b[38;5;124;03m    This turns a lazy Dask collection into its in-memory equivalent.\u001b[39;00m\n\u001b[0;32m   (...)\u001b[0m\n\u001b[1;32m    286\u001b[0m \u001b[38;5;124;03m    dask.base.compute\u001b[39;00m\n\u001b[1;32m    287\u001b[0m \u001b[38;5;124;03m    \"\"\"\u001b[39;00m\n\u001b[0;32m--> 288\u001b[0m     (result,) \u001b[38;5;241m=\u001b[39m \u001b[43mcompute\u001b[49m\u001b[43m(\u001b[49m\u001b[38;5;28;43mself\u001b[39;49m\u001b[43m,\u001b[49m\u001b[43m \u001b[49m\u001b[43mtraverse\u001b[49m\u001b[38;5;241;43m=\u001b[39;49m\u001b[38;5;28;43;01mFalse\u001b[39;49;00m\u001b[43m,\u001b[49m\u001b[43m \u001b[49m\u001b[38;5;241;43m*\u001b[39;49m\u001b[38;5;241;43m*\u001b[39;49m\u001b[43mkwargs\u001b[49m\u001b[43m)\u001b[49m\n\u001b[1;32m    289\u001b[0m     \u001b[38;5;28;01mreturn\u001b[39;00m result\n",
      "File \u001b[0;32m~/opt/miniconda3/envs/standard-coiled/lib/python3.9/site-packages/dask/base.py:571\u001b[0m, in \u001b[0;36mcompute\u001b[0;34m(traverse, optimize_graph, scheduler, get, *args, **kwargs)\u001b[0m\n\u001b[1;32m    568\u001b[0m     keys\u001b[38;5;241m.\u001b[39mappend(x\u001b[38;5;241m.\u001b[39m__dask_keys__())\n\u001b[1;32m    569\u001b[0m     postcomputes\u001b[38;5;241m.\u001b[39mappend(x\u001b[38;5;241m.\u001b[39m__dask_postcompute__())\n\u001b[0;32m--> 571\u001b[0m results \u001b[38;5;241m=\u001b[39m \u001b[43mschedule\u001b[49m\u001b[43m(\u001b[49m\u001b[43mdsk\u001b[49m\u001b[43m,\u001b[49m\u001b[43m \u001b[49m\u001b[43mkeys\u001b[49m\u001b[43m,\u001b[49m\u001b[43m \u001b[49m\u001b[38;5;241;43m*\u001b[39;49m\u001b[38;5;241;43m*\u001b[39;49m\u001b[43mkwargs\u001b[49m\u001b[43m)\u001b[49m\n\u001b[1;32m    572\u001b[0m \u001b[38;5;28;01mreturn\u001b[39;00m repack([f(r, \u001b[38;5;241m*\u001b[39ma) \u001b[38;5;28;01mfor\u001b[39;00m r, (f, a) \u001b[38;5;129;01min\u001b[39;00m \u001b[38;5;28mzip\u001b[39m(results, postcomputes)])\n",
      "File \u001b[0;32m~/opt/miniconda3/envs/standard-coiled/lib/python3.9/site-packages/dask/threaded.py:79\u001b[0m, in \u001b[0;36mget\u001b[0;34m(dsk, result, cache, num_workers, pool, **kwargs)\u001b[0m\n\u001b[1;32m     76\u001b[0m     \u001b[38;5;28;01melif\u001b[39;00m \u001b[38;5;28misinstance\u001b[39m(pool, multiprocessing\u001b[38;5;241m.\u001b[39mpool\u001b[38;5;241m.\u001b[39mPool):\n\u001b[1;32m     77\u001b[0m         pool \u001b[38;5;241m=\u001b[39m MultiprocessingPoolExecutor(pool)\n\u001b[0;32m---> 79\u001b[0m results \u001b[38;5;241m=\u001b[39m \u001b[43mget_async\u001b[49m\u001b[43m(\u001b[49m\n\u001b[1;32m     80\u001b[0m \u001b[43m    \u001b[49m\u001b[43mpool\u001b[49m\u001b[38;5;241;43m.\u001b[39;49m\u001b[43msubmit\u001b[49m\u001b[43m,\u001b[49m\n\u001b[1;32m     81\u001b[0m \u001b[43m    \u001b[49m\u001b[43mpool\u001b[49m\u001b[38;5;241;43m.\u001b[39;49m\u001b[43m_max_workers\u001b[49m\u001b[43m,\u001b[49m\n\u001b[1;32m     82\u001b[0m \u001b[43m    \u001b[49m\u001b[43mdsk\u001b[49m\u001b[43m,\u001b[49m\n\u001b[1;32m     83\u001b[0m \u001b[43m    \u001b[49m\u001b[43mresult\u001b[49m\u001b[43m,\u001b[49m\n\u001b[1;32m     84\u001b[0m \u001b[43m    \u001b[49m\u001b[43mcache\u001b[49m\u001b[38;5;241;43m=\u001b[39;49m\u001b[43mcache\u001b[49m\u001b[43m,\u001b[49m\n\u001b[1;32m     85\u001b[0m \u001b[43m    \u001b[49m\u001b[43mget_id\u001b[49m\u001b[38;5;241;43m=\u001b[39;49m\u001b[43m_thread_get_id\u001b[49m\u001b[43m,\u001b[49m\n\u001b[1;32m     86\u001b[0m \u001b[43m    \u001b[49m\u001b[43mpack_exception\u001b[49m\u001b[38;5;241;43m=\u001b[39;49m\u001b[43mpack_exception\u001b[49m\u001b[43m,\u001b[49m\n\u001b[1;32m     87\u001b[0m \u001b[43m    \u001b[49m\u001b[38;5;241;43m*\u001b[39;49m\u001b[38;5;241;43m*\u001b[39;49m\u001b[43mkwargs\u001b[49m\u001b[43m,\u001b[49m\n\u001b[1;32m     88\u001b[0m \u001b[43m\u001b[49m\u001b[43m)\u001b[49m\n\u001b[1;32m     90\u001b[0m \u001b[38;5;66;03m# Cleanup pools associated to dead threads\u001b[39;00m\n\u001b[1;32m     91\u001b[0m \u001b[38;5;28;01mwith\u001b[39;00m pools_lock:\n",
      "File \u001b[0;32m~/opt/miniconda3/envs/standard-coiled/lib/python3.9/site-packages/dask/local.py:496\u001b[0m, in \u001b[0;36mget_async\u001b[0;34m(submit, num_workers, dsk, result, cache, get_id, rerun_exceptions_locally, pack_exception, raise_exception, callbacks, dumps, loads, chunksize, **kwargs)\u001b[0m\n\u001b[1;32m    494\u001b[0m \u001b[38;5;28;01mwhile\u001b[39;00m state[\u001b[38;5;124m\"\u001b[39m\u001b[38;5;124mwaiting\u001b[39m\u001b[38;5;124m\"\u001b[39m] \u001b[38;5;129;01mor\u001b[39;00m state[\u001b[38;5;124m\"\u001b[39m\u001b[38;5;124mready\u001b[39m\u001b[38;5;124m\"\u001b[39m] \u001b[38;5;129;01mor\u001b[39;00m state[\u001b[38;5;124m\"\u001b[39m\u001b[38;5;124mrunning\u001b[39m\u001b[38;5;124m\"\u001b[39m]:\n\u001b[1;32m    495\u001b[0m     fire_tasks(chunksize)\n\u001b[0;32m--> 496\u001b[0m     \u001b[38;5;28;01mfor\u001b[39;00m key, res_info, failed \u001b[38;5;129;01min\u001b[39;00m \u001b[43mqueue_get\u001b[49m\u001b[43m(\u001b[49m\u001b[43mqueue\u001b[49m\u001b[43m)\u001b[49m\u001b[38;5;241m.\u001b[39mresult():\n\u001b[1;32m    497\u001b[0m         \u001b[38;5;28;01mif\u001b[39;00m failed:\n\u001b[1;32m    498\u001b[0m             exc, tb \u001b[38;5;241m=\u001b[39m loads(res_info)\n",
      "File \u001b[0;32m~/opt/miniconda3/envs/standard-coiled/lib/python3.9/site-packages/dask/local.py:134\u001b[0m, in \u001b[0;36mqueue_get\u001b[0;34m(q)\u001b[0m\n\u001b[1;32m    133\u001b[0m \u001b[38;5;28;01mdef\u001b[39;00m \u001b[38;5;21mqueue_get\u001b[39m(q):\n\u001b[0;32m--> 134\u001b[0m     \u001b[38;5;28;01mreturn\u001b[39;00m \u001b[43mq\u001b[49m\u001b[38;5;241;43m.\u001b[39;49m\u001b[43mget\u001b[49m\u001b[43m(\u001b[49m\u001b[43m)\u001b[49m\n",
      "File \u001b[0;32m~/opt/miniconda3/envs/standard-coiled/lib/python3.9/queue.py:171\u001b[0m, in \u001b[0;36mQueue.get\u001b[0;34m(self, block, timeout)\u001b[0m\n\u001b[1;32m    169\u001b[0m \u001b[38;5;28;01melif\u001b[39;00m timeout \u001b[38;5;129;01mis\u001b[39;00m \u001b[38;5;28;01mNone\u001b[39;00m:\n\u001b[1;32m    170\u001b[0m     \u001b[38;5;28;01mwhile\u001b[39;00m \u001b[38;5;129;01mnot\u001b[39;00m \u001b[38;5;28mself\u001b[39m\u001b[38;5;241m.\u001b[39m_qsize():\n\u001b[0;32m--> 171\u001b[0m         \u001b[38;5;28;43mself\u001b[39;49m\u001b[38;5;241;43m.\u001b[39;49m\u001b[43mnot_empty\u001b[49m\u001b[38;5;241;43m.\u001b[39;49m\u001b[43mwait\u001b[49m\u001b[43m(\u001b[49m\u001b[43m)\u001b[49m\n\u001b[1;32m    172\u001b[0m \u001b[38;5;28;01melif\u001b[39;00m timeout \u001b[38;5;241m<\u001b[39m \u001b[38;5;241m0\u001b[39m:\n\u001b[1;32m    173\u001b[0m     \u001b[38;5;28;01mraise\u001b[39;00m \u001b[38;5;167;01mValueError\u001b[39;00m(\u001b[38;5;124m\"\u001b[39m\u001b[38;5;124m'\u001b[39m\u001b[38;5;124mtimeout\u001b[39m\u001b[38;5;124m'\u001b[39m\u001b[38;5;124m must be a non-negative number\u001b[39m\u001b[38;5;124m\"\u001b[39m)\n",
      "File \u001b[0;32m~/opt/miniconda3/envs/standard-coiled/lib/python3.9/threading.py:312\u001b[0m, in \u001b[0;36mCondition.wait\u001b[0;34m(self, timeout)\u001b[0m\n\u001b[1;32m    310\u001b[0m \u001b[38;5;28;01mtry\u001b[39;00m:    \u001b[38;5;66;03m# restore state no matter what (e.g., KeyboardInterrupt)\u001b[39;00m\n\u001b[1;32m    311\u001b[0m     \u001b[38;5;28;01mif\u001b[39;00m timeout \u001b[38;5;129;01mis\u001b[39;00m \u001b[38;5;28;01mNone\u001b[39;00m:\n\u001b[0;32m--> 312\u001b[0m         \u001b[43mwaiter\u001b[49m\u001b[38;5;241;43m.\u001b[39;49m\u001b[43macquire\u001b[49m\u001b[43m(\u001b[49m\u001b[43m)\u001b[49m\n\u001b[1;32m    313\u001b[0m         gotit \u001b[38;5;241m=\u001b[39m \u001b[38;5;28;01mTrue\u001b[39;00m\n\u001b[1;32m    314\u001b[0m     \u001b[38;5;28;01melse\u001b[39;00m:\n",
      "\u001b[0;31mKeyboardInterrupt\u001b[0m: "
     ]
    }
   ],
   "source": [
    "%%time\n",
    "ddf.describe().compute()"
   ]
  },
  {
   "cell_type": "markdown",
   "id": "7818e417-5997-42b0-9552-2f7c2f021996",
   "metadata": {},
   "source": [
    "## Read CSV data in S3 to cluster"
   ]
  },
  {
   "cell_type": "code",
   "execution_count": 2,
   "id": "44711368-b93a-41c2-ac6b-8e54b47dc1c4",
   "metadata": {},
   "outputs": [],
   "source": [
    "import coiled\n",
    "import dask.distributed"
   ]
  },
  {
   "cell_type": "code",
   "execution_count": 3,
   "id": "7dd4d9d5-b243-44dd-969f-2042d660257a",
   "metadata": {},
   "outputs": [
    {
     "data": {
      "text/html": [
       "<pre style=\"white-space:pre;overflow-x:auto;line-height:normal;font-family:Menlo,'DejaVu Sans Mono',consolas,'Courier New',monospace\">/Users/powers/opt/miniconda3/envs/standard-coiled/lib/python3.9/site-packages/rich/live.py:22\n",
       "1: UserWarning: install \"ipywidgets\" for Jupyter support\n",
       "  warnings.warn('install \"ipywidgets\" for Jupyter support')\n",
       "</pre>\n"
      ],
      "text/plain": [
       "/Users/powers/opt/miniconda3/envs/standard-coiled/lib/python3.9/site-packages/rich/live.py:22\n",
       "1: UserWarning: install \"ipywidgets\" for Jupyter support\n",
       "  warnings.warn('install \"ipywidgets\" for Jupyter support')\n"
      ]
     },
     "metadata": {},
     "output_type": "display_data"
    },
    {
     "name": "stdout",
     "output_type": "stream",
     "text": [
      "Found software environment build\n",
      "Created fw rule: inbound [8786-8787] [0.0.0.0/0] []\n",
      "Created FW rules: coiled-dask-matthew24-101256-firewall\n",
      "Created fw rule: cluster [0-65535] [None] [coiled-dask-matthew24-101256-firewall -> coiled-dask-matthew24-101256-firewall]\n",
      "Created FW rules: coiled-dask-matthew24-101256-cluster-firewall\n",
      "Created fw rule: cluster [0-65535] [None] [coiled-dask-matthew24-101256-cluster-firewall -> coiled-dask-matthew24-101256-cluster-firewall]\n",
      "Created scheduler VM: coiled-dask-matthew24-101256-scheduler (type: t3a.medium, ip: ['3.239.222.81'])\n"
     ]
    },
    {
     "data": {
      "text/html": [
       "<pre style=\"white-space:pre;overflow-x:auto;line-height:normal;font-family:Menlo,'DejaVu Sans Mono',consolas,'Courier New',monospace\"></pre>\n"
      ],
      "text/plain": []
     },
     "metadata": {},
     "output_type": "display_data"
    }
   ],
   "source": [
    "cluster = coiled.Cluster(name=\"powers\", n_workers=5)"
   ]
  },
  {
   "cell_type": "code",
   "execution_count": 4,
   "id": "fc69e4d0-1e37-4c57-b83a-7352e30df304",
   "metadata": {},
   "outputs": [
    {
     "name": "stderr",
     "output_type": "stream",
     "text": [
      "/Users/powers/opt/miniconda3/envs/standard-coiled/lib/python3.9/site-packages/distributed/client.py:1131: VersionMismatchWarning: Mismatched versions found\n",
      "\n",
      "+-------------+-----------+-----------+-----------+\n",
      "| Package     | client    | scheduler | workers   |\n",
      "+-------------+-----------+-----------+-----------+\n",
      "| dask        | 2021.11.2 | 2022.01.0 | 2022.01.0 |\n",
      "| distributed | 2021.11.2 | 2022.01.0 | 2022.01.0 |\n",
      "| numpy       | 1.22.0    | 1.21.5    | 1.21.5    |\n",
      "+-------------+-----------+-----------+-----------+\n",
      "  warnings.warn(version_module.VersionMismatchWarning(msg[0][\"warning\"]))\n"
     ]
    }
   ],
   "source": [
    "client = dask.distributed.Client(cluster)"
   ]
  },
  {
   "cell_type": "code",
   "execution_count": 5,
   "id": "7de7ac57-19ac-476c-b6af-2d589552de5b",
   "metadata": {},
   "outputs": [],
   "source": [
    "ddf = dd.read_csv(\"s3://coiled-datasets/timeseries/20-years/csv/*.part\")"
   ]
  },
  {
   "cell_type": "code",
   "execution_count": 6,
   "id": "e9950fdd-d831-4f10-9f35-9f3cd2cf59e1",
   "metadata": {},
   "outputs": [
    {
     "name": "stdout",
     "output_type": "stream",
     "text": [
      "CPU times: user 2.27 s, sys: 329 ms, total: 2.6 s\n",
      "Wall time: 5min 10s\n"
     ]
    },
    {
     "data": {
      "text/html": [
       "<div>\n",
       "<style scoped>\n",
       "    .dataframe tbody tr th:only-of-type {\n",
       "        vertical-align: middle;\n",
       "    }\n",
       "\n",
       "    .dataframe tbody tr th {\n",
       "        vertical-align: top;\n",
       "    }\n",
       "\n",
       "    .dataframe thead th {\n",
       "        text-align: right;\n",
       "    }\n",
       "</style>\n",
       "<table border=\"1\" class=\"dataframe\">\n",
       "  <thead>\n",
       "    <tr style=\"text-align: right;\">\n",
       "      <th></th>\n",
       "      <th>id</th>\n",
       "      <th>x</th>\n",
       "      <th>y</th>\n",
       "    </tr>\n",
       "  </thead>\n",
       "  <tbody>\n",
       "    <tr>\n",
       "      <th>count</th>\n",
       "      <td>6.622560e+08</td>\n",
       "      <td>6.622560e+08</td>\n",
       "      <td>6.622560e+08</td>\n",
       "    </tr>\n",
       "    <tr>\n",
       "      <th>mean</th>\n",
       "      <td>1.000000e+03</td>\n",
       "      <td>-1.027206e-05</td>\n",
       "      <td>1.435176e-05</td>\n",
       "    </tr>\n",
       "    <tr>\n",
       "      <th>std</th>\n",
       "      <td>3.162324e+01</td>\n",
       "      <td>5.773630e-01</td>\n",
       "      <td>5.773649e-01</td>\n",
       "    </tr>\n",
       "    <tr>\n",
       "      <th>min</th>\n",
       "      <td>8.150000e+02</td>\n",
       "      <td>-1.000000e+00</td>\n",
       "      <td>-1.000000e+00</td>\n",
       "    </tr>\n",
       "    <tr>\n",
       "      <th>25%</th>\n",
       "      <td>9.790000e+02</td>\n",
       "      <td>-4.963742e-01</td>\n",
       "      <td>-4.959386e-01</td>\n",
       "    </tr>\n",
       "    <tr>\n",
       "      <th>50%</th>\n",
       "      <td>1.000000e+03</td>\n",
       "      <td>4.206484e-03</td>\n",
       "      <td>3.999444e-03</td>\n",
       "    </tr>\n",
       "    <tr>\n",
       "      <th>75%</th>\n",
       "      <td>1.021000e+03</td>\n",
       "      <td>5.037865e-01</td>\n",
       "      <td>5.044010e-01</td>\n",
       "    </tr>\n",
       "    <tr>\n",
       "      <th>max</th>\n",
       "      <td>1.193000e+03</td>\n",
       "      <td>1.000000e+00</td>\n",
       "      <td>1.000000e+00</td>\n",
       "    </tr>\n",
       "  </tbody>\n",
       "</table>\n",
       "</div>"
      ],
      "text/plain": [
       "                 id             x             y\n",
       "count  6.622560e+08  6.622560e+08  6.622560e+08\n",
       "mean   1.000000e+03 -1.027206e-05  1.435176e-05\n",
       "std    3.162324e+01  5.773630e-01  5.773649e-01\n",
       "min    8.150000e+02 -1.000000e+00 -1.000000e+00\n",
       "25%    9.790000e+02 -4.963742e-01 -4.959386e-01\n",
       "50%    1.000000e+03  4.206484e-03  3.999444e-03\n",
       "75%    1.021000e+03  5.037865e-01  5.044010e-01\n",
       "max    1.193000e+03  1.000000e+00  1.000000e+00"
      ]
     },
     "execution_count": 6,
     "metadata": {},
     "output_type": "execute_result"
    }
   ],
   "source": [
    "%%time\n",
    "ddf.describe().compute()"
   ]
  },
  {
   "cell_type": "code",
   "execution_count": 7,
   "id": "c58ae3e3-69e5-4070-b0a4-50fc7059bc06",
   "metadata": {},
   "outputs": [
    {
     "data": {
      "text/plain": [
       "1095"
      ]
     },
     "execution_count": 7,
     "metadata": {},
     "output_type": "execute_result"
    }
   ],
   "source": [
    "ddf.npartitions"
   ]
  },
  {
   "cell_type": "code",
   "execution_count": 8,
   "id": "f3a4c23e-1c45-49cc-bfbd-4f700bd1c288",
   "metadata": {},
   "outputs": [
    {
     "data": {
      "text/plain": [
       "107514843852"
      ]
     },
     "execution_count": 8,
     "metadata": {},
     "output_type": "execute_result"
    }
   ],
   "source": [
    "ddf.memory_usage(deep=True).sum().compute()"
   ]
  },
  {
   "cell_type": "code",
   "execution_count": 9,
   "id": "20151e5e-3006-438d-be87-41afb7b87a59",
   "metadata": {},
   "outputs": [
    {
     "data": {
      "text/plain": [
       "Index             140160\n",
       "id            5298048000\n",
       "name         41289103692\n",
       "timestamp    50331456000\n",
       "x             5298048000\n",
       "y             5298048000\n",
       "dtype: int64"
      ]
     },
     "execution_count": 9,
     "metadata": {},
     "output_type": "execute_result"
    },
    {
     "name": "stderr",
     "output_type": "stream",
     "text": [
      "distributed.client - ERROR - Failed to reconnect to scheduler after 30.00 seconds, closing client\n",
      "_GatheringFuture exception was never retrieved\n",
      "future: <_GatheringFuture finished exception=CancelledError()>\n",
      "asyncio.exceptions.CancelledError\n",
      "distributed.deploy.cluster - WARNING - Failed to sync cluster info multiple times - perhaps there's a connection issue? Error:\n",
      "Traceback (most recent call last):\n",
      "  File \"/Users/powers/opt/miniconda3/envs/standard-coiled/lib/python3.9/site-packages/distributed/comm/tcp.py\", line 398, in connect\n",
      "    stream = await self.client.connect(\n",
      "  File \"/Users/powers/opt/miniconda3/envs/standard-coiled/lib/python3.9/site-packages/tornado/tcpclient.py\", line 275, in connect\n",
      "    af, addr, stream = await connector.start(connect_timeout=timeout)\n",
      "asyncio.exceptions.CancelledError\n",
      "\n",
      "During handling of the above exception, another exception occurred:\n",
      "\n",
      "Traceback (most recent call last):\n",
      "  File \"/Users/powers/opt/miniconda3/envs/standard-coiled/lib/python3.9/asyncio/tasks.py\", line 492, in wait_for\n",
      "    fut.result()\n",
      "asyncio.exceptions.CancelledError\n",
      "\n",
      "The above exception was the direct cause of the following exception:\n",
      "\n",
      "Traceback (most recent call last):\n",
      "  File \"/Users/powers/opt/miniconda3/envs/standard-coiled/lib/python3.9/site-packages/distributed/comm/core.py\", line 284, in connect\n",
      "    comm = await asyncio.wait_for(\n",
      "  File \"/Users/powers/opt/miniconda3/envs/standard-coiled/lib/python3.9/asyncio/tasks.py\", line 494, in wait_for\n",
      "    raise exceptions.TimeoutError() from exc\n",
      "asyncio.exceptions.TimeoutError\n",
      "\n",
      "The above exception was the direct cause of the following exception:\n",
      "\n",
      "Traceback (most recent call last):\n",
      "  File \"/Users/powers/opt/miniconda3/envs/standard-coiled/lib/python3.9/site-packages/distributed/deploy/cluster.py\", line 115, in _sync_cluster_info\n",
      "    await self.scheduler_comm.set_metadata(\n",
      "  File \"/Users/powers/opt/miniconda3/envs/standard-coiled/lib/python3.9/site-packages/distributed/core.py\", line 817, in send_recv_from_rpc\n",
      "    comm = await self.live_comm()\n",
      "  File \"/Users/powers/opt/miniconda3/envs/standard-coiled/lib/python3.9/site-packages/distributed/core.py\", line 774, in live_comm\n",
      "    comm = await connect(\n",
      "  File \"/Users/powers/opt/miniconda3/envs/standard-coiled/lib/python3.9/site-packages/distributed/comm/core.py\", line 308, in connect\n",
      "    raise OSError(\n",
      "OSError: Timed out trying to connect to tls://3.239.222.81:8786 after 30 s\n"
     ]
    }
   ],
   "source": [
    "ddf.memory_usage(deep=True).compute()"
   ]
  },
  {
   "cell_type": "code",
   "execution_count": null,
   "id": "37495a23-98f2-4e87-a19d-be43afc66836",
   "metadata": {},
   "outputs": [],
   "source": []
  }
 ],
 "metadata": {
  "kernelspec": {
   "display_name": "Python [conda env:standard-coiled]",
   "language": "python",
   "name": "conda-env-standard-coiled-py"
  },
  "language_info": {
   "codemirror_mode": {
    "name": "ipython",
    "version": 3
   },
   "file_extension": ".py",
   "mimetype": "text/x-python",
   "name": "python",
   "nbconvert_exporter": "python",
   "pygments_lexer": "ipython3",
   "version": "3.9.12"
  }
 },
 "nbformat": 4,
 "nbformat_minor": 5
}
