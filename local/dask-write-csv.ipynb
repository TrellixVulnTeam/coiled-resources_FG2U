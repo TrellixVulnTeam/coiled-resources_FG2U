{
 "cells": [
  {
   "cell_type": "code",
   "execution_count": 16,
   "id": "353ea58a-0aec-424c-adc7-fe2d0c2e2dca",
   "metadata": {},
   "outputs": [],
   "source": [
    "import pandas as pd\n",
    "import dask.dataframe as dd"
   ]
  },
  {
   "cell_type": "code",
   "execution_count": 17,
   "id": "34b115ee-a68c-4cad-b3f9-f62eacdb4f8c",
   "metadata": {},
   "outputs": [],
   "source": [
    "pdf = pd.DataFrame(\n",
    "    {\"num1\": [1, 2, 3, 4], \"num2\": [7, 8, 9, 10]},\n",
    ")"
   ]
  },
  {
   "cell_type": "code",
   "execution_count": 18,
   "id": "d52fd133-551c-419b-b637-1430e854f912",
   "metadata": {},
   "outputs": [],
   "source": [
    "ddf = dd.from_pandas(pdf, npartitions=2)"
   ]
  },
  {
   "cell_type": "code",
   "execution_count": 19,
   "id": "4c672dbe-c31d-4963-bdb2-695d26b10716",
   "metadata": {},
   "outputs": [
    {
     "data": {
      "text/plain": [
       "['/Users/powers/Documents/code/coiled/coiled-resources/local/data/csv_simple/0.part',\n",
       " '/Users/powers/Documents/code/coiled/coiled-resources/local/data/csv_simple/1.part']"
      ]
     },
     "execution_count": 19,
     "metadata": {},
     "output_type": "execute_result"
    }
   ],
   "source": [
    "ddf.to_csv(\"./data/csv_simple\")"
   ]
  },
  {
   "cell_type": "code",
   "execution_count": 20,
   "id": "1f4967a7-7e45-4b0d-b65d-d1963a0c749b",
   "metadata": {},
   "outputs": [
    {
     "data": {
      "text/plain": [
       "['/Users/powers/Documents/code/coiled/coiled-resources/local/data/csv_simple2/whatever-0-hi.csv',\n",
       " '/Users/powers/Documents/code/coiled/coiled-resources/local/data/csv_simple2/whatever-1-hi.csv']"
      ]
     },
     "execution_count": 20,
     "metadata": {},
     "output_type": "execute_result"
    }
   ],
   "source": [
    "ddf.to_csv(\"./data/csv_simple2/whatever-*-hi.csv\")"
   ]
  },
  {
   "cell_type": "code",
   "execution_count": 22,
   "id": "98e4dfb2-72a5-4ec2-a179-6ca1b1e6e20e",
   "metadata": {},
   "outputs": [],
   "source": [
    "ddf_read = dd.read_csv(\"./data/csv_simple/*.part\")"
   ]
  },
  {
   "cell_type": "code",
   "execution_count": 24,
   "id": "c8736f6f-3625-421f-b7f2-ec430c028c39",
   "metadata": {},
   "outputs": [
    {
     "data": {
      "text/plain": [
       "['/Users/powers/Documents/code/coiled/coiled-resources/local/data/csv_simple3/i-like-0.csv.part',\n",
       " '/Users/powers/Documents/code/coiled/coiled-resources/local/data/csv_simple3/i-like-1.csv.part']"
      ]
     },
     "execution_count": 24,
     "metadata": {},
     "output_type": "execute_result"
    }
   ],
   "source": [
    "ddf.to_csv(\"./data/csv_simple3\", name_function = lambda x: f\"i-like-{x}.csv\")"
   ]
  },
  {
   "cell_type": "code",
   "execution_count": 25,
   "id": "c32aaba5-686d-46ca-81c3-495b4ed42829",
   "metadata": {},
   "outputs": [
    {
     "data": {
      "text/plain": [
       "(None,)"
      ]
     },
     "execution_count": 25,
     "metadata": {},
     "output_type": "execute_result"
    }
   ],
   "source": [
    "ddf.to_parquet(\"./data/parquet_simple\")"
   ]
  },
  {
   "cell_type": "code",
   "execution_count": null,
   "id": "0a325cad-90b2-42c5-b522-a64ec5580aa6",
   "metadata": {},
   "outputs": [],
   "source": []
  }
 ],
 "metadata": {
  "kernelspec": {
   "display_name": "Python [conda env:standard-coiled]",
   "language": "python",
   "name": "conda-env-standard-coiled-py"
  },
  "language_info": {
   "codemirror_mode": {
    "name": "ipython",
    "version": 3
   },
   "file_extension": ".py",
   "mimetype": "text/x-python",
   "name": "python",
   "nbconvert_exporter": "python",
   "pygments_lexer": "ipython3",
   "version": "3.9.12"
  }
 },
 "nbformat": 4,
 "nbformat_minor": 5
}
