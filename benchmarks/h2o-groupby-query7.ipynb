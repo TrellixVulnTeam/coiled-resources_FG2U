{
 "cells": [
  {
   "cell_type": "markdown",
   "id": "022680ea-3a0b-4668-ba73-ffefb1089286",
   "metadata": {},
   "source": [
    "# h2o benchmarks - query 7"
   ]
  },
  {
   "cell_type": "code",
   "execution_count": 1,
   "id": "aa6c93cd-d7e1-4668-a8c9-2e606fe87c82",
   "metadata": {},
   "outputs": [],
   "source": [
    "import coiled\n",
    "import dask\n",
    "import dask.dataframe as dd"
   ]
  },
  {
   "cell_type": "code",
   "execution_count": 2,
   "id": "57c2d1bc-cb00-450a-b527-3f2d4d3a6e72",
   "metadata": {},
   "outputs": [
    {
     "data": {
      "application/vnd.jupyter.widget-view+json": {
       "model_id": "cf31402a13d143b28dacc2b40741ed30",
       "version_major": 2,
       "version_minor": 0
      },
      "text/plain": [
       "Output()"
      ]
     },
     "metadata": {},
     "output_type": "display_data"
    },
    {
     "data": {
      "text/html": [
       "<pre style=\"white-space:pre;overflow-x:auto;line-height:normal;font-family:Menlo,'DejaVu Sans Mono',consolas,'Courier New',monospace\"></pre>\n"
      ],
      "text/plain": []
     },
     "metadata": {},
     "output_type": "display_data"
    }
   ],
   "source": [
    "cluster = coiled.Cluster(name=\"powers-crt-004\", software=\"crt-004\", n_workers=5)"
   ]
  },
  {
   "cell_type": "code",
   "execution_count": 4,
   "id": "80ab92d5-0bc8-437a-ab79-908b3a1bc0fc",
   "metadata": {},
   "outputs": [],
   "source": [
    "client = dask.distributed.Client(cluster)"
   ]
  },
  {
   "cell_type": "code",
   "execution_count": 7,
   "id": "e55c305f-7e91-4386-9f5a-ca51b584ccc9",
   "metadata": {},
   "outputs": [],
   "source": [
    "ddf = dd.read_parquet(\n",
    "    \"s3://coiled-datasets/h2o-benchmark/N_1e8_K_1e2_parquet\",\n",
    "    storage_options={\"anon\": True, \"use_ssl\": True},\n",
    "    columns=[\"id3\", \"v1\", \"v2\"],\n",
    ")"
   ]
  },
  {
   "cell_type": "code",
   "execution_count": 8,
   "id": "26e46edf-a8df-4719-b27f-6892dd8a2ab9",
   "metadata": {},
   "outputs": [
    {
     "name": "stdout",
     "output_type": "stream",
     "text": [
      "CPU times: user 1.26 s, sys: 267 ms, total: 1.53 s\n",
      "Wall time: 1min 22s\n"
     ]
    },
    {
     "data": {
      "text/html": [
       "<div>\n",
       "<style scoped>\n",
       "    .dataframe tbody tr th:only-of-type {\n",
       "        vertical-align: middle;\n",
       "    }\n",
       "\n",
       "    .dataframe tbody tr th {\n",
       "        vertical-align: top;\n",
       "    }\n",
       "\n",
       "    .dataframe thead th {\n",
       "        text-align: right;\n",
       "    }\n",
       "</style>\n",
       "<table border=\"1\" class=\"dataframe\">\n",
       "  <thead>\n",
       "    <tr style=\"text-align: right;\">\n",
       "      <th></th>\n",
       "      <th>range_v1_v2</th>\n",
       "    </tr>\n",
       "    <tr>\n",
       "      <th>id3</th>\n",
       "      <th></th>\n",
       "    </tr>\n",
       "  </thead>\n",
       "  <tbody>\n",
       "    <tr>\n",
       "      <th>id0000608844</th>\n",
       "      <td>4</td>\n",
       "    </tr>\n",
       "    <tr>\n",
       "      <th>id0000466449</th>\n",
       "      <td>4</td>\n",
       "    </tr>\n",
       "    <tr>\n",
       "      <th>id0000573987</th>\n",
       "      <td>4</td>\n",
       "    </tr>\n",
       "    <tr>\n",
       "      <th>id0000776204</th>\n",
       "      <td>4</td>\n",
       "    </tr>\n",
       "    <tr>\n",
       "      <th>id0000608718</th>\n",
       "      <td>4</td>\n",
       "    </tr>\n",
       "    <tr>\n",
       "      <th>...</th>\n",
       "      <td>...</td>\n",
       "    </tr>\n",
       "    <tr>\n",
       "      <th>id0000821599</th>\n",
       "      <td>4</td>\n",
       "    </tr>\n",
       "    <tr>\n",
       "      <th>id0000937302</th>\n",
       "      <td>4</td>\n",
       "    </tr>\n",
       "    <tr>\n",
       "      <th>id0000248458</th>\n",
       "      <td>4</td>\n",
       "    </tr>\n",
       "    <tr>\n",
       "      <th>id0000428431</th>\n",
       "      <td>4</td>\n",
       "    </tr>\n",
       "    <tr>\n",
       "      <th>id0000875596</th>\n",
       "      <td>4</td>\n",
       "    </tr>\n",
       "  </tbody>\n",
       "</table>\n",
       "<p>1000000 rows × 1 columns</p>\n",
       "</div>"
      ],
      "text/plain": [
       "              range_v1_v2\n",
       "id3                      \n",
       "id0000608844            4\n",
       "id0000466449            4\n",
       "id0000573987            4\n",
       "id0000776204            4\n",
       "id0000608718            4\n",
       "...                   ...\n",
       "id0000821599            4\n",
       "id0000937302            4\n",
       "id0000248458            4\n",
       "id0000428431            4\n",
       "id0000875596            4\n",
       "\n",
       "[1000000 rows x 1 columns]"
      ]
     },
     "execution_count": 8,
     "metadata": {},
     "output_type": "execute_result"
    }
   ],
   "source": [
    "%%time\n",
    "ddf.groupby(\"id3\", dropna=False, observed=True).agg({\"v1\": \"max\", \"v2\": \"min\"}).assign(\n",
    "    range_v1_v2=lambda x: x[\"v1\"] - x[\"v2\"]\n",
    ")[[\"range_v1_v2\"]].compute()"
   ]
  },
  {
   "cell_type": "code",
   "execution_count": null,
   "id": "cdd8ae3c-2a0b-4a05-b3f0-eaf788d90db6",
   "metadata": {},
   "outputs": [],
   "source": []
  }
 ],
 "metadata": {
  "kernelspec": {
   "display_name": "Python [conda env:crt-004] *",
   "language": "python",
   "name": "conda-env-crt-004-py"
  },
  "language_info": {
   "codemirror_mode": {
    "name": "ipython",
    "version": 3
   },
   "file_extension": ".py",
   "mimetype": "text/x-python",
   "name": "python",
   "nbconvert_exporter": "python",
   "pygments_lexer": "ipython3",
   "version": "3.9.13"
  }
 },
 "nbformat": 4,
 "nbformat_minor": 5
}
