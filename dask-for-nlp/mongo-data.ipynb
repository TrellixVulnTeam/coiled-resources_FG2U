{
 "cells": [
  {
   "cell_type": "markdown",
   "id": "0c287cbf-7fad-46fe-85f6-1f9a5168205e",
   "metadata": {},
   "source": [
    "# Mongo Notebook Draft\n",
    "\n",
    "What this notebook contains\n",
    "\n",
    "1. Load AirBnb Mongo sample data\n",
    "2. Run preprocessing using Dask Bags (tokenization)\n",
    "3. same as above (lemmatization)\n",
    "4. Topic Modelling\n",
    "   1. Joblib\n",
    "   2. partial_fit\n",
    "5. Load Amazon FineFoods data"
   ]
  },
  {
   "cell_type": "code",
   "execution_count": 1,
   "id": "69512d5a",
   "metadata": {},
   "outputs": [],
   "source": [
    "import dask.dataframe as dd\n",
    "from distributed import Client"
   ]
  },
  {
   "cell_type": "code",
   "execution_count": 2,
   "id": "e86228cd",
   "metadata": {},
   "outputs": [
    {
     "data": {
      "text/html": [
       "<div>\n",
       "    <div style=\"width: 24px; height: 24px; background-color: #e1e1e1; border: 3px solid #9D9D9D; border-radius: 5px; position: absolute;\"> </div>\n",
       "    <div style=\"margin-left: 48px;\">\n",
       "        <h3 style=\"margin-bottom: 0px;\">Client</h3>\n",
       "        <p style=\"color: #9D9D9D; margin-bottom: 0px;\">Client-b590b4de-9480-11ec-a11c-1e008a1e9c25</p>\n",
       "        <table style=\"width: 100%; text-align: left;\">\n",
       "\n",
       "        <tr>\n",
       "        \n",
       "            <td style=\"text-align: left;\"><strong>Connection method:</strong> Cluster object</td>\n",
       "            <td style=\"text-align: left;\"><strong>Cluster type:</strong> distributed.LocalCluster</td>\n",
       "        \n",
       "        </tr>\n",
       "\n",
       "        \n",
       "            <tr>\n",
       "                <td style=\"text-align: left;\">\n",
       "                    <strong>Dashboard: </strong> <a href=\"http://127.0.0.1:8787/status\" target=\"_blank\">http://127.0.0.1:8787/status</a>\n",
       "                </td>\n",
       "                <td style=\"text-align: left;\"></td>\n",
       "            </tr>\n",
       "        \n",
       "\n",
       "        </table>\n",
       "\n",
       "        \n",
       "            <details>\n",
       "            <summary style=\"margin-bottom: 20px;\"><h3 style=\"display: inline;\">Cluster Info</h3></summary>\n",
       "            <div class=\"jp-RenderedHTMLCommon jp-RenderedHTML jp-mod-trusted jp-OutputArea-output\">\n",
       "    <div style=\"width: 24px; height: 24px; background-color: #e1e1e1; border: 3px solid #9D9D9D; border-radius: 5px; position: absolute;\">\n",
       "    </div>\n",
       "    <div style=\"margin-left: 48px;\">\n",
       "        <h3 style=\"margin-bottom: 0px; margin-top: 0px;\">LocalCluster</h3>\n",
       "        <p style=\"color: #9D9D9D; margin-bottom: 0px;\">0f6fa6c4</p>\n",
       "        <table style=\"width: 100%; text-align: left;\">\n",
       "            <tr>\n",
       "                <td style=\"text-align: left;\">\n",
       "                    <strong>Dashboard:</strong> <a href=\"http://127.0.0.1:8787/status\" target=\"_blank\">http://127.0.0.1:8787/status</a>\n",
       "                </td>\n",
       "                <td style=\"text-align: left;\">\n",
       "                    <strong>Workers:</strong> 4\n",
       "                </td>\n",
       "            </tr>\n",
       "            <tr>\n",
       "                <td style=\"text-align: left;\">\n",
       "                    <strong>Total threads:</strong> 8\n",
       "                </td>\n",
       "                <td style=\"text-align: left;\">\n",
       "                    <strong>Total memory:</strong> 16.00 GiB\n",
       "                </td>\n",
       "            </tr>\n",
       "            \n",
       "            <tr>\n",
       "    <td style=\"text-align: left;\"><strong>Status:</strong> running</td>\n",
       "    <td style=\"text-align: left;\"><strong>Using processes:</strong> True</td>\n",
       "</tr>\n",
       "\n",
       "            \n",
       "        </table>\n",
       "\n",
       "        <details>\n",
       "            <summary style=\"margin-bottom: 20px;\">\n",
       "                <h3 style=\"display: inline;\">Scheduler Info</h3>\n",
       "            </summary>\n",
       "\n",
       "            <div style=\"\">\n",
       "    <div>\n",
       "        <div style=\"width: 24px; height: 24px; background-color: #FFF7E5; border: 3px solid #FF6132; border-radius: 5px; position: absolute;\"> </div>\n",
       "        <div style=\"margin-left: 48px;\">\n",
       "            <h3 style=\"margin-bottom: 0px;\">Scheduler</h3>\n",
       "            <p style=\"color: #9D9D9D; margin-bottom: 0px;\">Scheduler-5b213ee2-d102-4cc5-be02-096abe88f6e7</p>\n",
       "            <table style=\"width: 100%; text-align: left;\">\n",
       "                <tr>\n",
       "                    <td style=\"text-align: left;\">\n",
       "                        <strong>Comm:</strong> tcp://127.0.0.1:58619\n",
       "                    </td>\n",
       "                    <td style=\"text-align: left;\">\n",
       "                        <strong>Workers:</strong> 4\n",
       "                    </td>\n",
       "                </tr>\n",
       "                <tr>\n",
       "                    <td style=\"text-align: left;\">\n",
       "                        <strong>Dashboard:</strong> <a href=\"http://127.0.0.1:8787/status\" target=\"_blank\">http://127.0.0.1:8787/status</a>\n",
       "                    </td>\n",
       "                    <td style=\"text-align: left;\">\n",
       "                        <strong>Total threads:</strong> 8\n",
       "                    </td>\n",
       "                </tr>\n",
       "                <tr>\n",
       "                    <td style=\"text-align: left;\">\n",
       "                        <strong>Started:</strong> Just now\n",
       "                    </td>\n",
       "                    <td style=\"text-align: left;\">\n",
       "                        <strong>Total memory:</strong> 16.00 GiB\n",
       "                    </td>\n",
       "                </tr>\n",
       "            </table>\n",
       "        </div>\n",
       "    </div>\n",
       "\n",
       "    <details style=\"margin-left: 48px;\">\n",
       "        <summary style=\"margin-bottom: 20px;\">\n",
       "            <h3 style=\"display: inline;\">Workers</h3>\n",
       "        </summary>\n",
       "\n",
       "        \n",
       "        <div style=\"margin-bottom: 20px;\">\n",
       "            <div style=\"width: 24px; height: 24px; background-color: #DBF5FF; border: 3px solid #4CC9FF; border-radius: 5px; position: absolute;\"> </div>\n",
       "            <div style=\"margin-left: 48px;\">\n",
       "            <details>\n",
       "                <summary>\n",
       "                    <h4 style=\"margin-bottom: 0px; display: inline;\">Worker: 0</h4>\n",
       "                </summary>\n",
       "                <table style=\"width: 100%; text-align: left;\">\n",
       "                    <tr>\n",
       "                        <td style=\"text-align: left;\">\n",
       "                            <strong>Comm: </strong> tcp://127.0.0.1:58633\n",
       "                        </td>\n",
       "                        <td style=\"text-align: left;\">\n",
       "                            <strong>Total threads: </strong> 2\n",
       "                        </td>\n",
       "                    </tr>\n",
       "                    <tr>\n",
       "                        <td style=\"text-align: left;\">\n",
       "                            <strong>Dashboard: </strong> <a href=\"http://127.0.0.1:58642/status\" target=\"_blank\">http://127.0.0.1:58642/status</a>\n",
       "                        </td>\n",
       "                        <td style=\"text-align: left;\">\n",
       "                            <strong>Memory: </strong> 4.00 GiB\n",
       "                        </td>\n",
       "                    </tr>\n",
       "                    <tr>\n",
       "                        <td style=\"text-align: left;\">\n",
       "                            <strong>Nanny: </strong> tcp://127.0.0.1:58622\n",
       "                        </td>\n",
       "                        <td style=\"text-align: left;\"></td>\n",
       "                    </tr>\n",
       "                    <tr>\n",
       "                        <td colspan=\"2\" style=\"text-align: left;\">\n",
       "                            <strong>Local directory: </strong> /Users/rpelgrim/Documents/git/coiled-resources/dask-for-nlp/dask-worker-space/worker-yd5eulem\n",
       "                        </td>\n",
       "                    </tr>\n",
       "\n",
       "                    \n",
       "\n",
       "                    \n",
       "\n",
       "                </table>\n",
       "            </details>\n",
       "            </div>\n",
       "        </div>\n",
       "        \n",
       "        <div style=\"margin-bottom: 20px;\">\n",
       "            <div style=\"width: 24px; height: 24px; background-color: #DBF5FF; border: 3px solid #4CC9FF; border-radius: 5px; position: absolute;\"> </div>\n",
       "            <div style=\"margin-left: 48px;\">\n",
       "            <details>\n",
       "                <summary>\n",
       "                    <h4 style=\"margin-bottom: 0px; display: inline;\">Worker: 1</h4>\n",
       "                </summary>\n",
       "                <table style=\"width: 100%; text-align: left;\">\n",
       "                    <tr>\n",
       "                        <td style=\"text-align: left;\">\n",
       "                            <strong>Comm: </strong> tcp://127.0.0.1:58634\n",
       "                        </td>\n",
       "                        <td style=\"text-align: left;\">\n",
       "                            <strong>Total threads: </strong> 2\n",
       "                        </td>\n",
       "                    </tr>\n",
       "                    <tr>\n",
       "                        <td style=\"text-align: left;\">\n",
       "                            <strong>Dashboard: </strong> <a href=\"http://127.0.0.1:58637/status\" target=\"_blank\">http://127.0.0.1:58637/status</a>\n",
       "                        </td>\n",
       "                        <td style=\"text-align: left;\">\n",
       "                            <strong>Memory: </strong> 4.00 GiB\n",
       "                        </td>\n",
       "                    </tr>\n",
       "                    <tr>\n",
       "                        <td style=\"text-align: left;\">\n",
       "                            <strong>Nanny: </strong> tcp://127.0.0.1:58625\n",
       "                        </td>\n",
       "                        <td style=\"text-align: left;\"></td>\n",
       "                    </tr>\n",
       "                    <tr>\n",
       "                        <td colspan=\"2\" style=\"text-align: left;\">\n",
       "                            <strong>Local directory: </strong> /Users/rpelgrim/Documents/git/coiled-resources/dask-for-nlp/dask-worker-space/worker-z_c9c76o\n",
       "                        </td>\n",
       "                    </tr>\n",
       "\n",
       "                    \n",
       "\n",
       "                    \n",
       "\n",
       "                </table>\n",
       "            </details>\n",
       "            </div>\n",
       "        </div>\n",
       "        \n",
       "        <div style=\"margin-bottom: 20px;\">\n",
       "            <div style=\"width: 24px; height: 24px; background-color: #DBF5FF; border: 3px solid #4CC9FF; border-radius: 5px; position: absolute;\"> </div>\n",
       "            <div style=\"margin-left: 48px;\">\n",
       "            <details>\n",
       "                <summary>\n",
       "                    <h4 style=\"margin-bottom: 0px; display: inline;\">Worker: 2</h4>\n",
       "                </summary>\n",
       "                <table style=\"width: 100%; text-align: left;\">\n",
       "                    <tr>\n",
       "                        <td style=\"text-align: left;\">\n",
       "                            <strong>Comm: </strong> tcp://127.0.0.1:58635\n",
       "                        </td>\n",
       "                        <td style=\"text-align: left;\">\n",
       "                            <strong>Total threads: </strong> 2\n",
       "                        </td>\n",
       "                    </tr>\n",
       "                    <tr>\n",
       "                        <td style=\"text-align: left;\">\n",
       "                            <strong>Dashboard: </strong> <a href=\"http://127.0.0.1:58638/status\" target=\"_blank\">http://127.0.0.1:58638/status</a>\n",
       "                        </td>\n",
       "                        <td style=\"text-align: left;\">\n",
       "                            <strong>Memory: </strong> 4.00 GiB\n",
       "                        </td>\n",
       "                    </tr>\n",
       "                    <tr>\n",
       "                        <td style=\"text-align: left;\">\n",
       "                            <strong>Nanny: </strong> tcp://127.0.0.1:58624\n",
       "                        </td>\n",
       "                        <td style=\"text-align: left;\"></td>\n",
       "                    </tr>\n",
       "                    <tr>\n",
       "                        <td colspan=\"2\" style=\"text-align: left;\">\n",
       "                            <strong>Local directory: </strong> /Users/rpelgrim/Documents/git/coiled-resources/dask-for-nlp/dask-worker-space/worker-ilcdhaw3\n",
       "                        </td>\n",
       "                    </tr>\n",
       "\n",
       "                    \n",
       "\n",
       "                    \n",
       "\n",
       "                </table>\n",
       "            </details>\n",
       "            </div>\n",
       "        </div>\n",
       "        \n",
       "        <div style=\"margin-bottom: 20px;\">\n",
       "            <div style=\"width: 24px; height: 24px; background-color: #DBF5FF; border: 3px solid #4CC9FF; border-radius: 5px; position: absolute;\"> </div>\n",
       "            <div style=\"margin-left: 48px;\">\n",
       "            <details>\n",
       "                <summary>\n",
       "                    <h4 style=\"margin-bottom: 0px; display: inline;\">Worker: 3</h4>\n",
       "                </summary>\n",
       "                <table style=\"width: 100%; text-align: left;\">\n",
       "                    <tr>\n",
       "                        <td style=\"text-align: left;\">\n",
       "                            <strong>Comm: </strong> tcp://127.0.0.1:58632\n",
       "                        </td>\n",
       "                        <td style=\"text-align: left;\">\n",
       "                            <strong>Total threads: </strong> 2\n",
       "                        </td>\n",
       "                    </tr>\n",
       "                    <tr>\n",
       "                        <td style=\"text-align: left;\">\n",
       "                            <strong>Dashboard: </strong> <a href=\"http://127.0.0.1:58636/status\" target=\"_blank\">http://127.0.0.1:58636/status</a>\n",
       "                        </td>\n",
       "                        <td style=\"text-align: left;\">\n",
       "                            <strong>Memory: </strong> 4.00 GiB\n",
       "                        </td>\n",
       "                    </tr>\n",
       "                    <tr>\n",
       "                        <td style=\"text-align: left;\">\n",
       "                            <strong>Nanny: </strong> tcp://127.0.0.1:58623\n",
       "                        </td>\n",
       "                        <td style=\"text-align: left;\"></td>\n",
       "                    </tr>\n",
       "                    <tr>\n",
       "                        <td colspan=\"2\" style=\"text-align: left;\">\n",
       "                            <strong>Local directory: </strong> /Users/rpelgrim/Documents/git/coiled-resources/dask-for-nlp/dask-worker-space/worker-5tf6ulix\n",
       "                        </td>\n",
       "                    </tr>\n",
       "\n",
       "                    \n",
       "\n",
       "                    \n",
       "\n",
       "                </table>\n",
       "            </details>\n",
       "            </div>\n",
       "        </div>\n",
       "        \n",
       "\n",
       "    </details>\n",
       "</div>\n",
       "\n",
       "        </details>\n",
       "    </div>\n",
       "</div>\n",
       "            </details>\n",
       "        \n",
       "\n",
       "    </div>\n",
       "</div>"
      ],
      "text/plain": [
       "<Client: 'tcp://127.0.0.1:58619' processes=4 threads=8, memory=16.00 GiB>"
      ]
     },
     "execution_count": 2,
     "metadata": {},
     "output_type": "execute_result"
    }
   ],
   "source": [
    "client = Client()\n",
    "client"
   ]
  },
  {
   "cell_type": "code",
   "execution_count": null,
   "id": "158e4928",
   "metadata": {},
   "outputs": [],
   "source": []
  },
  {
   "cell_type": "markdown",
   "id": "3f66ba38",
   "metadata": {},
   "source": [
    "## 1. Import Mongo Data"
   ]
  },
  {
   "cell_type": "code",
   "execution_count": 3,
   "id": "bc7a7cf8",
   "metadata": {},
   "outputs": [],
   "source": [
    "from dask_mongo import read_mongo\n",
    "import urllib"
   ]
  },
  {
   "cell_type": "code",
   "execution_count": 4,
   "id": "c3f175cc",
   "metadata": {},
   "outputs": [],
   "source": [
    "# Replace the username, password, and cluster address with your own connection details\n",
    "host_uri = \"mongodb+srv://richard:\" + urllib.parse.quote(\"Rp@976559MO\") + \"@cluster0.ffttf.mongodb.net/myFirstDatabase?retryWrites=true&w=majority\""
   ]
  },
  {
   "cell_type": "code",
   "execution_count": 5,
   "id": "9d02e737",
   "metadata": {},
   "outputs": [],
   "source": [
    "bag = read_mongo(\n",
    "    connection_kwargs={\"host\": host_uri},\n",
    "    database=\"sample_airbnb\",\n",
    "    collection=\"listingsAndReviews\",\n",
    "    chunksize=500,\n",
    ")"
   ]
  },
  {
   "cell_type": "code",
   "execution_count": null,
   "id": "87444556",
   "metadata": {
    "tags": []
   },
   "outputs": [],
   "source": [
    "bag.take(1)"
   ]
  },
  {
   "cell_type": "code",
   "execution_count": 7,
   "id": "c42823c3",
   "metadata": {},
   "outputs": [],
   "source": [
    "def process(record):\n",
    "    try:\n",
    "        yield {\n",
    "            \"description\": record[\"description\"],\n",
    "            \"review_rating\": int(str(record[\"review_scores\"][\"review_scores_rating\"])),\n",
    "            #\"accomodates\": record[\"accommodates\"],\n",
    "            #\"bedrooms\": record[\"bedrooms\"],\n",
    "            #\"price\": float(str(record[\"price\"])),\n",
    "            #\"country\": record[\"address\"][\"country\"],\n",
    "        }\n",
    "    except KeyError:\n",
    "        pass"
   ]
  },
  {
   "cell_type": "code",
   "execution_count": 8,
   "id": "775c31d2",
   "metadata": {},
   "outputs": [],
   "source": [
    "# Filter only apartments\n",
    "b_flattened = (\n",
    "    bag.filter(lambda record: record[\"property_type\"] == \"Apartment\")\n",
    "    .map(process)\n",
    "    .flatten()\n",
    ")"
   ]
  },
  {
   "cell_type": "code",
   "execution_count": 9,
   "id": "4387363e",
   "metadata": {},
   "outputs": [
    {
     "data": {
      "text/plain": [
       "({'description': 'Here exists a very cozy room for rent in a shared 4-bedroom apartment. It is located one block off of the JMZ at Myrtle Broadway.  The neighborhood is diverse and appeals to a variety of people.',\n",
       "  'review_rating': 100},)"
      ]
     },
     "execution_count": 9,
     "metadata": {},
     "output_type": "execute_result"
    }
   ],
   "source": [
    "b_flattened.take(1)"
   ]
  },
  {
   "cell_type": "code",
   "execution_count": 10,
   "id": "0651ed0d",
   "metadata": {},
   "outputs": [],
   "source": [
    "df1 = b_flattened.to_dataframe()"
   ]
  },
  {
   "cell_type": "code",
   "execution_count": 11,
   "id": "9d7bcee9",
   "metadata": {},
   "outputs": [
    {
     "data": {
      "text/html": [
       "<div>\n",
       "<style scoped>\n",
       "    .dataframe tbody tr th:only-of-type {\n",
       "        vertical-align: middle;\n",
       "    }\n",
       "\n",
       "    .dataframe tbody tr th {\n",
       "        vertical-align: top;\n",
       "    }\n",
       "\n",
       "    .dataframe thead th {\n",
       "        text-align: right;\n",
       "    }\n",
       "</style>\n",
       "<table border=\"1\" class=\"dataframe\">\n",
       "  <thead>\n",
       "    <tr style=\"text-align: right;\">\n",
       "      <th></th>\n",
       "      <th>description</th>\n",
       "      <th>review_rating</th>\n",
       "    </tr>\n",
       "  </thead>\n",
       "  <tbody>\n",
       "    <tr>\n",
       "      <th>0</th>\n",
       "      <td>Here exists a very cozy room for rent in a sha...</td>\n",
       "      <td>100</td>\n",
       "    </tr>\n",
       "    <tr>\n",
       "      <th>1</th>\n",
       "      <td>Murphy bed, optional second bedroom available....</td>\n",
       "      <td>94</td>\n",
       "    </tr>\n",
       "    <tr>\n",
       "      <th>2</th>\n",
       "      <td>The Apartment has a living room, toilet, bedro...</td>\n",
       "      <td>98</td>\n",
       "    </tr>\n",
       "    <tr>\n",
       "      <th>3</th>\n",
       "      <td>Loft Suite Deluxe @ Henry Norman Hotel Located...</td>\n",
       "      <td>88</td>\n",
       "    </tr>\n",
       "    <tr>\n",
       "      <th>4</th>\n",
       "      <td>Clean, fully furnish, Spacious 1 bedroom flat ...</td>\n",
       "      <td>100</td>\n",
       "    </tr>\n",
       "  </tbody>\n",
       "</table>\n",
       "</div>"
      ],
      "text/plain": [
       "                                         description  review_rating\n",
       "0  Here exists a very cozy room for rent in a sha...            100\n",
       "1  Murphy bed, optional second bedroom available....             94\n",
       "2  The Apartment has a living room, toilet, bedro...             98\n",
       "3  Loft Suite Deluxe @ Henry Norman Hotel Located...             88\n",
       "4  Clean, fully furnish, Spacious 1 bedroom flat ...            100"
      ]
     },
     "execution_count": 11,
     "metadata": {},
     "output_type": "execute_result"
    }
   ],
   "source": [
    "df1.head()"
   ]
  },
  {
   "cell_type": "code",
   "execution_count": null,
   "id": "5f7af985",
   "metadata": {},
   "outputs": [],
   "source": []
  },
  {
   "cell_type": "markdown",
   "id": "676b2254",
   "metadata": {},
   "source": [
    "## 2. Tokenization"
   ]
  },
  {
   "cell_type": "code",
   "execution_count": 12,
   "id": "d27c3bc9",
   "metadata": {},
   "outputs": [],
   "source": [
    "from nltk.corpus import stopwords \n",
    "from nltk.tokenize import RegexpTokenizer\n",
    "from functools import partial"
   ]
  },
  {
   "cell_type": "code",
   "execution_count": 13,
   "id": "5d08d73e",
   "metadata": {},
   "outputs": [],
   "source": [
    "tokenizer = RegexpTokenizer(r'\\w+')"
   ]
  },
  {
   "cell_type": "code",
   "execution_count": 14,
   "id": "1ffd9f5c",
   "metadata": {},
   "outputs": [],
   "source": [
    "# define processing functions\n",
    "def extract_description(element):\n",
    "    return element['description'].lower()\n",
    "\n",
    "def extract_rating(element):\n",
    "    return element['review_rating']\n",
    "\n",
    "def filter_stopword(word, stopwords):\n",
    "    return word not in stopwords\n",
    "\n",
    "def filter_stopwords(tokens, stopwords):\n",
    "    return list(filter(partial(filter_stopword, stopwords=stopwords), tokens))"
   ]
  },
  {
   "cell_type": "code",
   "execution_count": 15,
   "id": "bba9167b",
   "metadata": {},
   "outputs": [],
   "source": [
    "# define set of stopwords\n",
    "stopword_set = set(stopwords.words('english'))"
   ]
  },
  {
   "cell_type": "code",
   "execution_count": 25,
   "id": "82630f05",
   "metadata": {},
   "outputs": [],
   "source": [
    "# get cleaned, tokenized description texts\n",
    "description_text = b_flattened.map(extract_description)\n",
    "description_text_tokens = description_text.map(tokenizer.tokenize) # this outputs tokens as a list of strings which can't be cast to a dataframe properly\n",
    "descript_clean = description_text_tokens.map(partial(filter_stopwords, stopwords=stopword_set))"
   ]
  },
  {
   "cell_type": "code",
   "execution_count": 26,
   "id": "3c356428",
   "metadata": {},
   "outputs": [
    {
     "data": {
      "text/plain": [
       "(['exists',\n",
       "  'cozy',\n",
       "  'room',\n",
       "  'rent',\n",
       "  'shared',\n",
       "  '4',\n",
       "  'bedroom',\n",
       "  'apartment',\n",
       "  'located',\n",
       "  'one',\n",
       "  'block',\n",
       "  'jmz',\n",
       "  'myrtle',\n",
       "  'broadway',\n",
       "  'neighborhood',\n",
       "  'diverse',\n",
       "  'appeals',\n",
       "  'variety',\n",
       "  'people'],)"
      ]
     },
     "execution_count": 26,
     "metadata": {},
     "output_type": "execute_result"
    }
   ],
   "source": [
    "descript_clean.take(1)"
   ]
  },
  {
   "cell_type": "code",
   "execution_count": null,
   "id": "a3ecc236",
   "metadata": {},
   "outputs": [],
   "source": []
  },
  {
   "cell_type": "markdown",
   "id": "b5da203f",
   "metadata": {},
   "source": [
    "## 3. Lemmatization"
   ]
  },
  {
   "cell_type": "code",
   "execution_count": 17,
   "id": "02d9253f",
   "metadata": {},
   "outputs": [],
   "source": [
    "import spacy"
   ]
  },
  {
   "cell_type": "code",
   "execution_count": 18,
   "id": "aeda062b",
   "metadata": {},
   "outputs": [],
   "source": [
    "nlp = spacy.load(\"en_core_web_sm\")"
   ]
  },
  {
   "cell_type": "code",
   "execution_count": 19,
   "id": "5061ad15",
   "metadata": {},
   "outputs": [],
   "source": [
    "def lemmatize(text, nlp=nlp):\n",
    "    doc = nlp(\" \".join(text))\n",
    "    lemmatized = [token.lemma_ for token in doc]\n",
    "    return lemmatized"
   ]
  },
  {
   "cell_type": "code",
   "execution_count": 20,
   "id": "22354f13",
   "metadata": {},
   "outputs": [],
   "source": [
    "lemmas = descript_clean.map(lemmatize)"
   ]
  },
  {
   "cell_type": "code",
   "execution_count": 21,
   "id": "a9c2336c",
   "metadata": {},
   "outputs": [
    {
     "data": {
      "text/plain": [
       "(['exist',\n",
       "  'cozy',\n",
       "  'room',\n",
       "  'rent',\n",
       "  'share',\n",
       "  '4',\n",
       "  'bedroom',\n",
       "  'apartment',\n",
       "  'locate',\n",
       "  'one',\n",
       "  'block',\n",
       "  'jmz',\n",
       "  'myrtle',\n",
       "  'broadway',\n",
       "  'neighborhood',\n",
       "  'diverse',\n",
       "  'appeal',\n",
       "  'variety',\n",
       "  'people'],)"
      ]
     },
     "execution_count": 21,
     "metadata": {},
     "output_type": "execute_result"
    }
   ],
   "source": [
    "lemmas.take(1)"
   ]
  },
  {
   "cell_type": "markdown",
   "id": "8eab0839",
   "metadata": {},
   "source": [
    "This works BUT can't be cast to a dataframe yet because the tokens are a list of strings, each string will be cast to its own column. May need to find a workaround for this."
   ]
  },
  {
   "cell_type": "markdown",
   "id": "df1911df",
   "metadata": {},
   "source": [
    "## 4. Topic Modelling"
   ]
  },
  {
   "cell_type": "markdown",
   "id": "15733c7c",
   "metadata": {},
   "source": [
    "To perform topic modelling, we will have to:\n",
    "1. Create an array containing only the lemmatized text\n",
    "2. Create a Bag of Words dictionary (filtering for extreme cases)\n",
    "3. Map our documents to the BOW dictionary\n",
    "\n",
    "OR\n",
    "1. use the HashingVectorizer to turn text into a matrix of token occurrences\n",
    "\n",
    "Then we'll use sklearn instead of Gensim with the n_jobs parameter and the Dask backend (connected to a Coiled cluster).\n",
    "\n",
    "\n",
    "\n",
    "1. Input Bag to LDA? or Array?\n",
    "2. Use Sklearn instead of Gensim?\n",
    "3. njobs with dask backend?"
   ]
  },
  {
   "cell_type": "markdown",
   "id": "3b1abd68",
   "metadata": {},
   "source": [
    "## 4.1. Use Lemmas > Array > BOW"
   ]
  },
  {
   "cell_type": "markdown",
   "id": "309e238f",
   "metadata": {},
   "source": [
    "### Turn Bag into Array"
   ]
  },
  {
   "cell_type": "code",
   "execution_count": 27,
   "id": "fd458e32",
   "metadata": {},
   "outputs": [
    {
     "data": {
      "text/plain": [
       "dask.bag.core.Bag"
      ]
     },
     "execution_count": 27,
     "metadata": {},
     "output_type": "execute_result"
    }
   ],
   "source": [
    "type(lemmas)"
   ]
  },
  {
   "cell_type": "code",
   "execution_count": 46,
   "id": "3a5d745b",
   "metadata": {},
   "outputs": [],
   "source": [
    "lemmas_df = lemmas.to_dataframe(meta={'lemmas': 'object'}) # this doesn't work yet because tokens are a list of strings"
   ]
  },
  {
   "cell_type": "markdown",
   "id": "da4b5b64",
   "metadata": {},
   "source": [
    "Casting this to a dataframe doesn't work because each element of the list of lemmas is getting cast to its own df column. We need the whole list of lemmas to end up in a single column."
   ]
  },
  {
   "cell_type": "code",
   "execution_count": null,
   "id": "3704c416",
   "metadata": {},
   "outputs": [],
   "source": []
  },
  {
   "cell_type": "code",
   "execution_count": null,
   "id": "8c75b6dd",
   "metadata": {},
   "outputs": [],
   "source": []
  },
  {
   "cell_type": "markdown",
   "id": "5de48967",
   "metadata": {},
   "source": [
    "### Create BOW Dictionary"
   ]
  },
  {
   "cell_type": "code",
   "execution_count": null,
   "id": "b2d07ae9",
   "metadata": {},
   "outputs": [],
   "source": []
  },
  {
   "cell_type": "code",
   "execution_count": null,
   "id": "932c933d",
   "metadata": {},
   "outputs": [],
   "source": []
  },
  {
   "cell_type": "code",
   "execution_count": null,
   "id": "b6cec5f7",
   "metadata": {},
   "outputs": [],
   "source": []
  },
  {
   "cell_type": "markdown",
   "id": "e83f6d81",
   "metadata": {},
   "source": [
    "### Create tf-idf mapping"
   ]
  },
  {
   "cell_type": "code",
   "execution_count": null,
   "id": "730fb8d3",
   "metadata": {},
   "outputs": [],
   "source": []
  },
  {
   "cell_type": "code",
   "execution_count": null,
   "id": "0451a427",
   "metadata": {},
   "outputs": [],
   "source": []
  },
  {
   "cell_type": "code",
   "execution_count": null,
   "id": "f1035cfd",
   "metadata": {},
   "outputs": [],
   "source": []
  },
  {
   "cell_type": "code",
   "execution_count": null,
   "id": "d748b544",
   "metadata": {},
   "outputs": [],
   "source": []
  },
  {
   "cell_type": "code",
   "execution_count": null,
   "id": "f24a7471",
   "metadata": {},
   "outputs": [],
   "source": []
  },
  {
   "cell_type": "markdown",
   "id": "f1065fba",
   "metadata": {},
   "source": [
    "## 4.2. HashingVectorizer"
   ]
  },
  {
   "cell_type": "markdown",
   "id": "85fc3bd6-e2fc-43ab-9087-0ee1d838dbef",
   "metadata": {},
   "source": [
    "These `dask-ml` Vectorizers have built in tokenizers so we don't have the issue of casting the tokens into a dataframe."
   ]
  },
  {
   "cell_type": "code",
   "execution_count": 49,
   "id": "a976ac6e",
   "metadata": {},
   "outputs": [],
   "source": [
    "from dask_ml.feature_extraction.text import HashingVectorizer"
   ]
  },
  {
   "cell_type": "code",
   "execution_count": 52,
   "id": "ec5c3d8c",
   "metadata": {},
   "outputs": [],
   "source": [
    "ddf = dd.read_parquet(\n",
    "    's3://coiled-datasets/airbnb-monogo/description-and-ratings.parquet',\n",
    "    engine=\"pyarrow\",\n",
    ")"
   ]
  },
  {
   "cell_type": "code",
   "execution_count": 53,
   "id": "1f314d59",
   "metadata": {},
   "outputs": [
    {
     "data": {
      "text/html": [
       "<div>\n",
       "<style scoped>\n",
       "    .dataframe tbody tr th:only-of-type {\n",
       "        vertical-align: middle;\n",
       "    }\n",
       "\n",
       "    .dataframe tbody tr th {\n",
       "        vertical-align: top;\n",
       "    }\n",
       "\n",
       "    .dataframe thead th {\n",
       "        text-align: right;\n",
       "    }\n",
       "</style>\n",
       "<table border=\"1\" class=\"dataframe\">\n",
       "  <thead>\n",
       "    <tr style=\"text-align: right;\">\n",
       "      <th></th>\n",
       "      <th>description</th>\n",
       "      <th>review_rating</th>\n",
       "    </tr>\n",
       "  </thead>\n",
       "  <tbody>\n",
       "    <tr>\n",
       "      <th>0</th>\n",
       "      <td>Here exists a very cozy room for rent in a sha...</td>\n",
       "      <td>100</td>\n",
       "    </tr>\n",
       "    <tr>\n",
       "      <th>1</th>\n",
       "      <td>Murphy bed, optional second bedroom available....</td>\n",
       "      <td>94</td>\n",
       "    </tr>\n",
       "    <tr>\n",
       "      <th>2</th>\n",
       "      <td>The Apartment has a living room, toilet, bedro...</td>\n",
       "      <td>98</td>\n",
       "    </tr>\n",
       "    <tr>\n",
       "      <th>3</th>\n",
       "      <td>Loft Suite Deluxe @ Henry Norman Hotel Located...</td>\n",
       "      <td>88</td>\n",
       "    </tr>\n",
       "    <tr>\n",
       "      <th>4</th>\n",
       "      <td>Clean, fully furnish, Spacious 1 bedroom flat ...</td>\n",
       "      <td>100</td>\n",
       "    </tr>\n",
       "  </tbody>\n",
       "</table>\n",
       "</div>"
      ],
      "text/plain": [
       "                                         description  review_rating\n",
       "0  Here exists a very cozy room for rent in a sha...            100\n",
       "1  Murphy bed, optional second bedroom available....             94\n",
       "2  The Apartment has a living room, toilet, bedro...             98\n",
       "3  Loft Suite Deluxe @ Henry Norman Hotel Located...             88\n",
       "4  Clean, fully furnish, Spacious 1 bedroom flat ...            100"
      ]
     },
     "execution_count": 53,
     "metadata": {},
     "output_type": "execute_result"
    }
   ],
   "source": [
    "ddf.head()"
   ]
  },
  {
   "cell_type": "code",
   "execution_count": 54,
   "id": "93a1bf66",
   "metadata": {},
   "outputs": [],
   "source": [
    "X = ddf['description'].to_dask_array(lengths=True)\n",
    "y = ddf['review_rating'].to_dask_array(lengths=True)"
   ]
  },
  {
   "cell_type": "code",
   "execution_count": 55,
   "id": "6e545017",
   "metadata": {},
   "outputs": [],
   "source": [
    "vect = HashingVectorizer()"
   ]
  },
  {
   "cell_type": "code",
   "execution_count": 56,
   "id": "f26087d9",
   "metadata": {},
   "outputs": [],
   "source": [
    "X_vect = vect.fit_transform(X)"
   ]
  },
  {
   "cell_type": "code",
   "execution_count": 59,
   "id": "2f5232a6",
   "metadata": {},
   "outputs": [
    {
     "data": {
      "text/html": [
       "<table>\n",
       "    <tr>\n",
       "        <td>\n",
       "            <table>\n",
       "                <thead>\n",
       "                    <tr>\n",
       "                        <td> </td>\n",
       "                        <th> Array </th>\n",
       "                        <th> Chunk </th>\n",
       "                    </tr>\n",
       "                </thead>\n",
       "                <tbody>\n",
       "                    \n",
       "                    <tr>\n",
       "                        <th> Shape </th>\n",
       "                        <td> (2681, 1048576) </td>\n",
       "                        <td> (264, 1048576) </td>\n",
       "                    </tr>\n",
       "                    <tr>\n",
       "                        <th> Count </th>\n",
       "                        <td> 48 Tasks </td>\n",
       "                        <td> 12 Chunks </td>\n",
       "                    </tr>\n",
       "                    <tr>\n",
       "                    <th> Type </th>\n",
       "                    <td> float64 </td>\n",
       "                    <td> scipy.sparse.csr.csr_matrix </td>\n",
       "                    </tr>\n",
       "                </tbody>\n",
       "            </table>\n",
       "        </td>\n",
       "        <td>\n",
       "        <svg width=\"170\" height=\"75\" style=\"stroke:rgb(0,0,0);stroke-width:1\" >\n",
       "\n",
       "  <!-- Horizontal lines -->\n",
       "  <line x1=\"0\" y1=\"0\" x2=\"120\" y2=\"0\" style=\"stroke-width:2\" />\n",
       "  <line x1=\"0\" y1=\"2\" x2=\"120\" y2=\"2\" />\n",
       "  <line x1=\"0\" y1=\"4\" x2=\"120\" y2=\"4\" />\n",
       "  <line x1=\"0\" y1=\"6\" x2=\"120\" y2=\"6\" />\n",
       "  <line x1=\"0\" y1=\"9\" x2=\"120\" y2=\"9\" />\n",
       "  <line x1=\"0\" y1=\"11\" x2=\"120\" y2=\"11\" />\n",
       "  <line x1=\"0\" y1=\"13\" x2=\"120\" y2=\"13\" />\n",
       "  <line x1=\"0\" y1=\"15\" x2=\"120\" y2=\"15\" />\n",
       "  <line x1=\"0\" y1=\"17\" x2=\"120\" y2=\"17\" />\n",
       "  <line x1=\"0\" y1=\"19\" x2=\"120\" y2=\"19\" />\n",
       "  <line x1=\"0\" y1=\"20\" x2=\"120\" y2=\"20\" />\n",
       "  <line x1=\"0\" y1=\"23\" x2=\"120\" y2=\"23\" />\n",
       "  <line x1=\"0\" y1=\"25\" x2=\"120\" y2=\"25\" style=\"stroke-width:2\" />\n",
       "\n",
       "  <!-- Vertical lines -->\n",
       "  <line x1=\"0\" y1=\"0\" x2=\"0\" y2=\"25\" style=\"stroke-width:2\" />\n",
       "  <line x1=\"120\" y1=\"0\" x2=\"120\" y2=\"25\" style=\"stroke-width:2\" />\n",
       "\n",
       "  <!-- Colored Rectangle -->\n",
       "  <polygon points=\"0.0,0.0 120.0,0.0 120.0,25.412616514582485 0.0,25.412616514582485\" style=\"fill:#ECB172A0;stroke-width:0\"/>\n",
       "\n",
       "  <!-- Text -->\n",
       "  <text x=\"60.000000\" y=\"45.412617\" font-size=\"1.0rem\" font-weight=\"100\" text-anchor=\"middle\" >1048576</text>\n",
       "  <text x=\"140.000000\" y=\"12.706308\" font-size=\"1.0rem\" font-weight=\"100\" text-anchor=\"middle\" transform=\"rotate(-90,140.000000,12.706308)\">2681</text>\n",
       "</svg>\n",
       "        </td>\n",
       "    </tr>\n",
       "</table>"
      ],
      "text/plain": [
       "dask.array<_transformer, shape=(2681, 1048576), dtype=float64, chunksize=(264, 1048576), chunktype=scipy.csr_matrix>"
      ]
     },
     "execution_count": 59,
     "metadata": {},
     "output_type": "execute_result"
    }
   ],
   "source": [
    "X_vect.compute_chunk_sizes()"
   ]
  },
  {
   "cell_type": "code",
   "execution_count": 61,
   "id": "1a7cc19d",
   "metadata": {
    "scrolled": true
   },
   "outputs": [
    {
     "data": {
      "text/plain": [
       "<221x1048576 sparse matrix of type '<class 'numpy.float64'>'\n",
       "\twith 19632 stored elements in Compressed Sparse Row format>"
      ]
     },
     "execution_count": 61,
     "metadata": {},
     "output_type": "execute_result"
    }
   ],
   "source": [
    "X_vect.blocks[0].compute()"
   ]
  },
  {
   "cell_type": "markdown",
   "id": "3f344f86",
   "metadata": {},
   "source": [
    "Each block in X is a scipy.sparse matrix."
   ]
  },
  {
   "cell_type": "code",
   "execution_count": null,
   "id": "12f9171c",
   "metadata": {},
   "outputs": [],
   "source": []
  },
  {
   "cell_type": "markdown",
   "id": "8e8e7977",
   "metadata": {},
   "source": [
    "## 4.3. CountVectorizer"
   ]
  },
  {
   "cell_type": "code",
   "execution_count": 27,
   "id": "e504125b",
   "metadata": {},
   "outputs": [],
   "source": [
    "from dask_ml.feature_extraction.text import CountVectorizer\n",
    "import dask.bag as db"
   ]
  },
  {
   "cell_type": "markdown",
   "id": "c72c7f10",
   "metadata": {},
   "source": [
    "\"The Dask-ML implementation currently requires that raw_documents is a dask.bag.Bag of documents (lists of strings).\""
   ]
  },
  {
   "cell_type": "code",
   "execution_count": 28,
   "id": "9a570021",
   "metadata": {},
   "outputs": [
    {
     "data": {
      "text/plain": [
       "('here exists a very cozy room for rent in a shared 4-bedroom apartment. it is located one block off of the jmz at myrtle broadway.  the neighborhood is diverse and appeals to a variety of people.',)"
      ]
     },
     "execution_count": 28,
     "metadata": {},
     "output_type": "execute_result"
    }
   ],
   "source": [
    "description_text.take(1)"
   ]
  },
  {
   "cell_type": "markdown",
   "id": "a70c0211",
   "metadata": {},
   "source": [
    "`description_text` is a Dask Bag of documents"
   ]
  },
  {
   "cell_type": "code",
   "execution_count": 29,
   "id": "1ac06957",
   "metadata": {},
   "outputs": [],
   "source": [
    "vectorizer = CountVectorizer()"
   ]
  },
  {
   "cell_type": "code",
   "execution_count": 30,
   "id": "aac073bc",
   "metadata": {},
   "outputs": [],
   "source": [
    "%%time\n",
    "X = vectorizer.fit_transform(description_text)"
   ]
  },
  {
   "cell_type": "code",
   "execution_count": 31,
   "id": "a32d0d8c",
   "metadata": {},
   "outputs": [],
   "source": [
    "X_local = X.compute().toarray()"
   ]
  },
  {
   "cell_type": "markdown",
   "id": "410c10f5",
   "metadata": {},
   "source": [
    "Just like `HashingVectorizer`, the `CountVectorizer` outputs a Dask Array where each chunk is a scipy.sparse.matrix"
   ]
  },
  {
   "cell_type": "code",
   "execution_count": 40,
   "id": "ab8e932a",
   "metadata": {},
   "outputs": [
    {
     "data": {
      "text/plain": [
       "numpy.ndarray"
      ]
     },
     "execution_count": 40,
     "metadata": {},
     "output_type": "execute_result"
    }
   ],
   "source": [
    "type(X_local)"
   ]
  },
  {
   "cell_type": "markdown",
   "id": "c55e1917",
   "metadata": {},
   "source": [
    "## 5. LDA"
   ]
  },
  {
   "cell_type": "markdown",
   "id": "6f7e1ecb-13af-4ac4-8706-c1c4d1be9b15",
   "metadata": {},
   "source": [
    "Can we use Dask/Coiled for parallel topic modelling?\n",
    "1. Yes if dataset fits in memory: sklearn with joblib\n",
    "2. If dataset doesn't fit in memory: `partial_fit`\n"
   ]
  },
  {
   "cell_type": "markdown",
   "id": "52d69337",
   "metadata": {},
   "source": [
    "## 5.1. Sklearn with Joblib (if model fits in memory)"
   ]
  },
  {
   "cell_type": "markdown",
   "id": "3ff038b9-74ae-4d82-a683-5e0854742cdc",
   "metadata": {},
   "source": [
    "We can input `X_local` (output of CountVectorizer or HashVectorizer .compute()-ed and cast to array) into the sklearn LDA algorithm. The only thing is that this means we have to store results locally. \n",
    "\n",
    "This is because sklearn doesn't natively accept Dask Arrays. So this option works only if your dataset fits in memory and you want to parallelize model training with Dask."
   ]
  },
  {
   "cell_type": "code",
   "execution_count": 32,
   "id": "06ab0952",
   "metadata": {},
   "outputs": [],
   "source": [
    "from sklearn.decomposition import LatentDirichletAllocation"
   ]
  },
  {
   "cell_type": "code",
   "execution_count": 33,
   "id": "516be717",
   "metadata": {},
   "outputs": [],
   "source": [
    "lda = LatentDirichletAllocation(\n",
    "    n_components=5,\n",
    "    random_state=42,\n",
    ")"
   ]
  },
  {
   "cell_type": "code",
   "execution_count": 34,
   "id": "450f35ff",
   "metadata": {},
   "outputs": [],
   "source": [
    "import joblib"
   ]
  },
  {
   "cell_type": "code",
   "execution_count": 42,
   "id": "331c673b",
   "metadata": {},
   "outputs": [
    {
     "name": "stdout",
     "output_type": "stream",
     "text": [
      "CPU times: user 1.48 s, sys: 390 ms, total: 1.87 s\n",
      "Wall time: 4.71 s\n"
     ]
    }
   ],
   "source": [
    "%%time\n",
    "with joblib.parallel_backend(\"dask\"):\n",
    "    lda.fit(X_local)"
   ]
  },
  {
   "cell_type": "code",
   "execution_count": null,
   "id": "886fa083",
   "metadata": {},
   "outputs": [],
   "source": []
  },
  {
   "cell_type": "markdown",
   "id": "053920a3-628b-4e9a-b533-8acb2fc2d9f0",
   "metadata": {},
   "source": [
    "## 5.2 Sklearn with `partial_fit`"
   ]
  },
  {
   "cell_type": "code",
   "execution_count": null,
   "id": "1c221996-668a-47f4-8f43-da9c623e72e3",
   "metadata": {},
   "outputs": [],
   "source": [
    "chunksize = 2000"
   ]
  },
  {
   "cell_type": "code",
   "execution_count": 46,
   "id": "7f5f3021-2937-4efb-b452-461044340b9e",
   "metadata": {},
   "outputs": [],
   "source": [
    "import numpy as np\n",
    "import pandas as pd"
   ]
  },
  {
   "cell_type": "code",
   "execution_count": null,
   "id": "73ec0f07-f5f1-4a65-a767-cafdac14f1c7",
   "metadata": {},
   "outputs": [],
   "source": [
    "np.nditer()"
   ]
  },
  {
   "cell_type": "code",
   "execution_count": 47,
   "id": "34e4481b-a472-4b20-a81a-09c0325a1031",
   "metadata": {},
   "outputs": [
    {
     "data": {
      "text/html": [
       "<div>\n",
       "<style scoped>\n",
       "    .dataframe tbody tr th:only-of-type {\n",
       "        vertical-align: middle;\n",
       "    }\n",
       "\n",
       "    .dataframe tbody tr th {\n",
       "        vertical-align: top;\n",
       "    }\n",
       "\n",
       "    .dataframe thead th {\n",
       "        text-align: right;\n",
       "    }\n",
       "</style>\n",
       "<table border=\"1\" class=\"dataframe\">\n",
       "  <thead>\n",
       "    <tr style=\"text-align: right;\">\n",
       "      <th></th>\n",
       "      <th>0</th>\n",
       "      <th>1</th>\n",
       "      <th>2</th>\n",
       "      <th>3</th>\n",
       "      <th>4</th>\n",
       "      <th>5</th>\n",
       "      <th>6</th>\n",
       "      <th>7</th>\n",
       "      <th>8</th>\n",
       "      <th>9</th>\n",
       "      <th>...</th>\n",
       "      <th>19711</th>\n",
       "      <th>19712</th>\n",
       "      <th>19713</th>\n",
       "      <th>19714</th>\n",
       "      <th>19715</th>\n",
       "      <th>19716</th>\n",
       "      <th>19717</th>\n",
       "      <th>19718</th>\n",
       "      <th>19719</th>\n",
       "      <th>19720</th>\n",
       "    </tr>\n",
       "  </thead>\n",
       "  <tbody>\n",
       "    <tr>\n",
       "      <th>0</th>\n",
       "      <td>0</td>\n",
       "      <td>0</td>\n",
       "      <td>0</td>\n",
       "      <td>0</td>\n",
       "      <td>0</td>\n",
       "      <td>0</td>\n",
       "      <td>0</td>\n",
       "      <td>0</td>\n",
       "      <td>0</td>\n",
       "      <td>0</td>\n",
       "      <td>...</td>\n",
       "      <td>0</td>\n",
       "      <td>0</td>\n",
       "      <td>0</td>\n",
       "      <td>0</td>\n",
       "      <td>0</td>\n",
       "      <td>0</td>\n",
       "      <td>0</td>\n",
       "      <td>0</td>\n",
       "      <td>0</td>\n",
       "      <td>0</td>\n",
       "    </tr>\n",
       "    <tr>\n",
       "      <th>1</th>\n",
       "      <td>0</td>\n",
       "      <td>0</td>\n",
       "      <td>0</td>\n",
       "      <td>0</td>\n",
       "      <td>0</td>\n",
       "      <td>0</td>\n",
       "      <td>0</td>\n",
       "      <td>0</td>\n",
       "      <td>0</td>\n",
       "      <td>0</td>\n",
       "      <td>...</td>\n",
       "      <td>0</td>\n",
       "      <td>0</td>\n",
       "      <td>0</td>\n",
       "      <td>0</td>\n",
       "      <td>0</td>\n",
       "      <td>0</td>\n",
       "      <td>0</td>\n",
       "      <td>0</td>\n",
       "      <td>0</td>\n",
       "      <td>0</td>\n",
       "    </tr>\n",
       "    <tr>\n",
       "      <th>2</th>\n",
       "      <td>0</td>\n",
       "      <td>0</td>\n",
       "      <td>0</td>\n",
       "      <td>0</td>\n",
       "      <td>0</td>\n",
       "      <td>0</td>\n",
       "      <td>0</td>\n",
       "      <td>0</td>\n",
       "      <td>0</td>\n",
       "      <td>0</td>\n",
       "      <td>...</td>\n",
       "      <td>0</td>\n",
       "      <td>0</td>\n",
       "      <td>0</td>\n",
       "      <td>0</td>\n",
       "      <td>0</td>\n",
       "      <td>0</td>\n",
       "      <td>0</td>\n",
       "      <td>0</td>\n",
       "      <td>0</td>\n",
       "      <td>0</td>\n",
       "    </tr>\n",
       "    <tr>\n",
       "      <th>3</th>\n",
       "      <td>0</td>\n",
       "      <td>0</td>\n",
       "      <td>0</td>\n",
       "      <td>0</td>\n",
       "      <td>0</td>\n",
       "      <td>0</td>\n",
       "      <td>0</td>\n",
       "      <td>0</td>\n",
       "      <td>0</td>\n",
       "      <td>0</td>\n",
       "      <td>...</td>\n",
       "      <td>0</td>\n",
       "      <td>0</td>\n",
       "      <td>0</td>\n",
       "      <td>0</td>\n",
       "      <td>0</td>\n",
       "      <td>0</td>\n",
       "      <td>0</td>\n",
       "      <td>0</td>\n",
       "      <td>0</td>\n",
       "      <td>0</td>\n",
       "    </tr>\n",
       "    <tr>\n",
       "      <th>4</th>\n",
       "      <td>0</td>\n",
       "      <td>0</td>\n",
       "      <td>0</td>\n",
       "      <td>0</td>\n",
       "      <td>0</td>\n",
       "      <td>0</td>\n",
       "      <td>0</td>\n",
       "      <td>0</td>\n",
       "      <td>0</td>\n",
       "      <td>0</td>\n",
       "      <td>...</td>\n",
       "      <td>0</td>\n",
       "      <td>0</td>\n",
       "      <td>0</td>\n",
       "      <td>0</td>\n",
       "      <td>0</td>\n",
       "      <td>0</td>\n",
       "      <td>0</td>\n",
       "      <td>0</td>\n",
       "      <td>0</td>\n",
       "      <td>0</td>\n",
       "    </tr>\n",
       "    <tr>\n",
       "      <th>...</th>\n",
       "      <td>...</td>\n",
       "      <td>...</td>\n",
       "      <td>...</td>\n",
       "      <td>...</td>\n",
       "      <td>...</td>\n",
       "      <td>...</td>\n",
       "      <td>...</td>\n",
       "      <td>...</td>\n",
       "      <td>...</td>\n",
       "      <td>...</td>\n",
       "      <td>...</td>\n",
       "      <td>...</td>\n",
       "      <td>...</td>\n",
       "      <td>...</td>\n",
       "      <td>...</td>\n",
       "      <td>...</td>\n",
       "      <td>...</td>\n",
       "      <td>...</td>\n",
       "      <td>...</td>\n",
       "      <td>...</td>\n",
       "      <td>...</td>\n",
       "    </tr>\n",
       "    <tr>\n",
       "      <th>2676</th>\n",
       "      <td>0</td>\n",
       "      <td>0</td>\n",
       "      <td>0</td>\n",
       "      <td>0</td>\n",
       "      <td>0</td>\n",
       "      <td>0</td>\n",
       "      <td>0</td>\n",
       "      <td>0</td>\n",
       "      <td>0</td>\n",
       "      <td>0</td>\n",
       "      <td>...</td>\n",
       "      <td>0</td>\n",
       "      <td>0</td>\n",
       "      <td>0</td>\n",
       "      <td>0</td>\n",
       "      <td>0</td>\n",
       "      <td>0</td>\n",
       "      <td>0</td>\n",
       "      <td>0</td>\n",
       "      <td>0</td>\n",
       "      <td>0</td>\n",
       "    </tr>\n",
       "    <tr>\n",
       "      <th>2677</th>\n",
       "      <td>0</td>\n",
       "      <td>0</td>\n",
       "      <td>0</td>\n",
       "      <td>0</td>\n",
       "      <td>0</td>\n",
       "      <td>0</td>\n",
       "      <td>0</td>\n",
       "      <td>0</td>\n",
       "      <td>0</td>\n",
       "      <td>0</td>\n",
       "      <td>...</td>\n",
       "      <td>0</td>\n",
       "      <td>0</td>\n",
       "      <td>0</td>\n",
       "      <td>0</td>\n",
       "      <td>0</td>\n",
       "      <td>0</td>\n",
       "      <td>0</td>\n",
       "      <td>0</td>\n",
       "      <td>0</td>\n",
       "      <td>0</td>\n",
       "    </tr>\n",
       "    <tr>\n",
       "      <th>2678</th>\n",
       "      <td>0</td>\n",
       "      <td>0</td>\n",
       "      <td>0</td>\n",
       "      <td>0</td>\n",
       "      <td>0</td>\n",
       "      <td>0</td>\n",
       "      <td>0</td>\n",
       "      <td>0</td>\n",
       "      <td>0</td>\n",
       "      <td>0</td>\n",
       "      <td>...</td>\n",
       "      <td>0</td>\n",
       "      <td>0</td>\n",
       "      <td>0</td>\n",
       "      <td>0</td>\n",
       "      <td>0</td>\n",
       "      <td>0</td>\n",
       "      <td>0</td>\n",
       "      <td>0</td>\n",
       "      <td>0</td>\n",
       "      <td>0</td>\n",
       "    </tr>\n",
       "    <tr>\n",
       "      <th>2679</th>\n",
       "      <td>0</td>\n",
       "      <td>0</td>\n",
       "      <td>0</td>\n",
       "      <td>0</td>\n",
       "      <td>0</td>\n",
       "      <td>0</td>\n",
       "      <td>0</td>\n",
       "      <td>0</td>\n",
       "      <td>0</td>\n",
       "      <td>0</td>\n",
       "      <td>...</td>\n",
       "      <td>0</td>\n",
       "      <td>0</td>\n",
       "      <td>0</td>\n",
       "      <td>0</td>\n",
       "      <td>0</td>\n",
       "      <td>0</td>\n",
       "      <td>0</td>\n",
       "      <td>0</td>\n",
       "      <td>0</td>\n",
       "      <td>0</td>\n",
       "    </tr>\n",
       "    <tr>\n",
       "      <th>2680</th>\n",
       "      <td>0</td>\n",
       "      <td>0</td>\n",
       "      <td>0</td>\n",
       "      <td>0</td>\n",
       "      <td>0</td>\n",
       "      <td>0</td>\n",
       "      <td>0</td>\n",
       "      <td>0</td>\n",
       "      <td>0</td>\n",
       "      <td>0</td>\n",
       "      <td>...</td>\n",
       "      <td>0</td>\n",
       "      <td>0</td>\n",
       "      <td>0</td>\n",
       "      <td>0</td>\n",
       "      <td>0</td>\n",
       "      <td>0</td>\n",
       "      <td>0</td>\n",
       "      <td>0</td>\n",
       "      <td>0</td>\n",
       "      <td>0</td>\n",
       "    </tr>\n",
       "  </tbody>\n",
       "</table>\n",
       "<p>2681 rows × 19721 columns</p>\n",
       "</div>"
      ],
      "text/plain": [
       "      0      1      2      3      4      5      6      7      8      9      \\\n",
       "0         0      0      0      0      0      0      0      0      0      0   \n",
       "1         0      0      0      0      0      0      0      0      0      0   \n",
       "2         0      0      0      0      0      0      0      0      0      0   \n",
       "3         0      0      0      0      0      0      0      0      0      0   \n",
       "4         0      0      0      0      0      0      0      0      0      0   \n",
       "...     ...    ...    ...    ...    ...    ...    ...    ...    ...    ...   \n",
       "2676      0      0      0      0      0      0      0      0      0      0   \n",
       "2677      0      0      0      0      0      0      0      0      0      0   \n",
       "2678      0      0      0      0      0      0      0      0      0      0   \n",
       "2679      0      0      0      0      0      0      0      0      0      0   \n",
       "2680      0      0      0      0      0      0      0      0      0      0   \n",
       "\n",
       "      ...  19711  19712  19713  19714  19715  19716  19717  19718  19719  \\\n",
       "0     ...      0      0      0      0      0      0      0      0      0   \n",
       "1     ...      0      0      0      0      0      0      0      0      0   \n",
       "2     ...      0      0      0      0      0      0      0      0      0   \n",
       "3     ...      0      0      0      0      0      0      0      0      0   \n",
       "4     ...      0      0      0      0      0      0      0      0      0   \n",
       "...   ...    ...    ...    ...    ...    ...    ...    ...    ...    ...   \n",
       "2676  ...      0      0      0      0      0      0      0      0      0   \n",
       "2677  ...      0      0      0      0      0      0      0      0      0   \n",
       "2678  ...      0      0      0      0      0      0      0      0      0   \n",
       "2679  ...      0      0      0      0      0      0      0      0      0   \n",
       "2680  ...      0      0      0      0      0      0      0      0      0   \n",
       "\n",
       "      19720  \n",
       "0         0  \n",
       "1         0  \n",
       "2         0  \n",
       "3         0  \n",
       "4         0  \n",
       "...     ...  \n",
       "2676      0  \n",
       "2677      0  \n",
       "2678      0  \n",
       "2679      0  \n",
       "2680      0  \n",
       "\n",
       "[2681 rows x 19721 columns]"
      ]
     },
     "execution_count": 47,
     "metadata": {},
     "output_type": "execute_result"
    }
   ],
   "source": [
    "df_X = pd.DataFrame(data=X_local)\n",
    "df_X"
   ]
  },
  {
   "cell_type": "code",
   "execution_count": 48,
   "id": "65ad86f6-c4ac-4c81-b5d7-aefbead6f250",
   "metadata": {},
   "outputs": [],
   "source": [
    "df_X.to_csv(\"/Users/rpelgrim/Desktop/mongo_airbnb_test.csv\")"
   ]
  },
  {
   "cell_type": "code",
   "execution_count": 49,
   "id": "a1c89f5c-2c99-4466-a1b6-7b0deac3c54b",
   "metadata": {},
   "outputs": [
    {
     "data": {
      "text/plain": [
       "2681"
      ]
     },
     "execution_count": 49,
     "metadata": {},
     "output_type": "execute_result"
    }
   ],
   "source": [
    "len(df_X)"
   ]
  },
  {
   "cell_type": "code",
   "execution_count": 51,
   "id": "a9fdbf89-0ec0-417f-a0ef-58feba9bf0b4",
   "metadata": {},
   "outputs": [],
   "source": [
    "lda = LatentDirichletAllocation(\n",
    "    n_components=5,\n",
    "    random_state=42,\n",
    ")"
   ]
  },
  {
   "cell_type": "code",
   "execution_count": 52,
   "id": "2be600db-5f6e-4427-9be6-a8339bec9d21",
   "metadata": {
    "tags": []
   },
   "outputs": [],
   "source": [
    "%%time\n",
    "for partial_df in pd.read_csv(\"/Users/rpelgrim/Desktop/mongo_airbnb_test.csv\", chunksize=500, iterator=True):\n",
    "    X = partial_df\n",
    "    with joblib.parallel_backend(\"dask\"):\n",
    "        lda.partial_fit(X)"
   ]
  },
  {
   "cell_type": "markdown",
   "id": "644f474a-60d3-4701-88ff-487b98490ec0",
   "metadata": {},
   "source": [
    "This looks like it works.\n",
    "\n",
    "Need to:\n",
    "1. test with an actually large dataset\n",
    "2. test if [.fit(learning_method=\"online\")](https://scikit-learn.org/stable/modules/generated/sklearn.decomposition.LatentDirichletAllocation.html) also works instead of iterating over chunks\n",
    "3. If #2 doesn't work, then need to figure out how to iterate over a Numpy Array and/or Parquet file\n",
    "4. Interpret output of LDA"
   ]
  },
  {
   "cell_type": "code",
   "execution_count": null,
   "id": "1f43a233-cd50-4419-a291-c9b215cf01d5",
   "metadata": {},
   "outputs": [],
   "source": []
  }
 ],
 "metadata": {
  "kernelspec": {
   "display_name": "dask-nlp",
   "language": "python",
   "name": "dask-nlp"
  },
  "language_info": {
   "codemirror_mode": {
    "name": "ipython",
    "version": 3
   },
   "file_extension": ".py",
   "mimetype": "text/x-python",
   "name": "python",
   "nbconvert_exporter": "python",
   "pygments_lexer": "ipython3",
   "version": "3.9.10"
  }
 },
 "nbformat": 4,
 "nbformat_minor": 5
}
