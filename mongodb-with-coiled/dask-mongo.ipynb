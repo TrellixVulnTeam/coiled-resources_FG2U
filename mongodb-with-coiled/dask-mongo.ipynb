{
 "cells": [
  {
   "cell_type": "markdown",
   "id": "da19db16-04cf-45be-8f4d-4755edbb844d",
   "metadata": {},
   "source": [
    "# Process Large NLP Documents in Parallel with dask-mongo\n",
    "MongoDB is a popular database for storing semistructured data like JSON documents for ease of development and scaling. To manipulate this semistructured data, many data analysts will switch over to a programming language like Python to perform exploratory data analysis and/or build machine learning models. A common pain point in this workflow is that transferring data from a database to a Python session can cause significant overhead.\n",
    "\n",
    "To remedy this problem, Coiled and MongoDB have partnered to develop dask-mongo: a fast and light Python connector that lets you pull in data from MongoDB in parallel. Dask-mongo empowers data analysts to read from and write to MongoDB collections faster using MongoDB Atlas cloud-hosted and locally hosted installations.\n",
    "\n",
    "This tutorial will walk you through using the dask-mongo connector to run a NLP workflow that preprocesses JSON data and trains an XGBoost classifier machine learning model. \n",
    "\n",
    "Let’s jump in."
   ]
  },
  {
   "cell_type": "markdown",
   "id": "52df7037-8c0a-4ef4-8ace-fa2693df4089",
   "metadata": {},
   "source": [
    "## Workflow\n",
    "This notebook walks through a Natural Language Processing workflow to illustrate how we can use Coiled and MongoDB for large-scale NLP analyses.\n",
    "\n",
    "Our workflow will look like this:\n",
    "1. Load in the AirBnb sample dataset from MongoDB\n",
    "2. Flatten documents into tabular DataFrame\n",
    "2. Perform Tokenization using NLTK\n",
    "3. Perform Lemmatization using SpaCy\n",
    "4. Create vectors for ML using Dask-ML\n",
    "5. Train an XGBoost Classifier"
   ]
  },
  {
   "cell_type": "markdown",
   "id": "7c566c32-d52e-4a5c-8930-fddc5f2839a6",
   "metadata": {},
   "source": [
    "## 1. Launch Cloud Computing Resources with Coiled\n",
    "The dask-mongo connector speeds up workflows by reading and writing from/to MongoDB in parallel. To test this, let's spin up a Coiled cluster with 10 workers on which we'll run our parallel computations. Coiled clusters are on-demand computational resources hosted in the cloud. Get started with Coiled [here](https://docs.coiled.io/user_guide/getting_started.html).\n",
    "\n",
    "We'll create and specify the software environment (Docker image) that will be loaded onto each worker; this will ensure we have all the dependencies we need to run our computations in the cloud. We'll also give the Coiled cluster a name so we can connect to it from multiple Python sessions simultaneously.\n"
   ]
  },
  {
   "cell_type": "code",
   "execution_count": 1,
   "id": "da1f31c1-703c-4af2-8523-09501e08a0ca",
   "metadata": {},
   "outputs": [],
   "source": [
    "import coiled"
   ]
  },
  {
   "cell_type": "code",
   "execution_count": 2,
   "id": "fa1c3b19-feff-4f92-8752-079e277949a7",
   "metadata": {},
   "outputs": [],
   "source": [
    "# coiled.create_software_environment(\n",
    "#     account=\"coiled-examples\",\n",
    "#     name=\"dask-mongo\",\n",
    "#     conda=\"/Users/rpelgrim/Documents/git/coiled-resources/mongodb-with-coiled/environment.yml\",\n",
    "# )"
   ]
  },
  {
   "cell_type": "code",
   "execution_count": 3,
   "id": "a8d7ae1e-daf1-4a4e-95ab-0a07d468f640",
   "metadata": {},
   "outputs": [
    {
     "data": {
      "application/vnd.jupyter.widget-view+json": {
       "model_id": "a081cb8a3630469089a3859e8a241356",
       "version_major": 2,
       "version_minor": 0
      },
      "text/plain": [
       "Output()"
      ]
     },
     "metadata": {},
     "output_type": "display_data"
    },
    {
     "data": {
      "text/html": [
       "<pre style=\"white-space:pre;overflow-x:auto;line-height:normal;font-family:Menlo,'DejaVu Sans Mono',consolas,'Courier New',monospace\"></pre>\n"
      ],
      "text/plain": []
     },
     "metadata": {},
     "output_type": "display_data"
    }
   ],
   "source": [
    "cluster = coiled.Cluster(\n",
    "    name=\"dask-nlp\",\n",
    "    software=\"coiled-examples/dask-mongo\",\n",
    "    n_workers=10,\n",
    "    shutdown_on_close=False,\n",
    "    scheduler_options={'idle_timeout':'2 hours'}\n",
    ")"
   ]
  },
  {
   "cell_type": "markdown",
   "id": "790931ce-276f-42ad-b42c-67dbd151aa34",
   "metadata": {},
   "source": [
    "Now let's connect our local Python client to the Coiled cluster."
   ]
  },
  {
   "cell_type": "code",
   "execution_count": 4,
   "id": "cef41594-b06a-4440-93f8-da727b294181",
   "metadata": {},
   "outputs": [],
   "source": [
    "from dask.distributed import Client\n",
    "client = Client(cluster)"
   ]
  },
  {
   "cell_type": "markdown",
   "id": "6c39f6e3-32f6-4235-961b-dc544ffebc8e",
   "metadata": {},
   "source": [
    "## 2. Read Data in Parallel from MongoDB\n",
    "Now our cluster is up, we're all set to read some data from MongoDB. We'll be working with the sample AirBnB dataset that MongoDB provides when you sign up for a free Atlas account."
   ]
  },
  {
   "cell_type": "code",
   "execution_count": 5,
   "id": "4f2669ed-1fc2-42fa-87dd-2f191f804d32",
   "metadata": {},
   "outputs": [
    {
     "name": "stdin",
     "output_type": "stream",
     "text": [
      " ···········\n"
     ]
    }
   ],
   "source": [
    "import getpass\n",
    "pw = getpass.getpass()"
   ]
  },
  {
   "cell_type": "code",
   "execution_count": 6,
   "id": "7fff2141-43d8-4aa5-8aad-169cbc55d301",
   "metadata": {},
   "outputs": [],
   "source": [
    "import urllib\n",
    "\n",
    "# Replace the username, password, and cluster address with your own connection details\n",
    "host_uri = \"mongodb+srv://richard:\" + urllib.parse.quote(pw) + \"@cluster0.ffttf.mongodb.net/myFirstDatabase?retryWrites=true&w=majority\""
   ]
  },
  {
   "cell_type": "markdown",
   "id": "57eabecb-44bf-410e-9952-f664992549d6",
   "metadata": {},
   "source": [
    "Now let's import the `read_mongo` function from `dask_mongo` and use it to read in the `listingsAndReviews` collection from the `sample_airbnb` database. We'll tell Dask to read the data in chunks of 500 rows per partition."
   ]
  },
  {
   "cell_type": "code",
   "execution_count": 7,
   "id": "eaa90416-45bd-4965-8770-f3219e7882c2",
   "metadata": {},
   "outputs": [],
   "source": [
    "from dask_mongo import read_mongo\n",
    "\n",
    "bag = read_mongo(\n",
    "    connection_kwargs={\"host\": host_uri},\n",
    "    database=\"sample_airbnb\",\n",
    "    collection=\"listingsAndReviews\",\n",
    "    chunksize=500,\n",
    ")"
   ]
  },
  {
   "cell_type": "code",
   "execution_count": 8,
   "id": "d321e022-f68b-4842-b28b-ef930e7593c5",
   "metadata": {},
   "outputs": [
    {
     "data": {
      "text/plain": [
       "dask.bag<read_mongo, npartitions=12>"
      ]
     },
     "execution_count": 8,
     "metadata": {},
     "output_type": "execute_result"
    }
   ],
   "source": [
    "# inspect number of partitions\n",
    "bag"
   ]
  },
  {
   "cell_type": "markdown",
   "id": "7d5cbd1c-5575-46d1-8a38-1332143d7562",
   "metadata": {},
   "source": [
    "We’ve read the data into a Dask Bag, which is the Dask object class best suited to semi-structured JSON-like data. You can think of it as a Pythonic implementation of the PySpark RDD. The documents in a Dask Bag are unordered. \n",
    "\n",
    "We can then pull 1 record from the Dask Bag using the .take() method:"
   ]
  },
  {
   "cell_type": "code",
   "execution_count": 9,
   "id": "59fed42a-b8d0-4a2e-8c38-88231d8a56fa",
   "metadata": {},
   "outputs": [
    {
     "data": {
      "text/plain": [
       "({'_id': '10006546',\n",
       "  'listing_url': 'https://www.airbnb.com/rooms/10006546',\n",
       "  'name': 'Ribeira Charming Duplex',\n",
       "  'summary': 'Fantastic duplex apartment with three bedrooms, located in the historic area of Porto, Ribeira (Cube) - UNESCO World Heritage Site. Centenary building fully rehabilitated, without losing their original character.',\n",
       "  'space': 'Privileged views of the Douro River and Ribeira square, our apartment offers the perfect conditions to discover the history and the charm of Porto. Apartment comfortable, charming, romantic and cozy in the heart of Ribeira. Within walking distance of all the most emblematic places of the city of Porto. The apartment is fully equipped to host 8 people, with cooker, oven, washing machine, dishwasher, microwave, coffee machine (Nespresso) and kettle. The apartment is located in a very typical area of the city that allows to cross with the most picturesque population of the city, welcoming, genuine and happy people that fills the streets with his outspoken speech and contagious with your sincere generosity, wrapped in a only parochial spirit.',\n",
       "  'description': 'Fantastic duplex apartment with three bedrooms, located in the historic area of Porto, Ribeira (Cube) - UNESCO World Heritage Site. Centenary building fully rehabilitated, without losing their original character. Privileged views of the Douro River and Ribeira square, our apartment offers the perfect conditions to discover the history and the charm of Porto. Apartment comfortable, charming, romantic and cozy in the heart of Ribeira. Within walking distance of all the most emblematic places of the city of Porto. The apartment is fully equipped to host 8 people, with cooker, oven, washing machine, dishwasher, microwave, coffee machine (Nespresso) and kettle. The apartment is located in a very typical area of the city that allows to cross with the most picturesque population of the city, welcoming, genuine and happy people that fills the streets with his outspoken speech and contagious with your sincere generosity, wrapped in a only parochial spirit. We are always available to help guests',\n",
       "  'neighborhood_overview': \"In the neighborhood of the river, you can find several restaurants as varied flavors, but without forgetting the so traditional northern food. You can also find several bars and pubs to unwind after a day's visit to the magnificent Port. To enjoy the Douro River can board the boats that daily make the ride of six bridges. You can also embark towards Régua, Barca d'Alva, Pinhão, etc and enjoy the Douro Wine Region, World Heritage of Humanity. The Infante's house is a few meters and no doubt it deserves a visit. They abound grocery stores, bakeries, etc. to make your meals. Souvenir shop, wine cellars, etc. to bring some souvenirs.\",\n",
       "  'notes': 'Lose yourself in the narrow streets and staircases zone, have lunch in pubs and typical restaurants, and find the renovated cafes and shops in town. If you like exercise, rent a bicycle in the area and ride along the river to the sea, where it will enter beautiful beaches and terraces for everyone. The area is safe, find the bus stops 1min and metro line 5min. The bustling nightlife is a 10 min walk, where the streets are filled with people and entertainment for all. But Porto is much more than the historical center, here is modern museums, concert halls, clean and cared for beaches and surf all year round. Walk through the Ponte D. Luis and visit the different Caves of Port wine, where you will enjoy the famous port wine. Porto is a spoken city everywhere in the world as the best to be visited and savored by all ... natural beauty, culture, tradition, river, sea, beach, single people, typical food, and we are among those who best receive tourists, confirm! Come visit us and feel at ho',\n",
       "  'transit': 'Transport: • Metro station and S. Bento railway 5min; • Bus stop a 50 meters; • Lift Guindais (Funicular) 50 meters; • Tuc Tuc-to get around the city; • Buses tourist; • Cycling through the marginal drive; • Cable car in Gaia, overlooking the Port (just cross the bridge).',\n",
       "  'access': 'We are always available to help guests. The house is fully available to guests. We are always ready to assist guests. when possible we pick the guests at the airport.  This service transfer have a cost per person. We will also have service \"meal at home\" with a diverse menu and the taste of each. Enjoy the moment!',\n",
       "  'interaction': 'Cot - 10 € / night Dog - € 7,5 / night',\n",
       "  'house_rules': 'Make the house your home...',\n",
       "  'property_type': 'House',\n",
       "  'room_type': 'Entire home/apt',\n",
       "  'bed_type': 'Real Bed',\n",
       "  'minimum_nights': '2',\n",
       "  'maximum_nights': '30',\n",
       "  'cancellation_policy': 'moderate',\n",
       "  'last_scraped': datetime.datetime(2019, 2, 16, 5, 0),\n",
       "  'calendar_last_scraped': datetime.datetime(2019, 2, 16, 5, 0),\n",
       "  'first_review': datetime.datetime(2016, 1, 3, 5, 0),\n",
       "  'last_review': datetime.datetime(2019, 1, 20, 5, 0),\n",
       "  'accommodates': 8,\n",
       "  'bedrooms': 3,\n",
       "  'beds': 5,\n",
       "  'number_of_reviews': 51,\n",
       "  'bathrooms': Decimal128('1.0'),\n",
       "  'amenities': ['TV',\n",
       "   'Cable TV',\n",
       "   'Wifi',\n",
       "   'Kitchen',\n",
       "   'Paid parking off premises',\n",
       "   'Smoking allowed',\n",
       "   'Pets allowed',\n",
       "   'Buzzer/wireless intercom',\n",
       "   'Heating',\n",
       "   'Family/kid friendly',\n",
       "   'Washer',\n",
       "   'First aid kit',\n",
       "   'Fire extinguisher',\n",
       "   'Essentials',\n",
       "   'Hangers',\n",
       "   'Hair dryer',\n",
       "   'Iron',\n",
       "   'Pack ’n Play/travel crib',\n",
       "   'Room-darkening shades',\n",
       "   'Hot water',\n",
       "   'Bed linens',\n",
       "   'Extra pillows and blankets',\n",
       "   'Microwave',\n",
       "   'Coffee maker',\n",
       "   'Refrigerator',\n",
       "   'Dishwasher',\n",
       "   'Dishes and silverware',\n",
       "   'Cooking basics',\n",
       "   'Oven',\n",
       "   'Stove',\n",
       "   'Cleaning before checkout',\n",
       "   'Waterfront'],\n",
       "  'price': Decimal128('80.00'),\n",
       "  'security_deposit': Decimal128('200.00'),\n",
       "  'cleaning_fee': Decimal128('35.00'),\n",
       "  'extra_people': Decimal128('15.00'),\n",
       "  'guests_included': Decimal128('6'),\n",
       "  'images': {'thumbnail_url': '',\n",
       "   'medium_url': '',\n",
       "   'picture_url': 'https://a0.muscache.com/im/pictures/e83e702f-ef49-40fb-8fa0-6512d7e26e9b.jpg?aki_policy=large',\n",
       "   'xl_picture_url': ''},\n",
       "  'host': {'host_id': '51399391',\n",
       "   'host_url': 'https://www.airbnb.com/users/show/51399391',\n",
       "   'host_name': 'Ana&Gonçalo',\n",
       "   'host_location': 'Porto, Porto District, Portugal',\n",
       "   'host_about': 'Gostamos de passear, de viajar, de conhecer pessoas e locais novos, gostamos de desporto e animais! Vivemos na cidade mais linda do mundo!!!',\n",
       "   'host_response_time': 'within an hour',\n",
       "   'host_thumbnail_url': 'https://a0.muscache.com/im/pictures/fab79f25-2e10-4f0f-9711-663cb69dc7d8.jpg?aki_policy=profile_small',\n",
       "   'host_picture_url': 'https://a0.muscache.com/im/pictures/fab79f25-2e10-4f0f-9711-663cb69dc7d8.jpg?aki_policy=profile_x_medium',\n",
       "   'host_neighbourhood': '',\n",
       "   'host_response_rate': 100,\n",
       "   'host_is_superhost': False,\n",
       "   'host_has_profile_pic': True,\n",
       "   'host_identity_verified': True,\n",
       "   'host_listings_count': 3,\n",
       "   'host_total_listings_count': 3,\n",
       "   'host_verifications': ['email',\n",
       "    'phone',\n",
       "    'reviews',\n",
       "    'jumio',\n",
       "    'offline_government_id',\n",
       "    'government_id']},\n",
       "  'address': {'street': 'Porto, Porto, Portugal',\n",
       "   'suburb': '',\n",
       "   'government_area': 'Cedofeita, Ildefonso, Sé, Miragaia, Nicolau, Vitória',\n",
       "   'market': 'Porto',\n",
       "   'country': 'Portugal',\n",
       "   'country_code': 'PT',\n",
       "   'location': {'type': 'Point',\n",
       "    'coordinates': [-8.61308, 41.1413],\n",
       "    'is_location_exact': False}},\n",
       "  'availability': {'availability_30': 28,\n",
       "   'availability_60': 47,\n",
       "   'availability_90': 74,\n",
       "   'availability_365': 239},\n",
       "  'review_scores': {'review_scores_accuracy': 9,\n",
       "   'review_scores_cleanliness': 9,\n",
       "   'review_scores_checkin': 10,\n",
       "   'review_scores_communication': 10,\n",
       "   'review_scores_location': 10,\n",
       "   'review_scores_value': 9,\n",
       "   'review_scores_rating': 89},\n",
       "  'reviews': [{'_id': '58663741',\n",
       "    'date': datetime.datetime(2016, 1, 3, 5, 0),\n",
       "    'listing_id': '10006546',\n",
       "    'reviewer_id': '51483096',\n",
       "    'reviewer_name': 'Cátia',\n",
       "    'comments': 'A casa da Ana e do Gonçalo foram o local escolhido para a passagem de ano com um grupo de amigos. Fomos super bem recebidos com uma grande simpatia e predisposição a ajudar com qualquer coisa que fosse necessário.\\r\\nA casa era ainda melhor do que parecia nas fotos, totalmente equipada, com mantas, aquecedor e tudo o que pudessemos precisar.\\r\\nA localização não podia ser melhor! Não há melhor do que acordar de manhã e ao virar da esquina estar a ribeira do Porto.'},\n",
       "   {'_id': '62413197',\n",
       "    'date': datetime.datetime(2016, 2, 14, 5, 0),\n",
       "    'listing_id': '10006546',\n",
       "    'reviewer_id': '40031996',\n",
       "    'reviewer_name': 'Théo',\n",
       "    'comments': \"We are french's students, we traveled some days in Porto, this space was good and we can cooking easly. It was rainning so we eard every time the water fall to the ground in the street when we sleeping. But It was cool and or was well received by Ana et Gonçalo\"},\n",
       "   {'_id': '68310569',\n",
       "    'date': datetime.datetime(2016, 4, 4, 4, 0),\n",
       "    'listing_id': '10006546',\n",
       "    'reviewer_id': '53859850',\n",
       "    'reviewer_name': 'Bart',\n",
       "    'comments': \"We had a spledid time in the old centre of Porto.\\r\\nThe appartment is very well situated next to the old Ribeira square. It's perfect to have such an appartment to your disposal, you feel home, and have a place to relax between the exploration of this very nice city.\\r\\nWe thank Ana & Gonçalo, and we hope the appartment is free when we go back next year. Porto is charming original.\"},\n",
       "   {'_id': '69693942',\n",
       "    'date': datetime.datetime(2016, 4, 12, 4, 0),\n",
       "    'listing_id': '10006546',\n",
       "    'reviewer_id': '3135623',\n",
       "    'reviewer_name': 'Alex',\n",
       "    'comments': \"Ana and Goncalo were very helpful and accommodating. When they were not available they put us in touch with their nephew who was equally as helpful. The flat was as described, neat and tidy. The weather was quite cold, but thankfully A&G left us with extra blankets and electric heaters to use. Location was great. Outside the flat there was a slight smell of the river/ sewage, but in all honesty it did not come into the flat, and once you go down the road it doesn't carry on. This may also have been down to the very wet weather we had while there. All in all, very happy and would definitely recommend.\"},\n",
       "   {'_id': '71451096',\n",
       "    'date': datetime.datetime(2016, 4, 25, 4, 0),\n",
       "    'listing_id': '10006546',\n",
       "    'reviewer_id': '13187858',\n",
       "    'reviewer_name': 'Dan',\n",
       "    'comments': \"The hosts were very accommodating and agreed to meet with my parents as they were arriving before us. Communicated very well and always responded in a very timely manner. You couldn't have asked for a better location of this apartment and the place was identical to the pictures in the in the listing.\"},\n",
       "   {'_id': '73191268',\n",
       "    'date': datetime.datetime(2016, 5, 7, 4, 0),\n",
       "    'listing_id': '10006546',\n",
       "    'reviewer_id': '61434690',\n",
       "    'reviewer_name': 'Anne',\n",
       "    'comments': \"THE PLACE TO BE, l'appartement est situé au milieu de la Ribeira , tout peut se faire à pieds c'est l'ideal,l'appartement est très bien agencé et équipé.\\r\\nNous avons passé un séjour très agréable dans ce duplex avec beaucoup de charme .\\r\\nAccueil très chaleureux de Ana et Gonçalo, ils ont pris du temps pour nous indiquer tout ce qu'il y avait à faire sur Porto et répondus  à toutes nos interrogations en terme de commodités.. Merci..\\r\\n\"},\n",
       "   {'_id': '77438107',\n",
       "    'date': datetime.datetime(2016, 5, 31, 4, 0),\n",
       "    'listing_id': '10006546',\n",
       "    'reviewer_id': '3673216',\n",
       "    'reviewer_name': 'Chris',\n",
       "    'comments': 'We had a great time in Porto. Ana’s & Goncalo’s apartment is located right in the heart of the Old Town and is great value for money. You really are at the centre of things and it’s the perfect place to get swept away in the hustle and bustle of Porto. Ana and Goncalo were great hosts.'},\n",
       "   {'_id': '89637734',\n",
       "    'date': datetime.datetime(2016, 7, 29, 4, 0),\n",
       "    'listing_id': '10006546',\n",
       "    'reviewer_id': '9172374',\n",
       "    'reviewer_name': 'Leslie',\n",
       "    'comments': \"Ana and Gonçalo were very welcoming and made a lot of information about Porto's sights available. It was very clean, very beautiful and the location was superb. It does have a lot of restaurants around it, so it could be a bit noisy for us at night but otherwise  great location. We would stay there again. \"},\n",
       "   {'_id': '96574146',\n",
       "    'date': datetime.datetime(2016, 8, 23, 4, 0),\n",
       "    'listing_id': '10006546',\n",
       "    'reviewer_id': '71985274',\n",
       "    'reviewer_name': 'Philippe',\n",
       "    'comments': \"Super appartement très bien placé, au cœur de l'animation de la Ribeira !\\r\\nNous avons passé un super séjour à Porto !\\r\\nToutes les informations données par Ana et les documents laissés nous ont bien aidé à organiser notre séjour.  Nous avons (presque) tout fait à pied ! Le parking Ribeira est proche et bien utile pour garer le véhicule.\\r\\nMerci !!!\\r\\nPhilippe\\r\\n\"},\n",
       "   {'_id': '108444999',\n",
       "    'date': datetime.datetime(2016, 10, 16, 4, 0),\n",
       "    'listing_id': '10006546',\n",
       "    'reviewer_id': '24960918',\n",
       "    'reviewer_name': 'Hanneke',\n",
       "    'comments': 'The appartment was great, it is really nice and cosy, and it is situated at a perfect location. Ana and Goncalo were very friendly, they were very helpfull during our stay. We had a great time during our stay in Porto!'},\n",
       "   {'_id': '111065376',\n",
       "    'date': datetime.datetime(2016, 10, 30, 4, 0),\n",
       "    'listing_id': '10006546',\n",
       "    'reviewer_id': '74079092',\n",
       "    'reviewer_name': 'Kati',\n",
       "    'comments': 'Kävimme majoittajan kanssa viestinvaihtoa ennen lomaa ja he antoivat mukavan vaikutelman. He olivatkin hyvin mukavia ihmisiä. He tulivat lentokentälle vastaan kahdella autolla mikä oli hyvin ystävällistä. He kertoivat myös kaupungista ja sen nähtävyyksistä. Asunnon sijainti oli täydellinen. Se oli myös erittäin romanttinen ja kaunis. Kokemus oli hyvin onnistunut.'},\n",
       "   {'_id': '111655209',\n",
       "    'date': datetime.datetime(2016, 11, 1, 4, 0),\n",
       "    'listing_id': '10006546',\n",
       "    'reviewer_id': '40413493',\n",
       "    'reviewer_name': 'Julia',\n",
       "    'comments': 'Hemos pasado unos días increíbles en Oporto. Llegamos más tarde de lo que habíamos pensado y Ana & Gonçalo nos esperaron pacientemente y nos facilitaron la llegada, además nos recibieron con un regalo de bienvenida!. Nos dieron todo tipo de indicaciones y consejos más que de sobra para disfrutar de los días que estuvimos allí. La ubicación de la casa es inmejorable!! la única pega fue que el soporte de la ducha estaba roto pero como eran pocos días no quisimos molestar a Ana & Gonçalo y no se lo comentamos. '},\n",
       "   {'_id': '132811625',\n",
       "    'date': datetime.datetime(2017, 2, 19, 5, 0),\n",
       "    'listing_id': '10006546',\n",
       "    'reviewer_id': '8986056',\n",
       "    'reviewer_name': 'Joshua',\n",
       "    'comments': 'Great location, comfortable place, responsive and friendly host! Highly recommended!'},\n",
       "   {'_id': '144627907',\n",
       "    'date': datetime.datetime(2017, 4, 16, 4, 0),\n",
       "    'listing_id': '10006546',\n",
       "    'reviewer_id': '113254568',\n",
       "    'reviewer_name': 'Tracey',\n",
       "    'comments': 'This house is in the heart of Porto, set back enough to be away from the hustle and bustle but only a few steps up from the river, bars and restaurants. A great place to stay.\\nThe house was clean and functional. Ana and Goncalo are perfect hosts with lots of information on places to visit and   eat.'},\n",
       "   {'_id': '149009243',\n",
       "    'date': datetime.datetime(2017, 5, 2, 4, 0),\n",
       "    'listing_id': '10006546',\n",
       "    'reviewer_id': '11263097',\n",
       "    'reviewer_name': 'Willem',\n",
       "    'comments': 'The location of the house is wonderful! You are in the heart of the old city and the Douro ist just a few meters away. Perfect for a first visit to Porto!\\nVery cosy and warm house with everything you need.\\nGonçalo gives a lot of good tips that will help you to have a perfect stay. Communication is very easy with him.'},\n",
       "   {'_id': '150518693',\n",
       "    'date': datetime.datetime(2017, 5, 8, 4, 0),\n",
       "    'listing_id': '10006546',\n",
       "    'reviewer_id': '108507776',\n",
       "    'reviewer_name': 'Fanny',\n",
       "    'comments': 'We spend a really good time in Porto, the flat is so well situated. The bridge is just next door, the view on the river is amazing, and plenty of restaurants and pubs, transport are just around.\\nGonzalo is very kind to wait for us, also lat, for the check in, thank you.\\n'},\n",
       "   {'_id': '155913947',\n",
       "    'date': datetime.datetime(2017, 5, 29, 4, 0),\n",
       "    'listing_id': '10006546',\n",
       "    'reviewer_id': '30254816',\n",
       "    'reviewer_name': 'Bridget',\n",
       "    'comments': 'Thanks for a great stay! 6 of us were in Porto for a long weekend and we had a blast. The apartment was perfect; location and size to accomodate us. The hosts were great, then even picked us up at the airport (for a fee but it was a great service). Thanks again! Bridget.'},\n",
       "   {'_id': '159692160',\n",
       "    'date': datetime.datetime(2017, 6, 11, 4, 0),\n",
       "    'listing_id': '10006546',\n",
       "    'reviewer_id': '124514204',\n",
       "    'reviewer_name': 'Oscar',\n",
       "    'comments': 'Superb location and very nice, big and overall pleasant apartment!'},\n",
       "   {'_id': '164881958',\n",
       "    'date': datetime.datetime(2017, 6, 29, 4, 0),\n",
       "    'listing_id': '10006546',\n",
       "    'reviewer_id': '105188418',\n",
       "    'reviewer_name': 'Steve',\n",
       "    'comments': 'The apartment provides basic facilities but is good value for money and very well positioned for easy access to restaurants and bars, the Ribeira district and the Port house in Gaia.'},\n",
       "   {'_id': '166990342',\n",
       "    'date': datetime.datetime(2017, 7, 5, 4, 0),\n",
       "    'listing_id': '10006546',\n",
       "    'reviewer_id': '52660694',\n",
       "    'reviewer_name': 'Tina',\n",
       "    'comments': \"Ana und Gonçalo sind sehr hilfsbereite liebe Leute, die  alles tun, damit man sich wohl fühlt. Wenn es etwas zu beanstanden gab, wird das sofort problemlos erledigt. Das Apartment ist charmant, die Möbel schon etwas mitgenommen, aber das passt insgesamt ins Bild von Porto und macht den Reiz aus. Die Lage ist super, genau am Duoro. Es gibt Strassenmusik bis in den späten Abend und auch morgens geht's früh los mit fröhlichen Lärm von der Flusspromenade. Nichts also für Leute, die es ruhig brauchen! Die Lage ist wirklich exklusiv und tröstet über den recht teuren Mietpreis. Im Umfeld gibt es typische Touri-Fallen, wo alles doppelt kostet, aber gleichzeitig findet man auch sehr nette kleine Bars, in der man chillig und günstig frühstücken oder generell lecker essen kann. Die Stadt ist klein genug, um sich schnell zurechtzufinden und groß genug, um immer wieder neues zu entdecken. Wir waren zu dritt (50, 25, 20 Jahre) und haben die Zeit wirklich genossen. \"},\n",
       "   {'_id': '180030365',\n",
       "    'date': datetime.datetime(2017, 8, 9, 4, 0),\n",
       "    'listing_id': '10006546',\n",
       "    'reviewer_id': '25469637',\n",
       "    'reviewer_name': 'Mathieu',\n",
       "    'comments': 'Very well located appartement ideal for a family of 5 who want to make the most of the city center.\\nIt may be a bit noisy at night but this is acceptable.\\nGlobally we recommend this place.'},\n",
       "   {'_id': '198679769',\n",
       "    'date': datetime.datetime(2017, 9, 30, 4, 0),\n",
       "    'listing_id': '10006546',\n",
       "    'reviewer_id': '21837853',\n",
       "    'reviewer_name': 'Ido',\n",
       "    'comments': 'Great location! The apartment is somewhat basic. We were family with 3 teenagers and had a good time. Also it’s a bit noisy until very late at night.'},\n",
       "   {'_id': '199885226',\n",
       "    'date': datetime.datetime(2017, 10, 3, 4, 0),\n",
       "    'listing_id': '10006546',\n",
       "    'reviewer_id': '56528632',\n",
       "    'reviewer_name': 'Amanda',\n",
       "    'comments': 'This apartment is in the perfect location for being in the middle of the action. There were tons of restaurants close to the apartment and it was a quick walk across the bridge to tour the Port wineries. Be forewarned; if you are looking for a very quiet location, this area may not be for you. However, if you are looking to step outside of your door and start enjoying what Porto has to offer, I recommend this location.'},\n",
       "   {'_id': '207942636',\n",
       "    'date': datetime.datetime(2017, 10, 30, 4, 0),\n",
       "    'listing_id': '10006546',\n",
       "    'reviewer_id': '102474818',\n",
       "    'reviewer_name': 'Geneviève',\n",
       "    'comments': 'Acceuil très très chaleureux de Gonçalo  et Ana lors de notre arrivée très tardive due à un changement d\"\\'horaire d\\'avion....appartement super bien situé dans Porto près du Douro, fidèle aux photos mises sur le site....Nous avons adoré ce quartier bien animé  .....Encore merci à Gonçalo et Ana. ....'},\n",
       "   {'_id': '209455775',\n",
       "    'date': datetime.datetime(2017, 11, 5, 4, 0),\n",
       "    'listing_id': '10006546',\n",
       "    'reviewer_id': '10371877',\n",
       "    'reviewer_name': 'Andrea',\n",
       "    'comments': 'Localização perfeita, muito aconchegante, Ana e Gonçalo são pessoas muito atenciosas e simpáticas!'},\n",
       "   {'_id': '223995518',\n",
       "    'date': datetime.datetime(2018, 1, 2, 5, 0),\n",
       "    'listing_id': '10006546',\n",
       "    'reviewer_id': '10184070',\n",
       "    'reviewer_name': 'Jennifer',\n",
       "    'comments': \"Perfect position to see everything that Porto has to offer. Ana and Gonçalo were great hosts quick to respond and welcoming. Couldn't recommend a better place to stay in Porto to be able to see the sights and be within walking distance to so many restaurants.\"},\n",
       "   {'_id': '225725834',\n",
       "    'date': datetime.datetime(2018, 1, 7, 5, 0),\n",
       "    'listing_id': '10006546',\n",
       "    'reviewer_id': '156411765',\n",
       "    'reviewer_name': 'Nathalie',\n",
       "    'comments': 'Great location!'},\n",
       "   {'_id': '230559180',\n",
       "    'date': datetime.datetime(2018, 1, 28, 5, 0),\n",
       "    'listing_id': '10006546',\n",
       "    'reviewer_id': '2524423',\n",
       "    'reviewer_name': 'Cayetana',\n",
       "    'comments': 'Probably Ana&Gonzalo´s place is great for summer but definitely not in winter. The house is NOT WARM and ready for a stay in cold and humit season. There is NO HEATING in any of the rooms and living room, only bed covers (not nordic duvet) and small heaters which you have to switch off during the night. Those were not enough during our stay in January even we had sunny days! Moreover we were 5 people in the house without NO HOT WATER enough for all of us. \\nThe pictures did not show the reality. Furniture was much older and WiFi signal is only available in the living room, not the rooms.\\nOn the other hand, location is great if you want to stay close to the river. Although think about that all restaurants, bars and main tourist attractions are close to Train Station and Clerigos Tower which means 15-20 min uphill walking distance from the house.'},\n",
       "   {'_id': '232271631',\n",
       "    'date': datetime.datetime(2018, 2, 4, 5, 0),\n",
       "    'listing_id': '10006546',\n",
       "    'reviewer_id': '167219338',\n",
       "    'reviewer_name': 'Mérex',\n",
       "    'comments': \"Appartement très cosy! Nous y avons été pour un court séjour à 7 et avons adoré. L'appartement est idéalement situé dans le quartier magnifique de la Ribeira. L'accueil a ete très chaleureux: Nous étions trompé d'adresse car le GPS avaient confondus les rues mais Ana a su nous retrouver pour nous amener à l'appartement.  L'appartement était très  propre et nous avons eu largement tout ce qu'il fallait en linge.\\nEncore un Grand merci à eux!\"},\n",
       "   {'_id': '234847900',\n",
       "    'date': datetime.datetime(2018, 2, 14, 5, 0),\n",
       "    'listing_id': '10006546',\n",
       "    'reviewer_id': '6735587',\n",
       "    'reviewer_name': 'Andrea',\n",
       "    'comments': 'ottima ospitalità, la posizione della casa è ottima, vicina ai mezzi di trasporto e alle principali attrazioni della città, torneremo sicuramente. Consigliato!!'},\n",
       "   {'_id': '235293831',\n",
       "    'date': datetime.datetime(2018, 2, 16, 5, 0),\n",
       "    'listing_id': '10006546',\n",
       "    'reviewer_id': '130170949',\n",
       "    'reviewer_name': 'Bogdan',\n",
       "    'comments': 'Nice apartment in Porto, we enjoy staying in it for a few days. The apartment is comfortable and has a very nice location. Thanks to Ana and Gonsalo for hospitality.'},\n",
       "   {'_id': '240252220',\n",
       "    'date': datetime.datetime(2018, 3, 4, 5, 0),\n",
       "    'listing_id': '10006546',\n",
       "    'reviewer_id': '153415353',\n",
       "    'reviewer_name': 'Alison',\n",
       "    'comments': 'Great location. Good value thanks for the stay'},\n",
       "   {'_id': '244738269',\n",
       "    'date': datetime.datetime(2018, 3, 19, 4, 0),\n",
       "    'listing_id': '10006546',\n",
       "    'reviewer_id': '59706237',\n",
       "    'reviewer_name': 'Marco',\n",
       "    'comments': 'Me and my friends (7 ppl tot) have booked Gonçalo and Ana’s apartment for our holidays and i think we cannot do a better choice like that.\\nThe apartment is situated near Oporto’s riverside, in Ribeira district, at 2 minutes walking to Sao Bento’s station, 10minutes to Lello’s library and clerics’s tower. In less than 10 minutes u’re in Vila Nova De Gaia where u can find the wineries of porto’s wine.\\nThe apartment is really spacious and comfortable, perfect for 7 italian people that want to have fun in Oporto.\\nSuggested!!!'},\n",
       "   {'_id': '246334180',\n",
       "    'date': datetime.datetime(2018, 3, 25, 4, 0),\n",
       "    'listing_id': '10006546',\n",
       "    'reviewer_id': '12047570',\n",
       "    'reviewer_name': 'Michel',\n",
       "    'comments': \"L'emplacement et vraiment au coeur de l'animation du vieux Porto. Au pied de l'appartement se trouvent de charmants café avec vue sur le Douro.\\nAna&Gonçalo ont été très attentionnés et à l'écoute de nos demandes\\nMichel\"},\n",
       "   {'_id': '259708770',\n",
       "    'date': datetime.datetime(2018, 5, 1, 4, 0),\n",
       "    'listing_id': '10006546',\n",
       "    'reviewer_id': '174003310',\n",
       "    'reviewer_name': 'Dariusz',\n",
       "    'comments': 'Great location right next to the Dom Luiz bridge and Douro river and plenty of restaurants. Enough room for about 6 people. Ana was very responsive to any concerns we had. Would stay again.'},\n",
       "   {'_id': '263239322',\n",
       "    'date': datetime.datetime(2018, 5, 11, 4, 0),\n",
       "    'listing_id': '10006546',\n",
       "    'reviewer_id': '31033799',\n",
       "    'reviewer_name': 'Margriet',\n",
       "    'comments': 'The house was supernice and located in the middle of the center. We really enjoyed our stay here!'},\n",
       "   {'_id': '264125733',\n",
       "    'date': datetime.datetime(2018, 5, 13, 4, 0),\n",
       "    'listing_id': '10006546',\n",
       "    'reviewer_id': '15554470',\n",
       "    'reviewer_name': 'Carlos',\n",
       "    'comments': 'Great Location. Ana & Gonzalo are very nice, flexible, and fast-responsive. Apartment is ok but only one toilet for 3 rooms + sofa-bed.'},\n",
       "   {'_id': '267283092',\n",
       "    'date': datetime.datetime(2018, 5, 21, 4, 0),\n",
       "    'listing_id': '10006546',\n",
       "    'reviewer_id': '39358900',\n",
       "    'reviewer_name': 'Gaspard',\n",
       "    'comments': \"Ana&Gonçalo's apartment was nice, comfy, clean and most of all really well located in the city center!!!\\nWe could easily move everywhere in Porto from there and it was perfect for discovering the city!\\nAlso, I'd like to mention that Gonçalo was nice and patient with us on the day of the arrival even if we were a bit late.\\nI strongly recommend this place!\"},\n",
       "   {'_id': '269853203',\n",
       "    'date': datetime.datetime(2018, 5, 28, 4, 0),\n",
       "    'listing_id': '10006546',\n",
       "    'reviewer_id': '42864948',\n",
       "    'reviewer_name': 'James',\n",
       "    'comments': 'Incredible location, beautiful house. Everything was very easy and we would highly recommend this accommodation. Excellent. '},\n",
       "   {'_id': '272277314',\n",
       "    'date': datetime.datetime(2018, 6, 3, 4, 0),\n",
       "    'listing_id': '10006546',\n",
       "    'reviewer_id': '45990306',\n",
       "    'reviewer_name': '紫仪',\n",
       "    'comments': 'good lication good experience'},\n",
       "   {'_id': '275044729',\n",
       "    'date': datetime.datetime(2018, 6, 10, 4, 0),\n",
       "    'listing_id': '10006546',\n",
       "    'reviewer_id': '176337667',\n",
       "    'reviewer_name': 'Sebastian',\n",
       "    'comments': 'We loved it'},\n",
       "   {'_id': '302971185',\n",
       "    'date': datetime.datetime(2018, 8, 6, 4, 0),\n",
       "    'listing_id': '10006546',\n",
       "    'reviewer_id': '52572680',\n",
       "    'reviewer_name': 'Robby',\n",
       "    'comments': 'Great location right on the river. Lots of tourists in the area. Easy to get to public transportation. Besides the hot weather, we had a good time. '},\n",
       "   {'_id': '320887590',\n",
       "    'date': datetime.datetime(2018, 9, 9, 4, 0),\n",
       "    'listing_id': '10006546',\n",
       "    'reviewer_id': '20965806',\n",
       "    'reviewer_name': 'Romain',\n",
       "    'comments': 'Merci à Ana & Gonçalo pour l’accueil !'},\n",
       "   {'_id': '325025167',\n",
       "    'date': datetime.datetime(2018, 9, 18, 4, 0),\n",
       "    'listing_id': '10006546',\n",
       "    'reviewer_id': '15097268',\n",
       "    'reviewer_name': 'Roula',\n",
       "    'comments': '-'},\n",
       "   {'_id': '331735682',\n",
       "    'date': datetime.datetime(2018, 10, 3, 4, 0),\n",
       "    'listing_id': '10006546',\n",
       "    'reviewer_id': '35313286',\n",
       "    'reviewer_name': 'Alexander',\n",
       "    'comments': 'Our stay in Ana and Gancalo’s apartment was lovely. The location was perfect and Gancalo graciously picked us up from the airport. It does get a little loud in the morning but that’s only because the apartment is perfectly located right on the river front. You do have to hold the shower wand when showering but the pressure is good. Overall I would definitely stay in the apartment again!'},\n",
       "   {'_id': '334789252',\n",
       "    'date': datetime.datetime(2018, 10, 10, 4, 0),\n",
       "    'listing_id': '10006546',\n",
       "    'reviewer_id': '206502919',\n",
       "    'reviewer_name': 'Mark',\n",
       "    'comments': 'It was a wonderful experience, the location is fantastic and the accommodations were outstanding.'},\n",
       "   {'_id': '347372623',\n",
       "    'date': datetime.datetime(2018, 11, 11, 5, 0),\n",
       "    'listing_id': '10006546',\n",
       "    'reviewer_id': '17503135',\n",
       "    'reviewer_name': 'Camille',\n",
       "    'comments': 'Ana’s place is very well located, at 2 min walking distance to the Douro, so that everything is close by! Ana communicated well regarding check in info, and was even flexible regarding check out timing. The description / pictures are relevant; only the bathroom  is not as recent. We appreciated the extra blanket as heaters have to be switched off once u leave the flat, but once they are switched on we had no problem afterwards regarding the temperature of the flat.'},\n",
       "   {'_id': '354708379',\n",
       "    'date': datetime.datetime(2018, 12, 2, 5, 0),\n",
       "    'listing_id': '10006546',\n",
       "    'reviewer_id': '34178931',\n",
       "    'reviewer_name': 'Pawel',\n",
       "    'comments': 'If you want to stay in the heart of Porto for reasonable price this is a good alternative. However, I’d selected again it for group of more than 6 people.'},\n",
       "   {'_id': '362865132',\n",
       "    'date': datetime.datetime(2018, 12, 27, 5, 0),\n",
       "    'listing_id': '10006546',\n",
       "    'reviewer_id': '208880077',\n",
       "    'reviewer_name': 'Thomas',\n",
       "    'comments': 'Very helpful hosts. Cooked traditional Portuguese Christmas dinner for 6. Location is perfect. Right off square that is on river right by famous bridge engineered by protege of Gustav Eifel. Looks like same type structure.'},\n",
       "   {'_id': '364728730',\n",
       "    'date': datetime.datetime(2018, 12, 31, 5, 0),\n",
       "    'listing_id': '10006546',\n",
       "    'reviewer_id': '91827533',\n",
       "    'reviewer_name': 'Mr',\n",
       "    'comments': \"Ana & Goncalo were great on communication, responding instantly to questions.\\n5 of us stayed in their home for 3 nights and found the location to be great and central to all the amazing sights Porto has to offer. \\nWe found the home to be difficult to heat on our first night, the rooms have heaters but took time to get the room to a comfortable temperature level. But in warmer months Im sure this isn't an issue.\\nThe beds are a little hard with one slightly out of shape,  and the shower is fairly basic (hand held) but does the job. Because of the central location some noise can be expected early in the mornings. \\nOverall the apartment suited our needs for our short stay and the price is more than reasonable for what we got.\"},\n",
       "   {'_id': '403055315',\n",
       "    'date': datetime.datetime(2019, 1, 20, 5, 0),\n",
       "    'listing_id': '10006546',\n",
       "    'reviewer_id': '15138940',\n",
       "    'reviewer_name': 'Milo',\n",
       "    'comments': \"The house was extremely well located and Ana was able to give us some really great tips on locations to have lunch and eat out. The house was perfectly clean and the easily able to accommodate 6 people despite only having one bathroom. The beds and living room were comfortable. \\n\\nHowever, we always felt somewhat on edge in the house due to the number of signs posted around the kitchen, bedrooms and bathroom about being charged 15€ for all sorts of extras like not washing up or using extra towels and bed linen. Not that this would be particularly unreasonable but it made us feel like we were walking on egg shells in and around the house. \\n\\nThe hosts were aware that we were a group of six yet one of the beds was not prepared and we ran out of toilet paper well before we were due to check out despite only being there 2 nights. It really wasn't the end of the world but the shower head does not have a wall fitting meaning you had to hold it yourself if you wanted to stand underneath it.\"}]},)"
      ]
     },
     "execution_count": 9,
     "metadata": {},
     "output_type": "execute_result"
    }
   ],
   "source": [
    "bag.take(1)"
   ]
  },
  {
   "cell_type": "markdown",
   "id": "841adf6a-7a73-4282-849a-e72fee7832d8",
   "metadata": {},
   "source": [
    "This outputs a very large amount of data, including the listing itself as well as all the available reviews. The data is unwieldy and not in a format we can input to a regular machine learning model. \n",
    "\n",
    "### Subset Data \n",
    "Let’s use the text in the Description field to predict the Review Rating and limit ourselves to listings of type “Apartment” only.\n",
    "\n",
    "To do this, we’ll have to flatten the semi-structured JSON into a tabular form. We’ll use the processing function defined below to extract only the relevant information from all records. We'll then filter out only the Apartment listings, flatten the data structure and turn it into a Dask Dataframe."
   ]
  },
  {
   "cell_type": "code",
   "execution_count": 10,
   "id": "b5002201-31ba-4e64-9961-4f37359e560a",
   "metadata": {},
   "outputs": [],
   "source": [
    "def process(record):\n",
    "    try:\n",
    "        yield {\n",
    "            \"description\": record[\"description\"],\n",
    "            \"review_rating\": int(str(record[\"review_scores\"][\"review_scores_rating\"])),\n",
    "            #\"accomodates\": record[\"accommodates\"],\n",
    "            #\"bedrooms\": record[\"bedrooms\"],\n",
    "            #\"price\": float(str(record[\"price\"])),\n",
    "            #\"country\": record[\"address\"][\"country\"],\n",
    "        }\n",
    "    except KeyError:\n",
    "        pass"
   ]
  },
  {
   "cell_type": "code",
   "execution_count": 11,
   "id": "31fff276-d1d8-468d-b893-4835ce26ae09",
   "metadata": {},
   "outputs": [],
   "source": [
    "# Filter only apartments\n",
    "b_flattened = (\n",
    "    bag.filter(lambda record: record[\"property_type\"] == \"Apartment\")\n",
    "    .map(process)\n",
    "    .flatten()\n",
    ")"
   ]
  },
  {
   "cell_type": "code",
   "execution_count": 12,
   "id": "bbd3b6d6-f22e-40de-af79-9dcc2b95d9dc",
   "metadata": {},
   "outputs": [
    {
     "data": {
      "text/plain": [
       "({'description': 'Here exists a very cozy room for rent in a shared 4-bedroom apartment. It is located one block off of the JMZ at Myrtle Broadway.  The neighborhood is diverse and appeals to a variety of people.',\n",
       "  'review_rating': 100},\n",
       " {'description': \"Murphy bed, optional second bedroom available. Wifi available, Hulu, Netflix, TV Eat-in kitchen. Bathroom with great shower/bath.  Washer/dryer in basement. New York City! Great neighborhood - many terrific restaurants, bakeries, bagelries. Within easy walking distance are restaurants with the cuisines from India, Thailand, Japan, China, Mexico, South America and Europe.  As well as the many small independent stores that line Broadway, there chain stores such as Urban Outfitters (clothing), Whole Foods (groceries), Sephora (cosmetics), Michaels (crafts), and Modell's (sporting goods). Equidistant to Central Park and Riverside Park which have walking/running/biking trails as well as tennis and racquet ball courts. 10-15 blocks from Columbia University between Broadway and Amsterdam. The International Hostel across the street is an airport shuttle bus and double-decker tour bus stop.  The Hostel also has services available to the neighborhood such as lectures, brochures, etc. Convenientl\",\n",
       "  'review_rating': 94})"
      ]
     },
     "execution_count": 12,
     "metadata": {},
     "output_type": "execute_result"
    }
   ],
   "source": [
    "b_flattened.take(2)"
   ]
  },
  {
   "cell_type": "markdown",
   "id": "41a98102-1e04-42b0-9cef-e0310634629a",
   "metadata": {},
   "source": [
    "## 3. Tokenization with NLTK\n",
    "\n",
    "The data is now in tabular format. In order to input it into a machine learning model, we will have to preprocess the text. This will include tokenization, stop word removal, lemmatization, and vectorization.\n",
    "\n",
    "Let's tokenize the Description text and remove stop words using the NLTK library."
   ]
  },
  {
   "cell_type": "code",
   "execution_count": 13,
   "id": "ca7492b7-bf82-4111-b12a-5b8b101afd63",
   "metadata": {},
   "outputs": [],
   "source": [
    "from nltk.corpus import stopwords \n",
    "from nltk.tokenize import RegexpTokenizer\n",
    "from functools import partial"
   ]
  },
  {
   "cell_type": "code",
   "execution_count": 14,
   "id": "54347e2e-6b91-440d-9e87-28c6a4c26a32",
   "metadata": {},
   "outputs": [],
   "source": [
    "# define tokenizer\n",
    "tokenizer = RegexpTokenizer(r'\\w+')"
   ]
  },
  {
   "cell_type": "code",
   "execution_count": 15,
   "id": "090b7238-6ddc-45ba-bf1a-7eb9fb0ba96b",
   "metadata": {},
   "outputs": [],
   "source": [
    "# define set of stopwords\n",
    "stopword_set = set(stopwords.words('english'))"
   ]
  },
  {
   "cell_type": "markdown",
   "id": "e2ba0422-6d56-48fc-b0ac-a8721aefee83",
   "metadata": {},
   "source": [
    "Let's cast our Dask Bag to a Dask DataFrame for easier manipulation:"
   ]
  },
  {
   "cell_type": "code",
   "execution_count": 16,
   "id": "6d717e86-aa92-4183-b464-a5666c9e4ee8",
   "metadata": {},
   "outputs": [
    {
     "data": {
      "text/html": [
       "<div>\n",
       "<style scoped>\n",
       "    .dataframe tbody tr th:only-of-type {\n",
       "        vertical-align: middle;\n",
       "    }\n",
       "\n",
       "    .dataframe tbody tr th {\n",
       "        vertical-align: top;\n",
       "    }\n",
       "\n",
       "    .dataframe thead th {\n",
       "        text-align: right;\n",
       "    }\n",
       "</style>\n",
       "<table border=\"1\" class=\"dataframe\">\n",
       "  <thead>\n",
       "    <tr style=\"text-align: right;\">\n",
       "      <th></th>\n",
       "      <th>description</th>\n",
       "      <th>review_rating</th>\n",
       "    </tr>\n",
       "  </thead>\n",
       "  <tbody>\n",
       "    <tr>\n",
       "      <th>0</th>\n",
       "      <td>Here exists a very cozy room for rent in a sha...</td>\n",
       "      <td>100</td>\n",
       "    </tr>\n",
       "    <tr>\n",
       "      <th>1</th>\n",
       "      <td>Murphy bed, optional second bedroom available....</td>\n",
       "      <td>94</td>\n",
       "    </tr>\n",
       "  </tbody>\n",
       "</table>\n",
       "</div>"
      ],
      "text/plain": [
       "                                         description  review_rating\n",
       "0  Here exists a very cozy room for rent in a sha...            100\n",
       "1  Murphy bed, optional second bedroom available....             94"
      ]
     },
     "execution_count": 16,
     "metadata": {},
     "output_type": "execute_result"
    }
   ],
   "source": [
    "ddf = b_flattened.to_dataframe()\n",
    "ddf.head(2)"
   ]
  },
  {
   "cell_type": "markdown",
   "id": "41a3ae57-6fe4-4b20-ac01-f92c8acfb4c1",
   "metadata": {},
   "source": [
    "And then convert all the description text to lowercase:"
   ]
  },
  {
   "cell_type": "code",
   "execution_count": 17,
   "id": "6572a460-b3e3-4c44-9e71-2e4573c6fe2c",
   "metadata": {},
   "outputs": [
    {
     "data": {
      "text/html": [
       "<div>\n",
       "<style scoped>\n",
       "    .dataframe tbody tr th:only-of-type {\n",
       "        vertical-align: middle;\n",
       "    }\n",
       "\n",
       "    .dataframe tbody tr th {\n",
       "        vertical-align: top;\n",
       "    }\n",
       "\n",
       "    .dataframe thead th {\n",
       "        text-align: right;\n",
       "    }\n",
       "</style>\n",
       "<table border=\"1\" class=\"dataframe\">\n",
       "  <thead>\n",
       "    <tr style=\"text-align: right;\">\n",
       "      <th></th>\n",
       "      <th>description</th>\n",
       "      <th>review_rating</th>\n",
       "    </tr>\n",
       "  </thead>\n",
       "  <tbody>\n",
       "    <tr>\n",
       "      <th>0</th>\n",
       "      <td>here exists a very cozy room for rent in a sha...</td>\n",
       "      <td>100</td>\n",
       "    </tr>\n",
       "    <tr>\n",
       "      <th>1</th>\n",
       "      <td>murphy bed, optional second bedroom available....</td>\n",
       "      <td>94</td>\n",
       "    </tr>\n",
       "  </tbody>\n",
       "</table>\n",
       "</div>"
      ],
      "text/plain": [
       "                                         description  review_rating\n",
       "0  here exists a very cozy room for rent in a sha...            100\n",
       "1  murphy bed, optional second bedroom available....             94"
      ]
     },
     "execution_count": 17,
     "metadata": {},
     "output_type": "execute_result"
    }
   ],
   "source": [
    "ddf['description'] = ddf['description'].str.lower()\n",
    "ddf.head(2)"
   ]
  },
  {
   "cell_type": "markdown",
   "id": "21ee7f3f-430a-48d7-b18d-8e6cfd5b21dc",
   "metadata": {},
   "source": [
    "Now let's tokenize the Description texts using the NLTK tokenizer we just created.\n",
    "\n",
    "We'll be using the `map_partitions` method which maps a function over all the partitions in our Dask DataFrame. Each partition in a Dask DataFrame is a regular pandas DataFrame. If you need a refresher on the basic Dask DataFrame architecture, we recommend reading [this blog](https://coiled.io/blog/what-is-dask/)."
   ]
  },
  {
   "cell_type": "code",
   "execution_count": 18,
   "id": "ceb3f5b5-c41a-4d67-8c9a-352b9321ef42",
   "metadata": {},
   "outputs": [
    {
     "data": {
      "text/html": [
       "<div>\n",
       "<style scoped>\n",
       "    .dataframe tbody tr th:only-of-type {\n",
       "        vertical-align: middle;\n",
       "    }\n",
       "\n",
       "    .dataframe tbody tr th {\n",
       "        vertical-align: top;\n",
       "    }\n",
       "\n",
       "    .dataframe thead th {\n",
       "        text-align: right;\n",
       "    }\n",
       "</style>\n",
       "<table border=\"1\" class=\"dataframe\">\n",
       "  <thead>\n",
       "    <tr style=\"text-align: right;\">\n",
       "      <th></th>\n",
       "      <th>description</th>\n",
       "      <th>review_rating</th>\n",
       "    </tr>\n",
       "  </thead>\n",
       "  <tbody>\n",
       "    <tr>\n",
       "      <th>0</th>\n",
       "      <td>[here, exists, a, very, cozy, room, for, rent,...</td>\n",
       "      <td>100</td>\n",
       "    </tr>\n",
       "    <tr>\n",
       "      <th>1</th>\n",
       "      <td>[murphy, bed, optional, second, bedroom, avail...</td>\n",
       "      <td>94</td>\n",
       "    </tr>\n",
       "    <tr>\n",
       "      <th>2</th>\n",
       "      <td>[the, apartment, has, a, living, room, toilet,...</td>\n",
       "      <td>98</td>\n",
       "    </tr>\n",
       "    <tr>\n",
       "      <th>3</th>\n",
       "      <td>[loft, suite, deluxe, henry, norman, hotel, lo...</td>\n",
       "      <td>88</td>\n",
       "    </tr>\n",
       "    <tr>\n",
       "      <th>4</th>\n",
       "      <td>[clean, fully, furnish, spacious, 1, bedroom, ...</td>\n",
       "      <td>100</td>\n",
       "    </tr>\n",
       "  </tbody>\n",
       "</table>\n",
       "</div>"
      ],
      "text/plain": [
       "                                         description  review_rating\n",
       "0  [here, exists, a, very, cozy, room, for, rent,...            100\n",
       "1  [murphy, bed, optional, second, bedroom, avail...             94\n",
       "2  [the, apartment, has, a, living, room, toilet,...             98\n",
       "3  [loft, suite, deluxe, henry, norman, hotel, lo...             88\n",
       "4  [clean, fully, furnish, spacious, 1, bedroom, ...            100"
      ]
     },
     "execution_count": 18,
     "metadata": {},
     "output_type": "execute_result"
    }
   ],
   "source": [
    "def tokenize_partitions(df):\n",
    "    df['description'] = df['description'].apply(tokenizer.tokenize)\n",
    "    return df\n",
    "\n",
    "ddf = ddf.map_partitions(tokenize_partitions)\n",
    "ddf.head()"
   ]
  },
  {
   "cell_type": "markdown",
   "id": "d78bac32-bb52-4a20-a0d1-0079f362fa69",
   "metadata": {},
   "source": [
    "The Description column now contains lists of strings (tokens)."
   ]
  },
  {
   "cell_type": "markdown",
   "id": "fc6abb0c-0da9-43b7-9bff-3d6f1ba9f672",
   "metadata": {
    "tags": []
   },
   "source": [
    "## 4. Lemmatization with SpaCy\n",
    "Now let's proceed to lemmatize our tokens using SpaCy. We'll import the library and load our vocabulary set:"
   ]
  },
  {
   "cell_type": "code",
   "execution_count": 19,
   "id": "7c50c7c7-b515-4e51-955d-8e6de32a4e12",
   "metadata": {},
   "outputs": [],
   "source": [
    "import spacy"
   ]
  },
  {
   "cell_type": "code",
   "execution_count": 20,
   "id": "cd15b2cb-db7c-49e1-b383-b453d17485e6",
   "metadata": {},
   "outputs": [],
   "source": [
    "# # run this cell if you've not used spacy in this env before\n",
    "# # this will download the lexicon files\n",
    "# ! python -m spacy download en"
   ]
  },
  {
   "cell_type": "code",
   "execution_count": 21,
   "id": "848a8eab-92ff-4003-bc7f-1d5c9134ecff",
   "metadata": {},
   "outputs": [],
   "source": [
    "nlp = spacy.load(\"en_core_web_sm\")"
   ]
  },
  {
   "cell_type": "markdown",
   "id": "ffbadbd6-b5be-4323-a9d2-81878de74cfb",
   "metadata": {},
   "source": [
    "We'll now define two functions: \n",
    "1. One function that. will lemmatize each row \n",
    "2. Another function to apply this to all rows in a Dask DataFrame partition\n",
    "\n",
    "We'll then map this function over all the partitions in our Dask DataFrame"
   ]
  },
  {
   "cell_type": "code",
   "execution_count": 22,
   "id": "b3079756-79de-4d5d-b835-831d305cb122",
   "metadata": {},
   "outputs": [],
   "source": [
    "# lemmatize each row\n",
    "def lemmatize_row(text, nlp=nlp):\n",
    "    doc = nlp(\" \".join(text))\n",
    "    lemmatized = [token.lemma_ for token in doc]\n",
    "    return lemmatized"
   ]
  },
  {
   "cell_type": "code",
   "execution_count": 23,
   "id": "63378d46-eaaf-45e7-85a3-a234d12fdcba",
   "metadata": {},
   "outputs": [],
   "source": [
    "# apply to all rows in partition (each partition is a pandas df)\n",
    "def apply_lemmatize(df):\n",
    "    df.description = df.description.apply(lemmatize_row)\n",
    "    return df"
   ]
  },
  {
   "cell_type": "code",
   "execution_count": 24,
   "id": "97e8065f-401a-4201-bb6e-c3278009da12",
   "metadata": {},
   "outputs": [],
   "source": [
    "# map lemmatizing function over all partitions\n",
    "ddf = ddf.map_partitions(apply_lemmatize)"
   ]
  },
  {
   "cell_type": "code",
   "execution_count": 25,
   "id": "5eb5efac-60c3-4816-9e50-ec3bef6f6fec",
   "metadata": {},
   "outputs": [
    {
     "data": {
      "text/html": [
       "<div>\n",
       "<style scoped>\n",
       "    .dataframe tbody tr th:only-of-type {\n",
       "        vertical-align: middle;\n",
       "    }\n",
       "\n",
       "    .dataframe tbody tr th {\n",
       "        vertical-align: top;\n",
       "    }\n",
       "\n",
       "    .dataframe thead th {\n",
       "        text-align: right;\n",
       "    }\n",
       "</style>\n",
       "<table border=\"1\" class=\"dataframe\">\n",
       "  <thead>\n",
       "    <tr style=\"text-align: right;\">\n",
       "      <th></th>\n",
       "      <th>description</th>\n",
       "      <th>review_rating</th>\n",
       "    </tr>\n",
       "  </thead>\n",
       "  <tbody>\n",
       "    <tr>\n",
       "      <th>0</th>\n",
       "      <td>[here, exist, a, very, cozy, room, for, rent, ...</td>\n",
       "      <td>100</td>\n",
       "    </tr>\n",
       "    <tr>\n",
       "      <th>1</th>\n",
       "      <td>[murphy, bed, optional, second, bedroom, avail...</td>\n",
       "      <td>94</td>\n",
       "    </tr>\n",
       "    <tr>\n",
       "      <th>2</th>\n",
       "      <td>[the, apartment, have, a, living, room, toilet...</td>\n",
       "      <td>98</td>\n",
       "    </tr>\n",
       "    <tr>\n",
       "      <th>3</th>\n",
       "      <td>[loft, suite, deluxe, henry, norman, hotel, lo...</td>\n",
       "      <td>88</td>\n",
       "    </tr>\n",
       "    <tr>\n",
       "      <th>4</th>\n",
       "      <td>[clean, fully, furnish, spacious, 1, bedroom, ...</td>\n",
       "      <td>100</td>\n",
       "    </tr>\n",
       "  </tbody>\n",
       "</table>\n",
       "</div>"
      ],
      "text/plain": [
       "                                         description  review_rating\n",
       "0  [here, exist, a, very, cozy, room, for, rent, ...            100\n",
       "1  [murphy, bed, optional, second, bedroom, avail...             94\n",
       "2  [the, apartment, have, a, living, room, toilet...             98\n",
       "3  [loft, suite, deluxe, henry, norman, hotel, lo...             88\n",
       "4  [clean, fully, furnish, spacious, 1, bedroom, ...            100"
      ]
     },
     "execution_count": 25,
     "metadata": {},
     "output_type": "execute_result"
    }
   ],
   "source": [
    "ddf.head()"
   ]
  },
  {
   "cell_type": "code",
   "execution_count": null,
   "id": "b37cfc3f-e463-4873-9687-c29f7bf644ba",
   "metadata": {},
   "outputs": [],
   "source": []
  },
  {
   "cell_type": "markdown",
   "id": "53e13148-8f9b-4363-89e7-0ddb8f32b904",
   "metadata": {},
   "source": [
    "## 5. Write Data Back to MongoDB\n",
    "\n",
    "Now that we have processed our raw JSON NLP data into a neat tabular format, we'll want to store this for future use. You can use the `to_mongo` method to write data to your MongoDB database.\n",
    "\n",
    "You'll first need to convert your Dask DataFrame to a Dask Bag:"
   ]
  },
  {
   "cell_type": "code",
   "execution_count": 26,
   "id": "b5577f05-f8fa-4257-a443-f07ae285b792",
   "metadata": {},
   "outputs": [
    {
     "data": {
      "text/plain": [
       "({'description': ['here',\n",
       "   'exist',\n",
       "   'a',\n",
       "   'very',\n",
       "   'cozy',\n",
       "   'room',\n",
       "   'for',\n",
       "   'rent',\n",
       "   'in',\n",
       "   'a',\n",
       "   'share',\n",
       "   '4',\n",
       "   'bedroom',\n",
       "   'apartment',\n",
       "   'it',\n",
       "   'be',\n",
       "   'locate',\n",
       "   'one',\n",
       "   'block',\n",
       "   'off',\n",
       "   'of',\n",
       "   'the',\n",
       "   'jmz',\n",
       "   'at',\n",
       "   'myrtle',\n",
       "   'broadway',\n",
       "   'the',\n",
       "   'neighborhood',\n",
       "   'be',\n",
       "   'diverse',\n",
       "   'and',\n",
       "   'appeal',\n",
       "   'to',\n",
       "   'a',\n",
       "   'variety',\n",
       "   'of',\n",
       "   'people'],\n",
       "  'review_rating': 100},)"
      ]
     },
     "execution_count": 26,
     "metadata": {},
     "output_type": "execute_result"
    }
   ],
   "source": [
    "import dask.bag as db\n",
    "\n",
    "# convert dask dataframe back to Dask bag\n",
    "new_bag = db.from_delayed(\n",
    "    ddf.map_partitions(lambda x: x.to_dict(orient=\"records\")).to_delayed()\n",
    ")\n",
    "\n",
    "new_bag.take(1)"
   ]
  },
  {
   "cell_type": "markdown",
   "id": "937cac09-2b12-4548-ab58-a46583179ccc",
   "metadata": {},
   "source": [
    "And then use `to_mongo` to write the data to MongoDB:"
   ]
  },
  {
   "cell_type": "code",
   "execution_count": null,
   "id": "784ceae8-ce82-481b-a78f-c8b046863dfa",
   "metadata": {},
   "outputs": [],
   "source": [
    "from dask_mongo import to_mongo\n",
    "\n",
    "to_mongo(\n",
    "    new_bag,\n",
    "    database=\"<your-database>\",\n",
    "    collection=\"<your-collection>\",\n",
    "    connection_kwargs={\"host\": host_uri},\n",
    ")"
   ]
  },
  {
   "cell_type": "markdown",
   "id": "82f59260-c06e-419f-881b-ae5bd6e1f24c",
   "metadata": {},
   "source": [
    "*Note that because the AirBnB sample data is located on a low-resource Free Tier cluster, the read/write speeds may be suboptimal. Consider upgrading your cluster to improve your query performance.*"
   ]
  },
  {
   "cell_type": "markdown",
   "id": "f634c3c6-a035-4544-aa1e-cfbda6026af9",
   "metadata": {},
   "source": [
    "## Summary\n",
    "- You can use the dask-mongo connector to read and write files in parallel between your local Python session and a MongoDB Atlas cluster.\n",
    "- You can use Dask and MongoDB to build an NLP pipeline at scale.\n",
    "- You can run Dask computations in the cloud using a Coiled cluster. Running Coiled and MongoDB together can lead to performance gains on your queries and analyses.\n"
   ]
  },
  {
   "cell_type": "markdown",
   "id": "0d0b0e9d-9bbf-4724-a629-9db8d7aed9ce",
   "metadata": {},
   "source": [
    "## Get Started with dask-mongo\n",
    "To get started with the dask-mongo connector, install it on your local machine using pip or conda.\n",
    "\n",
    "`pip install dask-mongo`\n",
    "\n",
    "`conda install dask-mongo -c conda-forge`\n",
    "\n",
    "You can then run the code in the accompanying notebook yourself to test-drive dask-mongo. For more information, we recommend taking a look at [the Coiled documentation](https://docs.coiled.io/user_guide/examples/mongodb.html). \n",
    "\n",
    "Let us know how you get on by tweeting to the developing team at [@CoiledHQ](https://twitter.com/CoiledHQ)!"
   ]
  },
  {
   "cell_type": "code",
   "execution_count": null,
   "id": "70ddaa3a-0012-445d-ba7f-512df3c58369",
   "metadata": {},
   "outputs": [],
   "source": []
  },
  {
   "cell_type": "code",
   "execution_count": null,
   "id": "bffebbdf-1c9e-4f64-a14f-cac827e1a7c3",
   "metadata": {},
   "outputs": [],
   "source": []
  },
  {
   "cell_type": "code",
   "execution_count": null,
   "id": "0f509099-716e-406a-ab0d-e158ad762977",
   "metadata": {},
   "outputs": [],
   "source": []
  },
  {
   "cell_type": "code",
   "execution_count": 27,
   "id": "4428342f-81db-4d4c-aea4-9d44f9efff22",
   "metadata": {},
   "outputs": [],
   "source": [
    "from dask_ml.model_selection import train_test_split"
   ]
  },
  {
   "cell_type": "code",
   "execution_count": 28,
   "id": "222c57c9-c493-41b8-ac18-18e25b50c63f",
   "metadata": {},
   "outputs": [],
   "source": [
    "# create train/test splits\n",
    "from dask_ml.model_selection import train_test_split\n",
    "X_train, X_test, y_train, y_test = train_test_split(\n",
    "    X, \n",
    "    y, \n",
    "    test_size=0.20, \n",
    "    random_state=40,\n",
    ")"
   ]
  },
  {
   "cell_type": "markdown",
   "id": "5e9c796c-252f-432a-8dac-489d45ee998d",
   "metadata": {},
   "source": [
    "And then pass these into the Dask-ML HashingVectorizer. "
   ]
  },
  {
   "cell_type": "code",
   "execution_count": 29,
   "id": "92bc2fc9-cd96-415a-b088-9f9bcf479e00",
   "metadata": {},
   "outputs": [],
   "source": [
    "# vectorize \n",
    "from dask_ml.feature_extraction.text import HashingVectorizer\n",
    "vect = HashingVectorizer()\n",
    "X_train_vect = vect.fit_transform(X_train)"
   ]
  },
  {
   "cell_type": "markdown",
   "id": "fbfd8c78-e5be-4880-9d03-c134378c938e",
   "metadata": {},
   "source": [
    "Note that this Vectorizer comes with its own built-in preprocessing functions. We could override these since we have already done our own customized preprocessing above."
   ]
  },
  {
   "cell_type": "code",
   "execution_count": 30,
   "id": "5f6a755a-2721-4150-9723-e7a409a3e8e5",
   "metadata": {},
   "outputs": [
    {
     "data": {
      "text/html": [
       "<table>\n",
       "    <tr>\n",
       "        <td>\n",
       "            <table>\n",
       "                <thead>\n",
       "                    <tr>\n",
       "                        <td> </td>\n",
       "                        <th> Array </th>\n",
       "                        <th> Chunk </th>\n",
       "                    </tr>\n",
       "                </thead>\n",
       "                <tbody>\n",
       "                    \n",
       "                    <tr>\n",
       "                        <th> Shape </th>\n",
       "                        <td> (2139, 1048576) </td>\n",
       "                        <td> (211, 1048576) </td>\n",
       "                    </tr>\n",
       "                    <tr>\n",
       "                        <th> Count </th>\n",
       "                        <td> 108 Tasks </td>\n",
       "                        <td> 12 Chunks </td>\n",
       "                    </tr>\n",
       "                    <tr>\n",
       "                    <th> Type </th>\n",
       "                    <td> float64 </td>\n",
       "                    <td> scipy.sparse.csr.csr_matrix </td>\n",
       "                    </tr>\n",
       "                </tbody>\n",
       "            </table>\n",
       "        </td>\n",
       "        <td>\n",
       "        <svg width=\"170\" height=\"75\" style=\"stroke:rgb(0,0,0);stroke-width:1\" >\n",
       "\n",
       "  <!-- Horizontal lines -->\n",
       "  <line x1=\"0\" y1=\"0\" x2=\"120\" y2=\"0\" style=\"stroke-width:2\" />\n",
       "  <line x1=\"0\" y1=\"2\" x2=\"120\" y2=\"2\" />\n",
       "  <line x1=\"0\" y1=\"4\" x2=\"120\" y2=\"4\" />\n",
       "  <line x1=\"0\" y1=\"6\" x2=\"120\" y2=\"6\" />\n",
       "  <line x1=\"0\" y1=\"9\" x2=\"120\" y2=\"9\" />\n",
       "  <line x1=\"0\" y1=\"11\" x2=\"120\" y2=\"11\" />\n",
       "  <line x1=\"0\" y1=\"13\" x2=\"120\" y2=\"13\" />\n",
       "  <line x1=\"0\" y1=\"15\" x2=\"120\" y2=\"15\" />\n",
       "  <line x1=\"0\" y1=\"17\" x2=\"120\" y2=\"17\" />\n",
       "  <line x1=\"0\" y1=\"19\" x2=\"120\" y2=\"19\" />\n",
       "  <line x1=\"0\" y1=\"20\" x2=\"120\" y2=\"20\" />\n",
       "  <line x1=\"0\" y1=\"23\" x2=\"120\" y2=\"23\" />\n",
       "  <line x1=\"0\" y1=\"25\" x2=\"120\" y2=\"25\" style=\"stroke-width:2\" />\n",
       "\n",
       "  <!-- Vertical lines -->\n",
       "  <line x1=\"0\" y1=\"0\" x2=\"0\" y2=\"25\" style=\"stroke-width:2\" />\n",
       "  <line x1=\"120\" y1=\"0\" x2=\"120\" y2=\"25\" style=\"stroke-width:2\" />\n",
       "\n",
       "  <!-- Colored Rectangle -->\n",
       "  <polygon points=\"0.0,0.0 120.0,0.0 120.0,25.412616514582485 0.0,25.412616514582485\" style=\"fill:#ECB172A0;stroke-width:0\"/>\n",
       "\n",
       "  <!-- Text -->\n",
       "  <text x=\"60.000000\" y=\"45.412617\" font-size=\"1.0rem\" font-weight=\"100\" text-anchor=\"middle\" >1048576</text>\n",
       "  <text x=\"140.000000\" y=\"12.706308\" font-size=\"1.0rem\" font-weight=\"100\" text-anchor=\"middle\" transform=\"rotate(-90,140.000000,12.706308)\">2139</text>\n",
       "</svg>\n",
       "        </td>\n",
       "    </tr>\n",
       "</table>"
      ],
      "text/plain": [
       "dask.array<_transformer, shape=(2139, 1048576), dtype=float64, chunksize=(211, 1048576), chunktype=scipy.csr_matrix>"
      ]
     },
     "execution_count": 30,
     "metadata": {},
     "output_type": "execute_result"
    }
   ],
   "source": [
    "# make sure to compute the chunk sizes before training\n",
    "X_train_vect.compute_chunk_sizes()"
   ]
  },
  {
   "cell_type": "code",
   "execution_count": 31,
   "id": "3c67234c-75c3-4491-ab40-e13a093367a8",
   "metadata": {},
   "outputs": [
    {
     "data": {
      "text/html": [
       "<table>\n",
       "    <tr>\n",
       "        <td>\n",
       "            <table>\n",
       "                <thead>\n",
       "                    <tr>\n",
       "                        <td> </td>\n",
       "                        <th> Array </th>\n",
       "                        <th> Chunk </th>\n",
       "                    </tr>\n",
       "                </thead>\n",
       "                <tbody>\n",
       "                    \n",
       "                    <tr>\n",
       "                        <th> Bytes </th>\n",
       "                        <td> 16.71 kiB </td>\n",
       "                        <td> 1.65 kiB </td>\n",
       "                    </tr>\n",
       "                    \n",
       "                    <tr>\n",
       "                        <th> Shape </th>\n",
       "                        <td> (2139,) </td>\n",
       "                        <td> (211,) </td>\n",
       "                    </tr>\n",
       "                    <tr>\n",
       "                        <th> Count </th>\n",
       "                        <td> 96 Tasks </td>\n",
       "                        <td> 12 Chunks </td>\n",
       "                    </tr>\n",
       "                    <tr>\n",
       "                    <th> Type </th>\n",
       "                    <td> int64 </td>\n",
       "                    <td> numpy.ndarray </td>\n",
       "                    </tr>\n",
       "                </tbody>\n",
       "            </table>\n",
       "        </td>\n",
       "        <td>\n",
       "        <svg width=\"170\" height=\"75\" style=\"stroke:rgb(0,0,0);stroke-width:1\" >\n",
       "\n",
       "  <!-- Horizontal lines -->\n",
       "  <line x1=\"0\" y1=\"0\" x2=\"120\" y2=\"0\" style=\"stroke-width:2\" />\n",
       "  <line x1=\"0\" y1=\"25\" x2=\"120\" y2=\"25\" style=\"stroke-width:2\" />\n",
       "\n",
       "  <!-- Vertical lines -->\n",
       "  <line x1=\"0\" y1=\"0\" x2=\"0\" y2=\"25\" style=\"stroke-width:2\" />\n",
       "  <line x1=\"9\" y1=\"0\" x2=\"9\" y2=\"25\" />\n",
       "  <line x1=\"20\" y1=\"0\" x2=\"20\" y2=\"25\" />\n",
       "  <line x1=\"31\" y1=\"0\" x2=\"31\" y2=\"25\" />\n",
       "  <line x1=\"43\" y1=\"0\" x2=\"43\" y2=\"25\" />\n",
       "  <line x1=\"53\" y1=\"0\" x2=\"53\" y2=\"25\" />\n",
       "  <line x1=\"64\" y1=\"0\" x2=\"64\" y2=\"25\" />\n",
       "  <line x1=\"73\" y1=\"0\" x2=\"73\" y2=\"25\" />\n",
       "  <line x1=\"82\" y1=\"0\" x2=\"82\" y2=\"25\" />\n",
       "  <line x1=\"90\" y1=\"0\" x2=\"90\" y2=\"25\" />\n",
       "  <line x1=\"98\" y1=\"0\" x2=\"98\" y2=\"25\" />\n",
       "  <line x1=\"109\" y1=\"0\" x2=\"109\" y2=\"25\" />\n",
       "  <line x1=\"120\" y1=\"0\" x2=\"120\" y2=\"25\" style=\"stroke-width:2\" />\n",
       "\n",
       "  <!-- Colored Rectangle -->\n",
       "  <polygon points=\"0.0,0.0 120.0,0.0 120.0,25.412616514582485 0.0,25.412616514582485\" style=\"fill:#ECB172A0;stroke-width:0\"/>\n",
       "\n",
       "  <!-- Text -->\n",
       "  <text x=\"60.000000\" y=\"45.412617\" font-size=\"1.0rem\" font-weight=\"100\" text-anchor=\"middle\" >2139</text>\n",
       "  <text x=\"140.000000\" y=\"12.706308\" font-size=\"1.0rem\" font-weight=\"100\" text-anchor=\"middle\" transform=\"rotate(0,140.000000,12.706308)\">1</text>\n",
       "</svg>\n",
       "        </td>\n",
       "    </tr>\n",
       "</table>"
      ],
      "text/plain": [
       "dask.array<concatenate, shape=(2139,), dtype=int64, chunksize=(211,), chunktype=numpy.ndarray>"
      ]
     },
     "execution_count": 31,
     "metadata": {},
     "output_type": "execute_result"
    }
   ],
   "source": [
    "# omit?\n",
    "y_train.compute_chunk_sizes()"
   ]
  },
  {
   "cell_type": "code",
   "execution_count": 32,
   "id": "c4c76ce9-a2c0-435f-9833-08c58d061e5b",
   "metadata": {},
   "outputs": [],
   "source": [
    "# omit?\n",
    "y_train = y_train.reshape(2139,1)"
   ]
  },
  {
   "cell_type": "code",
   "execution_count": 33,
   "id": "2e022881-65bd-4936-868e-03e4be6d8d6f",
   "metadata": {},
   "outputs": [
    {
     "data": {
      "text/html": [
       "<table>\n",
       "    <tr>\n",
       "        <td>\n",
       "            <table>\n",
       "                <thead>\n",
       "                    <tr>\n",
       "                        <td> </td>\n",
       "                        <th> Array </th>\n",
       "                        <th> Chunk </th>\n",
       "                    </tr>\n",
       "                </thead>\n",
       "                <tbody>\n",
       "                    \n",
       "                    <tr>\n",
       "                        <th> Bytes </th>\n",
       "                        <td> 16.71 kiB </td>\n",
       "                        <td> 1.65 kiB </td>\n",
       "                    </tr>\n",
       "                    \n",
       "                    <tr>\n",
       "                        <th> Shape </th>\n",
       "                        <td> (2139, 1) </td>\n",
       "                        <td> (211, 1) </td>\n",
       "                    </tr>\n",
       "                    <tr>\n",
       "                        <th> Count </th>\n",
       "                        <td> 108 Tasks </td>\n",
       "                        <td> 12 Chunks </td>\n",
       "                    </tr>\n",
       "                    <tr>\n",
       "                    <th> Type </th>\n",
       "                    <td> int64 </td>\n",
       "                    <td> numpy.ndarray </td>\n",
       "                    </tr>\n",
       "                </tbody>\n",
       "            </table>\n",
       "        </td>\n",
       "        <td>\n",
       "        <svg width=\"75\" height=\"170\" style=\"stroke:rgb(0,0,0);stroke-width:1\" >\n",
       "\n",
       "  <!-- Horizontal lines -->\n",
       "  <line x1=\"0\" y1=\"0\" x2=\"25\" y2=\"0\" style=\"stroke-width:2\" />\n",
       "  <line x1=\"0\" y1=\"9\" x2=\"25\" y2=\"9\" />\n",
       "  <line x1=\"0\" y1=\"20\" x2=\"25\" y2=\"20\" />\n",
       "  <line x1=\"0\" y1=\"31\" x2=\"25\" y2=\"31\" />\n",
       "  <line x1=\"0\" y1=\"43\" x2=\"25\" y2=\"43\" />\n",
       "  <line x1=\"0\" y1=\"53\" x2=\"25\" y2=\"53\" />\n",
       "  <line x1=\"0\" y1=\"64\" x2=\"25\" y2=\"64\" />\n",
       "  <line x1=\"0\" y1=\"73\" x2=\"25\" y2=\"73\" />\n",
       "  <line x1=\"0\" y1=\"82\" x2=\"25\" y2=\"82\" />\n",
       "  <line x1=\"0\" y1=\"90\" x2=\"25\" y2=\"90\" />\n",
       "  <line x1=\"0\" y1=\"98\" x2=\"25\" y2=\"98\" />\n",
       "  <line x1=\"0\" y1=\"109\" x2=\"25\" y2=\"109\" />\n",
       "  <line x1=\"0\" y1=\"120\" x2=\"25\" y2=\"120\" style=\"stroke-width:2\" />\n",
       "\n",
       "  <!-- Vertical lines -->\n",
       "  <line x1=\"0\" y1=\"0\" x2=\"0\" y2=\"120\" style=\"stroke-width:2\" />\n",
       "  <line x1=\"25\" y1=\"0\" x2=\"25\" y2=\"120\" style=\"stroke-width:2\" />\n",
       "\n",
       "  <!-- Colored Rectangle -->\n",
       "  <polygon points=\"0.0,0.0 25.412616514582485,0.0 25.412616514582485,120.0 0.0,120.0\" style=\"fill:#ECB172A0;stroke-width:0\"/>\n",
       "\n",
       "  <!-- Text -->\n",
       "  <text x=\"12.706308\" y=\"140.000000\" font-size=\"1.0rem\" font-weight=\"100\" text-anchor=\"middle\" >1</text>\n",
       "  <text x=\"45.412617\" y=\"60.000000\" font-size=\"1.0rem\" font-weight=\"100\" text-anchor=\"middle\" transform=\"rotate(-90,45.412617,60.000000)\">2139</text>\n",
       "</svg>\n",
       "        </td>\n",
       "    </tr>\n",
       "</table>"
      ],
      "text/plain": [
       "dask.array<reshape, shape=(2139, 1), dtype=int64, chunksize=(211, 1), chunktype=numpy.ndarray>"
      ]
     },
     "execution_count": 33,
     "metadata": {},
     "output_type": "execute_result"
    }
   ],
   "source": [
    "# omit?\n",
    "y_train"
   ]
  },
  {
   "cell_type": "code",
   "execution_count": 34,
   "id": "d559a8b2-4888-45db-a33e-235091ea8699",
   "metadata": {},
   "outputs": [],
   "source": [
    "X_train_vect = X_train_vect.persist()\n",
    "y_train = y_train.persist()"
   ]
  },
  {
   "cell_type": "code",
   "execution_count": null,
   "id": "97e08030-9d46-439c-830c-8aa34f43d6e1",
   "metadata": {},
   "outputs": [],
   "source": []
  },
  {
   "cell_type": "code",
   "execution_count": null,
   "id": "2f5aab69-4788-41a8-b588-5c288b3dc757",
   "metadata": {},
   "outputs": [],
   "source": []
  },
  {
   "cell_type": "code",
   "execution_count": null,
   "id": "5fadeb7c-efca-4978-ac13-6606049e90b5",
   "metadata": {},
   "outputs": [],
   "source": []
  },
  {
   "cell_type": "code",
   "execution_count": null,
   "id": "fdce62a6-4bd7-4719-aa4d-2debc1adcde3",
   "metadata": {},
   "outputs": [],
   "source": []
  },
  {
   "cell_type": "markdown",
   "id": "5d2f8cd8-2209-4561-a69e-917e56067279",
   "metadata": {},
   "source": [
    "Vectorizing leads to array of unknown chunk size"
   ]
  },
  {
   "cell_type": "code",
   "execution_count": 36,
   "id": "8a0d03ab-37ae-4a86-89a8-188e5b6474dc",
   "metadata": {},
   "outputs": [
    {
     "data": {
      "text/html": [
       "<table>\n",
       "    <tr>\n",
       "        <td>\n",
       "            <table>\n",
       "                <thead>\n",
       "                    <tr>\n",
       "                        <td> </td>\n",
       "                        <th> Array </th>\n",
       "                        <th> Chunk </th>\n",
       "                    </tr>\n",
       "                </thead>\n",
       "                <tbody>\n",
       "                    \n",
       "                    <tr>\n",
       "                        <th> Shape </th>\n",
       "                        <td> (2139, 1048576) </td>\n",
       "                        <td> (211, 1048576) </td>\n",
       "                    </tr>\n",
       "                    <tr>\n",
       "                        <th> Count </th>\n",
       "                        <td> 108 Tasks </td>\n",
       "                        <td> 12 Chunks </td>\n",
       "                    </tr>\n",
       "                    <tr>\n",
       "                    <th> Type </th>\n",
       "                    <td> float64 </td>\n",
       "                    <td> scipy.sparse._csr.csr_matrix </td>\n",
       "                    </tr>\n",
       "                </tbody>\n",
       "            </table>\n",
       "        </td>\n",
       "        <td>\n",
       "        <svg width=\"170\" height=\"75\" style=\"stroke:rgb(0,0,0);stroke-width:1\" >\n",
       "\n",
       "  <!-- Horizontal lines -->\n",
       "  <line x1=\"0\" y1=\"0\" x2=\"120\" y2=\"0\" style=\"stroke-width:2\" />\n",
       "  <line x1=\"0\" y1=\"2\" x2=\"120\" y2=\"2\" />\n",
       "  <line x1=\"0\" y1=\"4\" x2=\"120\" y2=\"4\" />\n",
       "  <line x1=\"0\" y1=\"6\" x2=\"120\" y2=\"6\" />\n",
       "  <line x1=\"0\" y1=\"9\" x2=\"120\" y2=\"9\" />\n",
       "  <line x1=\"0\" y1=\"11\" x2=\"120\" y2=\"11\" />\n",
       "  <line x1=\"0\" y1=\"13\" x2=\"120\" y2=\"13\" />\n",
       "  <line x1=\"0\" y1=\"15\" x2=\"120\" y2=\"15\" />\n",
       "  <line x1=\"0\" y1=\"17\" x2=\"120\" y2=\"17\" />\n",
       "  <line x1=\"0\" y1=\"19\" x2=\"120\" y2=\"19\" />\n",
       "  <line x1=\"0\" y1=\"20\" x2=\"120\" y2=\"20\" />\n",
       "  <line x1=\"0\" y1=\"23\" x2=\"120\" y2=\"23\" />\n",
       "  <line x1=\"0\" y1=\"25\" x2=\"120\" y2=\"25\" style=\"stroke-width:2\" />\n",
       "\n",
       "  <!-- Vertical lines -->\n",
       "  <line x1=\"0\" y1=\"0\" x2=\"0\" y2=\"25\" style=\"stroke-width:2\" />\n",
       "  <line x1=\"120\" y1=\"0\" x2=\"120\" y2=\"25\" style=\"stroke-width:2\" />\n",
       "\n",
       "  <!-- Colored Rectangle -->\n",
       "  <polygon points=\"0.0,0.0 120.0,0.0 120.0,25.412616514582485 0.0,25.412616514582485\" style=\"fill:#ECB172A0;stroke-width:0\"/>\n",
       "\n",
       "  <!-- Text -->\n",
       "  <text x=\"60.000000\" y=\"45.412617\" font-size=\"1.0rem\" font-weight=\"100\" text-anchor=\"middle\" >1048576</text>\n",
       "  <text x=\"140.000000\" y=\"12.706308\" font-size=\"1.0rem\" font-weight=\"100\" text-anchor=\"middle\" transform=\"rotate(-90,140.000000,12.706308)\">2139</text>\n",
       "</svg>\n",
       "        </td>\n",
       "    </tr>\n",
       "</table>"
      ],
      "text/plain": [
       "dask.array<_transformer, shape=(2139, 1048576), dtype=float64, chunksize=(211, 1048576), chunktype=scipy.csr_matrix>"
      ]
     },
     "execution_count": 36,
     "metadata": {},
     "output_type": "execute_result"
    }
   ],
   "source": [
    "X_train_vect.compute_chunk_sizes()"
   ]
  },
  {
   "cell_type": "code",
   "execution_count": 37,
   "id": "cecc0d43-d594-42a0-8031-12051de9f02c",
   "metadata": {},
   "outputs": [
    {
     "data": {
      "text/plain": [
       "<176x1048576 sparse matrix of type '<class 'numpy.float64'>'\n",
       "\twith 15469 stored elements in Compressed Sparse Row format>"
      ]
     },
     "execution_count": 37,
     "metadata": {},
     "output_type": "execute_result"
    }
   ],
   "source": [
    "X_train_vect.blocks[0].compute()"
   ]
  },
  {
   "cell_type": "code",
   "execution_count": 38,
   "id": "7b22f9b2-5ff6-4282-9c50-26f0f55a0a9b",
   "metadata": {},
   "outputs": [
    {
     "data": {
      "text/plain": [
       "(2139, 1048576)"
      ]
     },
     "execution_count": 38,
     "metadata": {},
     "output_type": "execute_result"
    }
   ],
   "source": [
    "X_train_vect.shape"
   ]
  },
  {
   "cell_type": "markdown",
   "id": "ca17cf71-c240-4591-92fb-a3af1566b10f",
   "metadata": {},
   "source": [
    "Each block in X is a **scipy.sparse matrix**.\n",
    "\n",
    "Now use scipy.sparse matrix as input for distributed XGBoostClassifier."
   ]
  },
  {
   "cell_type": "code",
   "execution_count": 39,
   "id": "6c289d17-0bad-4579-81d0-5cb1b18383da",
   "metadata": {},
   "outputs": [],
   "source": [
    "import xgboost\n",
    "from xgboost.dask import DaskXGBClassifier"
   ]
  },
  {
   "cell_type": "code",
   "execution_count": 41,
   "id": "5b913c2d-a8a7-450d-95a5-53a24fdafd33",
   "metadata": {},
   "outputs": [],
   "source": [
    "clf = DaskXGBClassifier()"
   ]
  },
  {
   "cell_type": "code",
   "execution_count": 42,
   "id": "e13b8fc5-787e-4cdc-9f18-fb6d80450415",
   "metadata": {},
   "outputs": [
    {
     "ename": "AttributeError",
     "evalue": "divisions not found",
     "output_type": "error",
     "traceback": [
      "\u001b[0;31m---------------------------------------------------------------------------\u001b[0m",
      "\u001b[0;31mAttributeError\u001b[0m                            Traceback (most recent call last)",
      "File \u001b[0;32m<timed eval>:1\u001b[0m, in \u001b[0;36m<module>\u001b[0;34m\u001b[0m\n",
      "File \u001b[0;32m~/mambaforge/envs/dask-nlp/lib/python3.9/site-packages/xgboost/dask.py:1817\u001b[0m, in \u001b[0;36mDaskXGBClassifier.fit\u001b[0;34m(self, X, y, sample_weight, base_margin, eval_set, eval_metric, early_stopping_rounds, verbose, xgb_model, sample_weight_eval_set, base_margin_eval_set, feature_weights, callbacks)\u001b[0m\n\u001b[1;32m   1815\u001b[0m _assert_dask_support()\n\u001b[1;32m   1816\u001b[0m args \u001b[38;5;241m=\u001b[39m {k: v \u001b[38;5;28;01mfor\u001b[39;00m k, v \u001b[38;5;129;01min\u001b[39;00m \u001b[38;5;28mlocals\u001b[39m()\u001b[38;5;241m.\u001b[39mitems() \u001b[38;5;28;01mif\u001b[39;00m k \u001b[38;5;129;01mnot\u001b[39;00m \u001b[38;5;129;01min\u001b[39;00m (\u001b[38;5;124m\"\u001b[39m\u001b[38;5;124mself\u001b[39m\u001b[38;5;124m\"\u001b[39m, \u001b[38;5;124m\"\u001b[39m\u001b[38;5;124m__class__\u001b[39m\u001b[38;5;124m\"\u001b[39m)}\n\u001b[0;32m-> 1817\u001b[0m \u001b[38;5;28;01mreturn\u001b[39;00m \u001b[38;5;28;43mself\u001b[39;49m\u001b[38;5;241;43m.\u001b[39;49m\u001b[43m_client_sync\u001b[49m\u001b[43m(\u001b[49m\u001b[38;5;28;43mself\u001b[39;49m\u001b[38;5;241;43m.\u001b[39;49m\u001b[43m_fit_async\u001b[49m\u001b[43m,\u001b[49m\u001b[43m \u001b[49m\u001b[38;5;241;43m*\u001b[39;49m\u001b[38;5;241;43m*\u001b[39;49m\u001b[43margs\u001b[49m\u001b[43m)\u001b[49m\n",
      "File \u001b[0;32m~/mambaforge/envs/dask-nlp/lib/python3.9/site-packages/xgboost/dask.py:1623\u001b[0m, in \u001b[0;36mDaskScikitLearnBase._client_sync\u001b[0;34m(self, func, **kwargs)\u001b[0m\n\u001b[1;32m   1620\u001b[0m                 \u001b[38;5;28;01mreturn\u001b[39;00m ret\n\u001b[1;32m   1621\u001b[0m             \u001b[38;5;28;01mreturn\u001b[39;00m ret\n\u001b[0;32m-> 1623\u001b[0m \u001b[38;5;28;01mreturn\u001b[39;00m \u001b[38;5;28;43mself\u001b[39;49m\u001b[38;5;241;43m.\u001b[39;49m\u001b[43mclient\u001b[49m\u001b[38;5;241;43m.\u001b[39;49m\u001b[43msync\u001b[49m\u001b[43m(\u001b[49m\u001b[43mfunc\u001b[49m\u001b[43m,\u001b[49m\u001b[43m \u001b[49m\u001b[38;5;241;43m*\u001b[39;49m\u001b[38;5;241;43m*\u001b[39;49m\u001b[43mkwargs\u001b[49m\u001b[43m,\u001b[49m\u001b[43m \u001b[49m\u001b[43masynchronous\u001b[49m\u001b[38;5;241;43m=\u001b[39;49m\u001b[43masynchronous\u001b[49m\u001b[43m)\u001b[49m\n",
      "File \u001b[0;32m~/mambaforge/envs/dask-nlp/lib/python3.9/site-packages/distributed/utils.py:309\u001b[0m, in \u001b[0;36mSyncMethodMixin.sync\u001b[0;34m(self, func, asynchronous, callback_timeout, *args, **kwargs)\u001b[0m\n\u001b[1;32m    307\u001b[0m     \u001b[38;5;28;01mreturn\u001b[39;00m future\n\u001b[1;32m    308\u001b[0m \u001b[38;5;28;01melse\u001b[39;00m:\n\u001b[0;32m--> 309\u001b[0m     \u001b[38;5;28;01mreturn\u001b[39;00m \u001b[43msync\u001b[49m\u001b[43m(\u001b[49m\n\u001b[1;32m    310\u001b[0m \u001b[43m        \u001b[49m\u001b[38;5;28;43mself\u001b[39;49m\u001b[38;5;241;43m.\u001b[39;49m\u001b[43mloop\u001b[49m\u001b[43m,\u001b[49m\u001b[43m \u001b[49m\u001b[43mfunc\u001b[49m\u001b[43m,\u001b[49m\u001b[43m \u001b[49m\u001b[38;5;241;43m*\u001b[39;49m\u001b[43margs\u001b[49m\u001b[43m,\u001b[49m\u001b[43m \u001b[49m\u001b[43mcallback_timeout\u001b[49m\u001b[38;5;241;43m=\u001b[39;49m\u001b[43mcallback_timeout\u001b[49m\u001b[43m,\u001b[49m\u001b[43m \u001b[49m\u001b[38;5;241;43m*\u001b[39;49m\u001b[38;5;241;43m*\u001b[39;49m\u001b[43mkwargs\u001b[49m\n\u001b[1;32m    311\u001b[0m \u001b[43m    \u001b[49m\u001b[43m)\u001b[49m\n",
      "File \u001b[0;32m~/mambaforge/envs/dask-nlp/lib/python3.9/site-packages/distributed/utils.py:376\u001b[0m, in \u001b[0;36msync\u001b[0;34m(loop, func, callback_timeout, *args, **kwargs)\u001b[0m\n\u001b[1;32m    374\u001b[0m \u001b[38;5;28;01mif\u001b[39;00m error:\n\u001b[1;32m    375\u001b[0m     typ, exc, tb \u001b[38;5;241m=\u001b[39m error\n\u001b[0;32m--> 376\u001b[0m     \u001b[38;5;28;01mraise\u001b[39;00m exc\u001b[38;5;241m.\u001b[39mwith_traceback(tb)\n\u001b[1;32m    377\u001b[0m \u001b[38;5;28;01melse\u001b[39;00m:\n\u001b[1;32m    378\u001b[0m     \u001b[38;5;28;01mreturn\u001b[39;00m result\n",
      "File \u001b[0;32m~/mambaforge/envs/dask-nlp/lib/python3.9/site-packages/distributed/utils.py:349\u001b[0m, in \u001b[0;36msync.<locals>.f\u001b[0;34m()\u001b[0m\n\u001b[1;32m    347\u001b[0m         future \u001b[38;5;241m=\u001b[39m asyncio\u001b[38;5;241m.\u001b[39mwait_for(future, callback_timeout)\n\u001b[1;32m    348\u001b[0m     future \u001b[38;5;241m=\u001b[39m asyncio\u001b[38;5;241m.\u001b[39mensure_future(future)\n\u001b[0;32m--> 349\u001b[0m     result \u001b[38;5;241m=\u001b[39m \u001b[38;5;28;01myield\u001b[39;00m future\n\u001b[1;32m    350\u001b[0m \u001b[38;5;28;01mexcept\u001b[39;00m \u001b[38;5;167;01mException\u001b[39;00m:\n\u001b[1;32m    351\u001b[0m     error \u001b[38;5;241m=\u001b[39m sys\u001b[38;5;241m.\u001b[39mexc_info()\n",
      "File \u001b[0;32m~/mambaforge/envs/dask-nlp/lib/python3.9/site-packages/tornado/gen.py:762\u001b[0m, in \u001b[0;36mRunner.run\u001b[0;34m(self)\u001b[0m\n\u001b[1;32m    759\u001b[0m exc_info \u001b[38;5;241m=\u001b[39m \u001b[38;5;28;01mNone\u001b[39;00m\n\u001b[1;32m    761\u001b[0m \u001b[38;5;28;01mtry\u001b[39;00m:\n\u001b[0;32m--> 762\u001b[0m     value \u001b[38;5;241m=\u001b[39m \u001b[43mfuture\u001b[49m\u001b[38;5;241;43m.\u001b[39;49m\u001b[43mresult\u001b[49m\u001b[43m(\u001b[49m\u001b[43m)\u001b[49m\n\u001b[1;32m    763\u001b[0m \u001b[38;5;28;01mexcept\u001b[39;00m \u001b[38;5;167;01mException\u001b[39;00m:\n\u001b[1;32m    764\u001b[0m     exc_info \u001b[38;5;241m=\u001b[39m sys\u001b[38;5;241m.\u001b[39mexc_info()\n",
      "File \u001b[0;32m~/mambaforge/envs/dask-nlp/lib/python3.9/site-packages/xgboost/dask.py:1775\u001b[0m, in \u001b[0;36mDaskXGBClassifier._fit_async\u001b[0;34m(self, X, y, sample_weight, base_margin, eval_set, eval_metric, sample_weight_eval_set, base_margin_eval_set, early_stopping_rounds, verbose, xgb_model, feature_weights, callbacks)\u001b[0m\n\u001b[1;32m   1771\u001b[0m     obj \u001b[38;5;241m=\u001b[39m \u001b[38;5;28;01mNone\u001b[39;00m\n\u001b[1;32m   1772\u001b[0m model, metric, params \u001b[38;5;241m=\u001b[39m \u001b[38;5;28mself\u001b[39m\u001b[38;5;241m.\u001b[39m_configure_fit(\n\u001b[1;32m   1773\u001b[0m     booster\u001b[38;5;241m=\u001b[39mxgb_model, eval_metric\u001b[38;5;241m=\u001b[39meval_metric, params\u001b[38;5;241m=\u001b[39mparams\n\u001b[1;32m   1774\u001b[0m )\n\u001b[0;32m-> 1775\u001b[0m results \u001b[38;5;241m=\u001b[39m \u001b[38;5;28;01mawait\u001b[39;00m \u001b[38;5;28mself\u001b[39m\u001b[38;5;241m.\u001b[39mclient\u001b[38;5;241m.\u001b[39msync(\n\u001b[1;32m   1776\u001b[0m     _train_async,\n\u001b[1;32m   1777\u001b[0m     asynchronous\u001b[38;5;241m=\u001b[39m\u001b[38;5;28;01mTrue\u001b[39;00m,\n\u001b[1;32m   1778\u001b[0m     client\u001b[38;5;241m=\u001b[39m\u001b[38;5;28mself\u001b[39m\u001b[38;5;241m.\u001b[39mclient,\n\u001b[1;32m   1779\u001b[0m     global_config\u001b[38;5;241m=\u001b[39mconfig\u001b[38;5;241m.\u001b[39mget_config(),\n\u001b[1;32m   1780\u001b[0m     params\u001b[38;5;241m=\u001b[39mparams,\n\u001b[1;32m   1781\u001b[0m     dtrain\u001b[38;5;241m=\u001b[39mdtrain,\n\u001b[1;32m   1782\u001b[0m     num_boost_round\u001b[38;5;241m=\u001b[39m\u001b[38;5;28mself\u001b[39m\u001b[38;5;241m.\u001b[39mget_num_boosting_rounds(),\n\u001b[1;32m   1783\u001b[0m     evals\u001b[38;5;241m=\u001b[39mevals,\n\u001b[1;32m   1784\u001b[0m     obj\u001b[38;5;241m=\u001b[39mobj,\n\u001b[1;32m   1785\u001b[0m     feval\u001b[38;5;241m=\u001b[39mmetric,\n\u001b[1;32m   1786\u001b[0m     verbose_eval\u001b[38;5;241m=\u001b[39mverbose,\n\u001b[1;32m   1787\u001b[0m     early_stopping_rounds\u001b[38;5;241m=\u001b[39mearly_stopping_rounds,\n\u001b[1;32m   1788\u001b[0m     callbacks\u001b[38;5;241m=\u001b[39mcallbacks,\n\u001b[1;32m   1789\u001b[0m     xgb_model\u001b[38;5;241m=\u001b[39mmodel,\n\u001b[1;32m   1790\u001b[0m )\n\u001b[1;32m   1791\u001b[0m \u001b[38;5;28mself\u001b[39m\u001b[38;5;241m.\u001b[39m_Booster \u001b[38;5;241m=\u001b[39m results[\u001b[38;5;124m'\u001b[39m\u001b[38;5;124mbooster\u001b[39m\u001b[38;5;124m'\u001b[39m]\n\u001b[1;32m   1792\u001b[0m \u001b[38;5;28;01mif\u001b[39;00m \u001b[38;5;129;01mnot\u001b[39;00m callable(\u001b[38;5;28mself\u001b[39m\u001b[38;5;241m.\u001b[39mobjective):\n",
      "File \u001b[0;32m~/mambaforge/envs/dask-nlp/lib/python3.9/site-packages/xgboost/dask.py:931\u001b[0m, in \u001b[0;36m_train_async\u001b[0;34m(client, global_config, params, dtrain, num_boost_round, evals, obj, feval, early_stopping_rounds, verbose_eval, xgb_model, callbacks)\u001b[0m\n\u001b[1;32m    917\u001b[0m     f \u001b[38;5;241m=\u001b[39m client\u001b[38;5;241m.\u001b[39msubmit(\n\u001b[1;32m    918\u001b[0m         dispatched_train,\n\u001b[1;32m    919\u001b[0m         worker_addr,\n\u001b[0;32m   (...)\u001b[0m\n\u001b[1;32m    927\u001b[0m         allow_other_workers\u001b[38;5;241m=\u001b[39m\u001b[38;5;28;01mFalse\u001b[39;00m\n\u001b[1;32m    928\u001b[0m     )\n\u001b[1;32m    929\u001b[0m     futures\u001b[38;5;241m.\u001b[39mappend(f)\n\u001b[0;32m--> 931\u001b[0m results \u001b[38;5;241m=\u001b[39m \u001b[38;5;28;01mawait\u001b[39;00m client\u001b[38;5;241m.\u001b[39mgather(futures, asynchronous\u001b[38;5;241m=\u001b[39m\u001b[38;5;28;01mTrue\u001b[39;00m)\n\u001b[1;32m    933\u001b[0m \u001b[38;5;28;01mreturn\u001b[39;00m \u001b[38;5;28mlist\u001b[39m(\u001b[38;5;28mfilter\u001b[39m(\u001b[38;5;28;01mlambda\u001b[39;00m ret: ret \u001b[38;5;129;01mis\u001b[39;00m \u001b[38;5;129;01mnot\u001b[39;00m \u001b[38;5;28;01mNone\u001b[39;00m, results))[\u001b[38;5;241m0\u001b[39m]\n",
      "File \u001b[0;32m~/mambaforge/envs/dask-nlp/lib/python3.9/site-packages/distributed/client.py:2009\u001b[0m, in \u001b[0;36mClient._gather\u001b[0;34m(self, futures, errors, direct, local_worker)\u001b[0m\n\u001b[1;32m   2007\u001b[0m         exc \u001b[38;5;241m=\u001b[39m CancelledError(key)\n\u001b[1;32m   2008\u001b[0m     \u001b[38;5;28;01melse\u001b[39;00m:\n\u001b[0;32m-> 2009\u001b[0m         \u001b[38;5;28;01mraise\u001b[39;00m exception\u001b[38;5;241m.\u001b[39mwith_traceback(traceback)\n\u001b[1;32m   2010\u001b[0m     \u001b[38;5;28;01mraise\u001b[39;00m exc\n\u001b[1;32m   2011\u001b[0m \u001b[38;5;28;01mif\u001b[39;00m errors \u001b[38;5;241m==\u001b[39m \u001b[38;5;124m\"\u001b[39m\u001b[38;5;124mskip\u001b[39m\u001b[38;5;124m\"\u001b[39m:\n",
      "File \u001b[0;32m~/mambaforge/envs/dask-nlp/lib/python3.9/site-packages/xgboost/dask.py:867\u001b[0m, in \u001b[0;36mdispatched_train\u001b[0;34m()\u001b[0m\n\u001b[1;32m    865\u001b[0m worker \u001b[38;5;241m=\u001b[39m distributed\u001b[38;5;241m.\u001b[39mget_worker()\n\u001b[1;32m    866\u001b[0m \u001b[38;5;28;01mwith\u001b[39;00m RabitContext(rabit_args), config\u001b[38;5;241m.\u001b[39mconfig_context(\u001b[38;5;241m*\u001b[39m\u001b[38;5;241m*\u001b[39mglobal_config):\n\u001b[0;32m--> 867\u001b[0m     local_dtrain \u001b[38;5;241m=\u001b[39m _dmatrix_from_list_of_parts(\u001b[38;5;241m*\u001b[39m\u001b[38;5;241m*\u001b[39mdtrain_ref)\n\u001b[1;32m    868\u001b[0m     local_evals \u001b[38;5;241m=\u001b[39m []\n\u001b[1;32m    869\u001b[0m     \u001b[38;5;28;01mif\u001b[39;00m evals_ref:\n",
      "File \u001b[0;32m/opt/conda/envs/coiled/lib/python3.9/site-packages/xgboost/dask.py:800\u001b[0m, in \u001b[0;36m_dmatrix_from_list_of_parts\u001b[0;34m()\u001b[0m\n",
      "File \u001b[0;32m/opt/conda/envs/coiled/lib/python3.9/site-packages/xgboost/dask.py:774\u001b[0m, in \u001b[0;36m_create_dmatrix\u001b[0;34m()\u001b[0m\n",
      "File \u001b[0;32m/opt/conda/envs/coiled/lib/python3.9/site-packages/xgboost/dask.py:206\u001b[0m, in \u001b[0;36mconcat\u001b[0;34m()\u001b[0m\n",
      "File \u001b[0;32m/opt/conda/envs/coiled/lib/python3.9/site-packages/dask/dataframe/multi.py:1237\u001b[0m, in \u001b[0;36mconcat\u001b[0;34m()\u001b[0m\n",
      "File \u001b[0;32m/opt/conda/envs/coiled/lib/python3.9/site-packages/dask/dataframe/multi.py:1238\u001b[0m, in \u001b[0;36m<genexpr>\u001b[0;34m()\u001b[0m\n",
      "File \u001b[0;32m/opt/conda/envs/coiled/lib/python3.9/site-packages/scipy/sparse/base.py:687\u001b[0m, in \u001b[0;36m__getattr__\u001b[0;34m()\u001b[0m\n",
      "\u001b[0;31mAttributeError\u001b[0m: divisions not found"
     ]
    }
   ],
   "source": [
    "%%time\n",
    "clf.fit(X_train_vect, y_train)"
   ]
  },
  {
   "cell_type": "markdown",
   "id": "af431ae5-cae4-4315-99ab-19dcef9738e0",
   "metadata": {},
   "source": [
    "The error above is a bug in the XGBoost package. Issue was raised and there's a PR ready to be merged that will resolve this issue:\n",
    "https://github.com/dmlc/xgboost/issues/7454"
   ]
  },
  {
   "cell_type": "code",
   "execution_count": null,
   "id": "2f2f51f0-57fe-48e6-9de6-2c1c634baf20",
   "metadata": {},
   "outputs": [],
   "source": [
    "proba = xgb.predict_proba(X_test)"
   ]
  },
  {
   "cell_type": "code",
   "execution_count": null,
   "id": "194a6aa7-633b-4a3a-92c2-c06beda0b352",
   "metadata": {},
   "outputs": [],
   "source": []
  },
  {
   "cell_type": "code",
   "execution_count": null,
   "id": "dc54e54f-6636-4dd9-9449-9a23f181fff8",
   "metadata": {},
   "outputs": [],
   "source": []
  },
  {
   "cell_type": "code",
   "execution_count": null,
   "id": "a82e19c3-c725-431e-8429-c78b6b5bce8f",
   "metadata": {},
   "outputs": [],
   "source": []
  },
  {
   "cell_type": "code",
   "execution_count": null,
   "id": "f49e9053-411f-4507-bb16-3eb46e700280",
   "metadata": {},
   "outputs": [],
   "source": []
  },
  {
   "cell_type": "code",
   "execution_count": null,
   "id": "fef13756-5d35-4765-868b-00810ac34baa",
   "metadata": {},
   "outputs": [],
   "source": []
  },
  {
   "cell_type": "code",
   "execution_count": null,
   "id": "199f4531-18ce-4eb2-b59b-bf756bb6ae9f",
   "metadata": {},
   "outputs": [],
   "source": []
  },
  {
   "cell_type": "code",
   "execution_count": null,
   "id": "3ae9017b-7b23-4a17-89a7-c885e092fbde",
   "metadata": {},
   "outputs": [],
   "source": []
  },
  {
   "cell_type": "code",
   "execution_count": null,
   "id": "a0119cf8-16d2-434a-afff-3208cba616e8",
   "metadata": {},
   "outputs": [],
   "source": []
  },
  {
   "cell_type": "code",
   "execution_count": null,
   "id": "f0912eb3-96be-4ff7-819c-f92ceccf11bf",
   "metadata": {},
   "outputs": [],
   "source": []
  },
  {
   "cell_type": "code",
   "execution_count": null,
   "id": "ae011890-cef6-4a75-a169-78c00e58558a",
   "metadata": {},
   "outputs": [],
   "source": []
  },
  {
   "cell_type": "code",
   "execution_count": null,
   "id": "e1cc9bb0-8d84-47b0-82bb-0b80a761b8b1",
   "metadata": {},
   "outputs": [],
   "source": []
  },
  {
   "cell_type": "code",
   "execution_count": null,
   "id": "495ceb5e-9aa3-4f80-a1c9-51b7716747ab",
   "metadata": {},
   "outputs": [],
   "source": []
  },
  {
   "cell_type": "code",
   "execution_count": 18,
   "id": "e34ee336-6142-4a53-9675-814269106f14",
   "metadata": {},
   "outputs": [],
   "source": [
    "# define processing functions\n",
    "def extract_description(element):\n",
    "    return element['description'].lower()\n",
    "\n",
    "def filter_stopword(word, stopwords):\n",
    "    return word not in stopwords\n",
    "\n",
    "def filter_stopwords(tokens, stopwords):\n",
    "    return list(filter(partial(filter_stopword, stopwords=stopwords), tokens))"
   ]
  },
  {
   "cell_type": "code",
   "execution_count": null,
   "id": "3bbf5a9e-620d-47a6-bc9b-7920a0535b76",
   "metadata": {},
   "outputs": [],
   "source": []
  },
  {
   "cell_type": "code",
   "execution_count": null,
   "id": "30f3f123-2164-44ee-b559-e9fbe2c4384f",
   "metadata": {},
   "outputs": [],
   "source": []
  },
  {
   "cell_type": "code",
   "execution_count": null,
   "id": "a85123a4-aa50-4480-a50e-86f51e1c1ba1",
   "metadata": {},
   "outputs": [],
   "source": []
  },
  {
   "cell_type": "code",
   "execution_count": null,
   "id": "1a67f88d-569c-4f4a-b905-adb4b0ec85c9",
   "metadata": {},
   "outputs": [],
   "source": []
  },
  {
   "cell_type": "markdown",
   "id": "f325b884-3cbe-4329-aa2a-a2ce362e7a86",
   "metadata": {},
   "source": [
    "### Tokenization with Dask Bags"
   ]
  },
  {
   "cell_type": "code",
   "execution_count": 20,
   "id": "26ff7c1f-71c7-493d-be0d-81d889d7e33d",
   "metadata": {},
   "outputs": [],
   "source": [
    "# get cleaned, tokenized description texts\n",
    "description_text = b_flattened.map(extract_description)\n",
    "description_text_tokens = description_text.map(tokenizer.tokenize)\n",
    "description_text_clean = description_text_tokens.map(partial(filter_stopwords, stopwords=stopword_set))"
   ]
  },
  {
   "cell_type": "code",
   "execution_count": 21,
   "id": "f6375533-28b5-4802-a1e5-49e68f844c8b",
   "metadata": {},
   "outputs": [
    {
     "data": {
      "text/plain": [
       "(['exists',\n",
       "  'cozy',\n",
       "  'room',\n",
       "  'rent',\n",
       "  'shared',\n",
       "  '4',\n",
       "  'bedroom',\n",
       "  'apartment',\n",
       "  'located',\n",
       "  'one',\n",
       "  'block',\n",
       "  'jmz',\n",
       "  'myrtle',\n",
       "  'broadway',\n",
       "  'neighborhood',\n",
       "  'diverse',\n",
       "  'appeals',\n",
       "  'variety',\n",
       "  'people'],)"
      ]
     },
     "execution_count": 21,
     "metadata": {},
     "output_type": "execute_result"
    }
   ],
   "source": [
    "# verify\n",
    "description_text_clean.take(1)"
   ]
  },
  {
   "cell_type": "markdown",
   "id": "c08be0dc-4874-404a-95f5-3587950ede34",
   "metadata": {},
   "source": [
    "Stop words like “here”, “a”, “in”, etc. have been removed and the contents of the Description column have been turned into a list of strings (tokens)."
   ]
  },
  {
   "cell_type": "code",
   "execution_count": null,
   "id": "72349297-6289-49c0-a379-f8a3ebc0f39d",
   "metadata": {},
   "outputs": [],
   "source": []
  },
  {
   "cell_type": "code",
   "execution_count": 84,
   "id": "f22b0964-552e-49e2-9bea-9bd5278c8864",
   "metadata": {},
   "outputs": [],
   "source": [
    "# define preprocessing function\n",
    "## 1. lowercase\n",
    "## 2. tokenize\n",
    "## 3. filter stopwords\n",
    "\n",
    "def filter_stopword(word, stopwords):\n",
    "    return word not in stopwords\n",
    "\n",
    "# def filter_stopwords(tokens, stopwords):\n",
    "#    return list(filter(partial(filter_stopword, stopwords=stopwords), tokens))\n",
    "\n",
    "def lowercase(element):\n",
    "    element['description'] = element['description'].lower()\n",
    "    return element\n",
    "\n",
    "# we can access the description text with \n",
    "\n",
    "def tokenize_desc(element):\n",
    "    element['description'] = tokenizer.tokenize(element['description'])\n",
    "    return element"
   ]
  },
  {
   "cell_type": "code",
   "execution_count": 107,
   "id": "1727e6f8-d9ea-406c-9933-21e82f741ad9",
   "metadata": {},
   "outputs": [
    {
     "data": {
      "text/html": [
       "<div>\n",
       "<style scoped>\n",
       "    .dataframe tbody tr th:only-of-type {\n",
       "        vertical-align: middle;\n",
       "    }\n",
       "\n",
       "    .dataframe tbody tr th {\n",
       "        vertical-align: top;\n",
       "    }\n",
       "\n",
       "    .dataframe thead th {\n",
       "        text-align: right;\n",
       "    }\n",
       "</style>\n",
       "<table border=\"1\" class=\"dataframe\">\n",
       "  <thead>\n",
       "    <tr style=\"text-align: right;\">\n",
       "      <th></th>\n",
       "      <th>description</th>\n",
       "      <th>review_rating</th>\n",
       "    </tr>\n",
       "  </thead>\n",
       "  <tbody>\n",
       "    <tr>\n",
       "      <th>0</th>\n",
       "      <td>Here exists a very cozy room for rent in a sha...</td>\n",
       "      <td>100</td>\n",
       "    </tr>\n",
       "    <tr>\n",
       "      <th>1</th>\n",
       "      <td>Murphy bed, optional second bedroom available....</td>\n",
       "      <td>94</td>\n",
       "    </tr>\n",
       "    <tr>\n",
       "      <th>2</th>\n",
       "      <td>The Apartment has a living room, toilet, bedro...</td>\n",
       "      <td>98</td>\n",
       "    </tr>\n",
       "    <tr>\n",
       "      <th>3</th>\n",
       "      <td>Loft Suite Deluxe @ Henry Norman Hotel Located...</td>\n",
       "      <td>88</td>\n",
       "    </tr>\n",
       "    <tr>\n",
       "      <th>4</th>\n",
       "      <td>Clean, fully furnish, Spacious 1 bedroom flat ...</td>\n",
       "      <td>100</td>\n",
       "    </tr>\n",
       "  </tbody>\n",
       "</table>\n",
       "</div>"
      ],
      "text/plain": [
       "                                         description  review_rating\n",
       "0  Here exists a very cozy room for rent in a sha...            100\n",
       "1  Murphy bed, optional second bedroom available....             94\n",
       "2  The Apartment has a living room, toilet, bedro...             98\n",
       "3  Loft Suite Deluxe @ Henry Norman Hotel Located...             88\n",
       "4  Clean, fully furnish, Spacious 1 bedroom flat ...            100"
      ]
     },
     "execution_count": 107,
     "metadata": {},
     "output_type": "execute_result"
    }
   ],
   "source": [
    "test_df = b_flattened.to_dataframe()\n",
    "test_df.head()"
   ]
  },
  {
   "cell_type": "code",
   "execution_count": 108,
   "id": "df30ec9c-274b-4f01-b379-c5029e2804c7",
   "metadata": {},
   "outputs": [
    {
     "data": {
      "text/html": [
       "<div>\n",
       "<style scoped>\n",
       "    .dataframe tbody tr th:only-of-type {\n",
       "        vertical-align: middle;\n",
       "    }\n",
       "\n",
       "    .dataframe tbody tr th {\n",
       "        vertical-align: top;\n",
       "    }\n",
       "\n",
       "    .dataframe thead th {\n",
       "        text-align: right;\n",
       "    }\n",
       "</style>\n",
       "<table border=\"1\" class=\"dataframe\">\n",
       "  <thead>\n",
       "    <tr style=\"text-align: right;\">\n",
       "      <th></th>\n",
       "      <th>description</th>\n",
       "      <th>review_rating</th>\n",
       "    </tr>\n",
       "  </thead>\n",
       "  <tbody>\n",
       "    <tr>\n",
       "      <th>0</th>\n",
       "      <td>here exists a very cozy room for rent in a sha...</td>\n",
       "      <td>100</td>\n",
       "    </tr>\n",
       "    <tr>\n",
       "      <th>1</th>\n",
       "      <td>murphy bed, optional second bedroom available....</td>\n",
       "      <td>94</td>\n",
       "    </tr>\n",
       "    <tr>\n",
       "      <th>2</th>\n",
       "      <td>the apartment has a living room, toilet, bedro...</td>\n",
       "      <td>98</td>\n",
       "    </tr>\n",
       "    <tr>\n",
       "      <th>3</th>\n",
       "      <td>loft suite deluxe @ henry norman hotel located...</td>\n",
       "      <td>88</td>\n",
       "    </tr>\n",
       "    <tr>\n",
       "      <th>4</th>\n",
       "      <td>clean, fully furnish, spacious 1 bedroom flat ...</td>\n",
       "      <td>100</td>\n",
       "    </tr>\n",
       "  </tbody>\n",
       "</table>\n",
       "</div>"
      ],
      "text/plain": [
       "                                         description  review_rating\n",
       "0  here exists a very cozy room for rent in a sha...            100\n",
       "1  murphy bed, optional second bedroom available....             94\n",
       "2  the apartment has a living room, toilet, bedro...             98\n",
       "3  loft suite deluxe @ henry norman hotel located...             88\n",
       "4  clean, fully furnish, spacious 1 bedroom flat ...            100"
      ]
     },
     "execution_count": 108,
     "metadata": {},
     "output_type": "execute_result"
    }
   ],
   "source": [
    "test_df['description'] = test_df['description'].str.lower()\n",
    "test_df.head()"
   ]
  },
  {
   "cell_type": "code",
   "execution_count": 114,
   "id": "3753f1a9-a470-4c68-aae7-028036f787b2",
   "metadata": {},
   "outputs": [],
   "source": [
    "def tokenize_partitions(df):\n",
    "    df['description'] = df['description'].apply(tokenizer.tokenize)\n",
    "    return df\n",
    "\n",
    "test2 = test_df.map_partitions(tokenize_partitions)\n",
    "test2.head()"
   ]
  },
  {
   "cell_type": "code",
   "execution_count": 115,
   "id": "f208db6b-2373-484e-9a72-8e72b6fe76a2",
   "metadata": {},
   "outputs": [
    {
     "data": {
      "text/html": [
       "<div>\n",
       "<style scoped>\n",
       "    .dataframe tbody tr th:only-of-type {\n",
       "        vertical-align: middle;\n",
       "    }\n",
       "\n",
       "    .dataframe tbody tr th {\n",
       "        vertical-align: top;\n",
       "    }\n",
       "\n",
       "    .dataframe thead th {\n",
       "        text-align: right;\n",
       "    }\n",
       "</style>\n",
       "<table border=\"1\" class=\"dataframe\">\n",
       "  <thead>\n",
       "    <tr style=\"text-align: right;\">\n",
       "      <th></th>\n",
       "      <th>description</th>\n",
       "      <th>review_rating</th>\n",
       "    </tr>\n",
       "  </thead>\n",
       "  <tbody>\n",
       "    <tr>\n",
       "      <th>0</th>\n",
       "      <td>[here, exists, a, very, cozy, room, for, rent,...</td>\n",
       "      <td>100</td>\n",
       "    </tr>\n",
       "    <tr>\n",
       "      <th>1</th>\n",
       "      <td>[murphy, bed, optional, second, bedroom, avail...</td>\n",
       "      <td>94</td>\n",
       "    </tr>\n",
       "    <tr>\n",
       "      <th>2</th>\n",
       "      <td>[the, apartment, has, a, living, room, toilet,...</td>\n",
       "      <td>98</td>\n",
       "    </tr>\n",
       "    <tr>\n",
       "      <th>3</th>\n",
       "      <td>[loft, suite, deluxe, henry, norman, hotel, lo...</td>\n",
       "      <td>88</td>\n",
       "    </tr>\n",
       "    <tr>\n",
       "      <th>4</th>\n",
       "      <td>[clean, fully, furnish, spacious, 1, bedroom, ...</td>\n",
       "      <td>100</td>\n",
       "    </tr>\n",
       "  </tbody>\n",
       "</table>\n",
       "</div>"
      ],
      "text/plain": [
       "                                         description  review_rating\n",
       "0  [here, exists, a, very, cozy, room, for, rent,...            100\n",
       "1  [murphy, bed, optional, second, bedroom, avail...             94\n",
       "2  [the, apartment, has, a, living, room, toilet,...             98\n",
       "3  [loft, suite, deluxe, henry, norman, hotel, lo...             88\n",
       "4  [clean, fully, furnish, spacious, 1, bedroom, ...            100"
      ]
     },
     "execution_count": 115,
     "metadata": {},
     "output_type": "execute_result"
    }
   ],
   "source": [
    "test2 = test_df.map_partitions(tokenize_partitions)\n",
    "test2.head()"
   ]
  },
  {
   "cell_type": "markdown",
   "id": "7ccbeba6-ba15-408b-b23b-51722ed9ad9f",
   "metadata": {},
   "source": [
    "OK, I think this is working now. Confirmed that we have a list of strings as the content of `description` column."
   ]
  },
  {
   "cell_type": "code",
   "execution_count": 124,
   "id": "ab8e3341-edf6-4a5b-8010-3413fe97f99d",
   "metadata": {},
   "outputs": [],
   "source": [
    "X_t = test2['description']\n",
    "y_t = test2['review_rating']"
   ]
  },
  {
   "cell_type": "code",
   "execution_count": 125,
   "id": "f39a9937-a375-4f61-bbc5-5b53d528bec6",
   "metadata": {},
   "outputs": [
    {
     "name": "stderr",
     "output_type": "stream",
     "text": [
      "/Users/rpelgrim/mambaforge/envs/dask-mongo/lib/python3.9/site-packages/dask_ml/model_selection/_split.py:462: FutureWarning: The default value for 'shuffle' must be specified when splitting DataFrames. In the future DataFrames will automatically be shuffled within blocks prior to splitting. Specify 'shuffle=True' to adopt the future behavior now, or 'shuffle=False' to retain the previous behavior.\n",
      "  warnings.warn(\n"
     ]
    }
   ],
   "source": [
    "# create train/test splits\n",
    "from dask_ml.model_selection import train_test_split\n",
    "X_train, X_test, y_train, y_test = train_test_split(\n",
    "    X_t, \n",
    "    y_t, \n",
    "    test_size=0.20, \n",
    "    random_state=40\n",
    ")"
   ]
  },
  {
   "cell_type": "code",
   "execution_count": 128,
   "id": "a6b88b50-58df-4f82-93e4-ca687e8a3b3e",
   "metadata": {},
   "outputs": [
    {
     "name": "stderr",
     "output_type": "stream",
     "text": [
      "/Users/rpelgrim/mambaforge/envs/dask-mongo/lib/python3.9/site-packages/sklearn/feature_extraction/text.py:516: UserWarning: The parameter 'token_pattern' will not be used since 'tokenizer' is not None'\n",
      "  warnings.warn(\n"
     ]
    }
   ],
   "source": [
    "# vectorize\n",
    "from dask_ml.feature_extraction.text import HashingVectorizer\n",
    "vect = HashingVectorizer(lowercase=False, tokenizer=lambda x:x)\n",
    "X_train_vect = vect.fit_transform(X_train)"
   ]
  },
  {
   "cell_type": "code",
   "execution_count": 129,
   "id": "fb4a2e5f-d74c-43b8-ac4d-ee14ca890cb7",
   "metadata": {},
   "outputs": [
    {
     "data": {
      "text/html": [
       "<table>\n",
       "    <tr>\n",
       "        <td>\n",
       "            <table>\n",
       "                <thead>\n",
       "                    <tr>\n",
       "                        <td> </td>\n",
       "                        <th> Array </th>\n",
       "                        <th> Chunk </th>\n",
       "                    </tr>\n",
       "                </thead>\n",
       "                <tbody>\n",
       "                    \n",
       "                    <tr>\n",
       "                        <th> Shape </th>\n",
       "                        <td> (2151, 1048576) </td>\n",
       "                        <td> (220, 1048576) </td>\n",
       "                    </tr>\n",
       "                    <tr>\n",
       "                        <th> Count </th>\n",
       "                        <td> 120 Tasks </td>\n",
       "                        <td> 12 Chunks </td>\n",
       "                    </tr>\n",
       "                    <tr>\n",
       "                    <th> Type </th>\n",
       "                    <td> float64 </td>\n",
       "                    <td> scipy.sparse.csr.csr_matrix </td>\n",
       "                    </tr>\n",
       "                </tbody>\n",
       "            </table>\n",
       "        </td>\n",
       "        <td>\n",
       "        <svg width=\"170\" height=\"75\" style=\"stroke:rgb(0,0,0);stroke-width:1\" >\n",
       "\n",
       "  <!-- Horizontal lines -->\n",
       "  <line x1=\"0\" y1=\"0\" x2=\"120\" y2=\"0\" style=\"stroke-width:2\" />\n",
       "  <line x1=\"0\" y1=\"2\" x2=\"120\" y2=\"2\" />\n",
       "  <line x1=\"0\" y1=\"4\" x2=\"120\" y2=\"4\" />\n",
       "  <line x1=\"0\" y1=\"6\" x2=\"120\" y2=\"6\" />\n",
       "  <line x1=\"0\" y1=\"9\" x2=\"120\" y2=\"9\" />\n",
       "  <line x1=\"0\" y1=\"11\" x2=\"120\" y2=\"11\" />\n",
       "  <line x1=\"0\" y1=\"13\" x2=\"120\" y2=\"13\" />\n",
       "  <line x1=\"0\" y1=\"15\" x2=\"120\" y2=\"15\" />\n",
       "  <line x1=\"0\" y1=\"17\" x2=\"120\" y2=\"17\" />\n",
       "  <line x1=\"0\" y1=\"19\" x2=\"120\" y2=\"19\" />\n",
       "  <line x1=\"0\" y1=\"20\" x2=\"120\" y2=\"20\" />\n",
       "  <line x1=\"0\" y1=\"23\" x2=\"120\" y2=\"23\" />\n",
       "  <line x1=\"0\" y1=\"25\" x2=\"120\" y2=\"25\" style=\"stroke-width:2\" />\n",
       "\n",
       "  <!-- Vertical lines -->\n",
       "  <line x1=\"0\" y1=\"0\" x2=\"0\" y2=\"25\" style=\"stroke-width:2\" />\n",
       "  <line x1=\"120\" y1=\"0\" x2=\"120\" y2=\"25\" style=\"stroke-width:2\" />\n",
       "\n",
       "  <!-- Colored Rectangle -->\n",
       "  <polygon points=\"0.0,0.0 120.0,0.0 120.0,25.412616514582485 0.0,25.412616514582485\" style=\"fill:#ECB172A0;stroke-width:0\"/>\n",
       "\n",
       "  <!-- Text -->\n",
       "  <text x=\"60.000000\" y=\"45.412617\" font-size=\"1.0rem\" font-weight=\"100\" text-anchor=\"middle\" >1048576</text>\n",
       "  <text x=\"140.000000\" y=\"12.706308\" font-size=\"1.0rem\" font-weight=\"100\" text-anchor=\"middle\" transform=\"rotate(-90,140.000000,12.706308)\">2151</text>\n",
       "</svg>\n",
       "        </td>\n",
       "    </tr>\n",
       "</table>"
      ],
      "text/plain": [
       "dask.array<_transformer, shape=(2151, 1048576), dtype=float64, chunksize=(220, 1048576), chunktype=scipy.csr_matrix>"
      ]
     },
     "execution_count": 129,
     "metadata": {},
     "output_type": "execute_result"
    }
   ],
   "source": [
    "# make sure to compute the chunk sizes before training\n",
    "X_train_vect.compute_chunk_sizes()"
   ]
  },
  {
   "cell_type": "code",
   "execution_count": null,
   "id": "c552dd44-b420-456d-aca1-2bcd14c3cd30",
   "metadata": {},
   "outputs": [],
   "source": [
    "%%time\n",
    "# train classifier\n",
    "clf.fit(X_train_vect, y_train)"
   ]
  },
  {
   "cell_type": "code",
   "execution_count": null,
   "id": "342306fd-f21a-42d8-b133-034132868a34",
   "metadata": {},
   "outputs": [],
   "source": []
  },
  {
   "cell_type": "code",
   "execution_count": 26,
   "id": "524f9b54-523f-4481-94b9-7223e3cc0d13",
   "metadata": {},
   "outputs": [],
   "source": [
    "lemmas = description_text_clean.map(lemmatize)"
   ]
  },
  {
   "cell_type": "code",
   "execution_count": 27,
   "id": "3ebeeb3e-c7c7-43ed-b4f3-68d0f89b07c8",
   "metadata": {},
   "outputs": [
    {
     "data": {
      "text/plain": [
       "(['exist',\n",
       "  'cozy',\n",
       "  'room',\n",
       "  'rent',\n",
       "  'share',\n",
       "  '4',\n",
       "  'bedroom',\n",
       "  'apartment',\n",
       "  'locate',\n",
       "  'one',\n",
       "  'block',\n",
       "  'jmz',\n",
       "  'myrtle',\n",
       "  'broadway',\n",
       "  'neighborhood',\n",
       "  'diverse',\n",
       "  'appeal',\n",
       "  'variety',\n",
       "  'people'],)"
      ]
     },
     "execution_count": 27,
     "metadata": {},
     "output_type": "execute_result"
    }
   ],
   "source": [
    "lemmas.take(1)"
   ]
  },
  {
   "cell_type": "markdown",
   "id": "80256b52-2d54-4ec7-bd26-3a6668176abb",
   "metadata": {},
   "source": [
    "Notice how a Dask Bag lets you .map() any Python function over all of the records it contains, regardless of the library you might be using."
   ]
  },
  {
   "cell_type": "code",
   "execution_count": null,
   "id": "82abd94f-f552-4543-a3fd-aa225b2f4e81",
   "metadata": {},
   "outputs": [],
   "source": []
  }
 ],
 "metadata": {
  "kernelspec": {
   "display_name": "dask-mongo",
   "language": "python",
   "name": "dask-mongo"
  },
  "language_info": {
   "codemirror_mode": {
    "name": "ipython",
    "version": 3
   },
   "file_extension": ".py",
   "mimetype": "text/x-python",
   "name": "python",
   "nbconvert_exporter": "python",
   "pygments_lexer": "ipython3",
   "version": "3.9.10"
  }
 },
 "nbformat": 4,
 "nbformat_minor": 5
}
