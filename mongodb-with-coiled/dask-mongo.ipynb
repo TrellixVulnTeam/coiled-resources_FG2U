{
 "cells": [
  {
   "cell_type": "markdown",
   "id": "da19db16-04cf-45be-8f4d-4755edbb844d",
   "metadata": {},
   "source": [
    "## Demo Notebook\n",
    "# Coiled & MongoDB for Large-Scale NLP Analysis\n"
   ]
  },
  {
   "cell_type": "markdown",
   "id": "52df7037-8c0a-4ef4-8ace-fa2693df4089",
   "metadata": {},
   "source": [
    "This notebook walks through a basic NLP workflow to illustrate how we can use Coiled and MongoDB for large-scale NLP analyses.\n",
    "\n",
    "1. Load in toy dataset (AirBnb Sample Dataset from MongoDB)\n",
    "2. Apply some NLP preprocessing using NLTK and SpaCy\n",
    "3. Create vectors for ML using Dask-ML\n",
    "4. Train an XGBoost Classifier"
   ]
  },
  {
   "cell_type": "markdown",
   "id": "7c566c32-d52e-4a5c-8930-fddc5f2839a6",
   "metadata": {},
   "source": [
    "## 1. Launch Coiled Cluster"
   ]
  },
  {
   "cell_type": "code",
   "execution_count": 1,
   "id": "da1f31c1-703c-4af2-8523-09501e08a0ca",
   "metadata": {},
   "outputs": [],
   "source": [
    "import coiled"
   ]
  },
  {
   "cell_type": "code",
   "execution_count": 2,
   "id": "a8d7ae1e-daf1-4a4e-95ab-0a07d468f640",
   "metadata": {},
   "outputs": [
    {
     "data": {
      "text/html": [
       "<pre style=\"white-space:pre;overflow-x:auto;line-height:normal;font-family:Menlo,'DejaVu Sans Mono',consolas,'Courier New',monospace\">/Users/rpelgrim/mambaforge/envs/numpy-zarr/lib/python3.9/site-packages/rich/live.py:221: \n",
       "UserWarning: install \"ipywidgets\" for Jupyter support\n",
       "  warnings.warn('install \"ipywidgets\" for Jupyter support')\n",
       "</pre>\n"
      ],
      "text/plain": [
       "/Users/rpelgrim/mambaforge/envs/numpy-zarr/lib/python3.9/site-packages/rich/live.py:221: \n",
       "UserWarning: install \"ipywidgets\" for Jupyter support\n",
       "  warnings.warn('install \"ipywidgets\" for Jupyter support')\n"
      ]
     },
     "metadata": {},
     "output_type": "display_data"
    },
    {
     "name": "stdout",
     "output_type": "stream",
     "text": [
      "Found software environment build\n",
      "Created fw rule: inbound [8786-8787] [0.0.0.0/0] []\n",
      "Created FW rules: coiled-dask-rrpelgr71-113585-firewall\n",
      "Created fw rule: cluster [0-65535] [None] [coiled-dask-rrpelgr71-113585-firewall -> coiled-dask-rrpelgr71-113585-firewall]\n",
      "Created FW rules: coiled-dask-rrpelgr71-113585-cluster-firewall\n",
      "Created fw rule: cluster [0-65535] [None] [coiled-dask-rrpelgr71-113585-cluster-firewall -> coiled-dask-rrpelgr71-113585-cluster-firewall]\n",
      "Created scheduler VM: coiled-dask-rrpelgr71-113585-scheduler (type: t3.medium, ip: ['3.238.138.156'])\n"
     ]
    },
    {
     "data": {
      "text/html": [
       "<pre style=\"white-space:pre;overflow-x:auto;line-height:normal;font-family:Menlo,'DejaVu Sans Mono',consolas,'Courier New',monospace\"></pre>\n"
      ],
      "text/plain": []
     },
     "metadata": {},
     "output_type": "display_data"
    }
   ],
   "source": [
    "cluster = coiled.Cluster(\n",
    "    name=\"dask-nlp-mongodb\",\n",
    "    software=\"rrpelgrim/dask-nlp\",\n",
    "    n_workers=20,\n",
    "    shutdown_on_close=False,\n",
    "    scheduler_options={'idle_timeout':'2 hours'}\n",
    ")"
   ]
  },
  {
   "cell_type": "code",
   "execution_count": 3,
   "id": "cef41594-b06a-4440-93f8-da727b294181",
   "metadata": {},
   "outputs": [
    {
     "name": "stderr",
     "output_type": "stream",
     "text": [
      "/Users/rpelgrim/mambaforge/envs/numpy-zarr/lib/python3.9/site-packages/distributed/client.py:1128: VersionMismatchWarning: Mismatched versions found\n",
      "\n",
      "+-------------+---------------+---------------+---------------+\n",
      "| Package     | client        | scheduler     | workers       |\n",
      "+-------------+---------------+---------------+---------------+\n",
      "| dask        | 2021.11.1     | 2022.02.0     | 2022.02.0     |\n",
      "| distributed | 2021.11.1     | 2022.02.0     | 2022.02.0     |\n",
      "| msgpack     | 1.0.3         | 1.0.2         | 1.0.2         |\n",
      "| numpy       | 1.21.2        | 1.21.5        | 1.21.5        |\n",
      "| pandas      | 1.3.4         | 1.4.1         | 1.4.1         |\n",
      "| python      | 3.9.6.final.0 | 3.9.7.final.0 | 3.9.7.final.0 |\n",
      "+-------------+---------------+---------------+---------------+\n",
      "Notes: \n",
      "-  msgpack: Variation is ok, as long as everything is above 0.6\n",
      "  warnings.warn(version_module.VersionMismatchWarning(msg[0][\"warning\"]))\n"
     ]
    },
    {
     "data": {
      "text/html": [
       "<div>\n",
       "    <div style=\"width: 24px; height: 24px; background-color: #e1e1e1; border: 3px solid #9D9D9D; border-radius: 5px; position: absolute;\"> </div>\n",
       "    <div style=\"margin-left: 48px;\">\n",
       "        <h3 style=\"margin-bottom: 0px;\">Client</h3>\n",
       "        <p style=\"color: #9D9D9D; margin-bottom: 0px;\">Client-0843dd22-94b9-11ec-afbb-1e008a1e9c25</p>\n",
       "        <table style=\"width: 100%; text-align: left;\">\n",
       "\n",
       "        <tr>\n",
       "        \n",
       "            <td style=\"text-align: left;\"><strong>Connection method:</strong> Cluster object</td>\n",
       "            <td style=\"text-align: left;\"><strong>Cluster type:</strong> coiled.Cluster</td>\n",
       "        \n",
       "        </tr>\n",
       "\n",
       "        \n",
       "            <tr>\n",
       "                <td style=\"text-align: left;\">\n",
       "                    <strong>Dashboard: </strong> <a href=\"http://3.238.138.156:8787\" target=\"_blank\">http://3.238.138.156:8787</a>\n",
       "                </td>\n",
       "                <td style=\"text-align: left;\"></td>\n",
       "            </tr>\n",
       "        \n",
       "\n",
       "        </table>\n",
       "\n",
       "        \n",
       "            <details>\n",
       "            <summary style=\"margin-bottom: 20px;\"><h3 style=\"display: inline;\">Cluster Info</h3></summary>\n",
       "            <div class=\"jp-RenderedHTMLCommon jp-RenderedHTML jp-mod-trusted jp-OutputArea-output\">\n",
       "    <div style=\"width: 24px; height: 24px; background-color: #e1e1e1; border: 3px solid #9D9D9D; border-radius: 5px; position: absolute;\">\n",
       "    </div>\n",
       "    <div style=\"margin-left: 48px;\">\n",
       "        <h3 style=\"margin-bottom: 0px; margin-top: 0px;\">Cluster</h3>\n",
       "        <p style=\"color: #9D9D9D; margin-bottom: 0px;\">dask-nlp-mongodb</p>\n",
       "        <table style=\"width: 100%; text-align: left;\">\n",
       "            <tr>\n",
       "                <td style=\"text-align: left;\">\n",
       "                    <strong>Dashboard:</strong> <a href=\"http://3.238.138.156:8787\" target=\"_blank\">http://3.238.138.156:8787</a>\n",
       "                </td>\n",
       "                <td style=\"text-align: left;\">\n",
       "                    <strong>Workers:</strong> 1\n",
       "                </td>\n",
       "            </tr>\n",
       "            <tr>\n",
       "                <td style=\"text-align: left;\">\n",
       "                    <strong>Total threads:</strong> 2\n",
       "                </td>\n",
       "                <td style=\"text-align: left;\">\n",
       "                    <strong>Total memory:</strong> 7.48 GiB\n",
       "                </td>\n",
       "            </tr>\n",
       "            \n",
       "        </table>\n",
       "\n",
       "        <details>\n",
       "            <summary style=\"margin-bottom: 20px;\">\n",
       "                <h3 style=\"display: inline;\">Scheduler Info</h3>\n",
       "            </summary>\n",
       "\n",
       "            <div style=\"\">\n",
       "    <div>\n",
       "        <div style=\"width: 24px; height: 24px; background-color: #FFF7E5; border: 3px solid #FF6132; border-radius: 5px; position: absolute;\"> </div>\n",
       "        <div style=\"margin-left: 48px;\">\n",
       "            <h3 style=\"margin-bottom: 0px;\">Scheduler</h3>\n",
       "            <p style=\"color: #9D9D9D; margin-bottom: 0px;\">Scheduler-e704abea-9edb-4c36-ac5f-4bb014ac49ba</p>\n",
       "            <table style=\"width: 100%; text-align: left;\">\n",
       "                <tr>\n",
       "                    <td style=\"text-align: left;\">\n",
       "                        <strong>Comm:</strong> tls://10.4.5.130:8786\n",
       "                    </td>\n",
       "                    <td style=\"text-align: left;\">\n",
       "                        <strong>Workers:</strong> 1\n",
       "                    </td>\n",
       "                </tr>\n",
       "                <tr>\n",
       "                    <td style=\"text-align: left;\">\n",
       "                        <strong>Dashboard:</strong> <a href=\"http://10.4.5.130:8787/status\" target=\"_blank\">http://10.4.5.130:8787/status</a>\n",
       "                    </td>\n",
       "                    <td style=\"text-align: left;\">\n",
       "                        <strong>Total threads:</strong> 2\n",
       "                    </td>\n",
       "                </tr>\n",
       "                <tr>\n",
       "                    <td style=\"text-align: left;\">\n",
       "                        <strong>Started:</strong> Just now\n",
       "                    </td>\n",
       "                    <td style=\"text-align: left;\">\n",
       "                        <strong>Total memory:</strong> 7.48 GiB\n",
       "                    </td>\n",
       "                </tr>\n",
       "            </table>\n",
       "        </div>\n",
       "    </div>\n",
       "\n",
       "    <details style=\"margin-left: 48px;\">\n",
       "        <summary style=\"margin-bottom: 20px;\">\n",
       "            <h3 style=\"display: inline;\">Workers</h3>\n",
       "        </summary>\n",
       "\n",
       "        \n",
       "        <div style=\"margin-bottom: 20px;\">\n",
       "            <div style=\"width: 24px; height: 24px; background-color: #DBF5FF; border: 3px solid #4CC9FF; border-radius: 5px; position: absolute;\"> </div>\n",
       "            <div style=\"margin-left: 48px;\">\n",
       "            <details>\n",
       "                <summary>\n",
       "                    <h4 style=\"margin-bottom: 0px; display: inline;\">Worker: coiled-dask-rrpelgr71-113585-worker-73927749d2</h4>\n",
       "                </summary>\n",
       "                <table style=\"width: 100%; text-align: left;\">\n",
       "                    <tr>\n",
       "                        <td style=\"text-align: left;\">\n",
       "                            <strong>Comm: </strong> tls://10.4.13.76:46331\n",
       "                        </td>\n",
       "                        <td style=\"text-align: left;\">\n",
       "                            <strong>Total threads: </strong> 2\n",
       "                        </td>\n",
       "                    </tr>\n",
       "                    <tr>\n",
       "                        <td style=\"text-align: left;\">\n",
       "                            <strong>Dashboard: </strong> <a href=\"http://10.4.13.76:38797/status\" target=\"_blank\">http://10.4.13.76:38797/status</a>\n",
       "                        </td>\n",
       "                        <td style=\"text-align: left;\">\n",
       "                            <strong>Memory: </strong> 7.48 GiB\n",
       "                        </td>\n",
       "                    </tr>\n",
       "                    <tr>\n",
       "                        <td style=\"text-align: left;\">\n",
       "                            <strong>Nanny: </strong> tls://10.4.13.76:34009\n",
       "                        </td>\n",
       "                        <td style=\"text-align: left;\"></td>\n",
       "                    </tr>\n",
       "                    <tr>\n",
       "                        <td colspan=\"2\" style=\"text-align: left;\">\n",
       "                            <strong>Local directory: </strong> /dask-worker-space/worker-u2blmgg2\n",
       "                        </td>\n",
       "                    </tr>\n",
       "\n",
       "                    \n",
       "\n",
       "                    \n",
       "\n",
       "                </table>\n",
       "            </details>\n",
       "            </div>\n",
       "        </div>\n",
       "        \n",
       "\n",
       "    </details>\n",
       "</div>\n",
       "\n",
       "        </details>\n",
       "    </div>\n",
       "</div>\n",
       "            </details>\n",
       "        \n",
       "\n",
       "    </div>\n",
       "</div>"
      ],
      "text/plain": [
       "<Client: 'tls://10.4.5.130:8786' processes=1 threads=2, memory=7.48 GiB>"
      ]
     },
     "execution_count": 3,
     "metadata": {},
     "output_type": "execute_result"
    }
   ],
   "source": [
    "from dask.distributed import Client\n",
    "\n",
    "client = Client(cluster)\n",
    "client"
   ]
  },
  {
   "cell_type": "markdown",
   "id": "6c39f6e3-32f6-4235-961b-dc544ffebc8e",
   "metadata": {},
   "source": [
    "## 2. Read Data from MongoDB"
   ]
  },
  {
   "cell_type": "code",
   "execution_count": 4,
   "id": "6b083db6-64e8-4542-9d4f-71c47bac0a8c",
   "metadata": {},
   "outputs": [],
   "source": [
    "from dask_mongo import read_mongo\n",
    "import urllib"
   ]
  },
  {
   "cell_type": "code",
   "execution_count": 5,
   "id": "7fff2141-43d8-4aa5-8aad-169cbc55d301",
   "metadata": {},
   "outputs": [],
   "source": [
    "# Replace the username, password, and cluster address with your own connection details\n",
    "host_uri = \"mongodb+srv://richard:\" + urllib.parse.quote(\"Rp@976559MO\") + \"@cluster0.ffttf.mongodb.net/myFirstDatabase?retryWrites=true&w=majority\""
   ]
  },
  {
   "cell_type": "code",
   "execution_count": 6,
   "id": "2dfb6c72-b37e-4bb6-90f8-eadfc0a6738c",
   "metadata": {},
   "outputs": [],
   "source": [
    "bag = read_mongo(\n",
    "    connection_kwargs={\"host\": host_uri},\n",
    "    database=\"sample_airbnb\",\n",
    "    collection=\"listingsAndReviews\",\n",
    "    chunksize=500,\n",
    ")"
   ]
  },
  {
   "cell_type": "code",
   "execution_count": 7,
   "id": "59fed42a-b8d0-4a2e-8c38-88231d8a56fa",
   "metadata": {},
   "outputs": [
    {
     "data": {
      "text/plain": [
       "({'_id': '10006546',\n",
       "  'listing_url': 'https://www.airbnb.com/rooms/10006546',\n",
       "  'name': 'Ribeira Charming Duplex',\n",
       "  'summary': 'Fantastic duplex apartment with three bedrooms, located in the historic area of Porto, Ribeira (Cube) - UNESCO World Heritage Site. Centenary building fully rehabilitated, without losing their original character.',\n",
       "  'space': 'Privileged views of the Douro River and Ribeira square, our apartment offers the perfect conditions to discover the history and the charm of Porto. Apartment comfortable, charming, romantic and cozy in the heart of Ribeira. Within walking distance of all the most emblematic places of the city of Porto. The apartment is fully equipped to host 8 people, with cooker, oven, washing machine, dishwasher, microwave, coffee machine (Nespresso) and kettle. The apartment is located in a very typical area of the city that allows to cross with the most picturesque population of the city, welcoming, genuine and happy people that fills the streets with his outspoken speech and contagious with your sincere generosity, wrapped in a only parochial spirit.',\n",
       "  'description': 'Fantastic duplex apartment with three bedrooms, located in the historic area of Porto, Ribeira (Cube) - UNESCO World Heritage Site. Centenary building fully rehabilitated, without losing their original character. Privileged views of the Douro River and Ribeira square, our apartment offers the perfect conditions to discover the history and the charm of Porto. Apartment comfortable, charming, romantic and cozy in the heart of Ribeira. Within walking distance of all the most emblematic places of the city of Porto. The apartment is fully equipped to host 8 people, with cooker, oven, washing machine, dishwasher, microwave, coffee machine (Nespresso) and kettle. The apartment is located in a very typical area of the city that allows to cross with the most picturesque population of the city, welcoming, genuine and happy people that fills the streets with his outspoken speech and contagious with your sincere generosity, wrapped in a only parochial spirit. We are always available to help guests',\n",
       "  'neighborhood_overview': \"In the neighborhood of the river, you can find several restaurants as varied flavors, but without forgetting the so traditional northern food. You can also find several bars and pubs to unwind after a day's visit to the magnificent Port. To enjoy the Douro River can board the boats that daily make the ride of six bridges. You can also embark towards Régua, Barca d'Alva, Pinhão, etc and enjoy the Douro Wine Region, World Heritage of Humanity. The Infante's house is a few meters and no doubt it deserves a visit. They abound grocery stores, bakeries, etc. to make your meals. Souvenir shop, wine cellars, etc. to bring some souvenirs.\",\n",
       "  'notes': 'Lose yourself in the narrow streets and staircases zone, have lunch in pubs and typical restaurants, and find the renovated cafes and shops in town. If you like exercise, rent a bicycle in the area and ride along the river to the sea, where it will enter beautiful beaches and terraces for everyone. The area is safe, find the bus stops 1min and metro line 5min. The bustling nightlife is a 10 min walk, where the streets are filled with people and entertainment for all. But Porto is much more than the historical center, here is modern museums, concert halls, clean and cared for beaches and surf all year round. Walk through the Ponte D. Luis and visit the different Caves of Port wine, where you will enjoy the famous port wine. Porto is a spoken city everywhere in the world as the best to be visited and savored by all ... natural beauty, culture, tradition, river, sea, beach, single people, typical food, and we are among those who best receive tourists, confirm! Come visit us and feel at ho',\n",
       "  'transit': 'Transport: • Metro station and S. Bento railway 5min; • Bus stop a 50 meters; • Lift Guindais (Funicular) 50 meters; • Tuc Tuc-to get around the city; • Buses tourist; • Cycling through the marginal drive; • Cable car in Gaia, overlooking the Port (just cross the bridge).',\n",
       "  'access': 'We are always available to help guests. The house is fully available to guests. We are always ready to assist guests. when possible we pick the guests at the airport.  This service transfer have a cost per person. We will also have service \"meal at home\" with a diverse menu and the taste of each. Enjoy the moment!',\n",
       "  'interaction': 'Cot - 10 € / night Dog - € 7,5 / night',\n",
       "  'house_rules': 'Make the house your home...',\n",
       "  'property_type': 'House',\n",
       "  'room_type': 'Entire home/apt',\n",
       "  'bed_type': 'Real Bed',\n",
       "  'minimum_nights': '2',\n",
       "  'maximum_nights': '30',\n",
       "  'cancellation_policy': 'moderate',\n",
       "  'last_scraped': datetime.datetime(2019, 2, 16, 5, 0),\n",
       "  'calendar_last_scraped': datetime.datetime(2019, 2, 16, 5, 0),\n",
       "  'first_review': datetime.datetime(2016, 1, 3, 5, 0),\n",
       "  'last_review': datetime.datetime(2019, 1, 20, 5, 0),\n",
       "  'accommodates': 8,\n",
       "  'bedrooms': 3,\n",
       "  'beds': 5,\n",
       "  'number_of_reviews': 51,\n",
       "  'bathrooms': Decimal128('1.0'),\n",
       "  'amenities': ['TV',\n",
       "   'Cable TV',\n",
       "   'Wifi',\n",
       "   'Kitchen',\n",
       "   'Paid parking off premises',\n",
       "   'Smoking allowed',\n",
       "   'Pets allowed',\n",
       "   'Buzzer/wireless intercom',\n",
       "   'Heating',\n",
       "   'Family/kid friendly',\n",
       "   'Washer',\n",
       "   'First aid kit',\n",
       "   'Fire extinguisher',\n",
       "   'Essentials',\n",
       "   'Hangers',\n",
       "   'Hair dryer',\n",
       "   'Iron',\n",
       "   'Pack ’n Play/travel crib',\n",
       "   'Room-darkening shades',\n",
       "   'Hot water',\n",
       "   'Bed linens',\n",
       "   'Extra pillows and blankets',\n",
       "   'Microwave',\n",
       "   'Coffee maker',\n",
       "   'Refrigerator',\n",
       "   'Dishwasher',\n",
       "   'Dishes and silverware',\n",
       "   'Cooking basics',\n",
       "   'Oven',\n",
       "   'Stove',\n",
       "   'Cleaning before checkout',\n",
       "   'Waterfront'],\n",
       "  'price': Decimal128('80.00'),\n",
       "  'security_deposit': Decimal128('200.00'),\n",
       "  'cleaning_fee': Decimal128('35.00'),\n",
       "  'extra_people': Decimal128('15.00'),\n",
       "  'guests_included': Decimal128('6'),\n",
       "  'images': {'thumbnail_url': '',\n",
       "   'medium_url': '',\n",
       "   'picture_url': 'https://a0.muscache.com/im/pictures/e83e702f-ef49-40fb-8fa0-6512d7e26e9b.jpg?aki_policy=large',\n",
       "   'xl_picture_url': ''},\n",
       "  'host': {'host_id': '51399391',\n",
       "   'host_url': 'https://www.airbnb.com/users/show/51399391',\n",
       "   'host_name': 'Ana&Gonçalo',\n",
       "   'host_location': 'Porto, Porto District, Portugal',\n",
       "   'host_about': 'Gostamos de passear, de viajar, de conhecer pessoas e locais novos, gostamos de desporto e animais! Vivemos na cidade mais linda do mundo!!!',\n",
       "   'host_response_time': 'within an hour',\n",
       "   'host_thumbnail_url': 'https://a0.muscache.com/im/pictures/fab79f25-2e10-4f0f-9711-663cb69dc7d8.jpg?aki_policy=profile_small',\n",
       "   'host_picture_url': 'https://a0.muscache.com/im/pictures/fab79f25-2e10-4f0f-9711-663cb69dc7d8.jpg?aki_policy=profile_x_medium',\n",
       "   'host_neighbourhood': '',\n",
       "   'host_response_rate': 100,\n",
       "   'host_is_superhost': False,\n",
       "   'host_has_profile_pic': True,\n",
       "   'host_identity_verified': True,\n",
       "   'host_listings_count': 3,\n",
       "   'host_total_listings_count': 3,\n",
       "   'host_verifications': ['email',\n",
       "    'phone',\n",
       "    'reviews',\n",
       "    'jumio',\n",
       "    'offline_government_id',\n",
       "    'government_id']},\n",
       "  'address': {'street': 'Porto, Porto, Portugal',\n",
       "   'suburb': '',\n",
       "   'government_area': 'Cedofeita, Ildefonso, Sé, Miragaia, Nicolau, Vitória',\n",
       "   'market': 'Porto',\n",
       "   'country': 'Portugal',\n",
       "   'country_code': 'PT',\n",
       "   'location': {'type': 'Point',\n",
       "    'coordinates': [-8.61308, 41.1413],\n",
       "    'is_location_exact': False}},\n",
       "  'availability': {'availability_30': 28,\n",
       "   'availability_60': 47,\n",
       "   'availability_90': 74,\n",
       "   'availability_365': 239},\n",
       "  'review_scores': {'review_scores_accuracy': 9,\n",
       "   'review_scores_cleanliness': 9,\n",
       "   'review_scores_checkin': 10,\n",
       "   'review_scores_communication': 10,\n",
       "   'review_scores_location': 10,\n",
       "   'review_scores_value': 9,\n",
       "   'review_scores_rating': 89},\n",
       "  'reviews': [{'_id': '58663741',\n",
       "    'date': datetime.datetime(2016, 1, 3, 5, 0),\n",
       "    'listing_id': '10006546',\n",
       "    'reviewer_id': '51483096',\n",
       "    'reviewer_name': 'Cátia',\n",
       "    'comments': 'A casa da Ana e do Gonçalo foram o local escolhido para a passagem de ano com um grupo de amigos. Fomos super bem recebidos com uma grande simpatia e predisposição a ajudar com qualquer coisa que fosse necessário.\\r\\nA casa era ainda melhor do que parecia nas fotos, totalmente equipada, com mantas, aquecedor e tudo o que pudessemos precisar.\\r\\nA localização não podia ser melhor! Não há melhor do que acordar de manhã e ao virar da esquina estar a ribeira do Porto.'},\n",
       "   {'_id': '62413197',\n",
       "    'date': datetime.datetime(2016, 2, 14, 5, 0),\n",
       "    'listing_id': '10006546',\n",
       "    'reviewer_id': '40031996',\n",
       "    'reviewer_name': 'Théo',\n",
       "    'comments': \"We are french's students, we traveled some days in Porto, this space was good and we can cooking easly. It was rainning so we eard every time the water fall to the ground in the street when we sleeping. But It was cool and or was well received by Ana et Gonçalo\"},\n",
       "   {'_id': '68310569',\n",
       "    'date': datetime.datetime(2016, 4, 4, 4, 0),\n",
       "    'listing_id': '10006546',\n",
       "    'reviewer_id': '53859850',\n",
       "    'reviewer_name': 'Bart',\n",
       "    'comments': \"We had a spledid time in the old centre of Porto.\\r\\nThe appartment is very well situated next to the old Ribeira square. It's perfect to have such an appartment to your disposal, you feel home, and have a place to relax between the exploration of this very nice city.\\r\\nWe thank Ana & Gonçalo, and we hope the appartment is free when we go back next year. Porto is charming original.\"},\n",
       "   {'_id': '69693942',\n",
       "    'date': datetime.datetime(2016, 4, 12, 4, 0),\n",
       "    'listing_id': '10006546',\n",
       "    'reviewer_id': '3135623',\n",
       "    'reviewer_name': 'Alex',\n",
       "    'comments': \"Ana and Goncalo were very helpful and accommodating. When they were not available they put us in touch with their nephew who was equally as helpful. The flat was as described, neat and tidy. The weather was quite cold, but thankfully A&G left us with extra blankets and electric heaters to use. Location was great. Outside the flat there was a slight smell of the river/ sewage, but in all honesty it did not come into the flat, and once you go down the road it doesn't carry on. This may also have been down to the very wet weather we had while there. All in all, very happy and would definitely recommend.\"},\n",
       "   {'_id': '71451096',\n",
       "    'date': datetime.datetime(2016, 4, 25, 4, 0),\n",
       "    'listing_id': '10006546',\n",
       "    'reviewer_id': '13187858',\n",
       "    'reviewer_name': 'Dan',\n",
       "    'comments': \"The hosts were very accommodating and agreed to meet with my parents as they were arriving before us. Communicated very well and always responded in a very timely manner. You couldn't have asked for a better location of this apartment and the place was identical to the pictures in the in the listing.\"},\n",
       "   {'_id': '73191268',\n",
       "    'date': datetime.datetime(2016, 5, 7, 4, 0),\n",
       "    'listing_id': '10006546',\n",
       "    'reviewer_id': '61434690',\n",
       "    'reviewer_name': 'Anne',\n",
       "    'comments': \"THE PLACE TO BE, l'appartement est situé au milieu de la Ribeira , tout peut se faire à pieds c'est l'ideal,l'appartement est très bien agencé et équipé.\\r\\nNous avons passé un séjour très agréable dans ce duplex avec beaucoup de charme .\\r\\nAccueil très chaleureux de Ana et Gonçalo, ils ont pris du temps pour nous indiquer tout ce qu'il y avait à faire sur Porto et répondus  à toutes nos interrogations en terme de commodités.. Merci..\\r\\n\"},\n",
       "   {'_id': '77438107',\n",
       "    'date': datetime.datetime(2016, 5, 31, 4, 0),\n",
       "    'listing_id': '10006546',\n",
       "    'reviewer_id': '3673216',\n",
       "    'reviewer_name': 'Chris',\n",
       "    'comments': 'We had a great time in Porto. Ana’s & Goncalo’s apartment is located right in the heart of the Old Town and is great value for money. You really are at the centre of things and it’s the perfect place to get swept away in the hustle and bustle of Porto. Ana and Goncalo were great hosts.'},\n",
       "   {'_id': '89637734',\n",
       "    'date': datetime.datetime(2016, 7, 29, 4, 0),\n",
       "    'listing_id': '10006546',\n",
       "    'reviewer_id': '9172374',\n",
       "    'reviewer_name': 'Leslie',\n",
       "    'comments': \"Ana and Gonçalo were very welcoming and made a lot of information about Porto's sights available. It was very clean, very beautiful and the location was superb. It does have a lot of restaurants around it, so it could be a bit noisy for us at night but otherwise  great location. We would stay there again. \"},\n",
       "   {'_id': '96574146',\n",
       "    'date': datetime.datetime(2016, 8, 23, 4, 0),\n",
       "    'listing_id': '10006546',\n",
       "    'reviewer_id': '71985274',\n",
       "    'reviewer_name': 'Philippe',\n",
       "    'comments': \"Super appartement très bien placé, au cœur de l'animation de la Ribeira !\\r\\nNous avons passé un super séjour à Porto !\\r\\nToutes les informations données par Ana et les documents laissés nous ont bien aidé à organiser notre séjour.  Nous avons (presque) tout fait à pied ! Le parking Ribeira est proche et bien utile pour garer le véhicule.\\r\\nMerci !!!\\r\\nPhilippe\\r\\n\"},\n",
       "   {'_id': '108444999',\n",
       "    'date': datetime.datetime(2016, 10, 16, 4, 0),\n",
       "    'listing_id': '10006546',\n",
       "    'reviewer_id': '24960918',\n",
       "    'reviewer_name': 'Hanneke',\n",
       "    'comments': 'The appartment was great, it is really nice and cosy, and it is situated at a perfect location. Ana and Goncalo were very friendly, they were very helpfull during our stay. We had a great time during our stay in Porto!'},\n",
       "   {'_id': '111065376',\n",
       "    'date': datetime.datetime(2016, 10, 30, 4, 0),\n",
       "    'listing_id': '10006546',\n",
       "    'reviewer_id': '74079092',\n",
       "    'reviewer_name': 'Kati',\n",
       "    'comments': 'Kävimme majoittajan kanssa viestinvaihtoa ennen lomaa ja he antoivat mukavan vaikutelman. He olivatkin hyvin mukavia ihmisiä. He tulivat lentokentälle vastaan kahdella autolla mikä oli hyvin ystävällistä. He kertoivat myös kaupungista ja sen nähtävyyksistä. Asunnon sijainti oli täydellinen. Se oli myös erittäin romanttinen ja kaunis. Kokemus oli hyvin onnistunut.'},\n",
       "   {'_id': '111655209',\n",
       "    'date': datetime.datetime(2016, 11, 1, 4, 0),\n",
       "    'listing_id': '10006546',\n",
       "    'reviewer_id': '40413493',\n",
       "    'reviewer_name': 'Julia',\n",
       "    'comments': 'Hemos pasado unos días increíbles en Oporto. Llegamos más tarde de lo que habíamos pensado y Ana & Gonçalo nos esperaron pacientemente y nos facilitaron la llegada, además nos recibieron con un regalo de bienvenida!. Nos dieron todo tipo de indicaciones y consejos más que de sobra para disfrutar de los días que estuvimos allí. La ubicación de la casa es inmejorable!! la única pega fue que el soporte de la ducha estaba roto pero como eran pocos días no quisimos molestar a Ana & Gonçalo y no se lo comentamos. '},\n",
       "   {'_id': '132811625',\n",
       "    'date': datetime.datetime(2017, 2, 19, 5, 0),\n",
       "    'listing_id': '10006546',\n",
       "    'reviewer_id': '8986056',\n",
       "    'reviewer_name': 'Joshua',\n",
       "    'comments': 'Great location, comfortable place, responsive and friendly host! Highly recommended!'},\n",
       "   {'_id': '144627907',\n",
       "    'date': datetime.datetime(2017, 4, 16, 4, 0),\n",
       "    'listing_id': '10006546',\n",
       "    'reviewer_id': '113254568',\n",
       "    'reviewer_name': 'Tracey',\n",
       "    'comments': 'This house is in the heart of Porto, set back enough to be away from the hustle and bustle but only a few steps up from the river, bars and restaurants. A great place to stay.\\nThe house was clean and functional. Ana and Goncalo are perfect hosts with lots of information on places to visit and   eat.'},\n",
       "   {'_id': '149009243',\n",
       "    'date': datetime.datetime(2017, 5, 2, 4, 0),\n",
       "    'listing_id': '10006546',\n",
       "    'reviewer_id': '11263097',\n",
       "    'reviewer_name': 'Willem',\n",
       "    'comments': 'The location of the house is wonderful! You are in the heart of the old city and the Douro ist just a few meters away. Perfect for a first visit to Porto!\\nVery cosy and warm house with everything you need.\\nGonçalo gives a lot of good tips that will help you to have a perfect stay. Communication is very easy with him.'},\n",
       "   {'_id': '150518693',\n",
       "    'date': datetime.datetime(2017, 5, 8, 4, 0),\n",
       "    'listing_id': '10006546',\n",
       "    'reviewer_id': '108507776',\n",
       "    'reviewer_name': 'Fanny',\n",
       "    'comments': 'We spend a really good time in Porto, the flat is so well situated. The bridge is just next door, the view on the river is amazing, and plenty of restaurants and pubs, transport are just around.\\nGonzalo is very kind to wait for us, also lat, for the check in, thank you.\\n'},\n",
       "   {'_id': '155913947',\n",
       "    'date': datetime.datetime(2017, 5, 29, 4, 0),\n",
       "    'listing_id': '10006546',\n",
       "    'reviewer_id': '30254816',\n",
       "    'reviewer_name': 'Bridget',\n",
       "    'comments': 'Thanks for a great stay! 6 of us were in Porto for a long weekend and we had a blast. The apartment was perfect; location and size to accomodate us. The hosts were great, then even picked us up at the airport (for a fee but it was a great service). Thanks again! Bridget.'},\n",
       "   {'_id': '159692160',\n",
       "    'date': datetime.datetime(2017, 6, 11, 4, 0),\n",
       "    'listing_id': '10006546',\n",
       "    'reviewer_id': '124514204',\n",
       "    'reviewer_name': 'Oscar',\n",
       "    'comments': 'Superb location and very nice, big and overall pleasant apartment!'},\n",
       "   {'_id': '164881958',\n",
       "    'date': datetime.datetime(2017, 6, 29, 4, 0),\n",
       "    'listing_id': '10006546',\n",
       "    'reviewer_id': '105188418',\n",
       "    'reviewer_name': 'Steve',\n",
       "    'comments': 'The apartment provides basic facilities but is good value for money and very well positioned for easy access to restaurants and bars, the Ribeira district and the Port house in Gaia.'},\n",
       "   {'_id': '166990342',\n",
       "    'date': datetime.datetime(2017, 7, 5, 4, 0),\n",
       "    'listing_id': '10006546',\n",
       "    'reviewer_id': '52660694',\n",
       "    'reviewer_name': 'Tina',\n",
       "    'comments': \"Ana und Gonçalo sind sehr hilfsbereite liebe Leute, die  alles tun, damit man sich wohl fühlt. Wenn es etwas zu beanstanden gab, wird das sofort problemlos erledigt. Das Apartment ist charmant, die Möbel schon etwas mitgenommen, aber das passt insgesamt ins Bild von Porto und macht den Reiz aus. Die Lage ist super, genau am Duoro. Es gibt Strassenmusik bis in den späten Abend und auch morgens geht's früh los mit fröhlichen Lärm von der Flusspromenade. Nichts also für Leute, die es ruhig brauchen! Die Lage ist wirklich exklusiv und tröstet über den recht teuren Mietpreis. Im Umfeld gibt es typische Touri-Fallen, wo alles doppelt kostet, aber gleichzeitig findet man auch sehr nette kleine Bars, in der man chillig und günstig frühstücken oder generell lecker essen kann. Die Stadt ist klein genug, um sich schnell zurechtzufinden und groß genug, um immer wieder neues zu entdecken. Wir waren zu dritt (50, 25, 20 Jahre) und haben die Zeit wirklich genossen. \"},\n",
       "   {'_id': '180030365',\n",
       "    'date': datetime.datetime(2017, 8, 9, 4, 0),\n",
       "    'listing_id': '10006546',\n",
       "    'reviewer_id': '25469637',\n",
       "    'reviewer_name': 'Mathieu',\n",
       "    'comments': 'Very well located appartement ideal for a family of 5 who want to make the most of the city center.\\nIt may be a bit noisy at night but this is acceptable.\\nGlobally we recommend this place.'},\n",
       "   {'_id': '198679769',\n",
       "    'date': datetime.datetime(2017, 9, 30, 4, 0),\n",
       "    'listing_id': '10006546',\n",
       "    'reviewer_id': '21837853',\n",
       "    'reviewer_name': 'Ido',\n",
       "    'comments': 'Great location! The apartment is somewhat basic. We were family with 3 teenagers and had a good time. Also it’s a bit noisy until very late at night.'},\n",
       "   {'_id': '199885226',\n",
       "    'date': datetime.datetime(2017, 10, 3, 4, 0),\n",
       "    'listing_id': '10006546',\n",
       "    'reviewer_id': '56528632',\n",
       "    'reviewer_name': 'Amanda',\n",
       "    'comments': 'This apartment is in the perfect location for being in the middle of the action. There were tons of restaurants close to the apartment and it was a quick walk across the bridge to tour the Port wineries. Be forewarned; if you are looking for a very quiet location, this area may not be for you. However, if you are looking to step outside of your door and start enjoying what Porto has to offer, I recommend this location.'},\n",
       "   {'_id': '207942636',\n",
       "    'date': datetime.datetime(2017, 10, 30, 4, 0),\n",
       "    'listing_id': '10006546',\n",
       "    'reviewer_id': '102474818',\n",
       "    'reviewer_name': 'Geneviève',\n",
       "    'comments': 'Acceuil très très chaleureux de Gonçalo  et Ana lors de notre arrivée très tardive due à un changement d\"\\'horaire d\\'avion....appartement super bien situé dans Porto près du Douro, fidèle aux photos mises sur le site....Nous avons adoré ce quartier bien animé  .....Encore merci à Gonçalo et Ana. ....'},\n",
       "   {'_id': '209455775',\n",
       "    'date': datetime.datetime(2017, 11, 5, 4, 0),\n",
       "    'listing_id': '10006546',\n",
       "    'reviewer_id': '10371877',\n",
       "    'reviewer_name': 'Andrea',\n",
       "    'comments': 'Localização perfeita, muito aconchegante, Ana e Gonçalo são pessoas muito atenciosas e simpáticas!'},\n",
       "   {'_id': '223995518',\n",
       "    'date': datetime.datetime(2018, 1, 2, 5, 0),\n",
       "    'listing_id': '10006546',\n",
       "    'reviewer_id': '10184070',\n",
       "    'reviewer_name': 'Jennifer',\n",
       "    'comments': \"Perfect position to see everything that Porto has to offer. Ana and Gonçalo were great hosts quick to respond and welcoming. Couldn't recommend a better place to stay in Porto to be able to see the sights and be within walking distance to so many restaurants.\"},\n",
       "   {'_id': '225725834',\n",
       "    'date': datetime.datetime(2018, 1, 7, 5, 0),\n",
       "    'listing_id': '10006546',\n",
       "    'reviewer_id': '156411765',\n",
       "    'reviewer_name': 'Nathalie',\n",
       "    'comments': 'Great location!'},\n",
       "   {'_id': '230559180',\n",
       "    'date': datetime.datetime(2018, 1, 28, 5, 0),\n",
       "    'listing_id': '10006546',\n",
       "    'reviewer_id': '2524423',\n",
       "    'reviewer_name': 'Cayetana',\n",
       "    'comments': 'Probably Ana&Gonzalo´s place is great for summer but definitely not in winter. The house is NOT WARM and ready for a stay in cold and humit season. There is NO HEATING in any of the rooms and living room, only bed covers (not nordic duvet) and small heaters which you have to switch off during the night. Those were not enough during our stay in January even we had sunny days! Moreover we were 5 people in the house without NO HOT WATER enough for all of us. \\nThe pictures did not show the reality. Furniture was much older and WiFi signal is only available in the living room, not the rooms.\\nOn the other hand, location is great if you want to stay close to the river. Although think about that all restaurants, bars and main tourist attractions are close to Train Station and Clerigos Tower which means 15-20 min uphill walking distance from the house.'},\n",
       "   {'_id': '232271631',\n",
       "    'date': datetime.datetime(2018, 2, 4, 5, 0),\n",
       "    'listing_id': '10006546',\n",
       "    'reviewer_id': '167219338',\n",
       "    'reviewer_name': 'Mérex',\n",
       "    'comments': \"Appartement très cosy! Nous y avons été pour un court séjour à 7 et avons adoré. L'appartement est idéalement situé dans le quartier magnifique de la Ribeira. L'accueil a ete très chaleureux: Nous étions trompé d'adresse car le GPS avaient confondus les rues mais Ana a su nous retrouver pour nous amener à l'appartement.  L'appartement était très  propre et nous avons eu largement tout ce qu'il fallait en linge.\\nEncore un Grand merci à eux!\"},\n",
       "   {'_id': '234847900',\n",
       "    'date': datetime.datetime(2018, 2, 14, 5, 0),\n",
       "    'listing_id': '10006546',\n",
       "    'reviewer_id': '6735587',\n",
       "    'reviewer_name': 'Andrea',\n",
       "    'comments': 'ottima ospitalità, la posizione della casa è ottima, vicina ai mezzi di trasporto e alle principali attrazioni della città, torneremo sicuramente. Consigliato!!'},\n",
       "   {'_id': '235293831',\n",
       "    'date': datetime.datetime(2018, 2, 16, 5, 0),\n",
       "    'listing_id': '10006546',\n",
       "    'reviewer_id': '130170949',\n",
       "    'reviewer_name': 'Bogdan',\n",
       "    'comments': 'Nice apartment in Porto, we enjoy staying in it for a few days. The apartment is comfortable and has a very nice location. Thanks to Ana and Gonsalo for hospitality.'},\n",
       "   {'_id': '240252220',\n",
       "    'date': datetime.datetime(2018, 3, 4, 5, 0),\n",
       "    'listing_id': '10006546',\n",
       "    'reviewer_id': '153415353',\n",
       "    'reviewer_name': 'Alison',\n",
       "    'comments': 'Great location. Good value thanks for the stay'},\n",
       "   {'_id': '244738269',\n",
       "    'date': datetime.datetime(2018, 3, 19, 4, 0),\n",
       "    'listing_id': '10006546',\n",
       "    'reviewer_id': '59706237',\n",
       "    'reviewer_name': 'Marco',\n",
       "    'comments': 'Me and my friends (7 ppl tot) have booked Gonçalo and Ana’s apartment for our holidays and i think we cannot do a better choice like that.\\nThe apartment is situated near Oporto’s riverside, in Ribeira district, at 2 minutes walking to Sao Bento’s station, 10minutes to Lello’s library and clerics’s tower. In less than 10 minutes u’re in Vila Nova De Gaia where u can find the wineries of porto’s wine.\\nThe apartment is really spacious and comfortable, perfect for 7 italian people that want to have fun in Oporto.\\nSuggested!!!'},\n",
       "   {'_id': '246334180',\n",
       "    'date': datetime.datetime(2018, 3, 25, 4, 0),\n",
       "    'listing_id': '10006546',\n",
       "    'reviewer_id': '12047570',\n",
       "    'reviewer_name': 'Michel',\n",
       "    'comments': \"L'emplacement et vraiment au coeur de l'animation du vieux Porto. Au pied de l'appartement se trouvent de charmants café avec vue sur le Douro.\\nAna&Gonçalo ont été très attentionnés et à l'écoute de nos demandes\\nMichel\"},\n",
       "   {'_id': '259708770',\n",
       "    'date': datetime.datetime(2018, 5, 1, 4, 0),\n",
       "    'listing_id': '10006546',\n",
       "    'reviewer_id': '174003310',\n",
       "    'reviewer_name': 'Dariusz',\n",
       "    'comments': 'Great location right next to the Dom Luiz bridge and Douro river and plenty of restaurants. Enough room for about 6 people. Ana was very responsive to any concerns we had. Would stay again.'},\n",
       "   {'_id': '263239322',\n",
       "    'date': datetime.datetime(2018, 5, 11, 4, 0),\n",
       "    'listing_id': '10006546',\n",
       "    'reviewer_id': '31033799',\n",
       "    'reviewer_name': 'Margriet',\n",
       "    'comments': 'The house was supernice and located in the middle of the center. We really enjoyed our stay here!'},\n",
       "   {'_id': '264125733',\n",
       "    'date': datetime.datetime(2018, 5, 13, 4, 0),\n",
       "    'listing_id': '10006546',\n",
       "    'reviewer_id': '15554470',\n",
       "    'reviewer_name': 'Carlos',\n",
       "    'comments': 'Great Location. Ana & Gonzalo are very nice, flexible, and fast-responsive. Apartment is ok but only one toilet for 3 rooms + sofa-bed.'},\n",
       "   {'_id': '267283092',\n",
       "    'date': datetime.datetime(2018, 5, 21, 4, 0),\n",
       "    'listing_id': '10006546',\n",
       "    'reviewer_id': '39358900',\n",
       "    'reviewer_name': 'Gaspard',\n",
       "    'comments': \"Ana&Gonçalo's apartment was nice, comfy, clean and most of all really well located in the city center!!!\\nWe could easily move everywhere in Porto from there and it was perfect for discovering the city!\\nAlso, I'd like to mention that Gonçalo was nice and patient with us on the day of the arrival even if we were a bit late.\\nI strongly recommend this place!\"},\n",
       "   {'_id': '269853203',\n",
       "    'date': datetime.datetime(2018, 5, 28, 4, 0),\n",
       "    'listing_id': '10006546',\n",
       "    'reviewer_id': '42864948',\n",
       "    'reviewer_name': 'James',\n",
       "    'comments': 'Incredible location, beautiful house. Everything was very easy and we would highly recommend this accommodation. Excellent. '},\n",
       "   {'_id': '272277314',\n",
       "    'date': datetime.datetime(2018, 6, 3, 4, 0),\n",
       "    'listing_id': '10006546',\n",
       "    'reviewer_id': '45990306',\n",
       "    'reviewer_name': '紫仪',\n",
       "    'comments': 'good lication good experience'},\n",
       "   {'_id': '275044729',\n",
       "    'date': datetime.datetime(2018, 6, 10, 4, 0),\n",
       "    'listing_id': '10006546',\n",
       "    'reviewer_id': '176337667',\n",
       "    'reviewer_name': 'Sebastian',\n",
       "    'comments': 'We loved it'},\n",
       "   {'_id': '302971185',\n",
       "    'date': datetime.datetime(2018, 8, 6, 4, 0),\n",
       "    'listing_id': '10006546',\n",
       "    'reviewer_id': '52572680',\n",
       "    'reviewer_name': 'Robby',\n",
       "    'comments': 'Great location right on the river. Lots of tourists in the area. Easy to get to public transportation. Besides the hot weather, we had a good time. '},\n",
       "   {'_id': '320887590',\n",
       "    'date': datetime.datetime(2018, 9, 9, 4, 0),\n",
       "    'listing_id': '10006546',\n",
       "    'reviewer_id': '20965806',\n",
       "    'reviewer_name': 'Romain',\n",
       "    'comments': 'Merci à Ana & Gonçalo pour l’accueil !'},\n",
       "   {'_id': '325025167',\n",
       "    'date': datetime.datetime(2018, 9, 18, 4, 0),\n",
       "    'listing_id': '10006546',\n",
       "    'reviewer_id': '15097268',\n",
       "    'reviewer_name': 'Roula',\n",
       "    'comments': '-'},\n",
       "   {'_id': '331735682',\n",
       "    'date': datetime.datetime(2018, 10, 3, 4, 0),\n",
       "    'listing_id': '10006546',\n",
       "    'reviewer_id': '35313286',\n",
       "    'reviewer_name': 'Alexander',\n",
       "    'comments': 'Our stay in Ana and Gancalo’s apartment was lovely. The location was perfect and Gancalo graciously picked us up from the airport. It does get a little loud in the morning but that’s only because the apartment is perfectly located right on the river front. You do have to hold the shower wand when showering but the pressure is good. Overall I would definitely stay in the apartment again!'},\n",
       "   {'_id': '334789252',\n",
       "    'date': datetime.datetime(2018, 10, 10, 4, 0),\n",
       "    'listing_id': '10006546',\n",
       "    'reviewer_id': '206502919',\n",
       "    'reviewer_name': 'Mark',\n",
       "    'comments': 'It was a wonderful experience, the location is fantastic and the accommodations were outstanding.'},\n",
       "   {'_id': '347372623',\n",
       "    'date': datetime.datetime(2018, 11, 11, 5, 0),\n",
       "    'listing_id': '10006546',\n",
       "    'reviewer_id': '17503135',\n",
       "    'reviewer_name': 'Camille',\n",
       "    'comments': 'Ana’s place is very well located, at 2 min walking distance to the Douro, so that everything is close by! Ana communicated well regarding check in info, and was even flexible regarding check out timing. The description / pictures are relevant; only the bathroom  is not as recent. We appreciated the extra blanket as heaters have to be switched off once u leave the flat, but once they are switched on we had no problem afterwards regarding the temperature of the flat.'},\n",
       "   {'_id': '354708379',\n",
       "    'date': datetime.datetime(2018, 12, 2, 5, 0),\n",
       "    'listing_id': '10006546',\n",
       "    'reviewer_id': '34178931',\n",
       "    'reviewer_name': 'Pawel',\n",
       "    'comments': 'If you want to stay in the heart of Porto for reasonable price this is a good alternative. However, I’d selected again it for group of more than 6 people.'},\n",
       "   {'_id': '362865132',\n",
       "    'date': datetime.datetime(2018, 12, 27, 5, 0),\n",
       "    'listing_id': '10006546',\n",
       "    'reviewer_id': '208880077',\n",
       "    'reviewer_name': 'Thomas',\n",
       "    'comments': 'Very helpful hosts. Cooked traditional Portuguese Christmas dinner for 6. Location is perfect. Right off square that is on river right by famous bridge engineered by protege of Gustav Eifel. Looks like same type structure.'},\n",
       "   {'_id': '364728730',\n",
       "    'date': datetime.datetime(2018, 12, 31, 5, 0),\n",
       "    'listing_id': '10006546',\n",
       "    'reviewer_id': '91827533',\n",
       "    'reviewer_name': 'Mr',\n",
       "    'comments': \"Ana & Goncalo were great on communication, responding instantly to questions.\\n5 of us stayed in their home for 3 nights and found the location to be great and central to all the amazing sights Porto has to offer. \\nWe found the home to be difficult to heat on our first night, the rooms have heaters but took time to get the room to a comfortable temperature level. But in warmer months Im sure this isn't an issue.\\nThe beds are a little hard with one slightly out of shape,  and the shower is fairly basic (hand held) but does the job. Because of the central location some noise can be expected early in the mornings. \\nOverall the apartment suited our needs for our short stay and the price is more than reasonable for what we got.\"},\n",
       "   {'_id': '403055315',\n",
       "    'date': datetime.datetime(2019, 1, 20, 5, 0),\n",
       "    'listing_id': '10006546',\n",
       "    'reviewer_id': '15138940',\n",
       "    'reviewer_name': 'Milo',\n",
       "    'comments': \"The house was extremely well located and Ana was able to give us some really great tips on locations to have lunch and eat out. The house was perfectly clean and the easily able to accommodate 6 people despite only having one bathroom. The beds and living room were comfortable. \\n\\nHowever, we always felt somewhat on edge in the house due to the number of signs posted around the kitchen, bedrooms and bathroom about being charged 15€ for all sorts of extras like not washing up or using extra towels and bed linen. Not that this would be particularly unreasonable but it made us feel like we were walking on egg shells in and around the house. \\n\\nThe hosts were aware that we were a group of six yet one of the beds was not prepared and we ran out of toilet paper well before we were due to check out despite only being there 2 nights. It really wasn't the end of the world but the shower head does not have a wall fitting meaning you had to hold it yourself if you wanted to stand underneath it.\"}]},)"
      ]
     },
     "execution_count": 7,
     "metadata": {},
     "output_type": "execute_result"
    }
   ],
   "source": [
    "bag.take(1)"
   ]
  },
  {
   "cell_type": "markdown",
   "id": "841adf6a-7a73-4282-849a-e72fee7832d8",
   "metadata": {},
   "source": [
    "This is a LOT of information.\n",
    "\n",
    "Let's boil this down to something simple for this demo. Let's say we want to use the Description text to predict the Review Rating.\n",
    "\n",
    "### Subset Data\n",
    "Below we define a processing function that will extract only the relevant information from all records. We'll then select **only the Apartments property types**, flatten the data structure and turn it into a Dask Dataframe."
   ]
  },
  {
   "cell_type": "code",
   "execution_count": 8,
   "id": "b5002201-31ba-4e64-9961-4f37359e560a",
   "metadata": {},
   "outputs": [],
   "source": [
    "def process(record):\n",
    "    try:\n",
    "        yield {\n",
    "            \"description\": record[\"description\"],\n",
    "            \"review_rating\": int(str(record[\"review_scores\"][\"review_scores_rating\"])),\n",
    "            #\"accomodates\": record[\"accommodates\"],\n",
    "            #\"bedrooms\": record[\"bedrooms\"],\n",
    "            #\"price\": float(str(record[\"price\"])),\n",
    "            #\"country\": record[\"address\"][\"country\"],\n",
    "        }\n",
    "    except KeyError:\n",
    "        pass"
   ]
  },
  {
   "cell_type": "code",
   "execution_count": 9,
   "id": "31fff276-d1d8-468d-b893-4835ce26ae09",
   "metadata": {},
   "outputs": [],
   "source": [
    "# Filter only apartments\n",
    "b_flattened = (\n",
    "    bag.filter(lambda record: record[\"property_type\"] == \"Apartment\")\n",
    "    .map(process)\n",
    "    .flatten()\n",
    ")"
   ]
  },
  {
   "cell_type": "code",
   "execution_count": 10,
   "id": "bbd3b6d6-f22e-40de-af79-9dcc2b95d9dc",
   "metadata": {},
   "outputs": [
    {
     "data": {
      "text/plain": [
       "({'description': 'Here exists a very cozy room for rent in a shared 4-bedroom apartment. It is located one block off of the JMZ at Myrtle Broadway.  The neighborhood is diverse and appeals to a variety of people.',\n",
       "  'review_rating': 100},\n",
       " {'description': \"Murphy bed, optional second bedroom available. Wifi available, Hulu, Netflix, TV Eat-in kitchen. Bathroom with great shower/bath.  Washer/dryer in basement. New York City! Great neighborhood - many terrific restaurants, bakeries, bagelries. Within easy walking distance are restaurants with the cuisines from India, Thailand, Japan, China, Mexico, South America and Europe.  As well as the many small independent stores that line Broadway, there chain stores such as Urban Outfitters (clothing), Whole Foods (groceries), Sephora (cosmetics), Michaels (crafts), and Modell's (sporting goods). Equidistant to Central Park and Riverside Park which have walking/running/biking trails as well as tennis and racquet ball courts. 10-15 blocks from Columbia University between Broadway and Amsterdam. The International Hostel across the street is an airport shuttle bus and double-decker tour bus stop.  The Hostel also has services available to the neighborhood such as lectures, brochures, etc. Convenientl\",\n",
       "  'review_rating': 94},\n",
       " {'description': \"The Apartment has a living room, toilet, bedroom (suite) and American kitchen. Well located, on the Copacabana beach block a 05 Min. walk from Ipanema beach (Arpoador). Internet wifi, cable tv, air conditioning in the bedroom, ceiling fans in the bedroom and living room, kitchen with microwave, cooker, Blender, dishes, cutlery and service area with fridge, washing machine, clothesline for drying clothes and closet with several utensils for use.  The property boasts 45 m2. The apartment has a living room, wash room, suite and an American kitchen. The bedroom has a double bed and there's a bunk bed in the living room. It is very well located, in the Copacabana beach block and just a few blocks from Arpoador and Ipanema. You can walk to any of those beaches. It has internet wifi, tv, air conditioning in the bedroom, ceiling fans in the living room and the bedroom and an equipped kitchen with cooker, fridge, washing machine, microwave and utensils. Ease of public transportation, banks, mar\",\n",
       "  'review_rating': 98})"
      ]
     },
     "execution_count": 10,
     "metadata": {},
     "output_type": "execute_result"
    }
   ],
   "source": [
    "b_flattened.take(3)"
   ]
  },
  {
   "cell_type": "markdown",
   "id": "41a98102-1e04-42b0-9cef-e0310634629a",
   "metadata": {},
   "source": [
    "## 3. Tokenization with NLTK\n",
    "\n",
    "Let's tokenize the Description text and remove stop words."
   ]
  },
  {
   "cell_type": "code",
   "execution_count": 11,
   "id": "ca7492b7-bf82-4111-b12a-5b8b101afd63",
   "metadata": {},
   "outputs": [],
   "source": [
    "from nltk.corpus import stopwords \n",
    "from nltk.tokenize import RegexpTokenizer\n",
    "from functools import partial"
   ]
  },
  {
   "cell_type": "code",
   "execution_count": 12,
   "id": "54347e2e-6b91-440d-9e87-28c6a4c26a32",
   "metadata": {},
   "outputs": [],
   "source": [
    "tokenizer = RegexpTokenizer(r'\\w+')"
   ]
  },
  {
   "cell_type": "code",
   "execution_count": 14,
   "id": "e34ee336-6142-4a53-9675-814269106f14",
   "metadata": {},
   "outputs": [],
   "source": [
    "# define processing functions\n",
    "def extract_description(element):\n",
    "    return element['description'].lower()\n",
    "\n",
    "def extract_rating(element):\n",
    "    return element['review_rating']\n",
    "\n",
    "def filter_stopword(word, stopwords):\n",
    "    return word not in stopwords\n",
    "\n",
    "def filter_stopwords(tokens, stopwords):\n",
    "    return list(filter(partial(filter_stopword, stopwords=stopwords), tokens))"
   ]
  },
  {
   "cell_type": "code",
   "execution_count": 15,
   "id": "090b7238-6ddc-45ba-bf1a-7eb9fb0ba96b",
   "metadata": {},
   "outputs": [],
   "source": [
    "# define set of stopwords\n",
    "stopword_set = set(stopwords.words('english'))"
   ]
  },
  {
   "cell_type": "code",
   "execution_count": 16,
   "id": "26ff7c1f-71c7-493d-be0d-81d889d7e33d",
   "metadata": {},
   "outputs": [],
   "source": [
    "# get cleaned, tokenized description texts\n",
    "description_text = b_flattened.map(extract_description)\n",
    "description_text_tokens = description_text.map(tokenizer.tokenize)\n",
    "description_text_clean = description_text_tokens.map(partial(filter_stopwords, stopwords=stopword_set))"
   ]
  },
  {
   "cell_type": "code",
   "execution_count": 17,
   "id": "f6375533-28b5-4802-a1e5-49e68f844c8b",
   "metadata": {},
   "outputs": [
    {
     "data": {
      "text/plain": [
       "(['exists',\n",
       "  'cozy',\n",
       "  'room',\n",
       "  'rent',\n",
       "  'shared',\n",
       "  '4',\n",
       "  'bedroom',\n",
       "  'apartment',\n",
       "  'located',\n",
       "  'one',\n",
       "  'block',\n",
       "  'jmz',\n",
       "  'myrtle',\n",
       "  'broadway',\n",
       "  'neighborhood',\n",
       "  'diverse',\n",
       "  'appeals',\n",
       "  'variety',\n",
       "  'people'],)"
      ]
     },
     "execution_count": 17,
     "metadata": {},
     "output_type": "execute_result"
    }
   ],
   "source": [
    "# verify\n",
    "description_text_clean.take(1)"
   ]
  },
  {
   "cell_type": "markdown",
   "id": "fc6abb0c-0da9-43b7-9bff-3d6f1ba9f672",
   "metadata": {},
   "source": [
    "## 4. Lemmatization with SpaCy"
   ]
  },
  {
   "cell_type": "code",
   "execution_count": 18,
   "id": "429ca49d-4e48-4583-b2f9-0e93c15f006e",
   "metadata": {},
   "outputs": [],
   "source": [
    "import spacy"
   ]
  },
  {
   "cell_type": "code",
   "execution_count": 19,
   "id": "848a8eab-92ff-4003-bc7f-1d5c9134ecff",
   "metadata": {},
   "outputs": [],
   "source": [
    "nlp = spacy.load(\"en_core_web_sm\")"
   ]
  },
  {
   "cell_type": "code",
   "execution_count": 20,
   "id": "b3079756-79de-4d5d-b835-831d305cb122",
   "metadata": {},
   "outputs": [],
   "source": [
    "def lemmatize(text, nlp=nlp):\n",
    "    doc = nlp(\" \".join(text))\n",
    "    lemmatized = [token.lemma_ for token in doc]\n",
    "    return lemmatized"
   ]
  },
  {
   "cell_type": "code",
   "execution_count": 21,
   "id": "524f9b54-523f-4481-94b9-7223e3cc0d13",
   "metadata": {},
   "outputs": [],
   "source": [
    "lemmas = description_text_clean.map(lemmatize)"
   ]
  },
  {
   "cell_type": "code",
   "execution_count": 22,
   "id": "3ebeeb3e-c7c7-43ed-b4f3-68d0f89b07c8",
   "metadata": {},
   "outputs": [
    {
     "data": {
      "text/plain": [
       "(['exist',\n",
       "  'cozy',\n",
       "  'room',\n",
       "  'rent',\n",
       "  'share',\n",
       "  '4',\n",
       "  'bedroom',\n",
       "  'apartment',\n",
       "  'locate',\n",
       "  'one',\n",
       "  'block',\n",
       "  'jmz',\n",
       "  'myrtle',\n",
       "  'broadway',\n",
       "  'neighborhood',\n",
       "  'diverse',\n",
       "  'appeal',\n",
       "  'variety',\n",
       "  'people'],)"
      ]
     },
     "execution_count": 22,
     "metadata": {},
     "output_type": "execute_result"
    }
   ],
   "source": [
    "lemmas.take(1)"
   ]
  },
  {
   "cell_type": "markdown",
   "id": "80256b52-2d54-4ec7-bd26-3a6668176abb",
   "metadata": {},
   "source": [
    "Great, we now have our lemmatized tokens and can turn this into a... [ Topic Modelling / ML Classification / ... ] problem \n",
    "\n",
    "We'll start by casting out Dask Bag into a Dask DataFrame and then pass it into the Dask-ML HashingVectorizer to get our NLP features."
   ]
  },
  {
   "cell_type": "code",
   "execution_count": null,
   "id": "1b9a3857-0541-45da-8469-a6103c3747aa",
   "metadata": {},
   "outputs": [],
   "source": []
  },
  {
   "cell_type": "code",
   "execution_count": null,
   "id": "87b03096-3c85-409d-b9d5-d63523c381f8",
   "metadata": {},
   "outputs": [],
   "source": []
  },
  {
   "cell_type": "code",
   "execution_count": null,
   "id": "550d08cb-b50f-4e99-824c-27a3af916b33",
   "metadata": {},
   "outputs": [],
   "source": []
  },
  {
   "cell_type": "code",
   "execution_count": null,
   "id": "fefdef73-0c1b-4fff-b35f-98db7f78e4ee",
   "metadata": {},
   "outputs": [],
   "source": []
  },
  {
   "cell_type": "markdown",
   "id": "51aa9a88-8fc6-4a0b-ba5b-ff182620563f",
   "metadata": {},
   "source": [
    "## ML Classification"
   ]
  },
  {
   "cell_type": "code",
   "execution_count": 23,
   "id": "4e1191bb-720d-4f09-9474-3eb1826d5c2d",
   "metadata": {},
   "outputs": [],
   "source": [
    "ddf = b_flattened.to_dataframe()"
   ]
  },
  {
   "cell_type": "code",
   "execution_count": 24,
   "id": "64101252-8856-4d22-9225-294a4272e638",
   "metadata": {},
   "outputs": [
    {
     "data": {
      "text/html": [
       "<div><strong>Dask DataFrame Structure:</strong></div>\n",
       "<div>\n",
       "<style scoped>\n",
       "    .dataframe tbody tr th:only-of-type {\n",
       "        vertical-align: middle;\n",
       "    }\n",
       "\n",
       "    .dataframe tbody tr th {\n",
       "        vertical-align: top;\n",
       "    }\n",
       "\n",
       "    .dataframe thead th {\n",
       "        text-align: right;\n",
       "    }\n",
       "</style>\n",
       "<table border=\"1\" class=\"dataframe\">\n",
       "  <thead>\n",
       "    <tr style=\"text-align: right;\">\n",
       "      <th></th>\n",
       "      <th>description</th>\n",
       "      <th>review_rating</th>\n",
       "    </tr>\n",
       "    <tr>\n",
       "      <th>npartitions=12</th>\n",
       "      <th></th>\n",
       "      <th></th>\n",
       "    </tr>\n",
       "  </thead>\n",
       "  <tbody>\n",
       "    <tr>\n",
       "      <th></th>\n",
       "      <td>object</td>\n",
       "      <td>int64</td>\n",
       "    </tr>\n",
       "    <tr>\n",
       "      <th></th>\n",
       "      <td>...</td>\n",
       "      <td>...</td>\n",
       "    </tr>\n",
       "    <tr>\n",
       "      <th>...</th>\n",
       "      <td>...</td>\n",
       "      <td>...</td>\n",
       "    </tr>\n",
       "    <tr>\n",
       "      <th></th>\n",
       "      <td>...</td>\n",
       "      <td>...</td>\n",
       "    </tr>\n",
       "    <tr>\n",
       "      <th></th>\n",
       "      <td>...</td>\n",
       "      <td>...</td>\n",
       "    </tr>\n",
       "  </tbody>\n",
       "</table>\n",
       "</div>\n",
       "<div>Dask Name: to_dataframe, 24 tasks</div>"
      ],
      "text/plain": [
       "Dask DataFrame Structure:\n",
       "               description review_rating\n",
       "npartitions=12                          \n",
       "                    object         int64\n",
       "                       ...           ...\n",
       "...                    ...           ...\n",
       "                       ...           ...\n",
       "                       ...           ...\n",
       "Dask Name: to_dataframe, 24 tasks"
      ]
     },
     "execution_count": 24,
     "metadata": {},
     "output_type": "execute_result"
    }
   ],
   "source": [
    "ddf"
   ]
  },
  {
   "cell_type": "code",
   "execution_count": 25,
   "id": "9d9f4083-bed0-4f12-83b1-4e0c05809ad2",
   "metadata": {},
   "outputs": [
    {
     "data": {
      "text/html": [
       "<div>\n",
       "<style scoped>\n",
       "    .dataframe tbody tr th:only-of-type {\n",
       "        vertical-align: middle;\n",
       "    }\n",
       "\n",
       "    .dataframe tbody tr th {\n",
       "        vertical-align: top;\n",
       "    }\n",
       "\n",
       "    .dataframe thead th {\n",
       "        text-align: right;\n",
       "    }\n",
       "</style>\n",
       "<table border=\"1\" class=\"dataframe\">\n",
       "  <thead>\n",
       "    <tr style=\"text-align: right;\">\n",
       "      <th></th>\n",
       "      <th>description</th>\n",
       "      <th>review_rating</th>\n",
       "    </tr>\n",
       "  </thead>\n",
       "  <tbody>\n",
       "    <tr>\n",
       "      <th>0</th>\n",
       "      <td>Here exists a very cozy room for rent in a sha...</td>\n",
       "      <td>100</td>\n",
       "    </tr>\n",
       "    <tr>\n",
       "      <th>1</th>\n",
       "      <td>Murphy bed, optional second bedroom available....</td>\n",
       "      <td>94</td>\n",
       "    </tr>\n",
       "    <tr>\n",
       "      <th>2</th>\n",
       "      <td>The Apartment has a living room, toilet, bedro...</td>\n",
       "      <td>98</td>\n",
       "    </tr>\n",
       "    <tr>\n",
       "      <th>3</th>\n",
       "      <td>Loft Suite Deluxe @ Henry Norman Hotel Located...</td>\n",
       "      <td>88</td>\n",
       "    </tr>\n",
       "    <tr>\n",
       "      <th>4</th>\n",
       "      <td>Clean, fully furnish, Spacious 1 bedroom flat ...</td>\n",
       "      <td>100</td>\n",
       "    </tr>\n",
       "  </tbody>\n",
       "</table>\n",
       "</div>"
      ],
      "text/plain": [
       "                                         description  review_rating\n",
       "0  Here exists a very cozy room for rent in a sha...            100\n",
       "1  Murphy bed, optional second bedroom available....             94\n",
       "2  The Apartment has a living room, toilet, bedro...             98\n",
       "3  Loft Suite Deluxe @ Henry Norman Hotel Located...             88\n",
       "4  Clean, fully furnish, Spacious 1 bedroom flat ...            100"
      ]
     },
     "execution_count": 25,
     "metadata": {},
     "output_type": "execute_result"
    }
   ],
   "source": [
    "ddf.head()"
   ]
  },
  {
   "cell_type": "markdown",
   "id": "79f29838-5bf1-45ac-b8ab-c8d7ee409d9f",
   "metadata": {},
   "source": [
    "Let's write this to our S3 bucket as a Parquet file."
   ]
  },
  {
   "cell_type": "code",
   "execution_count": 26,
   "id": "8d9346b1-82d4-46c7-9f0f-d34fd0363194",
   "metadata": {},
   "outputs": [],
   "source": [
    "# ddf.to_parquet(\n",
    "#     's3://coiled-datasets/airbnb-monogo/description-and-ratings.parquet',\n",
    "#     engine=\"pyarrow\",\n",
    "# )"
   ]
  },
  {
   "cell_type": "markdown",
   "id": "1a3dd9e8-886b-4731-9811-2c809f6c0bf2",
   "metadata": {},
   "source": [
    "Now we're all set to turn this into an ML classification problem.\n",
    "\n",
    "We'll create a train/test splits and then vectorize the Description column."
   ]
  },
  {
   "cell_type": "markdown",
   "id": "62970030-962c-4a95-9898-85801dd3d78a",
   "metadata": {},
   "source": [
    "### Create train/test split"
   ]
  },
  {
   "cell_type": "code",
   "execution_count": 27,
   "id": "803c7850-964c-4406-80e4-e62e8524ebbd",
   "metadata": {},
   "outputs": [],
   "source": [
    "from dask_ml.model_selection import train_test_split"
   ]
  },
  {
   "cell_type": "code",
   "execution_count": 28,
   "id": "ebd3927f-045c-4085-b0fa-4489c547ac4e",
   "metadata": {},
   "outputs": [],
   "source": [
    "X = ddf['description'].to_dask_array(lengths=True)\n",
    "y = ddf['review_rating'].to_dask_array(lengths=True)"
   ]
  },
  {
   "cell_type": "code",
   "execution_count": 29,
   "id": "0ea3b799-f210-40d8-9092-893f3701f420",
   "metadata": {},
   "outputs": [],
   "source": [
    "X_train, X_test, y_train, y_test = train_test_split(\n",
    "    X, \n",
    "    y, \n",
    "    test_size=0.20, \n",
    "    random_state=40\n",
    ")"
   ]
  },
  {
   "cell_type": "markdown",
   "id": "1398654f-7fa8-4e76-a1ae-1fb1ef1cb4de",
   "metadata": {
    "tags": []
   },
   "source": [
    "### Vectorize"
   ]
  },
  {
   "cell_type": "code",
   "execution_count": 30,
   "id": "dae1e939-af01-453b-b329-874b23ebe18b",
   "metadata": {},
   "outputs": [],
   "source": [
    "from dask_ml.feature_extraction.text import HashingVectorizer"
   ]
  },
  {
   "cell_type": "markdown",
   "id": "1cbb872e-7b3b-46de-a588-dd054b56c21d",
   "metadata": {},
   "source": [
    "HashingVectorizer has some built-in tokenization and preprocessing capabilities we could explore.\n",
    "\n",
    "We'll just use it out-of-the-box for now."
   ]
  },
  {
   "cell_type": "code",
   "execution_count": 31,
   "id": "81fa8ee5-8a8e-439a-b3b0-8f75c2353f82",
   "metadata": {},
   "outputs": [],
   "source": [
    "vect = HashingVectorizer()"
   ]
  },
  {
   "cell_type": "code",
   "execution_count": 32,
   "id": "29d35d96-9d6c-4031-a264-dc34596ce37d",
   "metadata": {},
   "outputs": [],
   "source": [
    "X_train_vect = vect.fit_transform(X_train)"
   ]
  },
  {
   "cell_type": "code",
   "execution_count": 33,
   "id": "bb19e54e-14f2-4c54-ac40-8b6242a7d1be",
   "metadata": {},
   "outputs": [
    {
     "data": {
      "text/html": [
       "<table>\n",
       "    <tr>\n",
       "        <td>\n",
       "            <table>\n",
       "                <thead>\n",
       "                    <tr>\n",
       "                        <td> </td>\n",
       "                        <th> Array </th>\n",
       "                        <th> Chunk </th>\n",
       "                    </tr>\n",
       "                </thead>\n",
       "                <tbody>\n",
       "                    \n",
       "                    <tr>\n",
       "                        <th> Shape </th>\n",
       "                        <td> (nan, 1048576) </td>\n",
       "                        <td> (nan, 1048576) </td>\n",
       "                    </tr>\n",
       "                    <tr>\n",
       "                        <th> Count </th>\n",
       "                        <td> 108 Tasks </td>\n",
       "                        <td> 12 Chunks </td>\n",
       "                    </tr>\n",
       "                    <tr>\n",
       "                    <th> Type </th>\n",
       "                    <td> float64 </td>\n",
       "                    <td> scipy.sparse.csr.csr_matrix </td>\n",
       "                    </tr>\n",
       "                </tbody>\n",
       "            </table>\n",
       "        </td>\n",
       "        <td>\n",
       "        \n",
       "        </td>\n",
       "    </tr>\n",
       "</table>"
      ],
      "text/plain": [
       "dask.array<_transformer, shape=(nan, 1048576), dtype=float64, chunksize=(nan, 1048576), chunktype=scipy.csr_matrix>"
      ]
     },
     "execution_count": 33,
     "metadata": {},
     "output_type": "execute_result"
    }
   ],
   "source": [
    "X_train_vect"
   ]
  },
  {
   "cell_type": "markdown",
   "id": "5d2f8cd8-2209-4561-a69e-917e56067279",
   "metadata": {},
   "source": [
    "Vectorizing leads to array of unknown chunk size"
   ]
  },
  {
   "cell_type": "code",
   "execution_count": 34,
   "id": "8a0d03ab-37ae-4a86-89a8-188e5b6474dc",
   "metadata": {},
   "outputs": [
    {
     "data": {
      "text/html": [
       "<table>\n",
       "    <tr>\n",
       "        <td>\n",
       "            <table>\n",
       "                <thead>\n",
       "                    <tr>\n",
       "                        <td> </td>\n",
       "                        <th> Array </th>\n",
       "                        <th> Chunk </th>\n",
       "                    </tr>\n",
       "                </thead>\n",
       "                <tbody>\n",
       "                    \n",
       "                    <tr>\n",
       "                        <th> Shape </th>\n",
       "                        <td> (2139, 1048576) </td>\n",
       "                        <td> (211, 1048576) </td>\n",
       "                    </tr>\n",
       "                    <tr>\n",
       "                        <th> Count </th>\n",
       "                        <td> 108 Tasks </td>\n",
       "                        <td> 12 Chunks </td>\n",
       "                    </tr>\n",
       "                    <tr>\n",
       "                    <th> Type </th>\n",
       "                    <td> float64 </td>\n",
       "                    <td> scipy.sparse.csr.csr_matrix </td>\n",
       "                    </tr>\n",
       "                </tbody>\n",
       "            </table>\n",
       "        </td>\n",
       "        <td>\n",
       "        <svg width=\"170\" height=\"75\" style=\"stroke:rgb(0,0,0);stroke-width:1\" >\n",
       "\n",
       "  <!-- Horizontal lines -->\n",
       "  <line x1=\"0\" y1=\"0\" x2=\"120\" y2=\"0\" style=\"stroke-width:2\" />\n",
       "  <line x1=\"0\" y1=\"2\" x2=\"120\" y2=\"2\" />\n",
       "  <line x1=\"0\" y1=\"4\" x2=\"120\" y2=\"4\" />\n",
       "  <line x1=\"0\" y1=\"6\" x2=\"120\" y2=\"6\" />\n",
       "  <line x1=\"0\" y1=\"9\" x2=\"120\" y2=\"9\" />\n",
       "  <line x1=\"0\" y1=\"11\" x2=\"120\" y2=\"11\" />\n",
       "  <line x1=\"0\" y1=\"13\" x2=\"120\" y2=\"13\" />\n",
       "  <line x1=\"0\" y1=\"15\" x2=\"120\" y2=\"15\" />\n",
       "  <line x1=\"0\" y1=\"17\" x2=\"120\" y2=\"17\" />\n",
       "  <line x1=\"0\" y1=\"19\" x2=\"120\" y2=\"19\" />\n",
       "  <line x1=\"0\" y1=\"20\" x2=\"120\" y2=\"20\" />\n",
       "  <line x1=\"0\" y1=\"23\" x2=\"120\" y2=\"23\" />\n",
       "  <line x1=\"0\" y1=\"25\" x2=\"120\" y2=\"25\" style=\"stroke-width:2\" />\n",
       "\n",
       "  <!-- Vertical lines -->\n",
       "  <line x1=\"0\" y1=\"0\" x2=\"0\" y2=\"25\" style=\"stroke-width:2\" />\n",
       "  <line x1=\"120\" y1=\"0\" x2=\"120\" y2=\"25\" style=\"stroke-width:2\" />\n",
       "\n",
       "  <!-- Colored Rectangle -->\n",
       "  <polygon points=\"0.0,0.0 120.0,0.0 120.0,25.412616514582485 0.0,25.412616514582485\" style=\"fill:#ECB172A0;stroke-width:0\"/>\n",
       "\n",
       "  <!-- Text -->\n",
       "  <text x=\"60.000000\" y=\"45.412617\" font-size=\"1.0rem\" font-weight=\"100\" text-anchor=\"middle\" >1048576</text>\n",
       "  <text x=\"140.000000\" y=\"12.706308\" font-size=\"1.0rem\" font-weight=\"100\" text-anchor=\"middle\" transform=\"rotate(-90,140.000000,12.706308)\">2139</text>\n",
       "</svg>\n",
       "        </td>\n",
       "    </tr>\n",
       "</table>"
      ],
      "text/plain": [
       "dask.array<_transformer, shape=(2139, 1048576), dtype=float64, chunksize=(211, 1048576), chunktype=scipy.csr_matrix>"
      ]
     },
     "execution_count": 34,
     "metadata": {},
     "output_type": "execute_result"
    }
   ],
   "source": [
    "X_train_vect.compute_chunk_sizes()"
   ]
  },
  {
   "cell_type": "code",
   "execution_count": 35,
   "id": "cecc0d43-d594-42a0-8031-12051de9f02c",
   "metadata": {},
   "outputs": [
    {
     "data": {
      "text/plain": [
       "<176x1048576 sparse matrix of type '<class 'numpy.float64'>'\n",
       "\twith 15469 stored elements in Compressed Sparse Row format>"
      ]
     },
     "execution_count": 35,
     "metadata": {},
     "output_type": "execute_result"
    }
   ],
   "source": [
    "X_train_vect.blocks[0].compute()"
   ]
  },
  {
   "cell_type": "code",
   "execution_count": 36,
   "id": "7b22f9b2-5ff6-4282-9c50-26f0f55a0a9b",
   "metadata": {},
   "outputs": [
    {
     "data": {
      "text/plain": [
       "(2139, 1048576)"
      ]
     },
     "execution_count": 36,
     "metadata": {},
     "output_type": "execute_result"
    }
   ],
   "source": [
    "X_train_vect.shape"
   ]
  },
  {
   "cell_type": "markdown",
   "id": "ca17cf71-c240-4591-92fb-a3af1566b10f",
   "metadata": {},
   "source": [
    "Each block in X is a **scipy.sparse matrix**.\n",
    "\n",
    "Now use scipy.sparse matrix as input for distributed XGBoostClassifier."
   ]
  },
  {
   "cell_type": "markdown",
   "id": "829cea36-2e64-49e8-8b6d-428786c3cc00",
   "metadata": {},
   "source": [
    "## 5. Train XGBoost Model"
   ]
  },
  {
   "cell_type": "code",
   "execution_count": 37,
   "id": "6c289d17-0bad-4579-81d0-5cb1b18383da",
   "metadata": {},
   "outputs": [],
   "source": [
    "import xgboost as xgb\n",
    "from xgboost.dask import DaskXGBClassifier"
   ]
  },
  {
   "cell_type": "code",
   "execution_count": 38,
   "id": "5b913c2d-a8a7-450d-95a5-53a24fdafd33",
   "metadata": {},
   "outputs": [],
   "source": [
    "clf = DaskXGBClassifier()"
   ]
  },
  {
   "cell_type": "code",
   "execution_count": 39,
   "id": "e13b8fc5-787e-4cdc-9f18-fb6d80450415",
   "metadata": {},
   "outputs": [
    {
     "ename": "AttributeError",
     "evalue": "divisions not found",
     "output_type": "error",
     "traceback": [
      "\u001b[0;31m---------------------------------------------------------------------------\u001b[0m",
      "\u001b[0;31mAttributeError\u001b[0m                            Traceback (most recent call last)",
      "\u001b[0;32m<timed eval>\u001b[0m in \u001b[0;36m<module>\u001b[0;34m\u001b[0m\n",
      "\u001b[0;32m~/mambaforge/envs/dask-nlp/lib/python3.9/site-packages/xgboost/dask.py\u001b[0m in \u001b[0;36mfit\u001b[0;34m(self, X, y, sample_weight, base_margin, eval_set, eval_metric, early_stopping_rounds, verbose, xgb_model, sample_weight_eval_set, base_margin_eval_set, feature_weights, callbacks)\u001b[0m\n\u001b[1;32m   1815\u001b[0m         \u001b[0m_assert_dask_support\u001b[0m\u001b[0;34m(\u001b[0m\u001b[0;34m)\u001b[0m\u001b[0;34m\u001b[0m\u001b[0;34m\u001b[0m\u001b[0m\n\u001b[1;32m   1816\u001b[0m         \u001b[0margs\u001b[0m \u001b[0;34m=\u001b[0m \u001b[0;34m{\u001b[0m\u001b[0mk\u001b[0m\u001b[0;34m:\u001b[0m \u001b[0mv\u001b[0m \u001b[0;32mfor\u001b[0m \u001b[0mk\u001b[0m\u001b[0;34m,\u001b[0m \u001b[0mv\u001b[0m \u001b[0;32min\u001b[0m \u001b[0mlocals\u001b[0m\u001b[0;34m(\u001b[0m\u001b[0;34m)\u001b[0m\u001b[0;34m.\u001b[0m\u001b[0mitems\u001b[0m\u001b[0;34m(\u001b[0m\u001b[0;34m)\u001b[0m \u001b[0;32mif\u001b[0m \u001b[0mk\u001b[0m \u001b[0;32mnot\u001b[0m \u001b[0;32min\u001b[0m \u001b[0;34m(\u001b[0m\u001b[0;34m\"self\"\u001b[0m\u001b[0;34m,\u001b[0m \u001b[0;34m\"__class__\"\u001b[0m\u001b[0;34m)\u001b[0m\u001b[0;34m}\u001b[0m\u001b[0;34m\u001b[0m\u001b[0;34m\u001b[0m\u001b[0m\n\u001b[0;32m-> 1817\u001b[0;31m         \u001b[0;32mreturn\u001b[0m \u001b[0mself\u001b[0m\u001b[0;34m.\u001b[0m\u001b[0m_client_sync\u001b[0m\u001b[0;34m(\u001b[0m\u001b[0mself\u001b[0m\u001b[0;34m.\u001b[0m\u001b[0m_fit_async\u001b[0m\u001b[0;34m,\u001b[0m \u001b[0;34m**\u001b[0m\u001b[0margs\u001b[0m\u001b[0;34m)\u001b[0m\u001b[0;34m\u001b[0m\u001b[0;34m\u001b[0m\u001b[0m\n\u001b[0m\u001b[1;32m   1818\u001b[0m \u001b[0;34m\u001b[0m\u001b[0m\n\u001b[1;32m   1819\u001b[0m     async def _predict_proba_async(\n",
      "\u001b[0;32m~/mambaforge/envs/dask-nlp/lib/python3.9/site-packages/xgboost/dask.py\u001b[0m in \u001b[0;36m_client_sync\u001b[0;34m(self, func, **kwargs)\u001b[0m\n\u001b[1;32m   1621\u001b[0m                     \u001b[0;32mreturn\u001b[0m \u001b[0mret\u001b[0m\u001b[0;34m\u001b[0m\u001b[0;34m\u001b[0m\u001b[0m\n\u001b[1;32m   1622\u001b[0m \u001b[0;34m\u001b[0m\u001b[0m\n\u001b[0;32m-> 1623\u001b[0;31m         \u001b[0;32mreturn\u001b[0m \u001b[0mself\u001b[0m\u001b[0;34m.\u001b[0m\u001b[0mclient\u001b[0m\u001b[0;34m.\u001b[0m\u001b[0msync\u001b[0m\u001b[0;34m(\u001b[0m\u001b[0mfunc\u001b[0m\u001b[0;34m,\u001b[0m \u001b[0;34m**\u001b[0m\u001b[0mkwargs\u001b[0m\u001b[0;34m,\u001b[0m \u001b[0masynchronous\u001b[0m\u001b[0;34m=\u001b[0m\u001b[0masynchronous\u001b[0m\u001b[0;34m)\u001b[0m\u001b[0;34m\u001b[0m\u001b[0;34m\u001b[0m\u001b[0m\n\u001b[0m\u001b[1;32m   1624\u001b[0m \u001b[0;34m\u001b[0m\u001b[0m\n\u001b[1;32m   1625\u001b[0m \u001b[0;34m\u001b[0m\u001b[0m\n",
      "\u001b[0;32m~/mambaforge/envs/dask-nlp/lib/python3.9/site-packages/distributed/client.py\u001b[0m in \u001b[0;36msync\u001b[0;34m(self, func, asynchronous, callback_timeout, *args, **kwargs)\u001b[0m\n\u001b[1;32m    863\u001b[0m             \u001b[0;32mreturn\u001b[0m \u001b[0mfuture\u001b[0m\u001b[0;34m\u001b[0m\u001b[0;34m\u001b[0m\u001b[0m\n\u001b[1;32m    864\u001b[0m         \u001b[0;32melse\u001b[0m\u001b[0;34m:\u001b[0m\u001b[0;34m\u001b[0m\u001b[0;34m\u001b[0m\u001b[0m\n\u001b[0;32m--> 865\u001b[0;31m             return sync(\n\u001b[0m\u001b[1;32m    866\u001b[0m                 \u001b[0mself\u001b[0m\u001b[0;34m.\u001b[0m\u001b[0mloop\u001b[0m\u001b[0;34m,\u001b[0m \u001b[0mfunc\u001b[0m\u001b[0;34m,\u001b[0m \u001b[0;34m*\u001b[0m\u001b[0margs\u001b[0m\u001b[0;34m,\u001b[0m \u001b[0mcallback_timeout\u001b[0m\u001b[0;34m=\u001b[0m\u001b[0mcallback_timeout\u001b[0m\u001b[0;34m,\u001b[0m \u001b[0;34m**\u001b[0m\u001b[0mkwargs\u001b[0m\u001b[0;34m\u001b[0m\u001b[0;34m\u001b[0m\u001b[0m\n\u001b[1;32m    867\u001b[0m             )\n",
      "\u001b[0;32m~/mambaforge/envs/dask-nlp/lib/python3.9/site-packages/distributed/utils.py\u001b[0m in \u001b[0;36msync\u001b[0;34m(loop, func, callback_timeout, *args, **kwargs)\u001b[0m\n\u001b[1;32m    325\u001b[0m     \u001b[0;32mif\u001b[0m \u001b[0merror\u001b[0m\u001b[0;34m[\u001b[0m\u001b[0;36m0\u001b[0m\u001b[0;34m]\u001b[0m\u001b[0;34m:\u001b[0m\u001b[0;34m\u001b[0m\u001b[0;34m\u001b[0m\u001b[0m\n\u001b[1;32m    326\u001b[0m         \u001b[0mtyp\u001b[0m\u001b[0;34m,\u001b[0m \u001b[0mexc\u001b[0m\u001b[0;34m,\u001b[0m \u001b[0mtb\u001b[0m \u001b[0;34m=\u001b[0m \u001b[0merror\u001b[0m\u001b[0;34m[\u001b[0m\u001b[0;36m0\u001b[0m\u001b[0;34m]\u001b[0m\u001b[0;34m\u001b[0m\u001b[0;34m\u001b[0m\u001b[0m\n\u001b[0;32m--> 327\u001b[0;31m         \u001b[0;32mraise\u001b[0m \u001b[0mexc\u001b[0m\u001b[0;34m.\u001b[0m\u001b[0mwith_traceback\u001b[0m\u001b[0;34m(\u001b[0m\u001b[0mtb\u001b[0m\u001b[0;34m)\u001b[0m\u001b[0;34m\u001b[0m\u001b[0;34m\u001b[0m\u001b[0m\n\u001b[0m\u001b[1;32m    328\u001b[0m     \u001b[0;32melse\u001b[0m\u001b[0;34m:\u001b[0m\u001b[0;34m\u001b[0m\u001b[0;34m\u001b[0m\u001b[0m\n\u001b[1;32m    329\u001b[0m         \u001b[0;32mreturn\u001b[0m \u001b[0mresult\u001b[0m\u001b[0;34m[\u001b[0m\u001b[0;36m0\u001b[0m\u001b[0;34m]\u001b[0m\u001b[0;34m\u001b[0m\u001b[0;34m\u001b[0m\u001b[0m\n",
      "\u001b[0;32m~/mambaforge/envs/dask-nlp/lib/python3.9/site-packages/distributed/utils.py\u001b[0m in \u001b[0;36mf\u001b[0;34m()\u001b[0m\n\u001b[1;32m    308\u001b[0m             \u001b[0;32mif\u001b[0m \u001b[0mcallback_timeout\u001b[0m \u001b[0;32mis\u001b[0m \u001b[0;32mnot\u001b[0m \u001b[0;32mNone\u001b[0m\u001b[0;34m:\u001b[0m\u001b[0;34m\u001b[0m\u001b[0;34m\u001b[0m\u001b[0m\n\u001b[1;32m    309\u001b[0m                 \u001b[0mfuture\u001b[0m \u001b[0;34m=\u001b[0m \u001b[0masyncio\u001b[0m\u001b[0;34m.\u001b[0m\u001b[0mwait_for\u001b[0m\u001b[0;34m(\u001b[0m\u001b[0mfuture\u001b[0m\u001b[0;34m,\u001b[0m \u001b[0mcallback_timeout\u001b[0m\u001b[0;34m)\u001b[0m\u001b[0;34m\u001b[0m\u001b[0;34m\u001b[0m\u001b[0m\n\u001b[0;32m--> 310\u001b[0;31m             \u001b[0mresult\u001b[0m\u001b[0;34m[\u001b[0m\u001b[0;36m0\u001b[0m\u001b[0;34m]\u001b[0m \u001b[0;34m=\u001b[0m \u001b[0;32myield\u001b[0m \u001b[0mfuture\u001b[0m\u001b[0;34m\u001b[0m\u001b[0;34m\u001b[0m\u001b[0m\n\u001b[0m\u001b[1;32m    311\u001b[0m         \u001b[0;32mexcept\u001b[0m \u001b[0mException\u001b[0m\u001b[0;34m:\u001b[0m\u001b[0;34m\u001b[0m\u001b[0;34m\u001b[0m\u001b[0m\n\u001b[1;32m    312\u001b[0m             \u001b[0merror\u001b[0m\u001b[0;34m[\u001b[0m\u001b[0;36m0\u001b[0m\u001b[0;34m]\u001b[0m \u001b[0;34m=\u001b[0m \u001b[0msys\u001b[0m\u001b[0;34m.\u001b[0m\u001b[0mexc_info\u001b[0m\u001b[0;34m(\u001b[0m\u001b[0;34m)\u001b[0m\u001b[0;34m\u001b[0m\u001b[0;34m\u001b[0m\u001b[0m\n",
      "\u001b[0;32m~/mambaforge/envs/dask-nlp/lib/python3.9/site-packages/tornado/gen.py\u001b[0m in \u001b[0;36mrun\u001b[0;34m(self)\u001b[0m\n\u001b[1;32m    760\u001b[0m \u001b[0;34m\u001b[0m\u001b[0m\n\u001b[1;32m    761\u001b[0m                     \u001b[0;32mtry\u001b[0m\u001b[0;34m:\u001b[0m\u001b[0;34m\u001b[0m\u001b[0;34m\u001b[0m\u001b[0m\n\u001b[0;32m--> 762\u001b[0;31m                         \u001b[0mvalue\u001b[0m \u001b[0;34m=\u001b[0m \u001b[0mfuture\u001b[0m\u001b[0;34m.\u001b[0m\u001b[0mresult\u001b[0m\u001b[0;34m(\u001b[0m\u001b[0;34m)\u001b[0m\u001b[0;34m\u001b[0m\u001b[0;34m\u001b[0m\u001b[0m\n\u001b[0m\u001b[1;32m    763\u001b[0m                     \u001b[0;32mexcept\u001b[0m \u001b[0mException\u001b[0m\u001b[0;34m:\u001b[0m\u001b[0;34m\u001b[0m\u001b[0;34m\u001b[0m\u001b[0m\n\u001b[1;32m    764\u001b[0m                         \u001b[0mexc_info\u001b[0m \u001b[0;34m=\u001b[0m \u001b[0msys\u001b[0m\u001b[0;34m.\u001b[0m\u001b[0mexc_info\u001b[0m\u001b[0;34m(\u001b[0m\u001b[0;34m)\u001b[0m\u001b[0;34m\u001b[0m\u001b[0;34m\u001b[0m\u001b[0m\n",
      "\u001b[0;32m~/mambaforge/envs/dask-nlp/lib/python3.9/site-packages/xgboost/dask.py\u001b[0m in \u001b[0;36m_fit_async\u001b[0;34m(self, X, y, sample_weight, base_margin, eval_set, eval_metric, sample_weight_eval_set, base_margin_eval_set, early_stopping_rounds, verbose, xgb_model, feature_weights, callbacks)\u001b[0m\n\u001b[1;32m   1773\u001b[0m             \u001b[0mbooster\u001b[0m\u001b[0;34m=\u001b[0m\u001b[0mxgb_model\u001b[0m\u001b[0;34m,\u001b[0m \u001b[0meval_metric\u001b[0m\u001b[0;34m=\u001b[0m\u001b[0meval_metric\u001b[0m\u001b[0;34m,\u001b[0m \u001b[0mparams\u001b[0m\u001b[0;34m=\u001b[0m\u001b[0mparams\u001b[0m\u001b[0;34m\u001b[0m\u001b[0;34m\u001b[0m\u001b[0m\n\u001b[1;32m   1774\u001b[0m         )\n\u001b[0;32m-> 1775\u001b[0;31m         results = await self.client.sync(\n\u001b[0m\u001b[1;32m   1776\u001b[0m             \u001b[0m_train_async\u001b[0m\u001b[0;34m,\u001b[0m\u001b[0;34m\u001b[0m\u001b[0;34m\u001b[0m\u001b[0m\n\u001b[1;32m   1777\u001b[0m             \u001b[0masynchronous\u001b[0m\u001b[0;34m=\u001b[0m\u001b[0;32mTrue\u001b[0m\u001b[0;34m,\u001b[0m\u001b[0;34m\u001b[0m\u001b[0;34m\u001b[0m\u001b[0m\n",
      "\u001b[0;32m~/mambaforge/envs/dask-nlp/lib/python3.9/site-packages/xgboost/dask.py\u001b[0m in \u001b[0;36m_train_async\u001b[0;34m(client, global_config, params, dtrain, num_boost_round, evals, obj, feval, early_stopping_rounds, verbose_eval, xgb_model, callbacks)\u001b[0m\n\u001b[1;32m    929\u001b[0m             \u001b[0mfutures\u001b[0m\u001b[0;34m.\u001b[0m\u001b[0mappend\u001b[0m\u001b[0;34m(\u001b[0m\u001b[0mf\u001b[0m\u001b[0;34m)\u001b[0m\u001b[0;34m\u001b[0m\u001b[0;34m\u001b[0m\u001b[0m\n\u001b[1;32m    930\u001b[0m \u001b[0;34m\u001b[0m\u001b[0m\n\u001b[0;32m--> 931\u001b[0;31m         \u001b[0mresults\u001b[0m \u001b[0;34m=\u001b[0m \u001b[0;32mawait\u001b[0m \u001b[0mclient\u001b[0m\u001b[0;34m.\u001b[0m\u001b[0mgather\u001b[0m\u001b[0;34m(\u001b[0m\u001b[0mfutures\u001b[0m\u001b[0;34m,\u001b[0m \u001b[0masynchronous\u001b[0m\u001b[0;34m=\u001b[0m\u001b[0;32mTrue\u001b[0m\u001b[0;34m)\u001b[0m\u001b[0;34m\u001b[0m\u001b[0;34m\u001b[0m\u001b[0m\n\u001b[0m\u001b[1;32m    932\u001b[0m \u001b[0;34m\u001b[0m\u001b[0m\n\u001b[1;32m    933\u001b[0m         \u001b[0;32mreturn\u001b[0m \u001b[0mlist\u001b[0m\u001b[0;34m(\u001b[0m\u001b[0mfilter\u001b[0m\u001b[0;34m(\u001b[0m\u001b[0;32mlambda\u001b[0m \u001b[0mret\u001b[0m\u001b[0;34m:\u001b[0m \u001b[0mret\u001b[0m \u001b[0;32mis\u001b[0m \u001b[0;32mnot\u001b[0m \u001b[0;32mNone\u001b[0m\u001b[0;34m,\u001b[0m \u001b[0mresults\u001b[0m\u001b[0;34m)\u001b[0m\u001b[0;34m)\u001b[0m\u001b[0;34m[\u001b[0m\u001b[0;36m0\u001b[0m\u001b[0;34m]\u001b[0m\u001b[0;34m\u001b[0m\u001b[0;34m\u001b[0m\u001b[0m\n",
      "\u001b[0;32m~/mambaforge/envs/dask-nlp/lib/python3.9/site-packages/distributed/client.py\u001b[0m in \u001b[0;36m_gather\u001b[0;34m(self, futures, errors, direct, local_worker)\u001b[0m\n\u001b[1;32m   1840\u001b[0m                             \u001b[0mexc\u001b[0m \u001b[0;34m=\u001b[0m \u001b[0mCancelledError\u001b[0m\u001b[0;34m(\u001b[0m\u001b[0mkey\u001b[0m\u001b[0;34m)\u001b[0m\u001b[0;34m\u001b[0m\u001b[0;34m\u001b[0m\u001b[0m\n\u001b[1;32m   1841\u001b[0m                         \u001b[0;32melse\u001b[0m\u001b[0;34m:\u001b[0m\u001b[0;34m\u001b[0m\u001b[0;34m\u001b[0m\u001b[0m\n\u001b[0;32m-> 1842\u001b[0;31m                             \u001b[0;32mraise\u001b[0m \u001b[0mexception\u001b[0m\u001b[0;34m.\u001b[0m\u001b[0mwith_traceback\u001b[0m\u001b[0;34m(\u001b[0m\u001b[0mtraceback\u001b[0m\u001b[0;34m)\u001b[0m\u001b[0;34m\u001b[0m\u001b[0;34m\u001b[0m\u001b[0m\n\u001b[0m\u001b[1;32m   1843\u001b[0m                         \u001b[0;32mraise\u001b[0m \u001b[0mexc\u001b[0m\u001b[0;34m\u001b[0m\u001b[0;34m\u001b[0m\u001b[0m\n\u001b[1;32m   1844\u001b[0m                     \u001b[0;32mif\u001b[0m \u001b[0merrors\u001b[0m \u001b[0;34m==\u001b[0m \u001b[0;34m\"skip\"\u001b[0m\u001b[0;34m:\u001b[0m\u001b[0;34m\u001b[0m\u001b[0;34m\u001b[0m\u001b[0m\n",
      "\u001b[0;32m~/mambaforge/envs/dask-nlp/lib/python3.9/site-packages/xgboost/dask.py\u001b[0m in \u001b[0;36mdispatched_train\u001b[0;34m()\u001b[0m\n\u001b[1;32m    865\u001b[0m         \u001b[0mworker\u001b[0m \u001b[0;34m=\u001b[0m \u001b[0mdistributed\u001b[0m\u001b[0;34m.\u001b[0m\u001b[0mget_worker\u001b[0m\u001b[0;34m(\u001b[0m\u001b[0;34m)\u001b[0m\u001b[0;34m\u001b[0m\u001b[0;34m\u001b[0m\u001b[0m\n\u001b[1;32m    866\u001b[0m         \u001b[0;32mwith\u001b[0m \u001b[0mRabitContext\u001b[0m\u001b[0;34m(\u001b[0m\u001b[0mrabit_args\u001b[0m\u001b[0;34m)\u001b[0m\u001b[0;34m,\u001b[0m \u001b[0mconfig\u001b[0m\u001b[0;34m.\u001b[0m\u001b[0mconfig_context\u001b[0m\u001b[0;34m(\u001b[0m\u001b[0;34m**\u001b[0m\u001b[0mglobal_config\u001b[0m\u001b[0;34m)\u001b[0m\u001b[0;34m:\u001b[0m\u001b[0;34m\u001b[0m\u001b[0;34m\u001b[0m\u001b[0m\n\u001b[0;32m--> 867\u001b[0;31m             \u001b[0mlocal_dtrain\u001b[0m \u001b[0;34m=\u001b[0m \u001b[0m_dmatrix_from_list_of_parts\u001b[0m\u001b[0;34m(\u001b[0m\u001b[0;34m**\u001b[0m\u001b[0mdtrain_ref\u001b[0m\u001b[0;34m)\u001b[0m\u001b[0;34m\u001b[0m\u001b[0;34m\u001b[0m\u001b[0m\n\u001b[0m\u001b[1;32m    868\u001b[0m             \u001b[0mlocal_evals\u001b[0m \u001b[0;34m=\u001b[0m \u001b[0;34m[\u001b[0m\u001b[0;34m]\u001b[0m\u001b[0;34m\u001b[0m\u001b[0;34m\u001b[0m\u001b[0m\n\u001b[1;32m    869\u001b[0m             \u001b[0;32mif\u001b[0m \u001b[0mevals_ref\u001b[0m\u001b[0;34m:\u001b[0m\u001b[0;34m\u001b[0m\u001b[0;34m\u001b[0m\u001b[0m\n",
      "\u001b[0;32m/opt/conda/envs/coiled/lib/python3.9/site-packages/xgboost/dask.py\u001b[0m in \u001b[0;36m_dmatrix_from_list_of_parts\u001b[0;34m()\u001b[0m\n",
      "\u001b[0;32m/opt/conda/envs/coiled/lib/python3.9/site-packages/xgboost/dask.py\u001b[0m in \u001b[0;36m_create_dmatrix\u001b[0;34m()\u001b[0m\n",
      "\u001b[0;32m/opt/conda/envs/coiled/lib/python3.9/site-packages/xgboost/dask.py\u001b[0m in \u001b[0;36mconcat\u001b[0;34m()\u001b[0m\n",
      "\u001b[0;32m/opt/conda/envs/coiled/lib/python3.9/site-packages/dask/dataframe/multi.py\u001b[0m in \u001b[0;36mconcat\u001b[0;34m()\u001b[0m\n",
      "\u001b[0;32m/opt/conda/envs/coiled/lib/python3.9/site-packages/dask/dataframe/multi.py\u001b[0m in \u001b[0;36m<genexpr>\u001b[0;34m()\u001b[0m\n",
      "\u001b[0;32m/opt/conda/envs/coiled/lib/python3.9/site-packages/scipy/sparse/base.py\u001b[0m in \u001b[0;36m__getattr__\u001b[0;34m()\u001b[0m\n",
      "\u001b[0;31mAttributeError\u001b[0m: divisions not found"
     ]
    }
   ],
   "source": [
    "%%time\n",
    "clf.fit(X_train_vect, y_train)"
   ]
  },
  {
   "cell_type": "markdown",
   "id": "af431ae5-cae4-4315-99ab-19dcef9738e0",
   "metadata": {},
   "source": [
    "The error above is a bug in the XGBoost package. Issue was raised and there's a PR ready to be merged that will resolve this issue:\n",
    "https://github.com/dmlc/xgboost/issues/7454"
   ]
  },
  {
   "cell_type": "code",
   "execution_count": null,
   "id": "2f2f51f0-57fe-48e6-9de6-2c1c634baf20",
   "metadata": {},
   "outputs": [],
   "source": [
    "proba = xgb.predict_proba(X_test)"
   ]
  }
 ],
 "metadata": {
  "kernelspec": {
   "display_name": "numpy-zarr",
   "language": "python",
   "name": "numpy-zarr"
  },
  "language_info": {
   "codemirror_mode": {
    "name": "ipython",
    "version": 3
   },
   "file_extension": ".py",
   "mimetype": "text/x-python",
   "name": "python",
   "nbconvert_exporter": "python",
   "pygments_lexer": "ipython3",
   "version": "3.9.6"
  }
 },
 "nbformat": 4,
 "nbformat_minor": 5
}
