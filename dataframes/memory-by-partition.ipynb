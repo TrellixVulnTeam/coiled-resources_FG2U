{
 "cells": [
  {
   "cell_type": "markdown",
   "id": "d53b2dd3-e9aa-442e-b1e0-81a7ef0da239",
   "metadata": {},
   "source": [
    "## Pandas memory usage"
   ]
  },
  {
   "cell_type": "code",
   "execution_count": 19,
   "id": "d3f1ab88-eb9a-44ed-ae2b-d8062569ed14",
   "metadata": {},
   "outputs": [],
   "source": [
    "import pandas as pd\n",
    "import dask"
   ]
  },
  {
   "cell_type": "code",
   "execution_count": 20,
   "id": "ea41ebc2-62e6-4111-b746-e0723fd0e453",
   "metadata": {},
   "outputs": [],
   "source": [
    "df = pd.DataFrame(\n",
    "    {\"nums\": [1, 2, 3, 4, 5, 6], \"letters\": [\"a\", \"b\", \"c\", \"d\", \"e\", \"f\"]}\n",
    ")"
   ]
  },
  {
   "cell_type": "code",
   "execution_count": 21,
   "id": "dcbdf816-8fd8-4089-ab77-7cc4e98946ae",
   "metadata": {},
   "outputs": [
    {
     "data": {
      "text/html": [
       "<div>\n",
       "<style scoped>\n",
       "    .dataframe tbody tr th:only-of-type {\n",
       "        vertical-align: middle;\n",
       "    }\n",
       "\n",
       "    .dataframe tbody tr th {\n",
       "        vertical-align: top;\n",
       "    }\n",
       "\n",
       "    .dataframe thead th {\n",
       "        text-align: right;\n",
       "    }\n",
       "</style>\n",
       "<table border=\"1\" class=\"dataframe\">\n",
       "  <thead>\n",
       "    <tr style=\"text-align: right;\">\n",
       "      <th></th>\n",
       "      <th>nums</th>\n",
       "      <th>letters</th>\n",
       "    </tr>\n",
       "  </thead>\n",
       "  <tbody>\n",
       "    <tr>\n",
       "      <th>0</th>\n",
       "      <td>1</td>\n",
       "      <td>a</td>\n",
       "    </tr>\n",
       "    <tr>\n",
       "      <th>1</th>\n",
       "      <td>2</td>\n",
       "      <td>b</td>\n",
       "    </tr>\n",
       "    <tr>\n",
       "      <th>2</th>\n",
       "      <td>3</td>\n",
       "      <td>c</td>\n",
       "    </tr>\n",
       "    <tr>\n",
       "      <th>3</th>\n",
       "      <td>4</td>\n",
       "      <td>d</td>\n",
       "    </tr>\n",
       "    <tr>\n",
       "      <th>4</th>\n",
       "      <td>5</td>\n",
       "      <td>e</td>\n",
       "    </tr>\n",
       "    <tr>\n",
       "      <th>5</th>\n",
       "      <td>6</td>\n",
       "      <td>f</td>\n",
       "    </tr>\n",
       "  </tbody>\n",
       "</table>\n",
       "</div>"
      ],
      "text/plain": [
       "   nums letters\n",
       "0     1       a\n",
       "1     2       b\n",
       "2     3       c\n",
       "3     4       d\n",
       "4     5       e\n",
       "5     6       f"
      ]
     },
     "execution_count": 21,
     "metadata": {},
     "output_type": "execute_result"
    }
   ],
   "source": [
    "df"
   ]
  },
  {
   "cell_type": "code",
   "execution_count": 22,
   "id": "9ca88d38-90db-4777-96e2-63a947eac893",
   "metadata": {},
   "outputs": [
    {
     "data": {
      "text/plain": [
       "Index      128\n",
       "nums        48\n",
       "letters    348\n",
       "dtype: int64"
      ]
     },
     "execution_count": 22,
     "metadata": {},
     "output_type": "execute_result"
    }
   ],
   "source": [
    "df.memory_usage(deep=True)"
   ]
  },
  {
   "cell_type": "code",
   "execution_count": 23,
   "id": "b6d79480-022d-4560-ac37-462f2b90d2a7",
   "metadata": {},
   "outputs": [
    {
     "data": {
      "text/plain": [
       "524"
      ]
     },
     "execution_count": 23,
     "metadata": {},
     "output_type": "execute_result"
    }
   ],
   "source": [
    "df.memory_usage(deep=True).sum()"
   ]
  },
  {
   "cell_type": "code",
   "execution_count": 24,
   "id": "cbd8a185-6b8c-4638-9922-937b63450301",
   "metadata": {},
   "outputs": [
    {
     "data": {
      "text/plain": [
       "2524"
      ]
     },
     "execution_count": 24,
     "metadata": {},
     "output_type": "execute_result"
    }
   ],
   "source": [
    "dask.sizeof.sizeof(df)"
   ]
  },
  {
   "cell_type": "markdown",
   "id": "c65d2b16-7532-47b4-a78e-c00145a7a33d",
   "metadata": {},
   "source": [
    "## Localhost Dask Memory Usage"
   ]
  },
  {
   "cell_type": "code",
   "execution_count": 25,
   "id": "979e1e3c-e671-459a-88ea-1f2100f1453a",
   "metadata": {},
   "outputs": [],
   "source": [
    "from dask import dataframe as dd "
   ]
  },
  {
   "cell_type": "code",
   "execution_count": 26,
   "id": "6cdf2071-0a3c-4a36-ba41-8ed262dffda3",
   "metadata": {},
   "outputs": [],
   "source": [
    "ddf = dd.from_pandas(df, npartitions=2)"
   ]
  },
  {
   "cell_type": "code",
   "execution_count": 27,
   "id": "869e297c-2e2b-4cc0-9c7a-0e56e674b475",
   "metadata": {},
   "outputs": [
    {
     "name": "stdout",
     "output_type": "stream",
     "text": [
      "   nums letters\n",
      "0     1       a\n",
      "1     2       b\n",
      "2     3       c\n",
      "   nums letters\n",
      "3     4       d\n",
      "4     5       e\n",
      "5     6       f\n"
     ]
    }
   ],
   "source": [
    "for i in range(ddf.npartitions):\n",
    "    print(ddf.partitions[i].compute())"
   ]
  },
  {
   "cell_type": "code",
   "execution_count": 28,
   "id": "6171489b-7708-4b5f-8e93-de147a7d9615",
   "metadata": {},
   "outputs": [
    {
     "data": {
      "text/plain": [
       "Index      128\n",
       "letters    174\n",
       "nums        24\n",
       "dtype: int64"
      ]
     },
     "execution_count": 28,
     "metadata": {},
     "output_type": "execute_result"
    }
   ],
   "source": [
    "ddf.partitions[0].memory_usage(deep=True).compute()"
   ]
  },
  {
   "cell_type": "code",
   "execution_count": 29,
   "id": "6e4442b0-62a0-4d83-8cdc-5443cfe8de56",
   "metadata": {},
   "outputs": [
    {
     "data": {
      "text/plain": [
       "0    326\n",
       "1    330\n",
       "dtype: int64"
      ]
     },
     "execution_count": 29,
     "metadata": {},
     "output_type": "execute_result"
    }
   ],
   "source": [
    "(ddf\n",
    "    .map_partitions(lambda x: x.memory_usage(deep=True).sum())\n",
    "    .compute())"
   ]
  },
  {
   "cell_type": "code",
   "execution_count": 30,
   "id": "b8e7472e-92e2-494d-a1b1-e912824f8473",
   "metadata": {},
   "outputs": [
    {
     "data": {
      "text/plain": [
       "0    326\n",
       "1    330\n",
       "dtype: int64"
      ]
     },
     "execution_count": 30,
     "metadata": {},
     "output_type": "execute_result"
    }
   ],
   "source": [
    "ddf.memory_usage_per_partition(deep=True).compute()"
   ]
  },
  {
   "cell_type": "code",
   "execution_count": 31,
   "id": "9a8e8b98-6cbe-464e-a8dc-fb920b151e80",
   "metadata": {},
   "outputs": [
    {
     "data": {
      "text/plain": [
       "0    176\n",
       "1    180\n",
       "dtype: int64"
      ]
     },
     "execution_count": 31,
     "metadata": {},
     "output_type": "execute_result"
    }
   ],
   "source": [
    "ddf.memory_usage_per_partition(deep=False).compute()"
   ]
  },
  {
   "cell_type": "markdown",
   "id": "ca324405-0eb0-444b-ac1d-7d27e81be48d",
   "metadata": {},
   "source": [
    "## Dask memory usage"
   ]
  },
  {
   "cell_type": "code",
   "execution_count": 33,
   "id": "cffa0cfc-4b73-4a16-b54a-63fe6ce957f1",
   "metadata": {},
   "outputs": [],
   "source": [
    "import coiled\n",
    "import dask.dataframe as dd\n",
    "import dask\n",
    "from dask.utils import format_bytes\n",
    "from dask.distributed import Client"
   ]
  },
  {
   "cell_type": "code",
   "execution_count": 34,
   "id": "e5db81a1-e7be-43d4-889b-bfe806db85df",
   "metadata": {},
   "outputs": [
    {
     "data": {
      "application/vnd.jupyter.widget-view+json": {
       "model_id": "",
       "version_major": 2,
       "version_minor": 0
      },
      "text/plain": [
       "Output()"
      ]
     },
     "metadata": {},
     "output_type": "display_data"
    },
    {
     "data": {
      "text/html": [
       "<pre style=\"white-space:pre;overflow-x:auto;line-height:normal;font-family:Menlo,'DejaVu Sans Mono',consolas,'Courier New',monospace\">Using existing cluster: <span style=\"color: #008000; text-decoration-color: #008000\">'demo-parquet'</span>\n",
       "</pre>\n"
      ],
      "text/plain": [
       "Using existing cluster: \u001b[32m'demo-parquet'\u001b[0m\n"
      ]
     },
     "metadata": {},
     "output_type": "display_data"
    },
    {
     "data": {
      "text/html": [
       "<pre style=\"white-space:pre;overflow-x:auto;line-height:normal;font-family:Menlo,'DejaVu Sans Mono',consolas,'Courier New',monospace\"></pre>\n"
      ],
      "text/plain": []
     },
     "metadata": {},
     "output_type": "display_data"
    }
   ],
   "source": [
    "cluster = coiled.Cluster(name=\"demo-parquet\", n_workers=5)"
   ]
  },
  {
   "cell_type": "code",
   "execution_count": 35,
   "id": "48e73b61-b4b6-4b64-80f1-730be7144746",
   "metadata": {},
   "outputs": [
    {
     "name": "stderr",
     "output_type": "stream",
     "text": [
      "/Users/powers/opt/miniconda3/envs/standard-coiled/lib/python3.9/site-packages/distributed/client.py:1105: VersionMismatchWarning: Mismatched versions found\n",
      "\n",
      "+---------+--------+-----------+---------+\n",
      "| Package | client | scheduler | workers |\n",
      "+---------+--------+-----------+---------+\n",
      "| numpy   | 1.21.1 | 1.21.2    | 1.21.2  |\n",
      "| pandas  | 1.3.1  | 1.3.2     | 1.3.2   |\n",
      "+---------+--------+-----------+---------+\n",
      "  warnings.warn(version_module.VersionMismatchWarning(msg[0][\"warning\"]))\n"
     ]
    }
   ],
   "source": [
    "client = Client(cluster)"
   ]
  },
  {
   "cell_type": "code",
   "execution_count": 36,
   "id": "f5161a0d-5c54-44f7-81d6-e7e13f7c0705",
   "metadata": {},
   "outputs": [],
   "source": [
    "ddf = dd.read_parquet(\n",
    "    \"s3://coiled-datasets/timeseries/20-years/parquet\",\n",
    "    storage_options={\"anon\": True, 'use_ssl': True}\n",
    ")"
   ]
  },
  {
   "cell_type": "code",
   "execution_count": 7,
   "id": "4debe17f-2988-4d73-9ae8-e4cc0fe135de",
   "metadata": {},
   "outputs": [
    {
     "name": "stdout",
     "output_type": "stream",
     "text": [
      "CPU times: user 1.38 s, sys: 149 ms, total: 1.53 s\n",
      "Wall time: 1min 40s\n"
     ]
    },
    {
     "data": {
      "text/plain": [
       "0       57061027\n",
       "1       57060857\n",
       "2       57059768\n",
       "3       57059342\n",
       "4       57060737\n",
       "          ...   \n",
       "1090    57059834\n",
       "1091    57061111\n",
       "1092    57061001\n",
       "1093    57058404\n",
       "1094    57061989\n",
       "Length: 1095, dtype: int64"
      ]
     },
     "execution_count": 7,
     "metadata": {},
     "output_type": "execute_result"
    }
   ],
   "source": [
    "%%time\n",
    "\n",
    "ddf.map_partitions(lambda x: x.memory_usage(deep=True).sum()).compute()"
   ]
  },
  {
   "cell_type": "code",
   "execution_count": 8,
   "id": "339cfa5e-4942-484f-bb9d-cc1251fb4dcc",
   "metadata": {},
   "outputs": [
    {
     "name": "stdout",
     "output_type": "stream",
     "text": [
      "CPU times: user 1.77 s, sys: 170 ms, total: 1.94 s\n",
      "Wall time: 1min 27s\n"
     ]
    },
    {
     "data": {
      "text/plain": [
       "0       57061027\n",
       "1       57060857\n",
       "2       57059768\n",
       "3       57059342\n",
       "4       57060737\n",
       "          ...   \n",
       "1090    57059834\n",
       "1091    57061111\n",
       "1092    57061001\n",
       "1093    57058404\n",
       "1094    57061989\n",
       "Length: 1095, dtype: int64"
      ]
     },
     "execution_count": 8,
     "metadata": {},
     "output_type": "execute_result"
    }
   ],
   "source": [
    "%%time\n",
    "\n",
    "ddf.memory_usage_per_partition(deep=True).compute()"
   ]
  },
  {
   "cell_type": "code",
   "execution_count": 25,
   "id": "3a19a284-f38e-40c2-b3b8-3150db56cf18",
   "metadata": {},
   "outputs": [
    {
     "data": {
      "text/plain": [
       "'54.42 MiB'"
      ]
     },
     "execution_count": 25,
     "metadata": {},
     "output_type": "execute_result"
    }
   ],
   "source": [
    "format_bytes(57059834)"
   ]
  },
  {
   "cell_type": "code",
   "execution_count": 26,
   "id": "e4828c3a-34e6-4863-92a1-cb58c76e3365",
   "metadata": {},
   "outputs": [
    {
     "data": {
      "text/plain": [
       "'542 B'"
      ]
     },
     "execution_count": 26,
     "metadata": {},
     "output_type": "execute_result"
    }
   ],
   "source": [
    "format_bytes(542)"
   ]
  },
  {
   "cell_type": "code",
   "execution_count": 27,
   "id": "1468a2bb-2fbb-4050-a535-9f29c5aeb21c",
   "metadata": {},
   "outputs": [
    {
     "data": {
      "text/plain": [
       "'10.10 kiB'"
      ]
     },
     "execution_count": 27,
     "metadata": {},
     "output_type": "execute_result"
    }
   ],
   "source": [
    "format_bytes(10345)"
   ]
  },
  {
   "cell_type": "code",
   "execution_count": null,
   "id": "bedf98fe-3cdf-4247-9f8f-34b4f6ae75ac",
   "metadata": {},
   "outputs": [],
   "source": [
    "sizes = (ddf\n",
    "    .map_partitions(lambda x: x.memory_usage(deep=True).sum())\n",
    "    .compute())\n",
    "\n",
    "list(map(lambda x: format_bytes(x), sizes))"
   ]
  },
  {
   "cell_type": "code",
   "execution_count": 11,
   "id": "cc750e7d-cd75-4065-be99-76d0f43d02c2",
   "metadata": {},
   "outputs": [
    {
     "name": "stdout",
     "output_type": "stream",
     "text": [
      "CPU times: user 2.06 s, sys: 197 ms, total: 2.26 s\n",
      "Wall time: 1min 32s\n"
     ]
    },
    {
     "data": {
      "text/plain": [
       "0       56822960\n",
       "1       57125360\n",
       "2       56822960\n",
       "3       57246320\n",
       "4       57306800\n",
       "          ...   \n",
       "1090    56974160\n",
       "1091    57004400\n",
       "1092    57337040\n",
       "1093    56822960\n",
       "1094    57004400\n",
       "Length: 1095, dtype: int64"
      ]
     },
     "execution_count": 11,
     "metadata": {},
     "output_type": "execute_result"
    }
   ],
   "source": [
    "%%time\n",
    "\n",
    "ddf.map_partitions(lambda x: dask.sizeof.sizeof(x)).compute()"
   ]
  },
  {
   "cell_type": "code",
   "execution_count": 34,
   "id": "a9ca2906-31c5-4b30-b016-054490f448b8",
   "metadata": {},
   "outputs": [
    {
     "name": "stdout",
     "output_type": "stream",
     "text": [
      "CPU times: user 1.96 s, sys: 212 ms, total: 2.17 s\n",
      "Wall time: 1min 15s\n"
     ]
    },
    {
     "data": {
      "text/plain": [
       "Index     4838400\n",
       "id        4838400\n",
       "name     37707427\n",
       "x         4838400\n",
       "y         4838400\n",
       "           ...   \n",
       "Index     4838400\n",
       "id        4838400\n",
       "name     37708389\n",
       "x         4838400\n",
       "y         4838400\n",
       "Length: 5475, dtype: int64"
      ]
     },
     "execution_count": 34,
     "metadata": {},
     "output_type": "execute_result"
    }
   ],
   "source": [
    "%%time\n",
    "\n",
    "ddf.map_partitions(lambda x: x.memory_usage(deep=True)).compute()"
   ]
  },
  {
   "cell_type": "markdown",
   "id": "62ee66e5-fcfd-4895-9a03-5a8a268462f4",
   "metadata": {},
   "source": [
    "## Filter DataFrame"
   ]
  },
  {
   "cell_type": "code",
   "execution_count": 37,
   "id": "a9124047-86a9-4127-a475-f43fa02de8fb",
   "metadata": {},
   "outputs": [],
   "source": [
    "filtered_ddf = ddf.loc[ddf[\"id\"] > 1150]"
   ]
  },
  {
   "cell_type": "code",
   "execution_count": 38,
   "id": "a134db13-0fb5-49e1-a559-07ac45d5c0b6",
   "metadata": {},
   "outputs": [
    {
     "name": "stdout",
     "output_type": "stream",
     "text": [
      "CPU times: user 1.58 s, sys: 166 ms, total: 1.75 s\n",
      "Wall time: 1min 15s\n"
     ]
    },
    {
     "data": {
      "text/plain": [
       "0         0\n",
       "1        94\n",
       "2         0\n",
       "3         0\n",
       "4       187\n",
       "       ... \n",
       "1090      0\n",
       "1091    189\n",
       "1092      0\n",
       "1093      0\n",
       "1094      0\n",
       "Length: 1095, dtype: int64"
      ]
     },
     "execution_count": 38,
     "metadata": {},
     "output_type": "execute_result"
    }
   ],
   "source": [
    "%%time\n",
    "\n",
    "filtered_ddf.memory_usage_per_partition(deep=True).compute()"
   ]
  },
  {
   "cell_type": "code",
   "execution_count": 39,
   "id": "7c7cb8d8-1606-4a22-9ada-53e1c757bca0",
   "metadata": {},
   "outputs": [
    {
     "name": "stdout",
     "output_type": "stream",
     "text": [
      "CPU times: user 1.68 s, sys: 207 ms, total: 1.89 s\n",
      "Wall time: 1min 13s\n"
     ]
    },
    {
     "data": {
      "text/plain": [
       "0       2000\n",
       "1       2094\n",
       "2       2000\n",
       "3       2000\n",
       "4       2186\n",
       "        ... \n",
       "1090    2000\n",
       "1091    2189\n",
       "1092    2000\n",
       "1093    2000\n",
       "1094    2000\n",
       "Length: 1095, dtype: int64"
      ]
     },
     "execution_count": 39,
     "metadata": {},
     "output_type": "execute_result"
    }
   ],
   "source": [
    "%%time\n",
    "\n",
    "filtered_ddf.map_partitions(lambda x: dask.sizeof.sizeof(x)).compute()"
   ]
  },
  {
   "cell_type": "code",
   "execution_count": 32,
   "id": "edbacf03-e16a-48fe-98f1-ae6cc7cd584d",
   "metadata": {},
   "outputs": [
    {
     "data": {
      "text/plain": [
       "0       0\n",
       "1       1\n",
       "2       0\n",
       "3       0\n",
       "4       2\n",
       "       ..\n",
       "1090    0\n",
       "1091    2\n",
       "1092    0\n",
       "1093    0\n",
       "1094    0\n",
       "Length: 1095, dtype: int64"
      ]
     },
     "execution_count": 32,
     "metadata": {},
     "output_type": "execute_result"
    }
   ],
   "source": [
    "filtered_ddf.map_partitions(len).compute()"
   ]
  },
  {
   "cell_type": "code",
   "execution_count": 33,
   "id": "25b054d0-2e52-4ec5-9fbe-bd9cff338d26",
   "metadata": {},
   "outputs": [
    {
     "data": {
      "text/plain": [
       "0    56889\n",
       "1    50854\n",
       "dtype: int64"
      ]
     },
     "execution_count": 33,
     "metadata": {},
     "output_type": "execute_result"
    }
   ],
   "source": [
    "filtered_ddf.repartition(2).map_partitions(lambda x: dask.sizeof.sizeof(x)).compute()"
   ]
  },
  {
   "cell_type": "markdown",
   "id": "335d281c-85e4-44aa-b22e-ad482ba93aca",
   "metadata": {},
   "source": [
    "## Assessing imbalance"
   ]
  },
  {
   "cell_type": "code",
   "execution_count": 16,
   "id": "c98ad585-47bd-416e-88a2-6355e851b71a",
   "metadata": {},
   "outputs": [],
   "source": [
    "import numpy\n",
    "\n",
    "def partition_report(ddf):\n",
    "    series = ddf.memory_usage_per_partition(deep=True).compute()\n",
    "    total = series.count()\n",
    "    print(f\"Total number of partitions: {total}\")\n",
    "    total_memory = format_bytes(series.sum())\n",
    "    print(f\"Total DataFrame memory: {total_memory}\")\n",
    "    total = total.astype(numpy.float64)\n",
    "    lt_1kb = series.where(lambda x : x < 1000).count()\n",
    "    lt_1kb_percentage = '{:.1%}'.format(lt_1kb/total)\n",
    "    lt_1mb = series.where(lambda x : x < 1000000).count()\n",
    "    lt_1mb_percentage = '{:.1%}'.format(lt_1mb/total)\n",
    "    gt_1gb = series.where(lambda x : x > 1000000000).count()\n",
    "    gt_1gb_percentage = '{:.1%}'.format(gt_1gb/total)\n",
    "    print(f\"Num partitions < 1 KB: {lt_1kb} ({lt_1kb_percentage})\")\n",
    "    print(f\"Num partitions < 1 MB: {lt_1mb} ({lt_1mb_percentage})\")\n",
    "    print(f\"Num partitions > 1 GB: {gt_1gb} ({gt_1gb_percentage})\")"
   ]
  },
  {
   "cell_type": "code",
   "execution_count": 17,
   "id": "07c65b82-e30d-470c-90b4-1af392402f37",
   "metadata": {},
   "outputs": [
    {
     "name": "stdout",
     "output_type": "stream",
     "text": [
      "Total number of partitions: 1095\n",
      "Total DataFrame memory: 101.71 kiB\n",
      "Num partitions < 1 KB: 1095 (100.0%)\n",
      "Num partitions < 1 MB: 1095 (100.0%)\n",
      "Num partitions > 1 GB: 0 (0.0%)\n"
     ]
    }
   ],
   "source": [
    "partition_report(filtered_ddf)"
   ]
  },
  {
   "cell_type": "markdown",
   "id": "9225bcbb-1202-4ee0-9eeb-8f6d3c137cc2",
   "metadata": {},
   "source": [
    "## Single partition"
   ]
  },
  {
   "cell_type": "code",
   "execution_count": 31,
   "id": "84f9af68-cbc4-431b-b033-1aa69c99c798",
   "metadata": {},
   "outputs": [],
   "source": [
    "df = ddf.partitions[0]"
   ]
  },
  {
   "cell_type": "code",
   "execution_count": 9,
   "id": "2eacae53-1fad-49b1-81e9-ca1231a15574",
   "metadata": {},
   "outputs": [
    {
     "data": {
      "text/html": [
       "<div>\n",
       "<style scoped>\n",
       "    .dataframe tbody tr th:only-of-type {\n",
       "        vertical-align: middle;\n",
       "    }\n",
       "\n",
       "    .dataframe tbody tr th {\n",
       "        vertical-align: top;\n",
       "    }\n",
       "\n",
       "    .dataframe thead th {\n",
       "        text-align: right;\n",
       "    }\n",
       "</style>\n",
       "<table border=\"1\" class=\"dataframe\">\n",
       "  <thead>\n",
       "    <tr style=\"text-align: right;\">\n",
       "      <th></th>\n",
       "      <th>id</th>\n",
       "      <th>name</th>\n",
       "      <th>x</th>\n",
       "      <th>y</th>\n",
       "    </tr>\n",
       "    <tr>\n",
       "      <th>timestamp</th>\n",
       "      <th></th>\n",
       "      <th></th>\n",
       "      <th></th>\n",
       "      <th></th>\n",
       "    </tr>\n",
       "  </thead>\n",
       "  <tbody>\n",
       "    <tr>\n",
       "      <th>2000-01-01 00:00:00</th>\n",
       "      <td>1008</td>\n",
       "      <td>Dan</td>\n",
       "      <td>-0.259374</td>\n",
       "      <td>-0.118314</td>\n",
       "    </tr>\n",
       "    <tr>\n",
       "      <th>2000-01-01 00:00:01</th>\n",
       "      <td>987</td>\n",
       "      <td>Patricia</td>\n",
       "      <td>0.069601</td>\n",
       "      <td>0.755351</td>\n",
       "    </tr>\n",
       "    <tr>\n",
       "      <th>2000-01-01 00:00:02</th>\n",
       "      <td>980</td>\n",
       "      <td>Zelda</td>\n",
       "      <td>-0.281843</td>\n",
       "      <td>-0.510507</td>\n",
       "    </tr>\n",
       "    <tr>\n",
       "      <th>2000-01-01 00:00:03</th>\n",
       "      <td>1020</td>\n",
       "      <td>Ursula</td>\n",
       "      <td>-0.569904</td>\n",
       "      <td>0.523132</td>\n",
       "    </tr>\n",
       "    <tr>\n",
       "      <th>2000-01-01 00:00:04</th>\n",
       "      <td>967</td>\n",
       "      <td>Michael</td>\n",
       "      <td>-0.251460</td>\n",
       "      <td>0.810930</td>\n",
       "    </tr>\n",
       "    <tr>\n",
       "      <th>...</th>\n",
       "      <td>...</td>\n",
       "      <td>...</td>\n",
       "      <td>...</td>\n",
       "      <td>...</td>\n",
       "    </tr>\n",
       "    <tr>\n",
       "      <th>2000-01-07 23:59:55</th>\n",
       "      <td>984</td>\n",
       "      <td>Michael</td>\n",
       "      <td>-0.147591</td>\n",
       "      <td>0.265310</td>\n",
       "    </tr>\n",
       "    <tr>\n",
       "      <th>2000-01-07 23:59:56</th>\n",
       "      <td>1030</td>\n",
       "      <td>Yvonne</td>\n",
       "      <td>-0.817655</td>\n",
       "      <td>0.345774</td>\n",
       "    </tr>\n",
       "    <tr>\n",
       "      <th>2000-01-07 23:59:57</th>\n",
       "      <td>979</td>\n",
       "      <td>Ingrid</td>\n",
       "      <td>0.653402</td>\n",
       "      <td>-0.366750</td>\n",
       "    </tr>\n",
       "    <tr>\n",
       "      <th>2000-01-07 23:59:58</th>\n",
       "      <td>970</td>\n",
       "      <td>Charlie</td>\n",
       "      <td>0.423712</td>\n",
       "      <td>0.533407</td>\n",
       "    </tr>\n",
       "    <tr>\n",
       "      <th>2000-01-07 23:59:59</th>\n",
       "      <td>972</td>\n",
       "      <td>Bob</td>\n",
       "      <td>-0.454586</td>\n",
       "      <td>0.629970</td>\n",
       "    </tr>\n",
       "  </tbody>\n",
       "</table>\n",
       "<p>604800 rows × 4 columns</p>\n",
       "</div>"
      ],
      "text/plain": [
       "                       id      name         x         y\n",
       "timestamp                                              \n",
       "2000-01-01 00:00:00  1008       Dan -0.259374 -0.118314\n",
       "2000-01-01 00:00:01   987  Patricia  0.069601  0.755351\n",
       "2000-01-01 00:00:02   980     Zelda -0.281843 -0.510507\n",
       "2000-01-01 00:00:03  1020    Ursula -0.569904  0.523132\n",
       "2000-01-01 00:00:04   967   Michael -0.251460  0.810930\n",
       "...                   ...       ...       ...       ...\n",
       "2000-01-07 23:59:55   984   Michael -0.147591  0.265310\n",
       "2000-01-07 23:59:56  1030    Yvonne -0.817655  0.345774\n",
       "2000-01-07 23:59:57   979    Ingrid  0.653402 -0.366750\n",
       "2000-01-07 23:59:58   970   Charlie  0.423712  0.533407\n",
       "2000-01-07 23:59:59   972       Bob -0.454586  0.629970\n",
       "\n",
       "[604800 rows x 4 columns]"
      ]
     },
     "execution_count": 9,
     "metadata": {},
     "output_type": "execute_result"
    }
   ],
   "source": [
    "df"
   ]
  },
  {
   "cell_type": "code",
   "execution_count": 11,
   "id": "ae7ac81a-2003-4356-8723-4bef14ec6ca2",
   "metadata": {},
   "outputs": [
    {
     "data": {
      "text/plain": [
       "Index     4838400\n",
       "id        4838400\n",
       "name     37707427\n",
       "x         4838400\n",
       "y         4838400\n",
       "dtype: int64"
      ]
     },
     "execution_count": 11,
     "metadata": {},
     "output_type": "execute_result"
    }
   ],
   "source": [
    "df.memory_usage(deep=True)"
   ]
  },
  {
   "cell_type": "code",
   "execution_count": 12,
   "id": "32721fa5-a818-4dc8-a0d0-07bb87193b08",
   "metadata": {},
   "outputs": [
    {
     "data": {
      "text/plain": [
       "57061027"
      ]
     },
     "execution_count": 12,
     "metadata": {},
     "output_type": "execute_result"
    }
   ],
   "source": [
    "df.memory_usage(deep=True).sum()"
   ]
  },
  {
   "cell_type": "code",
   "execution_count": 10,
   "id": "8e6ae482-0952-410e-a956-1288f966350f",
   "metadata": {},
   "outputs": [
    {
     "data": {
      "text/plain": [
       "'9.23 MiB'"
      ]
     },
     "execution_count": 10,
     "metadata": {},
     "output_type": "execute_result"
    }
   ],
   "source": [
    "format_bytes(df[\"id\"].memory_usage(deep=True))"
   ]
  },
  {
   "cell_type": "code",
   "execution_count": null,
   "id": "2b79c019-1c2e-456e-a4d5-9b7aa5a10b36",
   "metadata": {},
   "outputs": [],
   "source": []
  }
 ],
 "metadata": {
  "kernelspec": {
   "display_name": "Python [conda env:standard-coiled] *",
   "language": "python",
   "name": "conda-env-standard-coiled-py"
  },
  "language_info": {
   "codemirror_mode": {
    "name": "ipython",
    "version": 3
   },
   "file_extension": ".py",
   "mimetype": "text/x-python",
   "name": "python",
   "nbconvert_exporter": "python",
   "pygments_lexer": "ipython3",
   "version": "3.9.6"
  }
 },
 "nbformat": 4,
 "nbformat_minor": 5
}
