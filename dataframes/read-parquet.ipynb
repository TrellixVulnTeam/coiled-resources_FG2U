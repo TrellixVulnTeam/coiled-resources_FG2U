{
 "cells": [
  {
   "cell_type": "code",
   "execution_count": 1,
   "id": "5d901137-78f0-4267-a58f-0248acc6e6ca",
   "metadata": {},
   "outputs": [],
   "source": [
    "import coiled\n",
    "import dask\n",
    "import dask.dataframe as dd"
   ]
  },
  {
   "cell_type": "code",
   "execution_count": 2,
   "id": "3e3df04b-c5ac-46e7-aa92-4d089c7de0d3",
   "metadata": {},
   "outputs": [
    {
     "data": {
      "text/html": [
       "<pre style=\"white-space:pre;overflow-x:auto;line-height:normal;font-family:Menlo,'DejaVu Sans Mono',consolas,'Courier New',monospace\">/Users/powers/opt/miniconda3/envs/standard-coiled/lib/python3.9/site-packages/rich/live.py:22\n",
       "1: UserWarning: install \"ipywidgets\" for Jupyter support\n",
       "  warnings.warn('install \"ipywidgets\" for Jupyter support')\n",
       "</pre>\n"
      ],
      "text/plain": [
       "/Users/powers/opt/miniconda3/envs/standard-coiled/lib/python3.9/site-packages/rich/live.py:22\n",
       "1: UserWarning: install \"ipywidgets\" for Jupyter support\n",
       "  warnings.warn('install \"ipywidgets\" for Jupyter support')\n"
      ]
     },
     "metadata": {},
     "output_type": "display_data"
    },
    {
     "data": {
      "text/html": [
       "<pre style=\"white-space:pre;overflow-x:auto;line-height:normal;font-family:Menlo,'DejaVu Sans Mono',consolas,'Courier New',monospace\">Using existing cluster: <span style=\"color: #008000; text-decoration-color: #008000\">'read-parquet-demo'</span>\n",
       "</pre>\n"
      ],
      "text/plain": [
       "Using existing cluster: \u001b[32m'read-parquet-demo'\u001b[0m\n"
      ]
     },
     "metadata": {},
     "output_type": "display_data"
    },
    {
     "data": {
      "text/html": [
       "<pre style=\"white-space:pre;overflow-x:auto;line-height:normal;font-family:Menlo,'DejaVu Sans Mono',consolas,'Courier New',monospace\"></pre>\n"
      ],
      "text/plain": []
     },
     "metadata": {},
     "output_type": "display_data"
    }
   ],
   "source": [
    "cluster = coiled.Cluster(name=\"read-parquet-demo\", n_workers=5)"
   ]
  },
  {
   "cell_type": "code",
   "execution_count": 3,
   "id": "5f3872da-9609-48ed-be98-5234f7f9db32",
   "metadata": {},
   "outputs": [
    {
     "name": "stderr",
     "output_type": "stream",
     "text": [
      "/Users/powers/opt/miniconda3/envs/standard-coiled/lib/python3.9/site-packages/distributed/client.py:1265: VersionMismatchWarning: Mismatched versions found\n",
      "\n",
      "+-------------+-----------+-----------+-----------+\n",
      "| Package     | client    | scheduler | workers   |\n",
      "+-------------+-----------+-----------+-----------+\n",
      "| dask        | 2022.02.0 | 2022.01.1 | 2022.01.1 |\n",
      "| distributed | 2022.02.0 | 2022.01.1 | 2022.01.1 |\n",
      "| numpy       | 1.22.2    | 1.21.5    | 1.21.5    |\n",
      "| pandas      | 1.4.1     | 1.4.0     | 1.4.0     |\n",
      "+-------------+-----------+-----------+-----------+\n",
      "  warnings.warn(version_module.VersionMismatchWarning(msg[0][\"warning\"]))\n"
     ]
    }
   ],
   "source": [
    "client = dask.distributed.Client(cluster)"
   ]
  },
  {
   "cell_type": "code",
   "execution_count": 7,
   "id": "9eab541d-7085-4f23-b041-c80fd7931f90",
   "metadata": {},
   "outputs": [],
   "source": [
    "ddf = dd.read_parquet(\n",
    "    \"s3://coiled-datasets/timeseries/20-years/parquet\",\n",
    "    engine=\"pyarrow\",\n",
    "    storage_options={\"anon\": True, \"use_ssl\": True},\n",
    ")"
   ]
  },
  {
   "cell_type": "code",
   "execution_count": 8,
   "id": "c74b78bc-cd9c-47ec-94c0-e9c3b16bb0b1",
   "metadata": {},
   "outputs": [
    {
     "data": {
      "text/html": [
       "<div>\n",
       "<style scoped>\n",
       "    .dataframe tbody tr th:only-of-type {\n",
       "        vertical-align: middle;\n",
       "    }\n",
       "\n",
       "    .dataframe tbody tr th {\n",
       "        vertical-align: top;\n",
       "    }\n",
       "\n",
       "    .dataframe thead th {\n",
       "        text-align: right;\n",
       "    }\n",
       "</style>\n",
       "<table border=\"1\" class=\"dataframe\">\n",
       "  <thead>\n",
       "    <tr style=\"text-align: right;\">\n",
       "      <th></th>\n",
       "      <th>id</th>\n",
       "      <th>name</th>\n",
       "      <th>x</th>\n",
       "      <th>y</th>\n",
       "    </tr>\n",
       "    <tr>\n",
       "      <th>timestamp</th>\n",
       "      <th></th>\n",
       "      <th></th>\n",
       "      <th></th>\n",
       "      <th></th>\n",
       "    </tr>\n",
       "  </thead>\n",
       "  <tbody>\n",
       "    <tr>\n",
       "      <th>2000-01-01 00:00:00</th>\n",
       "      <td>1008</td>\n",
       "      <td>Dan</td>\n",
       "      <td>-0.259374</td>\n",
       "      <td>-0.118314</td>\n",
       "    </tr>\n",
       "    <tr>\n",
       "      <th>2000-01-01 00:00:01</th>\n",
       "      <td>987</td>\n",
       "      <td>Patricia</td>\n",
       "      <td>0.069601</td>\n",
       "      <td>0.755351</td>\n",
       "    </tr>\n",
       "    <tr>\n",
       "      <th>2000-01-01 00:00:02</th>\n",
       "      <td>980</td>\n",
       "      <td>Zelda</td>\n",
       "      <td>-0.281843</td>\n",
       "      <td>-0.510507</td>\n",
       "    </tr>\n",
       "    <tr>\n",
       "      <th>2000-01-01 00:00:03</th>\n",
       "      <td>1020</td>\n",
       "      <td>Ursula</td>\n",
       "      <td>-0.569904</td>\n",
       "      <td>0.523132</td>\n",
       "    </tr>\n",
       "    <tr>\n",
       "      <th>2000-01-01 00:00:04</th>\n",
       "      <td>967</td>\n",
       "      <td>Michael</td>\n",
       "      <td>-0.251460</td>\n",
       "      <td>0.810930</td>\n",
       "    </tr>\n",
       "  </tbody>\n",
       "</table>\n",
       "</div>"
      ],
      "text/plain": [
       "                       id      name         x         y\n",
       "timestamp                                              \n",
       "2000-01-01 00:00:00  1008       Dan -0.259374 -0.118314\n",
       "2000-01-01 00:00:01   987  Patricia  0.069601  0.755351\n",
       "2000-01-01 00:00:02   980     Zelda -0.281843 -0.510507\n",
       "2000-01-01 00:00:03  1020    Ursula -0.569904  0.523132\n",
       "2000-01-01 00:00:04   967   Michael -0.251460  0.810930"
      ]
     },
     "execution_count": 8,
     "metadata": {},
     "output_type": "execute_result"
    }
   ],
   "source": [
    "ddf.head()"
   ]
  },
  {
   "cell_type": "code",
   "execution_count": 10,
   "id": "b38620b6-a563-40fa-a55b-d412c7267e7a",
   "metadata": {},
   "outputs": [
    {
     "data": {
      "text/plain": [
       "id        int64\n",
       "name     object\n",
       "x       float64\n",
       "y       float64\n",
       "dtype: object"
      ]
     },
     "execution_count": 10,
     "metadata": {},
     "output_type": "execute_result"
    }
   ],
   "source": [
    "ddf.dtypes"
   ]
  },
  {
   "cell_type": "markdown",
   "id": "c8014510-2c24-46c9-b6d3-f892cac8a518",
   "metadata": {},
   "source": [
    "## Query without column pruning"
   ]
  },
  {
   "cell_type": "code",
   "execution_count": 9,
   "id": "2206b345-8a87-4a9f-b45f-16def85e99cc",
   "metadata": {},
   "outputs": [
    {
     "name": "stdout",
     "output_type": "stream",
     "text": [
      "CPU times: user 406 ms, sys: 37.3 ms, total: 443 ms\n",
      "Wall time: 58.6 s\n"
     ]
    },
    {
     "data": {
      "text/plain": [
       "367"
      ]
     },
     "execution_count": 9,
     "metadata": {},
     "output_type": "execute_result"
    }
   ],
   "source": [
    "%%time\n",
    "\n",
    "ddf[\"id\"].nunique().compute()"
   ]
  },
  {
   "cell_type": "markdown",
   "id": "397055b8-0e8b-403c-ae30-5ee6f00b7865",
   "metadata": {},
   "source": [
    "## Query with column pruning"
   ]
  },
  {
   "cell_type": "code",
   "execution_count": 11,
   "id": "5a005e03-6503-4266-820b-3097f04de9b2",
   "metadata": {},
   "outputs": [],
   "source": [
    "ddf = dd.read_parquet(\n",
    "    \"s3://coiled-datasets/timeseries/20-years/parquet\",\n",
    "    engine=\"pyarrow\",\n",
    "    storage_options={\"anon\": True, \"use_ssl\": True},\n",
    "    columns=[\"id\"],\n",
    ")"
   ]
  },
  {
   "cell_type": "code",
   "execution_count": 12,
   "id": "80c73c0e-9ad0-407b-80db-4845cc66bfd9",
   "metadata": {},
   "outputs": [
    {
     "name": "stdout",
     "output_type": "stream",
     "text": [
      "CPU times: user 417 ms, sys: 96.6 ms, total: 514 ms\n",
      "Wall time: 42.6 s\n"
     ]
    },
    {
     "data": {
      "text/plain": [
       "367"
      ]
     },
     "execution_count": 12,
     "metadata": {},
     "output_type": "execute_result"
    }
   ],
   "source": [
    "%%time\n",
    "\n",
    "ddf[\"id\"].nunique().compute()"
   ]
  },
  {
   "cell_type": "markdown",
   "id": "d869277b-a3bf-4f54-944b-6c64d621a267",
   "metadata": {},
   "source": [
    "## Filter without predicate pushdown"
   ]
  },
  {
   "cell_type": "code",
   "execution_count": 13,
   "id": "d83d48c8-db6b-4ee7-8349-7b1355b73b76",
   "metadata": {},
   "outputs": [],
   "source": [
    "ddf = dd.read_parquet(\n",
    "    \"s3://coiled-datasets/timeseries/20-years/parquet\",\n",
    "    engine=\"pyarrow\",\n",
    "    storage_options={\"anon\": True, \"use_ssl\": True},\n",
    ")"
   ]
  },
  {
   "cell_type": "code",
   "execution_count": 14,
   "id": "0c122918-3720-4b34-9b18-3404bfcceb1f",
   "metadata": {},
   "outputs": [
    {
     "name": "stdout",
     "output_type": "stream",
     "text": [
      "CPU times: user 502 ms, sys: 48.6 ms, total: 551 ms\n",
      "Wall time: 1min 17s\n"
     ]
    },
    {
     "data": {
      "text/plain": [
       "65"
      ]
     },
     "execution_count": 14,
     "metadata": {},
     "output_type": "execute_result"
    }
   ],
   "source": [
    "%%time\n",
    "\n",
    "len(ddf[ddf.id > 1170])"
   ]
  },
  {
   "cell_type": "markdown",
   "id": "e3f9a9b1-ba2a-4755-ba87-1c7556b79b27",
   "metadata": {},
   "source": [
    "## Filter with predicate pushdown"
   ]
  },
  {
   "cell_type": "code",
   "execution_count": 15,
   "id": "57461e56-9f5e-4770-af33-8fe8d649d820",
   "metadata": {},
   "outputs": [],
   "source": [
    "ddf = dd.read_parquet(\n",
    "    \"s3://coiled-datasets/timeseries/20-years/parquet\",\n",
    "    engine=\"pyarrow\",\n",
    "    storage_options={\"anon\": True, \"use_ssl\": True},\n",
    "    filters=[[(\"id\", \">\", 1170)]],\n",
    ")"
   ]
  },
  {
   "cell_type": "code",
   "execution_count": 16,
   "id": "8eb8f622-80b5-484d-9c9a-ccfb9ecc7087",
   "metadata": {},
   "outputs": [
    {
     "name": "stdout",
     "output_type": "stream",
     "text": [
      "CPU times: user 33.5 ms, sys: 11.8 ms, total: 45.3 ms\n",
      "Wall time: 4.51 s\n"
     ]
    },
    {
     "data": {
      "text/plain": [
       "65"
      ]
     },
     "execution_count": 16,
     "metadata": {},
     "output_type": "execute_result"
    },
    {
     "name": "stderr",
     "output_type": "stream",
     "text": [
      "distributed.client - ERROR - Failed to reconnect to scheduler after 30.00 seconds, closing client\n",
      "_GatheringFuture exception was never retrieved\n",
      "future: <_GatheringFuture finished exception=CancelledError()>\n",
      "asyncio.exceptions.CancelledError\n",
      "distributed.deploy.cluster - WARNING - Failed to sync cluster info multiple times - perhaps there's a connection issue? Error:\n",
      "Traceback (most recent call last):\n",
      "  File \"/Users/powers/opt/miniconda3/envs/standard-coiled/lib/python3.9/site-packages/distributed/comm/tcp.py\", line 398, in connect\n",
      "    stream = await self.client.connect(\n",
      "  File \"/Users/powers/opt/miniconda3/envs/standard-coiled/lib/python3.9/site-packages/tornado/tcpclient.py\", line 275, in connect\n",
      "    af, addr, stream = await connector.start(connect_timeout=timeout)\n",
      "asyncio.exceptions.CancelledError\n",
      "\n",
      "During handling of the above exception, another exception occurred:\n",
      "\n",
      "Traceback (most recent call last):\n",
      "  File \"/Users/powers/opt/miniconda3/envs/standard-coiled/lib/python3.9/asyncio/tasks.py\", line 492, in wait_for\n",
      "    fut.result()\n",
      "asyncio.exceptions.CancelledError\n",
      "\n",
      "The above exception was the direct cause of the following exception:\n",
      "\n",
      "Traceback (most recent call last):\n",
      "  File \"/Users/powers/opt/miniconda3/envs/standard-coiled/lib/python3.9/site-packages/distributed/comm/core.py\", line 284, in connect\n",
      "    comm = await asyncio.wait_for(\n",
      "  File \"/Users/powers/opt/miniconda3/envs/standard-coiled/lib/python3.9/asyncio/tasks.py\", line 494, in wait_for\n",
      "    raise exceptions.TimeoutError() from exc\n",
      "asyncio.exceptions.TimeoutError\n",
      "\n",
      "The above exception was the direct cause of the following exception:\n",
      "\n",
      "Traceback (most recent call last):\n",
      "  File \"/Users/powers/opt/miniconda3/envs/standard-coiled/lib/python3.9/site-packages/distributed/deploy/cluster.py\", line 115, in _sync_cluster_info\n",
      "    await self.scheduler_comm.set_metadata(\n",
      "  File \"/Users/powers/opt/miniconda3/envs/standard-coiled/lib/python3.9/site-packages/distributed/core.py\", line 817, in send_recv_from_rpc\n",
      "    comm = await self.live_comm()\n",
      "  File \"/Users/powers/opt/miniconda3/envs/standard-coiled/lib/python3.9/site-packages/distributed/core.py\", line 774, in live_comm\n",
      "    comm = await connect(\n",
      "  File \"/Users/powers/opt/miniconda3/envs/standard-coiled/lib/python3.9/site-packages/distributed/comm/core.py\", line 308, in connect\n",
      "    raise OSError(\n",
      "OSError: Timed out trying to connect to tls://44.195.59.120:8786 after 30 s\n"
     ]
    }
   ],
   "source": [
    "%%time\n",
    "\n",
    "len(ddf[ddf.id > 1170])"
   ]
  },
  {
   "cell_type": "markdown",
   "id": "3bbc9016-868a-465a-9893-c4690237fcfc",
   "metadata": {},
   "source": [
    "## ignore _metadata file"
   ]
  },
  {
   "cell_type": "code",
   "execution_count": 4,
   "id": "aacba5c0-678d-4a61-8d18-2d5ec26c4c23",
   "metadata": {},
   "outputs": [],
   "source": [
    "ddf = dd.read_parquet(\n",
    "    \"s3://coiled-datasets/timeseries/20-years/parquet\",\n",
    "    engine=\"pyarrow\",\n",
    "    storage_options={\"anon\": True, \"use_ssl\": True},\n",
    "    ignore_metadata_file=True,\n",
    ")"
   ]
  },
  {
   "cell_type": "code",
   "execution_count": 5,
   "id": "acc507e4-0bbd-41f3-8f40-eed81b5adf5d",
   "metadata": {},
   "outputs": [
    {
     "data": {
      "text/html": [
       "<div>\n",
       "<style scoped>\n",
       "    .dataframe tbody tr th:only-of-type {\n",
       "        vertical-align: middle;\n",
       "    }\n",
       "\n",
       "    .dataframe tbody tr th {\n",
       "        vertical-align: top;\n",
       "    }\n",
       "\n",
       "    .dataframe thead th {\n",
       "        text-align: right;\n",
       "    }\n",
       "</style>\n",
       "<table border=\"1\" class=\"dataframe\">\n",
       "  <thead>\n",
       "    <tr style=\"text-align: right;\">\n",
       "      <th></th>\n",
       "      <th>id</th>\n",
       "      <th>name</th>\n",
       "      <th>x</th>\n",
       "      <th>y</th>\n",
       "    </tr>\n",
       "    <tr>\n",
       "      <th>timestamp</th>\n",
       "      <th></th>\n",
       "      <th></th>\n",
       "      <th></th>\n",
       "      <th></th>\n",
       "    </tr>\n",
       "  </thead>\n",
       "  <tbody>\n",
       "    <tr>\n",
       "      <th>2000-01-01 00:00:00</th>\n",
       "      <td>1008</td>\n",
       "      <td>Dan</td>\n",
       "      <td>-0.259374</td>\n",
       "      <td>-0.118314</td>\n",
       "    </tr>\n",
       "    <tr>\n",
       "      <th>2000-01-01 00:00:01</th>\n",
       "      <td>987</td>\n",
       "      <td>Patricia</td>\n",
       "      <td>0.069601</td>\n",
       "      <td>0.755351</td>\n",
       "    </tr>\n",
       "    <tr>\n",
       "      <th>2000-01-01 00:00:02</th>\n",
       "      <td>980</td>\n",
       "      <td>Zelda</td>\n",
       "      <td>-0.281843</td>\n",
       "      <td>-0.510507</td>\n",
       "    </tr>\n",
       "    <tr>\n",
       "      <th>2000-01-01 00:00:03</th>\n",
       "      <td>1020</td>\n",
       "      <td>Ursula</td>\n",
       "      <td>-0.569904</td>\n",
       "      <td>0.523132</td>\n",
       "    </tr>\n",
       "    <tr>\n",
       "      <th>2000-01-01 00:00:04</th>\n",
       "      <td>967</td>\n",
       "      <td>Michael</td>\n",
       "      <td>-0.251460</td>\n",
       "      <td>0.810930</td>\n",
       "    </tr>\n",
       "  </tbody>\n",
       "</table>\n",
       "</div>"
      ],
      "text/plain": [
       "                       id      name         x         y\n",
       "timestamp                                              \n",
       "2000-01-01 00:00:00  1008       Dan -0.259374 -0.118314\n",
       "2000-01-01 00:00:01   987  Patricia  0.069601  0.755351\n",
       "2000-01-01 00:00:02   980     Zelda -0.281843 -0.510507\n",
       "2000-01-01 00:00:03  1020    Ursula -0.569904  0.523132\n",
       "2000-01-01 00:00:04   967   Michael -0.251460  0.810930"
      ]
     },
     "execution_count": 5,
     "metadata": {},
     "output_type": "execute_result"
    }
   ],
   "source": [
    "ddf.head()"
   ]
  },
  {
   "cell_type": "markdown",
   "id": "ba38d92b-4351-490c-99fe-26a881081ee5",
   "metadata": {},
   "source": [
    "## index"
   ]
  },
  {
   "cell_type": "code",
   "execution_count": 6,
   "id": "65654a6d-a42e-4e8a-80a0-232415ad15bc",
   "metadata": {},
   "outputs": [],
   "source": [
    "ddf = dd.read_parquet(\n",
    "    \"s3://coiled-datasets/timeseries/20-years/parquet\",\n",
    "    engine=\"pyarrow\",\n",
    "    storage_options={\"anon\": True, \"use_ssl\": True},\n",
    "    index=\"timestamp\",\n",
    ")"
   ]
  },
  {
   "cell_type": "code",
   "execution_count": 7,
   "id": "08fcc05f-9973-414e-9be2-a766048697fc",
   "metadata": {},
   "outputs": [
    {
     "data": {
      "text/html": [
       "<div>\n",
       "<style scoped>\n",
       "    .dataframe tbody tr th:only-of-type {\n",
       "        vertical-align: middle;\n",
       "    }\n",
       "\n",
       "    .dataframe tbody tr th {\n",
       "        vertical-align: top;\n",
       "    }\n",
       "\n",
       "    .dataframe thead th {\n",
       "        text-align: right;\n",
       "    }\n",
       "</style>\n",
       "<table border=\"1\" class=\"dataframe\">\n",
       "  <thead>\n",
       "    <tr style=\"text-align: right;\">\n",
       "      <th></th>\n",
       "      <th>id</th>\n",
       "      <th>name</th>\n",
       "      <th>x</th>\n",
       "      <th>y</th>\n",
       "    </tr>\n",
       "    <tr>\n",
       "      <th>timestamp</th>\n",
       "      <th></th>\n",
       "      <th></th>\n",
       "      <th></th>\n",
       "      <th></th>\n",
       "    </tr>\n",
       "  </thead>\n",
       "  <tbody>\n",
       "    <tr>\n",
       "      <th>2000-01-01 00:00:00</th>\n",
       "      <td>1008</td>\n",
       "      <td>Dan</td>\n",
       "      <td>-0.259374</td>\n",
       "      <td>-0.118314</td>\n",
       "    </tr>\n",
       "    <tr>\n",
       "      <th>2000-01-01 00:00:01</th>\n",
       "      <td>987</td>\n",
       "      <td>Patricia</td>\n",
       "      <td>0.069601</td>\n",
       "      <td>0.755351</td>\n",
       "    </tr>\n",
       "    <tr>\n",
       "      <th>2000-01-01 00:00:02</th>\n",
       "      <td>980</td>\n",
       "      <td>Zelda</td>\n",
       "      <td>-0.281843</td>\n",
       "      <td>-0.510507</td>\n",
       "    </tr>\n",
       "    <tr>\n",
       "      <th>2000-01-01 00:00:03</th>\n",
       "      <td>1020</td>\n",
       "      <td>Ursula</td>\n",
       "      <td>-0.569904</td>\n",
       "      <td>0.523132</td>\n",
       "    </tr>\n",
       "    <tr>\n",
       "      <th>2000-01-01 00:00:04</th>\n",
       "      <td>967</td>\n",
       "      <td>Michael</td>\n",
       "      <td>-0.251460</td>\n",
       "      <td>0.810930</td>\n",
       "    </tr>\n",
       "  </tbody>\n",
       "</table>\n",
       "</div>"
      ],
      "text/plain": [
       "                       id      name         x         y\n",
       "timestamp                                              \n",
       "2000-01-01 00:00:00  1008       Dan -0.259374 -0.118314\n",
       "2000-01-01 00:00:01   987  Patricia  0.069601  0.755351\n",
       "2000-01-01 00:00:02   980     Zelda -0.281843 -0.510507\n",
       "2000-01-01 00:00:03  1020    Ursula -0.569904  0.523132\n",
       "2000-01-01 00:00:04   967   Michael -0.251460  0.810930"
      ]
     },
     "execution_count": 7,
     "metadata": {},
     "output_type": "execute_result"
    }
   ],
   "source": [
    "ddf.head()"
   ]
  },
  {
   "cell_type": "code",
   "execution_count": 8,
   "id": "7350c6d0-df7e-4814-90b5-7089a805b200",
   "metadata": {},
   "outputs": [],
   "source": [
    "ddf = dd.read_parquet(\n",
    "    \"s3://coiled-datasets/timeseries/20-years/parquet\",\n",
    "    engine=\"pyarrow\",\n",
    "    storage_options={\"anon\": True, \"use_ssl\": True},\n",
    "    index=False,\n",
    ")"
   ]
  },
  {
   "cell_type": "code",
   "execution_count": 9,
   "id": "9ea067e7-7782-4677-9add-d536b1f77ad1",
   "metadata": {},
   "outputs": [
    {
     "data": {
      "text/html": [
       "<div>\n",
       "<style scoped>\n",
       "    .dataframe tbody tr th:only-of-type {\n",
       "        vertical-align: middle;\n",
       "    }\n",
       "\n",
       "    .dataframe tbody tr th {\n",
       "        vertical-align: top;\n",
       "    }\n",
       "\n",
       "    .dataframe thead th {\n",
       "        text-align: right;\n",
       "    }\n",
       "</style>\n",
       "<table border=\"1\" class=\"dataframe\">\n",
       "  <thead>\n",
       "    <tr style=\"text-align: right;\">\n",
       "      <th></th>\n",
       "      <th>timestamp</th>\n",
       "      <th>id</th>\n",
       "      <th>name</th>\n",
       "      <th>x</th>\n",
       "      <th>y</th>\n",
       "    </tr>\n",
       "  </thead>\n",
       "  <tbody>\n",
       "    <tr>\n",
       "      <th>0</th>\n",
       "      <td>2000-01-01 00:00:00</td>\n",
       "      <td>1008</td>\n",
       "      <td>Dan</td>\n",
       "      <td>-0.259374</td>\n",
       "      <td>-0.118314</td>\n",
       "    </tr>\n",
       "    <tr>\n",
       "      <th>1</th>\n",
       "      <td>2000-01-01 00:00:01</td>\n",
       "      <td>987</td>\n",
       "      <td>Patricia</td>\n",
       "      <td>0.069601</td>\n",
       "      <td>0.755351</td>\n",
       "    </tr>\n",
       "    <tr>\n",
       "      <th>2</th>\n",
       "      <td>2000-01-01 00:00:02</td>\n",
       "      <td>980</td>\n",
       "      <td>Zelda</td>\n",
       "      <td>-0.281843</td>\n",
       "      <td>-0.510507</td>\n",
       "    </tr>\n",
       "    <tr>\n",
       "      <th>3</th>\n",
       "      <td>2000-01-01 00:00:03</td>\n",
       "      <td>1020</td>\n",
       "      <td>Ursula</td>\n",
       "      <td>-0.569904</td>\n",
       "      <td>0.523132</td>\n",
       "    </tr>\n",
       "    <tr>\n",
       "      <th>4</th>\n",
       "      <td>2000-01-01 00:00:04</td>\n",
       "      <td>967</td>\n",
       "      <td>Michael</td>\n",
       "      <td>-0.251460</td>\n",
       "      <td>0.810930</td>\n",
       "    </tr>\n",
       "  </tbody>\n",
       "</table>\n",
       "</div>"
      ],
      "text/plain": [
       "            timestamp    id      name         x         y\n",
       "0 2000-01-01 00:00:00  1008       Dan -0.259374 -0.118314\n",
       "1 2000-01-01 00:00:01   987  Patricia  0.069601  0.755351\n",
       "2 2000-01-01 00:00:02   980     Zelda -0.281843 -0.510507\n",
       "3 2000-01-01 00:00:03  1020    Ursula -0.569904  0.523132\n",
       "4 2000-01-01 00:00:04   967   Michael -0.251460  0.810930"
      ]
     },
     "execution_count": 9,
     "metadata": {},
     "output_type": "execute_result"
    }
   ],
   "source": [
    "ddf.head()"
   ]
  },
  {
   "cell_type": "markdown",
   "id": "89295cbb-9035-4453-b0db-c0963b07cc40",
   "metadata": {},
   "source": [
    "## categories"
   ]
  },
  {
   "cell_type": "code",
   "execution_count": 11,
   "id": "2aaaf572-8488-46fa-a5e5-c0e6f193d9f3",
   "metadata": {},
   "outputs": [],
   "source": [
    "ddf = dd.read_parquet(\n",
    "    \"s3://coiled-datasets/timeseries/20-years/parquet\",\n",
    "    engine=\"pyarrow\",\n",
    "    storage_options={\"anon\": True, \"use_ssl\": True},\n",
    "    categories=[\"id\"],\n",
    ")"
   ]
  },
  {
   "cell_type": "code",
   "execution_count": 12,
   "id": "1571a269-87e4-4705-bb70-3b4e8788c319",
   "metadata": {},
   "outputs": [
    {
     "data": {
      "text/plain": [
       "id      category\n",
       "name      object\n",
       "x        float64\n",
       "y        float64\n",
       "dtype: object"
      ]
     },
     "execution_count": 12,
     "metadata": {},
     "output_type": "execute_result"
    }
   ],
   "source": [
    "ddf.dtypes"
   ]
  },
  {
   "cell_type": "code",
   "execution_count": 13,
   "id": "16d87b26-4e6f-4f35-a7c8-63f424db5b43",
   "metadata": {},
   "outputs": [
    {
     "data": {
      "text/html": [
       "<div>\n",
       "<style scoped>\n",
       "    .dataframe tbody tr th:only-of-type {\n",
       "        vertical-align: middle;\n",
       "    }\n",
       "\n",
       "    .dataframe tbody tr th {\n",
       "        vertical-align: top;\n",
       "    }\n",
       "\n",
       "    .dataframe thead th {\n",
       "        text-align: right;\n",
       "    }\n",
       "</style>\n",
       "<table border=\"1\" class=\"dataframe\">\n",
       "  <thead>\n",
       "    <tr style=\"text-align: right;\">\n",
       "      <th></th>\n",
       "      <th>id</th>\n",
       "      <th>name</th>\n",
       "      <th>x</th>\n",
       "      <th>y</th>\n",
       "    </tr>\n",
       "    <tr>\n",
       "      <th>timestamp</th>\n",
       "      <th></th>\n",
       "      <th></th>\n",
       "      <th></th>\n",
       "      <th></th>\n",
       "    </tr>\n",
       "  </thead>\n",
       "  <tbody>\n",
       "    <tr>\n",
       "      <th>2000-01-01 00:00:00</th>\n",
       "      <td>1008</td>\n",
       "      <td>Dan</td>\n",
       "      <td>-0.259374</td>\n",
       "      <td>-0.118314</td>\n",
       "    </tr>\n",
       "    <tr>\n",
       "      <th>2000-01-01 00:00:01</th>\n",
       "      <td>987</td>\n",
       "      <td>Patricia</td>\n",
       "      <td>0.069601</td>\n",
       "      <td>0.755351</td>\n",
       "    </tr>\n",
       "    <tr>\n",
       "      <th>2000-01-01 00:00:02</th>\n",
       "      <td>980</td>\n",
       "      <td>Zelda</td>\n",
       "      <td>-0.281843</td>\n",
       "      <td>-0.510507</td>\n",
       "    </tr>\n",
       "    <tr>\n",
       "      <th>2000-01-01 00:00:03</th>\n",
       "      <td>1020</td>\n",
       "      <td>Ursula</td>\n",
       "      <td>-0.569904</td>\n",
       "      <td>0.523132</td>\n",
       "    </tr>\n",
       "    <tr>\n",
       "      <th>2000-01-01 00:00:04</th>\n",
       "      <td>967</td>\n",
       "      <td>Michael</td>\n",
       "      <td>-0.251460</td>\n",
       "      <td>0.810930</td>\n",
       "    </tr>\n",
       "  </tbody>\n",
       "</table>\n",
       "</div>"
      ],
      "text/plain": [
       "                       id      name         x         y\n",
       "timestamp                                              \n",
       "2000-01-01 00:00:00  1008       Dan -0.259374 -0.118314\n",
       "2000-01-01 00:00:01   987  Patricia  0.069601  0.755351\n",
       "2000-01-01 00:00:02   980     Zelda -0.281843 -0.510507\n",
       "2000-01-01 00:00:03  1020    Ursula -0.569904  0.523132\n",
       "2000-01-01 00:00:04   967   Michael -0.251460  0.810930"
      ]
     },
     "execution_count": 13,
     "metadata": {},
     "output_type": "execute_result"
    }
   ],
   "source": [
    "ddf.head()"
   ]
  },
  {
   "cell_type": "code",
   "execution_count": null,
   "id": "0bba9706-0941-4f4b-993f-5372a52b83db",
   "metadata": {},
   "outputs": [],
   "source": []
  }
 ],
 "metadata": {
  "kernelspec": {
   "display_name": "Python [conda env:standard-coiled]",
   "language": "python",
   "name": "conda-env-standard-coiled-py"
  },
  "language_info": {
   "codemirror_mode": {
    "name": "ipython",
    "version": 3
   },
   "file_extension": ".py",
   "mimetype": "text/x-python",
   "name": "python",
   "nbconvert_exporter": "python",
   "pygments_lexer": "ipython3",
   "version": "3.9.10"
  }
 },
 "nbformat": 4,
 "nbformat_minor": 5
}
