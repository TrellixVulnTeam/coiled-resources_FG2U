{
 "cells": [
  {
   "cell_type": "code",
   "execution_count": 2,
   "id": "6db47e2f-4a45-4123-b612-5bf023820346",
   "metadata": {},
   "outputs": [],
   "source": [
    "import dask\n",
    "import pandas as pd\n",
    "import dask.dataframe as dd"
   ]
  },
  {
   "cell_type": "code",
   "execution_count": 3,
   "id": "c458f57d-58c1-4cd1-879f-d9b6c4dca3e9",
   "metadata": {},
   "outputs": [],
   "source": [
    "df = pd.DataFrame({\"nums\":[1, 2, 3, 4, 5, 6], \"letters\":[\"a\", \"b\", \"c\", \"d\", \"e\", \"f\"]})\n",
    "ddf = dd.from_pandas(df, npartitions=2)"
   ]
  },
  {
   "cell_type": "code",
   "execution_count": 4,
   "id": "15e9192a-918c-4809-9a7c-70907340df66",
   "metadata": {},
   "outputs": [
    {
     "name": "stdout",
     "output_type": "stream",
     "text": [
      "   nums letters\n",
      "0     1       a\n",
      "1     2       b\n",
      "2     3       c\n",
      "   nums letters\n",
      "3     4       d\n",
      "4     5       e\n",
      "5     6       f\n"
     ]
    }
   ],
   "source": [
    "for i in range(ddf.npartitions):\n",
    "    print(ddf.partitions[i].compute())"
   ]
  },
  {
   "cell_type": "markdown",
   "id": "1afe1f45-980f-4382-a376-a7511d0d88e0",
   "metadata": {},
   "source": [
    "## Grab some rows"
   ]
  },
  {
   "cell_type": "code",
   "execution_count": 5,
   "id": "6c839025-3d7c-4c11-a8bc-cbc4adff1e31",
   "metadata": {},
   "outputs": [
    {
     "name": "stdout",
     "output_type": "stream",
     "text": [
      "   nums letters\n",
      "2     3       c\n",
      "5     6       f\n"
     ]
    }
   ],
   "source": [
    "print(ddf.loc[[2, 5]].compute())"
   ]
  },
  {
   "cell_type": "code",
   "execution_count": 6,
   "id": "bb1012f7-1f09-4885-9766-dc2f902e21fb",
   "metadata": {},
   "outputs": [
    {
     "name": "stdout",
     "output_type": "stream",
     "text": [
      "   nums letters\n",
      "3     4       d\n",
      "4     5       e\n",
      "5     6       f\n"
     ]
    }
   ],
   "source": [
    "print(ddf.loc[3:5].compute())"
   ]
  },
  {
   "cell_type": "code",
   "execution_count": 7,
   "id": "aa50c38e-fb5f-4d81-9ce9-197ce93a6813",
   "metadata": {},
   "outputs": [
    {
     "data": {
      "text/plain": [
       "True"
      ]
     },
     "execution_count": 7,
     "metadata": {},
     "output_type": "execute_result"
    }
   ],
   "source": [
    "ddf.known_divisions"
   ]
  },
  {
   "cell_type": "code",
   "execution_count": 8,
   "id": "ee20463f-3844-4260-b38f-587e4a86d16a",
   "metadata": {},
   "outputs": [
    {
     "data": {
      "text/plain": [
       "(0, 3, 5)"
      ]
     },
     "execution_count": 8,
     "metadata": {},
     "output_type": "execute_result"
    }
   ],
   "source": [
    "ddf.divisions"
   ]
  },
  {
   "cell_type": "markdown",
   "id": "ea49027c-e5cb-45a2-bd70-8cbe93a77e49",
   "metadata": {},
   "source": [
    "## Grab a single column for certain rows\n",
    "\n",
    "This returns a Dask Series object"
   ]
  },
  {
   "cell_type": "code",
   "execution_count": 9,
   "id": "61cf884a-4644-48b1-a2d8-ea3830579b0d",
   "metadata": {},
   "outputs": [
    {
     "data": {
      "text/plain": [
       "2    c\n",
       "5    f\n",
       "Name: letters, dtype: object"
      ]
     },
     "execution_count": 9,
     "metadata": {},
     "output_type": "execute_result"
    }
   ],
   "source": [
    "ddf.loc[[2, 5], \"letters\"].compute()"
   ]
  },
  {
   "cell_type": "code",
   "execution_count": 10,
   "id": "0a7631a2-03f0-4d75-bd4e-64900ea2ac7d",
   "metadata": {},
   "outputs": [
    {
     "data": {
      "text/plain": [
       "Dask Series Structure:\n",
       "npartitions=2\n",
       "2    object\n",
       "5       ...\n",
       "5       ...\n",
       "Name: letters, dtype: object\n",
       "Dask Name: loc, 4 tasks"
      ]
     },
     "execution_count": 10,
     "metadata": {},
     "output_type": "execute_result"
    }
   ],
   "source": [
    "ddf.loc[[2, 5], \"letters\"]"
   ]
  },
  {
   "cell_type": "markdown",
   "id": "c2b030ba-f64d-448a-a61d-b13832f8194c",
   "metadata": {},
   "source": [
    "## Filter on column values"
   ]
  },
  {
   "cell_type": "code",
   "execution_count": 11,
   "id": "30ee8e7f-66c0-4547-bc58-c925abc999b7",
   "metadata": {},
   "outputs": [
    {
     "name": "stdout",
     "output_type": "stream",
     "text": [
      "   nums letters\n",
      "1     2       b\n",
      "3     4       d\n",
      "5     6       f\n"
     ]
    }
   ],
   "source": [
    "print(ddf.loc[ddf[\"nums\"] % 2 == 0].compute())"
   ]
  },
  {
   "cell_type": "code",
   "execution_count": 12,
   "id": "ce83272f-f3a7-4d31-88c2-ace25def399b",
   "metadata": {},
   "outputs": [
    {
     "name": "stdout",
     "output_type": "stream",
     "text": [
      "   nums letters\n",
      "1     2       b\n",
      "5     6       f\n"
     ]
    }
   ],
   "source": [
    "print(ddf.loc[(ddf[\"nums\"] % 2 == 0) & (ddf[\"letters\"].isin([\"b\", \"f\"]))].compute())"
   ]
  },
  {
   "cell_type": "markdown",
   "id": "a4a6ac87-1b83-4565-93a9-017731081145",
   "metadata": {},
   "source": [
    "## Big data filtering on cloud\n",
    "\n",
    "Start by creating cloud cluster"
   ]
  },
  {
   "cell_type": "code",
   "execution_count": 13,
   "id": "4f29126d-0598-4c5f-87e6-47d0ab4ec6d3",
   "metadata": {},
   "outputs": [
    {
     "data": {
      "application/vnd.jupyter.widget-view+json": {
       "model_id": "",
       "version_major": 2,
       "version_minor": 0
      },
      "text/plain": [
       "Output()"
      ]
     },
     "metadata": {},
     "output_type": "display_data"
    },
    {
     "name": "stdout",
     "output_type": "stream",
     "text": [
      "Found software environment build\n"
     ]
    },
    {
     "data": {
      "text/html": [
       "<pre style=\"white-space:pre;overflow-x:auto;line-height:normal;font-family:Menlo,'DejaVu Sans Mono',consolas,'Courier New',monospace\"></pre>\n"
      ],
      "text/plain": []
     },
     "metadata": {},
     "output_type": "display_data"
    }
   ],
   "source": [
    "import coiled\n",
    "cluster = coiled.Cluster(name=\"demo-cluster\", n_workers=5)"
   ]
  },
  {
   "cell_type": "code",
   "execution_count": 14,
   "id": "fac65414-094a-4a0f-93cd-5e0d174654f1",
   "metadata": {},
   "outputs": [],
   "source": [
    "client = dask.distributed.Client(cluster)"
   ]
  },
  {
   "cell_type": "markdown",
   "id": "c9da6f42-e5d0-43e7-812b-9f197143090e",
   "metadata": {},
   "source": [
    "### Read in big dataset and expore"
   ]
  },
  {
   "cell_type": "code",
   "execution_count": 15,
   "id": "f1d27a88-480a-41f0-bf31-fe7424830938",
   "metadata": {},
   "outputs": [],
   "source": [
    "ddf = dd.read_parquet(\n",
    "    \"s3://coiled-datasets/timeseries/20-years/parquet\",\n",
    "    storage_options={\"anon\": True, 'use_ssl': True}\n",
    ")"
   ]
  },
  {
   "cell_type": "code",
   "execution_count": 16,
   "id": "ccb2d2b6-a259-4222-a933-9dbeaa4248c1",
   "metadata": {},
   "outputs": [
    {
     "data": {
      "text/plain": [
       "662256000"
      ]
     },
     "execution_count": 16,
     "metadata": {},
     "output_type": "execute_result"
    }
   ],
   "source": [
    "len(ddf)"
   ]
  },
  {
   "cell_type": "code",
   "execution_count": 17,
   "id": "37e58f1b-b9c7-4734-a693-006e6ec877ce",
   "metadata": {},
   "outputs": [
    {
     "data": {
      "text/plain": [
       "1095"
      ]
     },
     "execution_count": 17,
     "metadata": {},
     "output_type": "execute_result"
    }
   ],
   "source": [
    "ddf.npartitions"
   ]
  },
  {
   "cell_type": "code",
   "execution_count": 18,
   "id": "19ad7537-fea6-487b-ac48-94780760fbe5",
   "metadata": {},
   "outputs": [
    {
     "data": {
      "text/html": [
       "<div>\n",
       "<style scoped>\n",
       "    .dataframe tbody tr th:only-of-type {\n",
       "        vertical-align: middle;\n",
       "    }\n",
       "\n",
       "    .dataframe tbody tr th {\n",
       "        vertical-align: top;\n",
       "    }\n",
       "\n",
       "    .dataframe thead th {\n",
       "        text-align: right;\n",
       "    }\n",
       "</style>\n",
       "<table border=\"1\" class=\"dataframe\">\n",
       "  <thead>\n",
       "    <tr style=\"text-align: right;\">\n",
       "      <th></th>\n",
       "      <th>id</th>\n",
       "      <th>name</th>\n",
       "      <th>x</th>\n",
       "      <th>y</th>\n",
       "    </tr>\n",
       "    <tr>\n",
       "      <th>timestamp</th>\n",
       "      <th></th>\n",
       "      <th></th>\n",
       "      <th></th>\n",
       "      <th></th>\n",
       "    </tr>\n",
       "  </thead>\n",
       "  <tbody>\n",
       "    <tr>\n",
       "      <th>2000-01-01 00:00:00</th>\n",
       "      <td>1008</td>\n",
       "      <td>Dan</td>\n",
       "      <td>-0.259374</td>\n",
       "      <td>-0.118314</td>\n",
       "    </tr>\n",
       "    <tr>\n",
       "      <th>2000-01-01 00:00:01</th>\n",
       "      <td>987</td>\n",
       "      <td>Patricia</td>\n",
       "      <td>0.069601</td>\n",
       "      <td>0.755351</td>\n",
       "    </tr>\n",
       "    <tr>\n",
       "      <th>2000-01-01 00:00:02</th>\n",
       "      <td>980</td>\n",
       "      <td>Zelda</td>\n",
       "      <td>-0.281843</td>\n",
       "      <td>-0.510507</td>\n",
       "    </tr>\n",
       "    <tr>\n",
       "      <th>2000-01-01 00:00:03</th>\n",
       "      <td>1020</td>\n",
       "      <td>Ursula</td>\n",
       "      <td>-0.569904</td>\n",
       "      <td>0.523132</td>\n",
       "    </tr>\n",
       "    <tr>\n",
       "      <th>2000-01-01 00:00:04</th>\n",
       "      <td>967</td>\n",
       "      <td>Michael</td>\n",
       "      <td>-0.251460</td>\n",
       "      <td>0.810930</td>\n",
       "    </tr>\n",
       "  </tbody>\n",
       "</table>\n",
       "</div>"
      ],
      "text/plain": [
       "                       id      name         x         y\n",
       "timestamp                                              \n",
       "2000-01-01 00:00:00  1008       Dan -0.259374 -0.118314\n",
       "2000-01-01 00:00:01   987  Patricia  0.069601  0.755351\n",
       "2000-01-01 00:00:02   980     Zelda -0.281843 -0.510507\n",
       "2000-01-01 00:00:03  1020    Ursula -0.569904  0.523132\n",
       "2000-01-01 00:00:04   967   Michael -0.251460  0.810930"
      ]
     },
     "execution_count": 18,
     "metadata": {},
     "output_type": "execute_result"
    }
   ],
   "source": [
    "ddf.head()"
   ]
  },
  {
   "cell_type": "markdown",
   "id": "10ba0077-e9c1-4ee7-a572-d029323e8f92",
   "metadata": {},
   "source": [
    "### Filter based on column value"
   ]
  },
  {
   "cell_type": "code",
   "execution_count": 19,
   "id": "2887c6a3-066b-46ef-80f7-816b9a561e21",
   "metadata": {},
   "outputs": [],
   "source": [
    "res = ddf.loc[ddf[\"id\"] > 1150]"
   ]
  },
  {
   "cell_type": "code",
   "execution_count": 20,
   "id": "796affd3-3fdd-4bed-8e9b-851ac95969e5",
   "metadata": {},
   "outputs": [
    {
     "data": {
      "text/plain": [
       "1103"
      ]
     },
     "execution_count": 20,
     "metadata": {},
     "output_type": "execute_result"
    }
   ],
   "source": [
    "len(res)"
   ]
  },
  {
   "cell_type": "markdown",
   "id": "5524db90-dbff-41c7-94aa-bfec4b2f559b",
   "metadata": {},
   "source": [
    "The number of partitions is unchanged after filtering"
   ]
  },
  {
   "cell_type": "code",
   "execution_count": 21,
   "id": "22c3b4a8-2ced-44bf-b15f-28187d514191",
   "metadata": {},
   "outputs": [
    {
     "data": {
      "text/plain": [
       "1095"
      ]
     },
     "execution_count": 21,
     "metadata": {},
     "output_type": "execute_result"
    }
   ],
   "source": [
    "res.npartitions"
   ]
  },
  {
   "cell_type": "markdown",
   "id": "58ed2b66-eddd-41d4-ab1e-2f5daad15e58",
   "metadata": {},
   "source": [
    "Look at the number of rows in each partition.  Lots of partitions are empty or only contain a couple rows of data."
   ]
  },
  {
   "cell_type": "code",
   "execution_count": 22,
   "id": "4a1992cb-b45b-46ce-a5e2-b47a63cb16ba",
   "metadata": {},
   "outputs": [],
   "source": [
    "length_partitions = res.map_partitions(len).compute()"
   ]
  },
  {
   "cell_type": "code",
   "execution_count": 23,
   "id": "0508b283-a32d-442c-b65f-aa57acb29178",
   "metadata": {},
   "outputs": [
    {
     "data": {
      "text/plain": [
       "0       0\n",
       "1       1\n",
       "2       0\n",
       "3       0\n",
       "4       2\n",
       "       ..\n",
       "1090    0\n",
       "1091    2\n",
       "1092    0\n",
       "1093    0\n",
       "1094    0\n",
       "Length: 1095, dtype: int64"
      ]
     },
     "execution_count": 23,
     "metadata": {},
     "output_type": "execute_result"
    }
   ],
   "source": [
    "length_partitions"
   ]
  },
  {
   "cell_type": "code",
   "execution_count": 24,
   "id": "ded5a6f1-18be-4388-b56d-650bfed62cb1",
   "metadata": {},
   "outputs": [
    {
     "data": {
      "text/plain": [
       "pandas.core.series.Series"
      ]
     },
     "execution_count": 24,
     "metadata": {},
     "output_type": "execute_result"
    }
   ],
   "source": [
    "type(length_partitions)"
   ]
  },
  {
   "cell_type": "code",
   "execution_count": 25,
   "id": "803bc738-b522-4c46-be4b-7719297f980e",
   "metadata": {},
   "outputs": [
    {
     "data": {
      "text/plain": [
       "390"
      ]
     },
     "execution_count": 25,
     "metadata": {},
     "output_type": "execute_result"
    }
   ],
   "source": [
    "len(list(filter(lambda x: x == 0, length_partitions)))"
   ]
  },
  {
   "cell_type": "markdown",
   "id": "54c08508-eaad-4814-80d1-ffe642e4a707",
   "metadata": {},
   "source": [
    "### Performance benchmarking\n",
    "\n",
    "Running computations on the data without and repartitioning or persisting is slow.  Lets see how much query times can be improved with these performance optimizations."
   ]
  },
  {
   "cell_type": "code",
   "execution_count": 26,
   "id": "5cfc78c1-cf36-4c10-b429-968deb90a6ba",
   "metadata": {},
   "outputs": [
    {
     "name": "stdout",
     "output_type": "stream",
     "text": [
      "CPU times: user 235 ms, sys: 40.2 ms, total: 275 ms\n",
      "Wall time: 57.4 s\n"
     ]
    },
    {
     "data": {
      "text/plain": [
       "1103"
      ]
     },
     "execution_count": 26,
     "metadata": {},
     "output_type": "execute_result"
    }
   ],
   "source": [
    "%%time\n",
    "len(res)"
   ]
  },
  {
   "cell_type": "code",
   "execution_count": 27,
   "id": "a948294d-549a-4293-be1a-04823196b319",
   "metadata": {},
   "outputs": [],
   "source": [
    "res2 = res.repartition(2).persist()"
   ]
  },
  {
   "cell_type": "code",
   "execution_count": 28,
   "id": "88f5f88e-a06b-4ba4-9d6d-ad166d82c8e1",
   "metadata": {},
   "outputs": [
    {
     "name": "stdout",
     "output_type": "stream",
     "text": [
      "CPU times: user 148 ms, sys: 21.3 ms, total: 170 ms\n",
      "Wall time: 56.4 s\n"
     ]
    },
    {
     "data": {
      "text/plain": [
       "1103"
      ]
     },
     "execution_count": 28,
     "metadata": {},
     "output_type": "execute_result"
    }
   ],
   "source": [
    "%%time\n",
    "len(res2)"
   ]
  },
  {
   "cell_type": "code",
   "execution_count": 32,
   "id": "b0f42fb7-74ae-4113-b847-f4864b78140a",
   "metadata": {},
   "outputs": [
    {
     "name": "stdout",
     "output_type": "stream",
     "text": [
      "CPU times: user 22.7 ms, sys: 3.97 ms, total: 26.7 ms\n",
      "Wall time: 298 ms\n"
     ]
    },
    {
     "data": {
      "text/plain": [
       "1103"
      ]
     },
     "execution_count": 32,
     "metadata": {},
     "output_type": "execute_result"
    },
    {
     "name": "stderr",
     "output_type": "stream",
     "text": [
      "distributed.client - ERROR - Failed to reconnect to scheduler after 30.00 seconds, closing client\n",
      "_GatheringFuture exception was never retrieved\n",
      "future: <_GatheringFuture finished exception=CancelledError()>\n",
      "asyncio.exceptions.CancelledError\n"
     ]
    }
   ],
   "source": [
    "%%time\n",
    "len(res2)"
   ]
  },
  {
   "cell_type": "code",
   "execution_count": 29,
   "id": "7ca64a09-603f-44a9-8936-bbedb537301b",
   "metadata": {},
   "outputs": [],
   "source": [
    "res3 = res.compute()"
   ]
  },
  {
   "cell_type": "code",
   "execution_count": 30,
   "id": "50400a1c-54ed-4a8a-bdef-8bee8e26942a",
   "metadata": {},
   "outputs": [
    {
     "name": "stdout",
     "output_type": "stream",
     "text": [
      "CPU times: user 9 µs, sys: 0 ns, total: 9 µs\n",
      "Wall time: 11.2 µs\n"
     ]
    },
    {
     "data": {
      "text/plain": [
       "1103"
      ]
     },
     "execution_count": 30,
     "metadata": {},
     "output_type": "execute_result"
    }
   ],
   "source": [
    "%%time\n",
    "len(res3)"
   ]
  }
 ],
 "metadata": {
  "kernelspec": {
   "display_name": "Python [conda env:standard-coiled] *",
   "language": "python",
   "name": "conda-env-standard-coiled-py"
  },
  "language_info": {
   "codemirror_mode": {
    "name": "ipython",
    "version": 3
   },
   "file_extension": ".py",
   "mimetype": "text/x-python",
   "name": "python",
   "nbconvert_exporter": "python",
   "pygments_lexer": "ipython3",
   "version": "3.9.9"
  }
 },
 "nbformat": 4,
 "nbformat_minor": 5
}
