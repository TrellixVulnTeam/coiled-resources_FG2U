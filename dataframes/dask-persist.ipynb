{
 "cells": [
  {
   "cell_type": "markdown",
   "id": "230224fc-7b7f-4ec9-b69e-37023032cac3",
   "metadata": {},
   "source": [
    "# Dask persist()"
   ]
  },
  {
   "cell_type": "code",
   "execution_count": 1,
   "id": "a88bf055-fa8b-43cb-b5e6-9f7a97bf24f7",
   "metadata": {},
   "outputs": [],
   "source": [
    "import dask.dataframe as dd\n",
    "import pandas as pd"
   ]
  },
  {
   "cell_type": "code",
   "execution_count": 2,
   "id": "42ba2d56-9eee-4b60-83fa-5f6bd91cf889",
   "metadata": {},
   "outputs": [],
   "source": [
    "df = pd.DataFrame({\"col1\": [\"a\", \"b\", \"c\", \"d\"], \"col2\": [1, 2, 3, 4]})\n",
    "ddf = dd.from_pandas(df, npartitions=2)"
   ]
  },
  {
   "cell_type": "code",
   "execution_count": 3,
   "id": "6a0fbd73-750d-4158-8c31-054962f4db6f",
   "metadata": {},
   "outputs": [],
   "source": [
    "persisted_ddf = ddf.persist()"
   ]
  },
  {
   "cell_type": "code",
   "execution_count": 4,
   "id": "b3b99401-c17a-4f94-a9fb-cb926c5e427a",
   "metadata": {},
   "outputs": [
    {
     "data": {
      "text/plain": [
       "4"
      ]
     },
     "execution_count": 4,
     "metadata": {},
     "output_type": "execute_result"
    }
   ],
   "source": [
    "len(persisted_ddf)"
   ]
  },
  {
   "cell_type": "markdown",
   "id": "b291ae29-2176-4820-bd57-960d50c25abe",
   "metadata": {},
   "source": [
    "## Large dataset persist"
   ]
  },
  {
   "cell_type": "code",
   "execution_count": 19,
   "id": "3ddf0429-4a0a-4745-a725-e7cf7613e2d3",
   "metadata": {},
   "outputs": [],
   "source": [
    "import coiled\n",
    "import dask\n",
    "import dask.dataframe as dd"
   ]
  },
  {
   "cell_type": "code",
   "execution_count": 20,
   "id": "840e77ad-d387-45b5-96ea-49b5875a4b70",
   "metadata": {},
   "outputs": [
    {
     "name": "stderr",
     "output_type": "stream",
     "text": [
      "/Users/powers/opt/miniconda3/envs/standard-coiled/lib/python3.9/site-packages/rich/live.py:227: UserWarning: install \"ipywidgets\" for Jupyter support\n",
      "  warnings.warn('install \"ipywidgets\" for Jupyter support')\n"
     ]
    },
    {
     "name": "stdout",
     "output_type": "stream",
     "text": [
      "Found software environment build\n",
      "Created FW rules: coiled-dask-matthew24-72845-firewall\n",
      "Created scheduler VM: coiled-dask-matthew24-72845-scheduler (type: t3a.medium, ip: ['52.3.226.154'])\n"
     ]
    },
    {
     "data": {
      "text/html": [
       "<pre style=\"white-space:pre;overflow-x:auto;line-height:normal;font-family:Menlo,'DejaVu Sans Mono',consolas,'Courier New',monospace\"></pre>\n"
      ],
      "text/plain": []
     },
     "metadata": {},
     "output_type": "display_data"
    }
   ],
   "source": [
    "cluster = coiled.Cluster(name=\"powers\", n_workers=5)"
   ]
  },
  {
   "cell_type": "code",
   "execution_count": 21,
   "id": "855bbee2-9973-4224-920c-4a3cc6bac567",
   "metadata": {},
   "outputs": [
    {
     "name": "stderr",
     "output_type": "stream",
     "text": [
      "/Users/powers/opt/miniconda3/envs/standard-coiled/lib/python3.9/site-packages/distributed/client.py:1105: VersionMismatchWarning: Mismatched versions found\n",
      "\n",
      "+-------------+-----------+-----------+-----------+\n",
      "| Package     | client    | scheduler | workers   |\n",
      "+-------------+-----------+-----------+-----------+\n",
      "| cloudpickle | 1.6.0     | 2.0.0     | 2.0.0     |\n",
      "| dask        | 2021.08.1 | 2021.10.0 | 2021.10.0 |\n",
      "| distributed | 2021.08.1 | 2021.10.0 | 2021.10.0 |\n",
      "| numpy       | 1.21.2    | 1.21.3    | 1.21.3    |\n",
      "| pandas      | 1.3.2     | 1.3.4     | 1.3.4     |\n",
      "+-------------+-----------+-----------+-----------+\n",
      "  warnings.warn(version_module.VersionMismatchWarning(msg[0][\"warning\"]))\n"
     ]
    }
   ],
   "source": [
    "client = dask.distributed.Client(cluster)"
   ]
  },
  {
   "cell_type": "code",
   "execution_count": 22,
   "id": "db6edcde-35b7-47b5-af0d-431c36032c67",
   "metadata": {},
   "outputs": [],
   "source": [
    "ddf = dd.read_parquet(\n",
    "    \"s3://coiled-datasets/timeseries/20-years/parquet\",\n",
    "    storage_options={\"anon\": True, \"use_ssl\": True},\n",
    "    engine=\"pyarrow\",\n",
    ")"
   ]
  },
  {
   "cell_type": "code",
   "execution_count": 23,
   "id": "2f174061-22dc-4e81-a7f3-d7306fb7a1d5",
   "metadata": {},
   "outputs": [],
   "source": [
    "res = ddf.loc[ddf[\"id\"] > 1150]"
   ]
  },
  {
   "cell_type": "code",
   "execution_count": 10,
   "id": "1b578e61-747c-4ed5-9aaa-88e870f5b5a7",
   "metadata": {},
   "outputs": [
    {
     "name": "stdout",
     "output_type": "stream",
     "text": [
      "CPU times: user 405 ms, sys: 94.7 ms, total: 500 ms\n",
      "Wall time: 1min 27s\n"
     ]
    },
    {
     "data": {
      "text/plain": [
       "1103"
      ]
     },
     "execution_count": 10,
     "metadata": {},
     "output_type": "execute_result"
    }
   ],
   "source": [
    "%%time\n",
    "len(res)"
   ]
  },
  {
   "cell_type": "code",
   "execution_count": 12,
   "id": "94804dd8-5529-4477-b7ca-e864ac6f36f3",
   "metadata": {},
   "outputs": [
    {
     "name": "stdout",
     "output_type": "stream",
     "text": [
      "CPU times: user 257 ms, sys: 19.7 ms, total: 277 ms\n",
      "Wall time: 1min 2s\n"
     ]
    },
    {
     "data": {
      "text/plain": [
       "26"
      ]
     },
     "execution_count": 12,
     "metadata": {},
     "output_type": "execute_result"
    }
   ],
   "source": [
    "%%time\n",
    "res.name.nunique().compute()"
   ]
  },
  {
   "cell_type": "code",
   "execution_count": 13,
   "id": "a89c1ae1-c4d7-4a6f-8a5b-543715dbd6ff",
   "metadata": {},
   "outputs": [
    {
     "name": "stdout",
     "output_type": "stream",
     "text": [
      "CPU times: user 32.6 ms, sys: 3.22 ms, total: 35.8 ms\n",
      "Wall time: 33.8 ms\n"
     ]
    }
   ],
   "source": [
    "%%time\n",
    "persisted_res = res.persist()"
   ]
  },
  {
   "cell_type": "code",
   "execution_count": 17,
   "id": "7e38e190-0a32-4756-aab9-84e5a6243dfc",
   "metadata": {},
   "outputs": [
    {
     "name": "stdout",
     "output_type": "stream",
     "text": [
      "CPU times: user 131 ms, sys: 5.92 ms, total: 137 ms\n",
      "Wall time: 1.95 s\n"
     ]
    },
    {
     "data": {
      "text/plain": [
       "1103"
      ]
     },
     "execution_count": 17,
     "metadata": {},
     "output_type": "execute_result"
    }
   ],
   "source": [
    "%%time\n",
    "len(persisted_res)"
   ]
  },
  {
   "cell_type": "code",
   "execution_count": 18,
   "id": "4cbbbd55-c362-49b4-9aff-c86e02f83214",
   "metadata": {},
   "outputs": [
    {
     "name": "stdout",
     "output_type": "stream",
     "text": [
      "CPU times: user 217 ms, sys: 8.55 ms, total: 226 ms\n",
      "Wall time: 2.43 s\n"
     ]
    },
    {
     "data": {
      "text/plain": [
       "26"
      ]
     },
     "execution_count": 18,
     "metadata": {},
     "output_type": "execute_result"
    },
    {
     "name": "stderr",
     "output_type": "stream",
     "text": [
      "distributed.client - ERROR - Failed to reconnect to scheduler after 30.00 seconds, closing client\n",
      "_GatheringFuture exception was never retrieved\n",
      "future: <_GatheringFuture finished exception=CancelledError()>\n",
      "asyncio.exceptions.CancelledError\n"
     ]
    }
   ],
   "source": [
    "%%time\n",
    "persisted_res.name.nunique().compute()"
   ]
  },
  {
   "cell_type": "markdown",
   "id": "268bda8e-419a-48fc-82ff-ab6bb0036a5a",
   "metadata": {},
   "source": [
    "## \"Persisting\" by writing to disk"
   ]
  },
  {
   "cell_type": "code",
   "execution_count": 25,
   "id": "eb2594d4-9aba-4e78-958a-7901272194c1",
   "metadata": {},
   "outputs": [
    {
     "name": "stdout",
     "output_type": "stream",
     "text": [
      "CPU times: user 305 ms, sys: 56.6 ms, total: 361 ms\n",
      "Wall time: 1min 10s\n"
     ]
    }
   ],
   "source": [
    "%%time\n",
    "res.repartition(2).to_parquet(\n",
    "    \"s3://coiled-datasets/tmp/matt/disk-persist\", engine=\"pyarrow\"\n",
    ")"
   ]
  },
  {
   "cell_type": "code",
   "execution_count": 26,
   "id": "a263be20-456e-43c3-923e-3c3cefebb331",
   "metadata": {},
   "outputs": [],
   "source": [
    "df = dd.read_parquet(\n",
    "    \"s3://coiled-datasets/tmp/matt/disk-persist\",\n",
    "    storage_options={\"anon\": True, \"use_ssl\": True},\n",
    "    engine=\"pyarrow\",\n",
    ")"
   ]
  },
  {
   "cell_type": "code",
   "execution_count": 27,
   "id": "b0167aee-7d28-436d-a759-5f2c17a7065d",
   "metadata": {},
   "outputs": [
    {
     "name": "stdout",
     "output_type": "stream",
     "text": [
      "CPU times: user 23.5 ms, sys: 9.03 ms, total: 32.5 ms\n",
      "Wall time: 392 ms\n"
     ]
    },
    {
     "data": {
      "text/plain": [
       "1103"
      ]
     },
     "execution_count": 27,
     "metadata": {},
     "output_type": "execute_result"
    }
   ],
   "source": [
    "%%time\n",
    "len(df)"
   ]
  },
  {
   "cell_type": "code",
   "execution_count": 28,
   "id": "d5e688ab-8860-485b-8a89-54cfd1b5d9ad",
   "metadata": {},
   "outputs": [
    {
     "name": "stdout",
     "output_type": "stream",
     "text": [
      "CPU times: user 25.4 ms, sys: 6.13 ms, total: 31.5 ms\n",
      "Wall time: 331 ms\n"
     ]
    },
    {
     "data": {
      "text/plain": [
       "26"
      ]
     },
     "execution_count": 28,
     "metadata": {},
     "output_type": "execute_result"
    }
   ],
   "source": [
    "%%time\n",
    "df.name.nunique().compute()"
   ]
  },
  {
   "cell_type": "markdown",
   "id": "348a9f72-6e89-45c0-a282-4964888c3efb",
   "metadata": {},
   "source": [
    "## Repartitioning and persisting"
   ]
  },
  {
   "cell_type": "code",
   "execution_count": 29,
   "id": "66fc5df8-4fc4-42ad-bfa7-591a0f43816e",
   "metadata": {},
   "outputs": [],
   "source": [
    "res2 = res.repartition(2)"
   ]
  },
  {
   "cell_type": "code",
   "execution_count": 31,
   "id": "d5e800be-1fb6-4766-acf2-b127a490acea",
   "metadata": {},
   "outputs": [],
   "source": [
    "persisted_res2 = res2.persist()"
   ]
  },
  {
   "cell_type": "code",
   "execution_count": 34,
   "id": "1b93c6e4-7321-4a6d-aa16-cdb6b8f3266d",
   "metadata": {},
   "outputs": [
    {
     "name": "stdout",
     "output_type": "stream",
     "text": [
      "CPU times: user 23.2 ms, sys: 2.95 ms, total: 26.1 ms\n",
      "Wall time: 260 ms\n"
     ]
    },
    {
     "data": {
      "text/plain": [
       "1103"
      ]
     },
     "execution_count": 34,
     "metadata": {},
     "output_type": "execute_result"
    }
   ],
   "source": [
    "%%time\n",
    "len(persisted_res2)"
   ]
  },
  {
   "cell_type": "code",
   "execution_count": 35,
   "id": "c50a87e3-d3ad-46f4-a684-360e3ae8a34d",
   "metadata": {},
   "outputs": [
    {
     "name": "stdout",
     "output_type": "stream",
     "text": [
      "CPU times: user 24.1 ms, sys: 3.72 ms, total: 27.8 ms\n",
      "Wall time: 274 ms\n"
     ]
    },
    {
     "data": {
      "text/plain": [
       "26"
      ]
     },
     "execution_count": 35,
     "metadata": {},
     "output_type": "execute_result"
    },
    {
     "name": "stderr",
     "output_type": "stream",
     "text": [
      "distributed.client - ERROR - Failed to reconnect to scheduler after 30.00 seconds, closing client\n",
      "_GatheringFuture exception was never retrieved\n",
      "future: <_GatheringFuture finished exception=CancelledError()>\n",
      "asyncio.exceptions.CancelledError\n"
     ]
    }
   ],
   "source": [
    "%%time\n",
    "persisted_res2.name.nunique().compute()"
   ]
  },
  {
   "cell_type": "code",
   "execution_count": null,
   "id": "8cd34167-9313-4886-a4e3-a6ef226a7fa4",
   "metadata": {},
   "outputs": [],
   "source": []
  }
 ],
 "metadata": {
  "kernelspec": {
   "display_name": "Python [conda env:standard-coiled] *",
   "language": "python",
   "name": "conda-env-standard-coiled-py"
  },
  "language_info": {
   "codemirror_mode": {
    "name": "ipython",
    "version": 3
   },
   "file_extension": ".py",
   "mimetype": "text/x-python",
   "name": "python",
   "nbconvert_exporter": "python",
   "pygments_lexer": "ipython3",
   "version": "3.9.7"
  }
 },
 "nbformat": 4,
 "nbformat_minor": 5
}
