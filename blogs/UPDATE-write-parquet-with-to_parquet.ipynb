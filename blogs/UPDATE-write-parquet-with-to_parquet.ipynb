{
 "cells": [
  {
   "cell_type": "markdown",
   "id": "b759917f-22c9-4a3a-a4ea-e358b64507c7",
   "metadata": {},
   "source": [
    "# Writing Parquet files with to_parquet"
   ]
  },
  {
   "cell_type": "code",
   "execution_count": 1,
   "id": "aa2986aa-3be0-4d69-bf2a-81da0386613a",
   "metadata": {},
   "outputs": [],
   "source": [
    "import dask.dataframe as dd\n",
    "\n",
    "import pandas as pd"
   ]
  },
  {
   "cell_type": "code",
   "execution_count": 2,
   "id": "1b4b5366-580e-4a1f-81b9-3b8686f7ead1",
   "metadata": {},
   "outputs": [],
   "source": [
    "df = pd.DataFrame(\n",
    "    {\"nums\": [1, 2, 3, 4, 5, 6], \"letters\": [\"a\", \"b\", \"c\", \"d\", \"e\", \"f\"]}\n",
    ")\n",
    "ddf = dd.from_pandas(df, npartitions=2)"
   ]
  },
  {
   "cell_type": "markdown",
   "id": "0545e053-67a3-422f-83d5-cfc0a4d1df45",
   "metadata": {},
   "source": [
    "## Write with metadata file"
   ]
  },
  {
   "cell_type": "code",
   "execution_count": 3,
   "id": "1a5af517-c125-4b98-9efc-f2327e680ab5",
   "metadata": {},
   "outputs": [
    {
     "data": {
      "text/plain": [
       "(None,)"
      ]
     },
     "execution_count": 3,
     "metadata": {},
     "output_type": "execute_result"
    }
   ],
   "source": [
    "ddf.to_parquet(\"data/something\", engine=\"pyarrow\")"
   ]
  },
  {
   "cell_type": "markdown",
   "id": "1f928c22-206e-4bbe-b6ca-4e9ec7ba33f6",
   "metadata": {},
   "source": [
    "## Write without metadata file"
   ]
  },
  {
   "cell_type": "code",
   "execution_count": 4,
   "id": "079005f0-eb62-410a-9e19-230bbbeeb067",
   "metadata": {},
   "outputs": [
    {
     "data": {
      "text/plain": [
       "(None,)"
      ]
     },
     "execution_count": 4,
     "metadata": {},
     "output_type": "execute_result"
    }
   ],
   "source": [
    "ddf.to_parquet(\"data/something2\", engine=\"pyarrow\", write_metadata_file=False)"
   ]
  },
  {
   "cell_type": "markdown",
   "id": "681648f9-9899-4f1f-afff-82b33b83ce3a",
   "metadata": {},
   "source": [
    "## name_function"
   ]
  },
  {
   "cell_type": "code",
   "execution_count": 13,
   "id": "af3a8362-1c09-4dc3-bc15-ca0bb737446e",
   "metadata": {},
   "outputs": [],
   "source": [
    "import uuid"
   ]
  },
  {
   "cell_type": "code",
   "execution_count": 14,
   "id": "1b6601c3-d695-4a04-a492-7c2503f7d984",
   "metadata": {},
   "outputs": [],
   "source": [
    "id = uuid.uuid4()\n",
    "\n",
    "\n",
    "def batch_id(n):\n",
    "    return f\"part-{n}-{id}.parquet\""
   ]
  },
  {
   "cell_type": "code",
   "execution_count": 15,
   "id": "e3ea47fa-c121-40a9-9ae1-5f59a80c0862",
   "metadata": {},
   "outputs": [
    {
     "data": {
      "text/plain": [
       "(None,)"
      ]
     },
     "execution_count": 15,
     "metadata": {},
     "output_type": "execute_result"
    }
   ],
   "source": [
    "ddf.to_parquet(\n",
    "    \"data/something3\",\n",
    "    engine=\"pyarrow\",\n",
    "    write_metadata_file=False,\n",
    "    name_function=batch_id,\n",
    ")"
   ]
  },
  {
   "cell_type": "markdown",
   "id": "4975cdd4-0582-4c2b-bf05-b42b01e0e193",
   "metadata": {},
   "source": [
    "## compression"
   ]
  },
  {
   "cell_type": "code",
   "execution_count": 16,
   "id": "42c97e96-8735-4341-9049-e96adf517929",
   "metadata": {},
   "outputs": [
    {
     "data": {
      "text/plain": [
       "(None,)"
      ]
     },
     "execution_count": 16,
     "metadata": {},
     "output_type": "execute_result"
    }
   ],
   "source": [
    "ddf.to_parquet(\n",
    "    \"data/something4\",\n",
    "    engine=\"pyarrow\",\n",
    "    write_metadata_file=False,\n",
    "    compression=\"snappy\",\n",
    ")"
   ]
  },
  {
   "cell_type": "code",
   "execution_count": 18,
   "id": "ea1f53bf-a1b3-4834-b193-f108accb9d6f",
   "metadata": {},
   "outputs": [],
   "source": [
    "def with_snappy(n):\n",
    "    return f\"part-{n}.snappy.parquet\""
   ]
  },
  {
   "cell_type": "code",
   "execution_count": 19,
   "id": "4894d5c2-9627-4736-bdae-b4c2e3680f35",
   "metadata": {},
   "outputs": [
    {
     "data": {
      "text/plain": [
       "(None,)"
      ]
     },
     "execution_count": 19,
     "metadata": {},
     "output_type": "execute_result"
    }
   ],
   "source": [
    "ddf.to_parquet(\n",
    "    \"data/something5\",\n",
    "    engine=\"pyarrow\",\n",
    "    write_metadata_file=False,\n",
    "    compression=\"snappy\",\n",
    "    name_function=with_snappy,\n",
    ")"
   ]
  },
  {
   "cell_type": "code",
   "execution_count": 20,
   "id": "8b575f79-de93-4dfe-a0c1-331efec04fb7",
   "metadata": {},
   "outputs": [
    {
     "data": {
      "text/plain": [
       "(None,)"
      ]
     },
     "execution_count": 20,
     "metadata": {},
     "output_type": "execute_result"
    }
   ],
   "source": [
    "ddf.to_parquet(\n",
    "    \"data/something6\",\n",
    "    engine=\"pyarrow\",\n",
    "    write_metadata_file=False,\n",
    "    compression={\"nums\": \"snappy\", \"letters\": \"gzip\"},\n",
    ")"
   ]
  },
  {
   "cell_type": "code",
   "execution_count": null,
   "id": "42b14101-d5dd-42bc-8343-57b5551613e8",
   "metadata": {},
   "outputs": [],
   "source": []
  }
 ],
 "metadata": {
  "kernelspec": {
   "display_name": "Python [conda env:standard-coiled] *",
   "language": "python",
   "name": "conda-env-standard-coiled-py"
  },
  "language_info": {
   "codemirror_mode": {
    "name": "ipython",
    "version": 3
   },
   "file_extension": ".py",
   "mimetype": "text/x-python",
   "name": "python",
   "nbconvert_exporter": "python",
   "pygments_lexer": "ipython3",
   "version": "3.9.10"
  }
 },
 "nbformat": 4,
 "nbformat_minor": 5
}
