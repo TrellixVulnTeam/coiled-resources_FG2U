{
 "cells": [
  {
   "cell_type": "code",
   "execution_count": 1,
   "id": "e3619391-f7f0-43a3-ac63-8c401e7237c0",
   "metadata": {},
   "outputs": [],
   "source": [
    "import dask.dataframe as dd\n",
    "import numpy as np\n",
    "import pandas as pd"
   ]
  },
  {
   "cell_type": "code",
   "execution_count": 2,
   "id": "8bb70aa7-a08f-4e53-9274-d398af39b7f0",
   "metadata": {},
   "outputs": [],
   "source": [
    "df = pd.DataFrame(\n",
    "    np.random.randint(100, size=(100000, 20)),\n",
    "    columns=[\n",
    "        \"A\",\n",
    "        \"B\",\n",
    "        \"C\",\n",
    "        \"D\",\n",
    "        \"E\",\n",
    "        \"F\",\n",
    "        \"G\",\n",
    "        \"H\",\n",
    "        \"I\",\n",
    "        \"J\",\n",
    "        \"K\",\n",
    "        \"L\",\n",
    "        \"M\",\n",
    "        \"N\",\n",
    "        \"O\",\n",
    "        \"P\",\n",
    "        \"Q\",\n",
    "        \"R\",\n",
    "        \"S\",\n",
    "        \"T\",\n",
    "    ],\n",
    ")"
   ]
  },
  {
   "cell_type": "code",
   "execution_count": 3,
   "id": "9ebe263d-3c6b-464a-80b5-bc9411fe71f9",
   "metadata": {},
   "outputs": [],
   "source": [
    "ddf = dd.from_pandas(df, npartitions=10)"
   ]
  },
  {
   "cell_type": "code",
   "execution_count": 4,
   "id": "1de5cbe4-a977-4715-9f2b-e9d4f6e81029",
   "metadata": {},
   "outputs": [],
   "source": [
    "ddf.to_parquet(\"saved_data_prqt\", compression=\"snappy\")"
   ]
  },
  {
   "cell_type": "code",
   "execution_count": 5,
   "id": "cac277a7-eec2-434a-8403-7cbc6ac9ac3c",
   "metadata": {},
   "outputs": [],
   "source": [
    "ddf.to_parquet(\"saved_data_prqt\", compression=\"snappy\", engine=\"pyarrow\")"
   ]
  },
  {
   "cell_type": "code",
   "execution_count": null,
   "id": "b1730dda-6add-4e4d-8df7-a6598d85f9c1",
   "metadata": {},
   "outputs": [],
   "source": []
  }
 ],
 "metadata": {
  "kernelspec": {
   "display_name": "Python [conda env:standard-coiled] *",
   "language": "python",
   "name": "conda-env-standard-coiled-py"
  },
  "language_info": {
   "codemirror_mode": {
    "name": "ipython",
    "version": 3
   },
   "file_extension": ".py",
   "mimetype": "text/x-python",
   "name": "python",
   "nbconvert_exporter": "python",
   "pygments_lexer": "ipython3",
   "version": "3.9.7"
  }
 },
 "nbformat": 4,
 "nbformat_minor": 5
}
