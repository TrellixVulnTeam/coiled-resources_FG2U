{
    "cells": [
        {
            "cell_type": "markdown",
            "id": "4534fef7-a4c3-4de5-88af-842033ce9b0a",
            "metadata": {},
            "source": [
                "# Parallelizing pandas map() and apply() with Dask DataFrame"
            ]
        },
        {
            "cell_type": "markdown",
            "id": "08842cb4-5c0e-4cfa-8c16-b53323c813c8",
            "metadata": {},
            "source": [
                "Imports:"
            ]
        },
        {
            "cell_type": "code",
            "execution_count": 1,
            "id": "2b431640-4eb7-4327-9614-942e3d057dac",
            "metadata": {},
            "outputs": [],
            "source": [
                "import numpy as np\n",
                "import pandas as pd\n",
                "import dask.dataframe as dd\n",
                "\n",
                "from time import sleep"
            ]
        },
        {
            "cell_type": "markdown",
            "id": "1bd609d8-0521-422e-bc36-df6919f31d95",
            "metadata": {},
            "source": [
                "Create data:"
            ]
        },
        {
            "cell_type": "code",
            "execution_count": 2,
            "id": "2168d532-4e9a-4b06-9261-95824a825933",
            "metadata": {},
            "outputs": [],
            "source": [
                "d = {\n",
                "    'a': np.random.randint(20, size=10),\n",
                "    'b': np.random.randint(20, size=10),\n",
                "}"
            ]
        },
        {
            "cell_type": "markdown",
            "id": "d708c1f2-99f6-4a18-864d-387f00c48cc1",
            "metadata": {},
            "source": [
                "Define functions:"
            ]
        },
        {
            "cell_type": "code",
            "execution_count": 3,
            "id": "f573a78c-25b3-4b2f-9531-9eafc6e28c36",
            "metadata": {},
            "outputs": [],
            "source": [
                "def minmax(x):\n",
                "    sleep(1)\n",
                "    return x.max() - x.min()"
            ]
        },
        {
            "cell_type": "code",
            "execution_count": 4,
            "id": "719d6f04-8818-492b-b342-46cc2c0e196a",
            "metadata": {},
            "outputs": [],
            "source": [
                "def inc(i):\n",
                "    sleep(1)\n",
                "    return i+1"
            ]
        },
        {
            "cell_type": "markdown",
            "id": "ecdabbc4-e6cf-487c-8352-3f0ff7de6444",
            "metadata": {},
            "source": [
                "## pandas"
            ]
        },
        {
            "cell_type": "code",
            "execution_count": 5,
            "id": "630ec884-d0e5-4f49-9060-3b8f9a00a85d",
            "metadata": {},
            "outputs": [
                {
                    "data": {
                        "text/html": [
                            "<div>\n",
                            "<style scoped>\n",
                            "    .dataframe tbody tr th:only-of-type {\n",
                            "        vertical-align: middle;\n",
                            "    }\n",
                            "\n",
                            "    .dataframe tbody tr th {\n",
                            "        vertical-align: top;\n",
                            "    }\n",
                            "\n",
                            "    .dataframe thead th {\n",
                            "        text-align: right;\n",
                            "    }\n",
                            "</style>\n",
                            "<table border=\"1\" class=\"dataframe\">\n",
                            "  <thead>\n",
                            "    <tr style=\"text-align: right;\">\n",
                            "      <th></th>\n",
                            "      <th>a</th>\n",
                            "      <th>b</th>\n",
                            "    </tr>\n",
                            "  </thead>\n",
                            "  <tbody>\n",
                            "    <tr>\n",
                            "      <th>0</th>\n",
                            "      <td>4</td>\n",
                            "      <td>8</td>\n",
                            "    </tr>\n",
                            "    <tr>\n",
                            "      <th>1</th>\n",
                            "      <td>12</td>\n",
                            "      <td>16</td>\n",
                            "    </tr>\n",
                            "    <tr>\n",
                            "      <th>2</th>\n",
                            "      <td>18</td>\n",
                            "      <td>10</td>\n",
                            "    </tr>\n",
                            "    <tr>\n",
                            "      <th>3</th>\n",
                            "      <td>2</td>\n",
                            "      <td>10</td>\n",
                            "    </tr>\n",
                            "    <tr>\n",
                            "      <th>4</th>\n",
                            "      <td>15</td>\n",
                            "      <td>4</td>\n",
                            "    </tr>\n",
                            "    <tr>\n",
                            "      <th>5</th>\n",
                            "      <td>16</td>\n",
                            "      <td>12</td>\n",
                            "    </tr>\n",
                            "    <tr>\n",
                            "      <th>6</th>\n",
                            "      <td>17</td>\n",
                            "      <td>11</td>\n",
                            "    </tr>\n",
                            "    <tr>\n",
                            "      <th>7</th>\n",
                            "      <td>16</td>\n",
                            "      <td>16</td>\n",
                            "    </tr>\n",
                            "    <tr>\n",
                            "      <th>8</th>\n",
                            "      <td>16</td>\n",
                            "      <td>6</td>\n",
                            "    </tr>\n",
                            "    <tr>\n",
                            "      <th>9</th>\n",
                            "      <td>4</td>\n",
                            "      <td>2</td>\n",
                            "    </tr>\n",
                            "  </tbody>\n",
                            "</table>\n",
                            "</div>"
                        ],
                        "text/plain": [
                            "    a   b\n",
                            "0   4   8\n",
                            "1  12  16\n",
                            "2  18  10\n",
                            "3   2  10\n",
                            "4  15   4\n",
                            "5  16  12\n",
                            "6  17  11\n",
                            "7  16  16\n",
                            "8  16   6\n",
                            "9   4   2"
                        ]
                    },
                    "execution_count": 5,
                    "metadata": {},
                    "output_type": "execute_result"
                }
            ],
            "source": [
                "df = pd.DataFrame(d)\n",
                "df"
            ]
        },
        {
            "cell_type": "code",
            "execution_count": 6,
            "id": "3b3bddd1-256b-4289-9222-5e003816b775",
            "metadata": {},
            "outputs": [
                {
                    "name": "stdout",
                    "output_type": "stream",
                    "text": [
                        "CPU times: user 8.18 ms, sys: 1.37 ms, total: 9.55 ms\n",
                        "Wall time: 10 s\n"
                    ]
                },
                {
                    "data": {
                        "text/plain": [
                            "0     4\n",
                            "1     4\n",
                            "2     8\n",
                            "3     8\n",
                            "4    11\n",
                            "5     4\n",
                            "6     6\n",
                            "7     0\n",
                            "8    10\n",
                            "9     2\n",
                            "dtype: int64"
                        ]
                    },
                    "execution_count": 6,
                    "metadata": {},
                    "output_type": "execute_result"
                }
            ],
            "source": [
                "%%time\n",
                "df.apply(minmax, axis=1)"
            ]
        },
        {
            "cell_type": "code",
            "execution_count": 7,
            "id": "fb7e2d7a-8ae5-43f9-8018-8d65b4056829",
            "metadata": {},
            "outputs": [
                {
                    "name": "stdout",
                    "output_type": "stream",
                    "text": [
                        "CPU times: user 2.71 ms, sys: 1.64 ms, total: 4.36 ms\n",
                        "Wall time: 10 s\n"
                    ]
                },
                {
                    "data": {
                        "text/plain": [
                            "0     5\n",
                            "1    13\n",
                            "2    19\n",
                            "3     3\n",
                            "4    16\n",
                            "5    17\n",
                            "6    18\n",
                            "7    17\n",
                            "8    17\n",
                            "9     5\n",
                            "Name: a, dtype: int64"
                        ]
                    },
                    "execution_count": 7,
                    "metadata": {},
                    "output_type": "execute_result"
                }
            ],
            "source": [
                "%%time\n",
                "df.a.map(inc)"
            ]
        },
        {
            "cell_type": "code",
            "execution_count": 8,
            "id": "7f67e449-421e-4460-8a05-6c8f30f2bc33",
            "metadata": {},
            "outputs": [
                {
                    "name": "stdout",
                    "output_type": "stream",
                    "text": [
                        "CPU times: user 5 ms, sys: 2.2 ms, total: 7.2 ms\n",
                        "Wall time: 20.1 s\n"
                    ]
                },
                {
                    "data": {
                        "text/html": [
                            "<div>\n",
                            "<style scoped>\n",
                            "    .dataframe tbody tr th:only-of-type {\n",
                            "        vertical-align: middle;\n",
                            "    }\n",
                            "\n",
                            "    .dataframe tbody tr th {\n",
                            "        vertical-align: top;\n",
                            "    }\n",
                            "\n",
                            "    .dataframe thead th {\n",
                            "        text-align: right;\n",
                            "    }\n",
                            "</style>\n",
                            "<table border=\"1\" class=\"dataframe\">\n",
                            "  <thead>\n",
                            "    <tr style=\"text-align: right;\">\n",
                            "      <th></th>\n",
                            "      <th>a</th>\n",
                            "      <th>b</th>\n",
                            "    </tr>\n",
                            "  </thead>\n",
                            "  <tbody>\n",
                            "    <tr>\n",
                            "      <th>0</th>\n",
                            "      <td>5</td>\n",
                            "      <td>9</td>\n",
                            "    </tr>\n",
                            "    <tr>\n",
                            "      <th>1</th>\n",
                            "      <td>13</td>\n",
                            "      <td>17</td>\n",
                            "    </tr>\n",
                            "    <tr>\n",
                            "      <th>2</th>\n",
                            "      <td>19</td>\n",
                            "      <td>11</td>\n",
                            "    </tr>\n",
                            "    <tr>\n",
                            "      <th>3</th>\n",
                            "      <td>3</td>\n",
                            "      <td>11</td>\n",
                            "    </tr>\n",
                            "    <tr>\n",
                            "      <th>4</th>\n",
                            "      <td>16</td>\n",
                            "      <td>5</td>\n",
                            "    </tr>\n",
                            "    <tr>\n",
                            "      <th>5</th>\n",
                            "      <td>17</td>\n",
                            "      <td>13</td>\n",
                            "    </tr>\n",
                            "    <tr>\n",
                            "      <th>6</th>\n",
                            "      <td>18</td>\n",
                            "      <td>12</td>\n",
                            "    </tr>\n",
                            "    <tr>\n",
                            "      <th>7</th>\n",
                            "      <td>17</td>\n",
                            "      <td>17</td>\n",
                            "    </tr>\n",
                            "    <tr>\n",
                            "      <th>8</th>\n",
                            "      <td>17</td>\n",
                            "      <td>7</td>\n",
                            "    </tr>\n",
                            "    <tr>\n",
                            "      <th>9</th>\n",
                            "      <td>5</td>\n",
                            "      <td>3</td>\n",
                            "    </tr>\n",
                            "  </tbody>\n",
                            "</table>\n",
                            "</div>"
                        ],
                        "text/plain": [
                            "    a   b\n",
                            "0   5   9\n",
                            "1  13  17\n",
                            "2  19  11\n",
                            "3   3  11\n",
                            "4  16   5\n",
                            "5  17  13\n",
                            "6  18  12\n",
                            "7  17  17\n",
                            "8  17   7\n",
                            "9   5   3"
                        ]
                    },
                    "execution_count": 8,
                    "metadata": {},
                    "output_type": "execute_result"
                }
            ],
            "source": [
                "%%time\n",
                "df.applymap(inc)"
            ]
        },
        {
            "cell_type": "markdown",
            "id": "df5c2229-8408-4cd3-91bb-ab7551b84fd3",
            "metadata": {},
            "source": [
                "## Dask"
            ]
        },
        {
            "cell_type": "code",
            "execution_count": 9,
            "id": "694c2738-9945-4230-b15f-707d6cd89af5",
            "metadata": {},
            "outputs": [],
            "source": [
                "import dask.dataframe as dd"
            ]
        },
        {
            "cell_type": "code",
            "execution_count": 10,
            "id": "4eb6e430-46ba-4af4-8dfe-62697a517b7a",
            "metadata": {},
            "outputs": [],
            "source": [
                "ddf = dd.from_pandas(df, npartitions=5)"
            ]
        },
        {
            "cell_type": "code",
            "execution_count": 11,
            "id": "3f31a76e-9e29-4195-8f90-dfa56fe8dbe5",
            "metadata": {},
            "outputs": [
                {
                    "data": {
                        "text/html": [
                            "<div><strong>Dask DataFrame Structure:</strong></div>\n",
                            "<div>\n",
                            "<style scoped>\n",
                            "    .dataframe tbody tr th:only-of-type {\n",
                            "        vertical-align: middle;\n",
                            "    }\n",
                            "\n",
                            "    .dataframe tbody tr th {\n",
                            "        vertical-align: top;\n",
                            "    }\n",
                            "\n",
                            "    .dataframe thead th {\n",
                            "        text-align: right;\n",
                            "    }\n",
                            "</style>\n",
                            "<table border=\"1\" class=\"dataframe\">\n",
                            "  <thead>\n",
                            "    <tr style=\"text-align: right;\">\n",
                            "      <th></th>\n",
                            "      <th>a</th>\n",
                            "      <th>b</th>\n",
                            "    </tr>\n",
                            "    <tr>\n",
                            "      <th>npartitions=5</th>\n",
                            "      <th></th>\n",
                            "      <th></th>\n",
                            "    </tr>\n",
                            "  </thead>\n",
                            "  <tbody>\n",
                            "    <tr>\n",
                            "      <th>0</th>\n",
                            "      <td>int64</td>\n",
                            "      <td>int64</td>\n",
                            "    </tr>\n",
                            "    <tr>\n",
                            "      <th>2</th>\n",
                            "      <td>...</td>\n",
                            "      <td>...</td>\n",
                            "    </tr>\n",
                            "    <tr>\n",
                            "      <th>...</th>\n",
                            "      <td>...</td>\n",
                            "      <td>...</td>\n",
                            "    </tr>\n",
                            "    <tr>\n",
                            "      <th>8</th>\n",
                            "      <td>...</td>\n",
                            "      <td>...</td>\n",
                            "    </tr>\n",
                            "    <tr>\n",
                            "      <th>9</th>\n",
                            "      <td>...</td>\n",
                            "      <td>...</td>\n",
                            "    </tr>\n",
                            "  </tbody>\n",
                            "</table>\n",
                            "</div>\n",
                            "<div>Dask Name: from_pandas, 5 tasks</div>"
                        ],
                        "text/plain": [
                            "Dask DataFrame Structure:\n",
                            "                   a      b\n",
                            "npartitions=5              \n",
                            "0              int64  int64\n",
                            "2                ...    ...\n",
                            "...              ...    ...\n",
                            "8                ...    ...\n",
                            "9                ...    ...\n",
                            "Dask Name: from_pandas, 5 tasks"
                        ]
                    },
                    "execution_count": 11,
                    "metadata": {},
                    "output_type": "execute_result"
                }
            ],
            "source": [
                "ddf"
            ]
        },
        {
            "cell_type": "code",
            "execution_count": 12,
            "id": "aeaa5479-020f-4a00-98cc-ec19d411e1ad",
            "metadata": {},
            "outputs": [],
            "source": [
                "def minmax2(df):\n",
                "    return df.apply(minmax, axis=1)"
            ]
        },
        {
            "cell_type": "code",
            "execution_count": 13,
            "id": "922ed132-2d02-4e08-b52c-a3ff3f5cc9bf",
            "metadata": {},
            "outputs": [
                {
                    "name": "stdout",
                    "output_type": "stream",
                    "text": [
                        "CPU times: user 10.1 ms, sys: 2.23 ms, total: 12.3 ms\n",
                        "Wall time: 2.02 s\n"
                    ]
                },
                {
                    "data": {
                        "text/plain": [
                            "0     4\n",
                            "1     4\n",
                            "2     8\n",
                            "3     8\n",
                            "4    11\n",
                            "5     4\n",
                            "6     6\n",
                            "7     0\n",
                            "8    10\n",
                            "9     2\n",
                            "dtype: int64"
                        ]
                    },
                    "execution_count": 13,
                    "metadata": {},
                    "output_type": "execute_result"
                }
            ],
            "source": [
                "%%time\n",
                "p = ddf.map_partitions(minmax2, meta=(None, 'int64'))\n",
                "p.compute()"
            ]
        },
        {
            "cell_type": "code",
            "execution_count": 14,
            "id": "91ebf884-6a49-44a8-85fa-8c4015b7ebb8",
            "metadata": {},
            "outputs": [
                {
                    "data": {
                        "image/png": "[encoded data removed]",
                        "text/plain": [
                            "<IPython.core.display.Image object>"
                        ]
                    },
                    "execution_count": 14,
                    "metadata": {},
                    "output_type": "execute_result"
                }
            ],
            "source": [
                "p.visualize()"
            ]
        },
        {
            "cell_type": "code",
            "execution_count": 15,
            "id": "1bed1d4e-0f2f-46ed-a7e8-905c07dedcf2",
            "metadata": {},
            "outputs": [
                {
                    "name": "stdout",
                    "output_type": "stream",
                    "text": [
                        "CPU times: user 11.2 ms, sys: 3.16 ms, total: 14.3 ms\n",
                        "Wall time: 2.01 s\n"
                    ]
                },
                {
                    "data": {
                        "text/plain": [
                            "0     4\n",
                            "1     4\n",
                            "2     8\n",
                            "3     8\n",
                            "4    11\n",
                            "5     4\n",
                            "6     6\n",
                            "7     0\n",
                            "8    10\n",
                            "9     2\n",
                            "dtype: int64"
                        ]
                    },
                    "execution_count": 15,
                    "metadata": {},
                    "output_type": "execute_result"
                }
            ],
            "source": [
                "%%time\n",
                "q = ddf.apply(minmax, axis=1, meta=(None, 'int64'))\n",
                "q.compute()"
            ]
        },
        {
            "cell_type": "code",
            "execution_count": 16,
            "id": "a9cca26f-3175-4eb2-a4d0-a24c6d2c5e8b",
            "metadata": {
                "tags": []
            },
            "outputs": [
                {
                    "data": {
                        "image/png": "[encoded data removed]",
                        "text/plain": [
                            "<IPython.core.display.Image object>"
                        ]
                    },
                    "execution_count": 16,
                    "metadata": {},
                    "output_type": "execute_result"
                }
            ],
            "source": [
                "q.visualize()"
            ]
        },
        {
            "cell_type": "code",
            "execution_count": 17,
            "id": "af533be3-e678-4e6d-9759-944127c448e9",
            "metadata": {},
            "outputs": [
                {
                    "name": "stdout",
                    "output_type": "stream",
                    "text": [
                        "CPU times: user 3.41 ms, sys: 2.13 ms, total: 5.54 ms\n",
                        "Wall time: 2.01 s\n"
                    ]
                },
                {
                    "data": {
                        "text/plain": [
                            "0     5\n",
                            "1    13\n",
                            "2    19\n",
                            "3     3\n",
                            "4    16\n",
                            "5    17\n",
                            "6    18\n",
                            "7    17\n",
                            "8    17\n",
                            "9     5\n",
                            "Name: a, dtype: int64"
                        ]
                    },
                    "execution_count": 17,
                    "metadata": {},
                    "output_type": "execute_result"
                }
            ],
            "source": [
                "%%time\n",
                "r = ddf.a.map(inc, meta=(None, 'int64'))\n",
                "r.compute()"
            ]
        },
        {
            "cell_type": "code",
            "execution_count": 18,
            "id": "a27ea8bb-bd8c-4f9a-8f5f-f100f1ab6038",
            "metadata": {},
            "outputs": [
                {
                    "data": {
                        "image/png": "[encoded data removed]",
                        "text/plain": [
                            "<IPython.core.display.Image object>"
                        ]
                    },
                    "execution_count": 18,
                    "metadata": {},
                    "output_type": "execute_result"
                }
            ],
            "source": [
                "r.visualize()"
            ]
        },
        {
            "cell_type": "code",
            "execution_count": 19,
            "id": "0f9ef296-e753-4fbb-939c-83e5052e28de",
            "metadata": {},
            "outputs": [
                {
                    "name": "stdout",
                    "output_type": "stream",
                    "text": [
                        "CPU times: user 11.3 ms, sys: 3.31 ms, total: 14.6 ms\n",
                        "Wall time: 4.03 s\n"
                    ]
                },
                {
                    "data": {
                        "text/html": [
                            "<div>\n",
                            "<style scoped>\n",
                            "    .dataframe tbody tr th:only-of-type {\n",
                            "        vertical-align: middle;\n",
                            "    }\n",
                            "\n",
                            "    .dataframe tbody tr th {\n",
                            "        vertical-align: top;\n",
                            "    }\n",
                            "\n",
                            "    .dataframe thead th {\n",
                            "        text-align: right;\n",
                            "    }\n",
                            "</style>\n",
                            "<table border=\"1\" class=\"dataframe\">\n",
                            "  <thead>\n",
                            "    <tr style=\"text-align: right;\">\n",
                            "      <th></th>\n",
                            "      <th>a</th>\n",
                            "      <th>b</th>\n",
                            "    </tr>\n",
                            "  </thead>\n",
                            "  <tbody>\n",
                            "    <tr>\n",
                            "      <th>0</th>\n",
                            "      <td>5</td>\n",
                            "      <td>9</td>\n",
                            "    </tr>\n",
                            "    <tr>\n",
                            "      <th>1</th>\n",
                            "      <td>13</td>\n",
                            "      <td>17</td>\n",
                            "    </tr>\n",
                            "    <tr>\n",
                            "      <th>2</th>\n",
                            "      <td>19</td>\n",
                            "      <td>11</td>\n",
                            "    </tr>\n",
                            "    <tr>\n",
                            "      <th>3</th>\n",
                            "      <td>3</td>\n",
                            "      <td>11</td>\n",
                            "    </tr>\n",
                            "    <tr>\n",
                            "      <th>4</th>\n",
                            "      <td>16</td>\n",
                            "      <td>5</td>\n",
                            "    </tr>\n",
                            "    <tr>\n",
                            "      <th>5</th>\n",
                            "      <td>17</td>\n",
                            "      <td>13</td>\n",
                            "    </tr>\n",
                            "    <tr>\n",
                            "      <th>6</th>\n",
                            "      <td>18</td>\n",
                            "      <td>12</td>\n",
                            "    </tr>\n",
                            "    <tr>\n",
                            "      <th>7</th>\n",
                            "      <td>17</td>\n",
                            "      <td>17</td>\n",
                            "    </tr>\n",
                            "    <tr>\n",
                            "      <th>8</th>\n",
                            "      <td>17</td>\n",
                            "      <td>7</td>\n",
                            "    </tr>\n",
                            "    <tr>\n",
                            "      <th>9</th>\n",
                            "      <td>5</td>\n",
                            "      <td>3</td>\n",
                            "    </tr>\n",
                            "  </tbody>\n",
                            "</table>\n",
                            "</div>"
                        ],
                        "text/plain": [
                            "    a   b\n",
                            "0   5   9\n",
                            "1  13  17\n",
                            "2  19  11\n",
                            "3   3  11\n",
                            "4  16   5\n",
                            "5  17  13\n",
                            "6  18  12\n",
                            "7  17  17\n",
                            "8  17   7\n",
                            "9   5   3"
                        ]
                    },
                    "execution_count": 19,
                    "metadata": {},
                    "output_type": "execute_result"
                }
            ],
            "source": [
                "%%time\n",
                "s = ddf.applymap(inc, meta=ddf)\n",
                "s.compute()"
            ]
        },
        {
            "cell_type": "code",
            "execution_count": 20,
            "id": "99022ba6-f6fa-42cb-a42d-0897d56069a6",
            "metadata": {},
            "outputs": [
                {
                    "data": {
                        "image/png": "[encoded data removed]",
                        "text/plain": [
                            "<IPython.core.display.Image object>"
                        ]
                    },
                    "execution_count": 20,
                    "metadata": {},
                    "output_type": "execute_result"
                }
            ],
            "source": [
                "s.visualize()"
            ]
        },
        {
            "cell_type": "code",
            "execution_count": null,
            "id": "8fe02d48-4d54-4fab-9dde-9ffad621f092",
            "metadata": {},
            "outputs": [],
            "source": []
        }
    ],
    "metadata": {
        "kernelspec": {
            "display_name": "Python 3 (ipykernel)",
            "language": "python",
            "name": "python3"
        },
        "language_info": {
            "codemirror_mode": {
                "name": "ipython",
                "version": 3
            },
            "file_extension": ".py",
            "mimetype": "text/x-python",
            "name": "python",
            "nbconvert_exporter": "python",
            "pygments_lexer": "ipython3",
            "version": "3.9.0"
        }
    },
    "nbformat": 4,
    "nbformat_minor": 5
}
