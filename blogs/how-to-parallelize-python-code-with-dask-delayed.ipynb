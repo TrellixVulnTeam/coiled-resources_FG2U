{
 "cells": [
  {
   "cell_type": "markdown",
   "id": "d885cd90-9929-409c-86de-4a0395ecdcd8",
   "metadata": {},
   "source": [
    "# Parallelize Python code with Dask Delayed"
   ]
  },
  {
   "cell_type": "markdown",
   "id": "8a7922e2-6496-4f5e-b002-c88802e57dfd",
   "metadata": {},
   "source": [
    "## General Python code"
   ]
  },
  {
   "cell_type": "code",
   "execution_count": 1,
   "id": "29a02d2f-2aaa-4c22-8605-0cf94857cdfd",
   "metadata": {},
   "outputs": [],
   "source": [
    "from time import sleep"
   ]
  },
  {
   "cell_type": "code",
   "execution_count": 2,
   "id": "dd51ccd7-bd2c-4034-9127-d26c5dc8aa1a",
   "metadata": {},
   "outputs": [],
   "source": [
    "def inc(x):\n",
    "    sleep(1)\n",
    "    return x + 1\n",
    "\n",
    "def dec(x):\n",
    "    sleep(1)\n",
    "    return x - 1\n",
    "\n",
    "def add(x, y):\n",
    "    sleep(1)\n",
    "    return x + y"
   ]
  },
  {
   "cell_type": "code",
   "execution_count": 3,
   "id": "df0b3a1c-ae5a-4347-833a-122944a3c9a5",
   "metadata": {},
   "outputs": [
    {
     "name": "stdout",
     "output_type": "stream",
     "text": [
      "CPU times: user 1.6 ms, sys: 3.75 ms, total: 5.34 ms\n",
      "Wall time: 3.02 s\n"
     ]
    }
   ],
   "source": [
    "%%time\n",
    "\n",
    "a = inc(1)\n",
    "b = dec(1)\n",
    "c = add(a, b)"
   ]
  },
  {
   "cell_type": "code",
   "execution_count": 4,
   "id": "7de225c8-8f6b-424b-9c60-0b9672821f6f",
   "metadata": {},
   "outputs": [
    {
     "name": "stdout",
     "output_type": "stream",
     "text": [
      "CPU times: user 3.22 ms, sys: 4.98 ms, total: 8.19 ms\n",
      "Wall time: 30.1 s\n"
     ]
    }
   ],
   "source": [
    "%%time\n",
    "\n",
    "l = []\n",
    "\n",
    "for i in range(10):\n",
    "    a = inc(i)\n",
    "    b = dec(i)\n",
    "    c = add(a, b)\n",
    "    l.append(c)"
   ]
  },
  {
   "cell_type": "markdown",
   "id": "1b2cad51-b434-4549-bd84-818f4237765c",
   "metadata": {},
   "source": [
    "## Dask Delayed"
   ]
  },
  {
   "cell_type": "code",
   "execution_count": 5,
   "id": "4ac23f84-b226-4c12-a71c-ab0b0483ba60",
   "metadata": {},
   "outputs": [
    {
     "data": {
      "text/html": [
       "\n",
       "            <div>\n",
       "                <div style=\"\n",
       "                    width: 24px;\n",
       "                    height: 24px;\n",
       "                    background-color: #e1e1e1;\n",
       "                    border: 3px solid #9D9D9D;\n",
       "                    border-radius: 5px;\n",
       "                    position: absolute;\"> </div>\n",
       "                <div style=\"margin-left: 48px;\">\n",
       "                    <h3 style=\"margin-bottom: 0px;\">Client</h3>\n",
       "                    <p style=\"color: #9D9D9D; margin-bottom: 0px;\">Client-9af59c1e-f66c-11eb-8c71-acde48001122</p>\n",
       "                    <table style=\"width: 100%; text-align: left;\">\n",
       "                    \n",
       "                <tr>\n",
       "                    <td style=\"text-align: left;\"><strong>Connection method:</strong> Cluster object</td>\n",
       "                    <td style=\"text-align: left;\"><strong>Cluster type:</strong> LocalCluster</td>\n",
       "                </tr>\n",
       "                \n",
       "                <tr>\n",
       "                    <td style=\"text-align: left;\">\n",
       "                        <strong>Dashboard: </strong>\n",
       "                        <a href=\"http://127.0.0.1:8787/status\">http://127.0.0.1:8787/status</a>\n",
       "                    </td>\n",
       "                    <td style=\"text-align: left;\"></td>\n",
       "                </tr>\n",
       "                \n",
       "                    </table>\n",
       "                    \n",
       "                <details>\n",
       "                <summary style=\"margin-bottom: 20px;\"><h3 style=\"display: inline;\">Cluster Info</h3></summary>\n",
       "                \n",
       "            <div class=\"jp-RenderedHTMLCommon jp-RenderedHTML jp-mod-trusted jp-OutputArea-output\">\n",
       "                <div style=\"\n",
       "                    width: 24px;\n",
       "                    height: 24px;\n",
       "                    background-color: #e1e1e1;\n",
       "                    border: 3px solid #9D9D9D;\n",
       "                    border-radius: 5px;\n",
       "                    position: absolute;\"> </div>\n",
       "                <div style=\"margin-left: 48px;\">\n",
       "                    <h3 style=\"margin-bottom: 0px; margin-top: 0px;\">LocalCluster</h3>\n",
       "                    <p style=\"color: #9D9D9D; margin-bottom: 0px;\">c14b8833</p>\n",
       "                    <table style=\"width: 100%; text-align: left;\">\n",
       "                    \n",
       "            <tr>\n",
       "                <td style=\"text-align: left;\"><strong>Status:</strong> running</td>\n",
       "                <td style=\"text-align: left;\"><strong>Using processes:</strong> True</td>\n",
       "            </tr>\n",
       "        \n",
       "            <tr>\n",
       "                <td style=\"text-align: left;\">\n",
       "                    <strong>Dashboard:</strong> <a href=\"http://127.0.0.1:8787/status\">http://127.0.0.1:8787/status</a>\n",
       "                </td>\n",
       "                <td style=\"text-align: left;\"><strong>Workers:</strong> 1</td>\n",
       "            </tr>\n",
       "            <tr>\n",
       "                <td style=\"text-align: left;\">\n",
       "                    <strong>Total threads:</strong>\n",
       "                    12\n",
       "                </td>\n",
       "                <td style=\"text-align: left;\">\n",
       "                    <strong>Total memory:</strong>\n",
       "                    16.00 GiB\n",
       "                </td>\n",
       "            </tr>\n",
       "        \n",
       "                    </table>\n",
       "                    <details>\n",
       "                    <summary style=\"margin-bottom: 20px;\"><h3 style=\"display: inline;\">Scheduler Info</h3></summary>\n",
       "                    \n",
       "        <div style=\"\">\n",
       "            \n",
       "            <div>\n",
       "                <div style=\"\n",
       "                    width: 24px;\n",
       "                    height: 24px;\n",
       "                    background-color: #FFF7E5;\n",
       "                    border: 3px solid #FF6132;\n",
       "                    border-radius: 5px;\n",
       "                    position: absolute;\"> </div>\n",
       "                <div style=\"margin-left: 48px;\">\n",
       "                    <h3 style=\"margin-bottom: 0px;\">Scheduler</h3>\n",
       "                    <p style=\"color: #9D9D9D; margin-bottom: 0px;\">Scheduler-a898484b-c7a8-4c86-9a62-1c27766a7508</p>\n",
       "                    <table style=\"width: 100%; text-align: left;\">\n",
       "                        <tr>\n",
       "                            <td style=\"text-align: left;\"><strong>Comm:</strong> tcp://127.0.0.1:60636</td>\n",
       "                            <td style=\"text-align: left;\"><strong>Workers:</strong> 1</td>\n",
       "                        </tr>\n",
       "                        <tr>\n",
       "                            <td style=\"text-align: left;\">\n",
       "                                <strong>Dashboard:</strong> <a href=\"http://127.0.0.1:8787/status\">http://127.0.0.1:8787/status</a>\n",
       "                            </td>\n",
       "                            <td style=\"text-align: left;\">\n",
       "                                <strong>Total threads:</strong>\n",
       "                                12\n",
       "                            </td>\n",
       "                        </tr>\n",
       "                        <tr>\n",
       "                            <td style=\"text-align: left;\">\n",
       "                                <strong>Started:</strong>\n",
       "                                Just now\n",
       "                            </td>\n",
       "                            <td style=\"text-align: left;\">\n",
       "                                <strong>Total memory:</strong>\n",
       "                                16.00 GiB\n",
       "                            </td>\n",
       "                        </tr>\n",
       "                    </table>\n",
       "                </div>\n",
       "            </div>\n",
       "        \n",
       "            <details style=\"margin-left: 48px;\">\n",
       "            <summary style=\"margin-bottom: 20px;\"><h3 style=\"display: inline;\">Workers</h3></summary>\n",
       "            \n",
       "            <div style=\"margin-bottom: 20px;\">\n",
       "                <div style=\"width: 24px;\n",
       "                            height: 24px;\n",
       "                            background-color: #DBF5FF;\n",
       "                            border: 3px solid #4CC9FF;\n",
       "                            border-radius: 5px;\n",
       "                            position: absolute;\"> </div>\n",
       "                <div style=\"margin-left: 48px;\">\n",
       "                <details>\n",
       "                    <summary>\n",
       "                        <h4 style=\"margin-bottom: 0px; display: inline;\">Worker: 0</h4>\n",
       "                    </summary>\n",
       "                    <table style=\"width: 100%; text-align: left;\">\n",
       "                        <tr>\n",
       "                            <td style=\"text-align: left;\"><strong>Comm: </strong> tcp://127.0.0.1:60640</td>\n",
       "                            <td style=\"text-align: left;\"><strong>Total threads: </strong> 12</td>\n",
       "                        </tr>\n",
       "                        <tr>\n",
       "                            <td style=\"text-align: left;\">\n",
       "                                <strong>Dashboard: </strong>\n",
       "                                <a href=\"http://127.0.0.1:60641/status\">http://127.0.0.1:60641/status</a>\n",
       "                            </td>\n",
       "                            <td style=\"text-align: left;\">\n",
       "                                <strong>Memory: </strong>\n",
       "                                16.00 GiB\n",
       "                            </td>\n",
       "                        </tr>\n",
       "                        <tr>\n",
       "                            <td style=\"text-align: left;\"><strong>Nanny: </strong> tcp://127.0.0.1:60638</td>\n",
       "                            <td style=\"text-align: left;\"></td>\n",
       "                        </tr>\n",
       "                        <tr>\n",
       "                            <td colspan=\"2\" style=\"text-align: left;\">\n",
       "                                <strong>Local directory: </strong>\n",
       "                                /Users/pavithra-coiled/Developer/dask-delayed/dask-worker-space/worker-qdcoe4cb\n",
       "                            </td>\n",
       "                        </tr>\n",
       "                        \n",
       "                        \n",
       "                    </table>\n",
       "                </details>\n",
       "                </div>\n",
       "            </div>\n",
       "            \n",
       "            </details>\n",
       "        </div>\n",
       "        \n",
       "                    </details>\n",
       "                </div>\n",
       "            </div>\n",
       "        \n",
       "                </details>\n",
       "                \n",
       "                </div>\n",
       "            </div>\n",
       "        "
      ],
      "text/plain": [
       "<Client: 'tcp://127.0.0.1:60636' processes=1 threads=12, memory=16.00 GiB>"
      ]
     },
     "execution_count": 5,
     "metadata": {},
     "output_type": "execute_result"
    }
   ],
   "source": [
    "from dask.distributed import Client, progress\n",
    "client = Client(n_workers=1)\n",
    "client"
   ]
  },
  {
   "cell_type": "markdown",
   "id": "b6371134-fc74-4c84-a8b3-784e1858c501",
   "metadata": {},
   "source": [
    "Open the dashboards!"
   ]
  },
  {
   "cell_type": "code",
   "execution_count": 6,
   "id": "437b9d22-4289-4c21-b3c3-97169ce5c4f1",
   "metadata": {},
   "outputs": [],
   "source": [
    "from dask import delayed, compute, visualize"
   ]
  },
  {
   "cell_type": "code",
   "execution_count": 7,
   "id": "22cf68ba-9e17-4782-97f9-fb413e679f19",
   "metadata": {},
   "outputs": [
    {
     "name": "stdout",
     "output_type": "stream",
     "text": [
      "CPU times: user 4.05 ms, sys: 2.13 ms, total: 6.17 ms\n",
      "Wall time: 4.62 ms\n"
     ]
    }
   ],
   "source": [
    "%%time\n",
    "\n",
    "l = []\n",
    "\n",
    "for i in range(10):\n",
    "    a = delayed(inc)(i)\n",
    "    b = delayed(dec)(i)\n",
    "    c = delayed(add)(a, b)\n",
    "    l.append(c)"
   ]
  },
  {
   "cell_type": "markdown",
   "id": "ae3e0768-6835-4470-a48e-526dd4674026",
   "metadata": {},
   "source": [
    "**Note:** Don't do `delayed(inc(i))`"
   ]
  },
  {
   "cell_type": "code",
   "execution_count": 8,
   "id": "299729f7-7c9c-4059-9213-7691bd5ad898",
   "metadata": {},
   "outputs": [
    {
     "data": {
      "image/png": "[encoded data removed]",
      "text/plain": [
       "<IPython.core.display.Image object>"
      ]
     },
     "execution_count": 8,
     "metadata": {},
     "output_type": "execute_result"
    }
   ],
   "source": [
    "visualize(*l)"
   ]
  },
  {
   "cell_type": "markdown",
   "id": "2db56c07-4211-4a35-9c8f-9366efcf2ecc",
   "metadata": {},
   "source": [
    "**Note:** Try to minimize computing."
   ]
  },
  {
   "cell_type": "code",
   "execution_count": 9,
   "id": "4b1690a4-1b5f-4348-b649-824e2d942117",
   "metadata": {},
   "outputs": [
    {
     "name": "stdout",
     "output_type": "stream",
     "text": [
      "CPU times: user 260 ms, sys: 174 ms, total: 434 ms\n",
      "Wall time: 3.34 s\n"
     ]
    },
    {
     "data": {
      "text/plain": [
       "(0, 2, 4, 6, 8, 10, 12, 14, 16, 18)"
      ]
     },
     "execution_count": 9,
     "metadata": {},
     "output_type": "execute_result"
    }
   ],
   "source": [
    "%%time\n",
    "\n",
    "l = compute(*l)\n",
    "l"
   ]
  },
  {
   "cell_type": "markdown",
   "id": "8af38169-d1ca-4d45-95a3-da50d281fcd7",
   "metadata": {},
   "source": [
    "### Alternatively..."
   ]
  },
  {
   "cell_type": "code",
   "execution_count": 10,
   "id": "411abc38-e0a6-4614-8249-256ddbd2b715",
   "metadata": {
    "tags": []
   },
   "outputs": [],
   "source": [
    "@delayed\n",
    "def inc(x):\n",
    "    sleep(1)\n",
    "    return x + 1\n",
    "\n",
    "@delayed\n",
    "def dec(x):\n",
    "    sleep(1)\n",
    "    return x - 1\n",
    "\n",
    "@delayed\n",
    "def add(x, y):\n",
    "    sleep(1)\n",
    "    return x + y"
   ]
  },
  {
   "cell_type": "markdown",
   "id": "8b32ae77-23ba-41fa-a306-c8cd54cec927",
   "metadata": {},
   "source": [
    "Or:"
   ]
  },
  {
   "cell_type": "code",
   "execution_count": null,
   "id": "3ed4e19c-344d-4aff-86fc-1fde8e3d1a8a",
   "metadata": {},
   "outputs": [],
   "source": [
    "# inc = delayed(inc)\n",
    "# dec = delayed(dec)\n",
    "# add = delayed(add)"
   ]
  },
  {
   "cell_type": "code",
   "execution_count": 11,
   "id": "6b662987-d3cf-4ab7-8fa5-d1071fa9ffa9",
   "metadata": {},
   "outputs": [
    {
     "name": "stdout",
     "output_type": "stream",
     "text": [
      "CPU times: user 119 ms, sys: 22.6 ms, total: 142 ms\n",
      "Wall time: 3.04 s\n"
     ]
    }
   ],
   "source": [
    "%%time\n",
    "\n",
    "l = []\n",
    "\n",
    "for i in range(10):\n",
    "    a = inc(i)\n",
    "    b = dec(i)\n",
    "    c = add(a, b)\n",
    "    l.append(c)\n",
    "    \n",
    "l = compute(*l)"
   ]
  },
  {
   "cell_type": "markdown",
   "id": "4f03fbb6-207e-4131-88ef-528e9ad03d87",
   "metadata": {},
   "source": [
    "## Another example: pandas"
   ]
  },
  {
   "cell_type": "code",
   "execution_count": null,
   "id": "65686767-4090-4444-bbe3-9312e18b0d43",
   "metadata": {},
   "outputs": [],
   "source": [
    "# !wget https://coiled-datasets.s3.us-east-2.amazonaws.com/seattle-library-checkouts/checkouts-subset.csv"
   ]
  },
  {
   "cell_type": "code",
   "execution_count": 12,
   "id": "2db7c375-737c-40b3-af33-a1db5a48ccc3",
   "metadata": {},
   "outputs": [],
   "source": [
    "import pandas as pd"
   ]
  },
  {
   "cell_type": "code",
   "execution_count": 13,
   "id": "438fe154-7af4-4eb4-8ddf-7d6610478761",
   "metadata": {},
   "outputs": [
    {
     "name": "stdout",
     "output_type": "stream",
     "text": [
      "CPU times: user 472 µs, sys: 232 µs, total: 704 µs\n",
      "Wall time: 552 µs\n"
     ]
    }
   ],
   "source": [
    "%%time\n",
    "\n",
    "ddf = delayed(pd.read_csv)(\"checkouts-subset.csv\", \n",
    "                           engine='python', \n",
    "                           error_bad_lines=False) # with delayed"
   ]
  },
  {
   "cell_type": "code",
   "execution_count": 14,
   "id": "d090f592-4a33-49d4-b84a-a5fcdaa39581",
   "metadata": {},
   "outputs": [
    {
     "name": "stdout",
     "output_type": "stream",
     "text": [
      "CPU times: user 317 µs, sys: 62 µs, total: 379 µs\n",
      "Wall time: 358 µs\n"
     ]
    }
   ],
   "source": [
    "%%time\n",
    "\n",
    "result = ddf.groupby(\"UsageClass\").Checkouts.sum()"
   ]
  },
  {
   "cell_type": "code",
   "execution_count": 15,
   "id": "c32df82f-c644-495c-a05f-9dd7f85e03bb",
   "metadata": {},
   "outputs": [
    {
     "data": {
      "text/plain": [
       "Delayed('sum-74b130a7-b58b-4da5-9a4a-4b16a731a16f')"
      ]
     },
     "execution_count": 15,
     "metadata": {},
     "output_type": "execute_result"
    }
   ],
   "source": [
    "result"
   ]
  },
  {
   "cell_type": "code",
   "execution_count": 16,
   "id": "09ddcc71-0a8b-468c-b6ce-6da856f83b60",
   "metadata": {},
   "outputs": [
    {
     "data": {
      "text/plain": [
       "UsageClass\n",
       "Digital      8772938\n",
       "Physical    52609482\n",
       "Name: Checkouts, dtype: int64"
      ]
     },
     "execution_count": 16,
     "metadata": {},
     "output_type": "execute_result"
    }
   ],
   "source": [
    "result.compute()"
   ]
  },
  {
   "cell_type": "code",
   "execution_count": 17,
   "id": "848e565f-9c62-434c-a5cb-d0a61622f8f2",
   "metadata": {},
   "outputs": [],
   "source": [
    "client.close()"
   ]
  },
  {
   "cell_type": "markdown",
   "id": "9322484e-82e3-478d-acf1-55ba6cac710f",
   "metadata": {},
   "source": [
    "**Note:** Dask DataFrame is better for parallelizing pandas"
   ]
  },
  {
   "cell_type": "code",
   "execution_count": null,
   "id": "be27fabb-85da-4586-ac46-1b5ea2a92c58",
   "metadata": {},
   "outputs": [],
   "source": []
  }
 ],
 "metadata": {
  "kernelspec": {
   "display_name": "Python 3",
   "language": "python",
   "name": "python3"
  },
  "language_info": {
   "codemirror_mode": {
    "name": "ipython",
    "version": 3
   },
   "file_extension": ".py",
   "mimetype": "text/x-python",
   "name": "python",
   "nbconvert_exporter": "python",
   "pygments_lexer": "ipython3",
   "version": "3.8.2"
  }
 },
 "nbformat": 4,
 "nbformat_minor": 5
}
