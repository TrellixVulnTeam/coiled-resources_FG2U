{
 "cells": [
  {
   "cell_type": "code",
   "execution_count": 1,
   "id": "af5ea806-81a0-44a8-aefa-f1aaf033ecaf",
   "metadata": {},
   "outputs": [],
   "source": [
    "import dask.dataframe as dd\n",
    "import pandas as pd"
   ]
  },
  {
   "cell_type": "code",
   "execution_count": 2,
   "id": "f3e624db-1e05-4a04-ad18-74b549a3e4e8",
   "metadata": {},
   "outputs": [],
   "source": [
    "df = pd.DataFrame(\n",
    "    {\"num1\": [1, 2, 3, 4], \"num2\": [7, 8, 9, 10]},\n",
    ")"
   ]
  },
  {
   "cell_type": "code",
   "execution_count": 3,
   "id": "bbe61585-5ac4-417c-8e9e-eeb21867a1cf",
   "metadata": {},
   "outputs": [],
   "source": [
    "df = dd.from_pandas(df, npartitions=2)"
   ]
  },
  {
   "cell_type": "code",
   "execution_count": 4,
   "id": "d1b4bf3a-9106-4345-b12a-9683a116aacc",
   "metadata": {},
   "outputs": [
    {
     "data": {
      "text/plain": [
       "(None,)"
      ]
     },
     "execution_count": 4,
     "metadata": {},
     "output_type": "execute_result"
    }
   ],
   "source": [
    "df.to_parquet(\"parquet_danger\")"
   ]
  },
  {
   "cell_type": "markdown",
   "id": "18fb512a-2138-4be1-88d7-db016226f38f",
   "metadata": {},
   "source": [
    "## overwrite=True"
   ]
  },
  {
   "cell_type": "code",
   "execution_count": 5,
   "id": "6f78f62b-45e3-4705-9a2f-d579bb7cd8a3",
   "metadata": {},
   "outputs": [],
   "source": [
    "df = pd.DataFrame(\n",
    "    {\"num1\": [10, 20], \"num2\": [70, 80]},\n",
    ")"
   ]
  },
  {
   "cell_type": "code",
   "execution_count": 6,
   "id": "9480575f-ccae-4a7f-883d-f1be3aa1b61b",
   "metadata": {},
   "outputs": [],
   "source": [
    "ddf = dd.from_pandas(df, npartitions=1)"
   ]
  },
  {
   "cell_type": "code",
   "execution_count": 7,
   "id": "63a53307-505b-4b69-8eee-1fbf42d37694",
   "metadata": {},
   "outputs": [
    {
     "data": {
      "text/plain": [
       "(None,)"
      ]
     },
     "execution_count": 7,
     "metadata": {},
     "output_type": "execute_result"
    }
   ],
   "source": [
    "ddf.to_parquet(\"parquet_danger\", overwrite=True)"
   ]
  },
  {
   "cell_type": "markdown",
   "id": "afb84b1c-7c05-425b-9a50-78e0af476f84",
   "metadata": {},
   "source": [
    "## append=True"
   ]
  },
  {
   "cell_type": "code",
   "execution_count": 9,
   "id": "8f179921-3192-42be-9768-c6007f09f9af",
   "metadata": {},
   "outputs": [],
   "source": [
    "df = pd.DataFrame(\n",
    "    {\"num1\": [80, 90], \"num2\": [3, 4]},\n",
    ")"
   ]
  },
  {
   "cell_type": "code",
   "execution_count": 10,
   "id": "9b05a96a-ee5f-4c57-ba26-70ce5ccc05f2",
   "metadata": {},
   "outputs": [],
   "source": [
    "ddf = dd.from_pandas(df, npartitions=1)"
   ]
  },
  {
   "cell_type": "code",
   "execution_count": 12,
   "id": "3cd35b7e-85a8-4cf9-b457-ecdd2929f177",
   "metadata": {},
   "outputs": [
    {
     "data": {
      "text/plain": [
       "(None,)"
      ]
     },
     "execution_count": 12,
     "metadata": {},
     "output_type": "execute_result"
    }
   ],
   "source": [
    "ddf.to_parquet(\"parquet_danger\", append=True, ignore_divisions=True)"
   ]
  },
  {
   "cell_type": "code",
   "execution_count": null,
   "id": "378289c5-d58b-497b-bccb-d4584aa30199",
   "metadata": {},
   "outputs": [],
   "source": []
  }
 ],
 "metadata": {
  "kernelspec": {
   "display_name": "Python [conda env:crt]",
   "language": "python",
   "name": "conda-env-crt-py"
  },
  "language_info": {
   "codemirror_mode": {
    "name": "ipython",
    "version": 3
   },
   "file_extension": ".py",
   "mimetype": "text/x-python",
   "name": "python",
   "nbconvert_exporter": "python",
   "pygments_lexer": "ipython3",
   "version": "3.9.12"
  }
 },
 "nbformat": 4,
 "nbformat_minor": 5
}
