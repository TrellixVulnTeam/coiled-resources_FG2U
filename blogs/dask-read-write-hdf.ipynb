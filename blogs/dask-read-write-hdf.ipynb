{
 "cells": [
  {
   "cell_type": "markdown",
   "id": "e535a503-9480-4878-8a73-cfd65854d677",
   "metadata": {},
   "source": [
    "# Dask read / write HDF"
   ]
  },
  {
   "cell_type": "code",
   "execution_count": 2,
   "id": "accafbaa-163c-4933-bff7-e07582498476",
   "metadata": {},
   "outputs": [],
   "source": [
    "import dask\n",
    "import dask.dataframe as dd\n",
    "\n",
    "import pandas as pd"
   ]
  },
  {
   "cell_type": "code",
   "execution_count": 2,
   "id": "60b787c0-5ac4-4035-987e-eeb83fa73df2",
   "metadata": {},
   "outputs": [],
   "source": [
    "df = pd.DataFrame({\"col1\": [\"a\", \"b\", \"c\", \"d\"], \"col2\": [1, 2, 3, 4]})"
   ]
  },
  {
   "cell_type": "code",
   "execution_count": 3,
   "id": "b0323590-8bf1-4574-ab2b-e754ba998048",
   "metadata": {},
   "outputs": [],
   "source": [
    "ddf = dd.from_pandas(df, npartitions=2)"
   ]
  },
  {
   "cell_type": "markdown",
   "id": "e116397f-e55e-415b-81d8-be2c8936f570",
   "metadata": {},
   "source": [
    "### write to multiple files"
   ]
  },
  {
   "cell_type": "code",
   "execution_count": 6,
   "id": "8351c8a5-e7cf-44e5-b1c5-5ee3e380a162",
   "metadata": {},
   "outputs": [
    {
     "data": {
      "text/plain": [
       "['../tmp/first-hdf/output-0.hdf', '../tmp/first-hdf/output-1.hdf']"
      ]
     },
     "execution_count": 6,
     "metadata": {},
     "output_type": "execute_result"
    }
   ],
   "source": [
    "ddf.to_hdf(\"../tmp/first-hdf/output-*.hdf\", \"/data1\")"
   ]
  },
  {
   "cell_type": "markdown",
   "id": "d04ac252-f9b8-44da-aa96-36194709cd37",
   "metadata": {},
   "source": [
    "## read multiple files"
   ]
  },
  {
   "cell_type": "code",
   "execution_count": 15,
   "id": "a10e879c-a595-4db2-ab46-49ed3a3f3e2d",
   "metadata": {},
   "outputs": [],
   "source": [
    "ddf = dd.read_hdf(\"../tmp/first-hdf/output-*.hdf\", \"/data1\")"
   ]
  },
  {
   "cell_type": "code",
   "execution_count": 16,
   "id": "3dc60de0-b4ae-47d1-a3f7-d525fed3fd6c",
   "metadata": {},
   "outputs": [
    {
     "data": {
      "text/html": [
       "<div>\n",
       "<style scoped>\n",
       "    .dataframe tbody tr th:only-of-type {\n",
       "        vertical-align: middle;\n",
       "    }\n",
       "\n",
       "    .dataframe tbody tr th {\n",
       "        vertical-align: top;\n",
       "    }\n",
       "\n",
       "    .dataframe thead th {\n",
       "        text-align: right;\n",
       "    }\n",
       "</style>\n",
       "<table border=\"1\" class=\"dataframe\">\n",
       "  <thead>\n",
       "    <tr style=\"text-align: right;\">\n",
       "      <th></th>\n",
       "      <th>col1</th>\n",
       "      <th>col2</th>\n",
       "    </tr>\n",
       "  </thead>\n",
       "  <tbody>\n",
       "    <tr>\n",
       "      <th>0</th>\n",
       "      <td>a</td>\n",
       "      <td>1</td>\n",
       "    </tr>\n",
       "    <tr>\n",
       "      <th>1</th>\n",
       "      <td>b</td>\n",
       "      <td>2</td>\n",
       "    </tr>\n",
       "    <tr>\n",
       "      <th>2</th>\n",
       "      <td>c</td>\n",
       "      <td>3</td>\n",
       "    </tr>\n",
       "    <tr>\n",
       "      <th>3</th>\n",
       "      <td>d</td>\n",
       "      <td>4</td>\n",
       "    </tr>\n",
       "  </tbody>\n",
       "</table>\n",
       "</div>"
      ],
      "text/plain": [
       "  col1  col2\n",
       "0    a     1\n",
       "1    b     2\n",
       "2    c     3\n",
       "3    d     4"
      ]
     },
     "execution_count": 16,
     "metadata": {},
     "output_type": "execute_result"
    }
   ],
   "source": [
    "ddf.compute()"
   ]
  },
  {
   "cell_type": "markdown",
   "id": "9525da4d-9182-4411-9685-3e0e4ae04171",
   "metadata": {},
   "source": [
    "### write to single file"
   ]
  },
  {
   "cell_type": "code",
   "execution_count": 11,
   "id": "8cc2c1fb-b5e0-4a79-8598-782a6df3d813",
   "metadata": {},
   "outputs": [],
   "source": [
    "ddf.to_hdf(\"../tmp/my-output.hdf\", \"/cool\", format=\"table\")"
   ]
  },
  {
   "cell_type": "code",
   "execution_count": 23,
   "id": "971fb04d-8cf5-4bef-b6d5-cc69c3c15e8d",
   "metadata": {},
   "outputs": [
    {
     "name": "stdout",
     "output_type": "stream",
     "text": [
      "  col1  col2\n",
      "0    a     1\n",
      "1    b     2\n",
      "2    c     3\n",
      "3    d     4\n"
     ]
    }
   ],
   "source": [
    "print(dd.read_hdf(\"../tmp/my-output.hdf\", \"/cool\").compute())"
   ]
  },
  {
   "cell_type": "code",
   "execution_count": 12,
   "id": "d7e27b46-d1dd-4b59-a89d-c7813caf24d9",
   "metadata": {},
   "outputs": [],
   "source": [
    "df = pd.DataFrame({\"col1\": [\"x\", \"y\"], \"col2\": [88, 99]})"
   ]
  },
  {
   "cell_type": "code",
   "execution_count": 13,
   "id": "326587ab-3f76-463d-849e-b54f716d2a35",
   "metadata": {},
   "outputs": [],
   "source": [
    "ddf = dd.from_pandas(df, npartitions=2)"
   ]
  },
  {
   "cell_type": "code",
   "execution_count": 14,
   "id": "4b31631c-ad89-42a6-a69d-4dbcd6322bd7",
   "metadata": {},
   "outputs": [
    {
     "data": {
      "text/plain": [
       "['../tmp/my-output.hdf']"
      ]
     },
     "execution_count": 14,
     "metadata": {},
     "output_type": "execute_result"
    }
   ],
   "source": [
    "ddf.to_hdf(\"../tmp/my-output.hdf\", \"/nice\", format=\"table\", append=True)"
   ]
  },
  {
   "cell_type": "code",
   "execution_count": 20,
   "id": "3b4fb818-b4ae-40ea-93ab-c2f192bc96bc",
   "metadata": {},
   "outputs": [
    {
     "name": "stdout",
     "output_type": "stream",
     "text": [
      "  col1  col2\n",
      "0    x    88\n",
      "1    y    99\n"
     ]
    }
   ],
   "source": [
    "print(dd.read_hdf(\"../tmp/my-output.hdf\", \"/nice\").compute())"
   ]
  },
  {
   "cell_type": "code",
   "execution_count": 21,
   "id": "a05de1cf-f599-4325-86de-8fe24f9f932b",
   "metadata": {},
   "outputs": [
    {
     "name": "stdout",
     "output_type": "stream",
     "text": [
      "  col1  col2\n",
      "0    a     1\n",
      "1    b     2\n",
      "2    c     3\n",
      "3    d     4\n"
     ]
    }
   ],
   "source": [
    "print(dd.read_hdf(\"../tmp/my-output.hdf\", \"/cool\").compute())"
   ]
  },
  {
   "cell_type": "code",
   "execution_count": 22,
   "id": "241020fc-f1c9-467e-be36-412a28872bd9",
   "metadata": {},
   "outputs": [
    {
     "name": "stdout",
     "output_type": "stream",
     "text": [
      "  col1  col2\n",
      "0    a     1\n",
      "1    b     2\n",
      "2    c     3\n",
      "3    d     4\n",
      "0    x    88\n",
      "1    y    99\n"
     ]
    }
   ],
   "source": [
    "print(dd.read_hdf(\"../tmp/my-output.hdf\", \"/*\").compute())"
   ]
  },
  {
   "cell_type": "markdown",
   "id": "91fd185f-098e-4143-a792-374e1f849b9e",
   "metadata": {},
   "source": [
    "## Write medium sized dataset"
   ]
  },
  {
   "cell_type": "code",
   "execution_count": 20,
   "id": "9580a1e3-8b7c-4609-abb4-4d301a4e4f25",
   "metadata": {},
   "outputs": [],
   "source": [
    "ddf = dask.datasets.timeseries(\n",
    "    start=\"2015-01-01\",\n",
    "    end=\"2020-12-31\",\n",
    "    freq=\"1s\",\n",
    "    partition_freq=\"7d\",\n",
    "    seed=42,\n",
    ")"
   ]
  },
  {
   "cell_type": "code",
   "execution_count": 5,
   "id": "3f57b5b6-7946-4b09-9414-29bfc97007f0",
   "metadata": {},
   "outputs": [
    {
     "data": {
      "text/plain": [
       "189302400"
      ]
     },
     "execution_count": 5,
     "metadata": {},
     "output_type": "execute_result"
    }
   ],
   "source": [
    "len(ddf)"
   ]
  },
  {
   "cell_type": "code",
   "execution_count": 9,
   "id": "9963aa25-750f-48ec-a932-54db81a23ebc",
   "metadata": {
    "collapsed": true,
    "jupyter": {
     "outputs_hidden": true
    },
    "tags": []
   },
   "outputs": [
    {
     "name": "stdout",
     "output_type": "stream",
     "text": [
      "CPU times: user 26min 30s, sys: 47.2 s, total: 27min 18s\n",
      "Wall time: 14min 4s\n"
     ]
    },
    {
     "data": {
      "text/plain": [
       "['/Users/powers/Documents/code/coiled/coiled-resources/local/csv/output-000',\n",
       " '/Users/powers/Documents/code/coiled/coiled-resources/local/csv/output-001',\n",
       " '/Users/powers/Documents/code/coiled/coiled-resources/local/csv/output-002',\n",
       " '/Users/powers/Documents/code/coiled/coiled-resources/local/csv/output-003',\n",
       " '/Users/powers/Documents/code/coiled/coiled-resources/local/csv/output-004',\n",
       " '/Users/powers/Documents/code/coiled/coiled-resources/local/csv/output-005',\n",
       " '/Users/powers/Documents/code/coiled/coiled-resources/local/csv/output-006',\n",
       " '/Users/powers/Documents/code/coiled/coiled-resources/local/csv/output-007',\n",
       " '/Users/powers/Documents/code/coiled/coiled-resources/local/csv/output-008',\n",
       " '/Users/powers/Documents/code/coiled/coiled-resources/local/csv/output-009',\n",
       " '/Users/powers/Documents/code/coiled/coiled-resources/local/csv/output-010',\n",
       " '/Users/powers/Documents/code/coiled/coiled-resources/local/csv/output-011',\n",
       " '/Users/powers/Documents/code/coiled/coiled-resources/local/csv/output-012',\n",
       " '/Users/powers/Documents/code/coiled/coiled-resources/local/csv/output-013',\n",
       " '/Users/powers/Documents/code/coiled/coiled-resources/local/csv/output-014',\n",
       " '/Users/powers/Documents/code/coiled/coiled-resources/local/csv/output-015',\n",
       " '/Users/powers/Documents/code/coiled/coiled-resources/local/csv/output-016',\n",
       " '/Users/powers/Documents/code/coiled/coiled-resources/local/csv/output-017',\n",
       " '/Users/powers/Documents/code/coiled/coiled-resources/local/csv/output-018',\n",
       " '/Users/powers/Documents/code/coiled/coiled-resources/local/csv/output-019',\n",
       " '/Users/powers/Documents/code/coiled/coiled-resources/local/csv/output-020',\n",
       " '/Users/powers/Documents/code/coiled/coiled-resources/local/csv/output-021',\n",
       " '/Users/powers/Documents/code/coiled/coiled-resources/local/csv/output-022',\n",
       " '/Users/powers/Documents/code/coiled/coiled-resources/local/csv/output-023',\n",
       " '/Users/powers/Documents/code/coiled/coiled-resources/local/csv/output-024',\n",
       " '/Users/powers/Documents/code/coiled/coiled-resources/local/csv/output-025',\n",
       " '/Users/powers/Documents/code/coiled/coiled-resources/local/csv/output-026',\n",
       " '/Users/powers/Documents/code/coiled/coiled-resources/local/csv/output-027',\n",
       " '/Users/powers/Documents/code/coiled/coiled-resources/local/csv/output-028',\n",
       " '/Users/powers/Documents/code/coiled/coiled-resources/local/csv/output-029',\n",
       " '/Users/powers/Documents/code/coiled/coiled-resources/local/csv/output-030',\n",
       " '/Users/powers/Documents/code/coiled/coiled-resources/local/csv/output-031',\n",
       " '/Users/powers/Documents/code/coiled/coiled-resources/local/csv/output-032',\n",
       " '/Users/powers/Documents/code/coiled/coiled-resources/local/csv/output-033',\n",
       " '/Users/powers/Documents/code/coiled/coiled-resources/local/csv/output-034',\n",
       " '/Users/powers/Documents/code/coiled/coiled-resources/local/csv/output-035',\n",
       " '/Users/powers/Documents/code/coiled/coiled-resources/local/csv/output-036',\n",
       " '/Users/powers/Documents/code/coiled/coiled-resources/local/csv/output-037',\n",
       " '/Users/powers/Documents/code/coiled/coiled-resources/local/csv/output-038',\n",
       " '/Users/powers/Documents/code/coiled/coiled-resources/local/csv/output-039',\n",
       " '/Users/powers/Documents/code/coiled/coiled-resources/local/csv/output-040',\n",
       " '/Users/powers/Documents/code/coiled/coiled-resources/local/csv/output-041',\n",
       " '/Users/powers/Documents/code/coiled/coiled-resources/local/csv/output-042',\n",
       " '/Users/powers/Documents/code/coiled/coiled-resources/local/csv/output-043',\n",
       " '/Users/powers/Documents/code/coiled/coiled-resources/local/csv/output-044',\n",
       " '/Users/powers/Documents/code/coiled/coiled-resources/local/csv/output-045',\n",
       " '/Users/powers/Documents/code/coiled/coiled-resources/local/csv/output-046',\n",
       " '/Users/powers/Documents/code/coiled/coiled-resources/local/csv/output-047',\n",
       " '/Users/powers/Documents/code/coiled/coiled-resources/local/csv/output-048',\n",
       " '/Users/powers/Documents/code/coiled/coiled-resources/local/csv/output-049',\n",
       " '/Users/powers/Documents/code/coiled/coiled-resources/local/csv/output-050',\n",
       " '/Users/powers/Documents/code/coiled/coiled-resources/local/csv/output-051',\n",
       " '/Users/powers/Documents/code/coiled/coiled-resources/local/csv/output-052',\n",
       " '/Users/powers/Documents/code/coiled/coiled-resources/local/csv/output-053',\n",
       " '/Users/powers/Documents/code/coiled/coiled-resources/local/csv/output-054',\n",
       " '/Users/powers/Documents/code/coiled/coiled-resources/local/csv/output-055',\n",
       " '/Users/powers/Documents/code/coiled/coiled-resources/local/csv/output-056',\n",
       " '/Users/powers/Documents/code/coiled/coiled-resources/local/csv/output-057',\n",
       " '/Users/powers/Documents/code/coiled/coiled-resources/local/csv/output-058',\n",
       " '/Users/powers/Documents/code/coiled/coiled-resources/local/csv/output-059',\n",
       " '/Users/powers/Documents/code/coiled/coiled-resources/local/csv/output-060',\n",
       " '/Users/powers/Documents/code/coiled/coiled-resources/local/csv/output-061',\n",
       " '/Users/powers/Documents/code/coiled/coiled-resources/local/csv/output-062',\n",
       " '/Users/powers/Documents/code/coiled/coiled-resources/local/csv/output-063',\n",
       " '/Users/powers/Documents/code/coiled/coiled-resources/local/csv/output-064',\n",
       " '/Users/powers/Documents/code/coiled/coiled-resources/local/csv/output-065',\n",
       " '/Users/powers/Documents/code/coiled/coiled-resources/local/csv/output-066',\n",
       " '/Users/powers/Documents/code/coiled/coiled-resources/local/csv/output-067',\n",
       " '/Users/powers/Documents/code/coiled/coiled-resources/local/csv/output-068',\n",
       " '/Users/powers/Documents/code/coiled/coiled-resources/local/csv/output-069',\n",
       " '/Users/powers/Documents/code/coiled/coiled-resources/local/csv/output-070',\n",
       " '/Users/powers/Documents/code/coiled/coiled-resources/local/csv/output-071',\n",
       " '/Users/powers/Documents/code/coiled/coiled-resources/local/csv/output-072',\n",
       " '/Users/powers/Documents/code/coiled/coiled-resources/local/csv/output-073',\n",
       " '/Users/powers/Documents/code/coiled/coiled-resources/local/csv/output-074',\n",
       " '/Users/powers/Documents/code/coiled/coiled-resources/local/csv/output-075',\n",
       " '/Users/powers/Documents/code/coiled/coiled-resources/local/csv/output-076',\n",
       " '/Users/powers/Documents/code/coiled/coiled-resources/local/csv/output-077',\n",
       " '/Users/powers/Documents/code/coiled/coiled-resources/local/csv/output-078',\n",
       " '/Users/powers/Documents/code/coiled/coiled-resources/local/csv/output-079',\n",
       " '/Users/powers/Documents/code/coiled/coiled-resources/local/csv/output-080',\n",
       " '/Users/powers/Documents/code/coiled/coiled-resources/local/csv/output-081',\n",
       " '/Users/powers/Documents/code/coiled/coiled-resources/local/csv/output-082',\n",
       " '/Users/powers/Documents/code/coiled/coiled-resources/local/csv/output-083',\n",
       " '/Users/powers/Documents/code/coiled/coiled-resources/local/csv/output-084',\n",
       " '/Users/powers/Documents/code/coiled/coiled-resources/local/csv/output-085',\n",
       " '/Users/powers/Documents/code/coiled/coiled-resources/local/csv/output-086',\n",
       " '/Users/powers/Documents/code/coiled/coiled-resources/local/csv/output-087',\n",
       " '/Users/powers/Documents/code/coiled/coiled-resources/local/csv/output-088',\n",
       " '/Users/powers/Documents/code/coiled/coiled-resources/local/csv/output-089',\n",
       " '/Users/powers/Documents/code/coiled/coiled-resources/local/csv/output-090',\n",
       " '/Users/powers/Documents/code/coiled/coiled-resources/local/csv/output-091',\n",
       " '/Users/powers/Documents/code/coiled/coiled-resources/local/csv/output-092',\n",
       " '/Users/powers/Documents/code/coiled/coiled-resources/local/csv/output-093',\n",
       " '/Users/powers/Documents/code/coiled/coiled-resources/local/csv/output-094',\n",
       " '/Users/powers/Documents/code/coiled/coiled-resources/local/csv/output-095',\n",
       " '/Users/powers/Documents/code/coiled/coiled-resources/local/csv/output-096',\n",
       " '/Users/powers/Documents/code/coiled/coiled-resources/local/csv/output-097',\n",
       " '/Users/powers/Documents/code/coiled/coiled-resources/local/csv/output-098',\n",
       " '/Users/powers/Documents/code/coiled/coiled-resources/local/csv/output-099',\n",
       " '/Users/powers/Documents/code/coiled/coiled-resources/local/csv/output-100',\n",
       " '/Users/powers/Documents/code/coiled/coiled-resources/local/csv/output-101',\n",
       " '/Users/powers/Documents/code/coiled/coiled-resources/local/csv/output-102',\n",
       " '/Users/powers/Documents/code/coiled/coiled-resources/local/csv/output-103',\n",
       " '/Users/powers/Documents/code/coiled/coiled-resources/local/csv/output-104',\n",
       " '/Users/powers/Documents/code/coiled/coiled-resources/local/csv/output-105',\n",
       " '/Users/powers/Documents/code/coiled/coiled-resources/local/csv/output-106',\n",
       " '/Users/powers/Documents/code/coiled/coiled-resources/local/csv/output-107',\n",
       " '/Users/powers/Documents/code/coiled/coiled-resources/local/csv/output-108',\n",
       " '/Users/powers/Documents/code/coiled/coiled-resources/local/csv/output-109',\n",
       " '/Users/powers/Documents/code/coiled/coiled-resources/local/csv/output-110',\n",
       " '/Users/powers/Documents/code/coiled/coiled-resources/local/csv/output-111',\n",
       " '/Users/powers/Documents/code/coiled/coiled-resources/local/csv/output-112',\n",
       " '/Users/powers/Documents/code/coiled/coiled-resources/local/csv/output-113',\n",
       " '/Users/powers/Documents/code/coiled/coiled-resources/local/csv/output-114',\n",
       " '/Users/powers/Documents/code/coiled/coiled-resources/local/csv/output-115',\n",
       " '/Users/powers/Documents/code/coiled/coiled-resources/local/csv/output-116',\n",
       " '/Users/powers/Documents/code/coiled/coiled-resources/local/csv/output-117',\n",
       " '/Users/powers/Documents/code/coiled/coiled-resources/local/csv/output-118',\n",
       " '/Users/powers/Documents/code/coiled/coiled-resources/local/csv/output-119',\n",
       " '/Users/powers/Documents/code/coiled/coiled-resources/local/csv/output-120',\n",
       " '/Users/powers/Documents/code/coiled/coiled-resources/local/csv/output-121',\n",
       " '/Users/powers/Documents/code/coiled/coiled-resources/local/csv/output-122',\n",
       " '/Users/powers/Documents/code/coiled/coiled-resources/local/csv/output-123',\n",
       " '/Users/powers/Documents/code/coiled/coiled-resources/local/csv/output-124',\n",
       " '/Users/powers/Documents/code/coiled/coiled-resources/local/csv/output-125',\n",
       " '/Users/powers/Documents/code/coiled/coiled-resources/local/csv/output-126',\n",
       " '/Users/powers/Documents/code/coiled/coiled-resources/local/csv/output-127',\n",
       " '/Users/powers/Documents/code/coiled/coiled-resources/local/csv/output-128',\n",
       " '/Users/powers/Documents/code/coiled/coiled-resources/local/csv/output-129',\n",
       " '/Users/powers/Documents/code/coiled/coiled-resources/local/csv/output-130',\n",
       " '/Users/powers/Documents/code/coiled/coiled-resources/local/csv/output-131',\n",
       " '/Users/powers/Documents/code/coiled/coiled-resources/local/csv/output-132',\n",
       " '/Users/powers/Documents/code/coiled/coiled-resources/local/csv/output-133',\n",
       " '/Users/powers/Documents/code/coiled/coiled-resources/local/csv/output-134',\n",
       " '/Users/powers/Documents/code/coiled/coiled-resources/local/csv/output-135',\n",
       " '/Users/powers/Documents/code/coiled/coiled-resources/local/csv/output-136',\n",
       " '/Users/powers/Documents/code/coiled/coiled-resources/local/csv/output-137',\n",
       " '/Users/powers/Documents/code/coiled/coiled-resources/local/csv/output-138',\n",
       " '/Users/powers/Documents/code/coiled/coiled-resources/local/csv/output-139',\n",
       " '/Users/powers/Documents/code/coiled/coiled-resources/local/csv/output-140',\n",
       " '/Users/powers/Documents/code/coiled/coiled-resources/local/csv/output-141',\n",
       " '/Users/powers/Documents/code/coiled/coiled-resources/local/csv/output-142',\n",
       " '/Users/powers/Documents/code/coiled/coiled-resources/local/csv/output-143',\n",
       " '/Users/powers/Documents/code/coiled/coiled-resources/local/csv/output-144',\n",
       " '/Users/powers/Documents/code/coiled/coiled-resources/local/csv/output-145',\n",
       " '/Users/powers/Documents/code/coiled/coiled-resources/local/csv/output-146',\n",
       " '/Users/powers/Documents/code/coiled/coiled-resources/local/csv/output-147',\n",
       " '/Users/powers/Documents/code/coiled/coiled-resources/local/csv/output-148',\n",
       " '/Users/powers/Documents/code/coiled/coiled-resources/local/csv/output-149',\n",
       " '/Users/powers/Documents/code/coiled/coiled-resources/local/csv/output-150',\n",
       " '/Users/powers/Documents/code/coiled/coiled-resources/local/csv/output-151',\n",
       " '/Users/powers/Documents/code/coiled/coiled-resources/local/csv/output-152',\n",
       " '/Users/powers/Documents/code/coiled/coiled-resources/local/csv/output-153',\n",
       " '/Users/powers/Documents/code/coiled/coiled-resources/local/csv/output-154',\n",
       " '/Users/powers/Documents/code/coiled/coiled-resources/local/csv/output-155',\n",
       " '/Users/powers/Documents/code/coiled/coiled-resources/local/csv/output-156',\n",
       " '/Users/powers/Documents/code/coiled/coiled-resources/local/csv/output-157',\n",
       " '/Users/powers/Documents/code/coiled/coiled-resources/local/csv/output-158',\n",
       " '/Users/powers/Documents/code/coiled/coiled-resources/local/csv/output-159',\n",
       " '/Users/powers/Documents/code/coiled/coiled-resources/local/csv/output-160',\n",
       " '/Users/powers/Documents/code/coiled/coiled-resources/local/csv/output-161',\n",
       " '/Users/powers/Documents/code/coiled/coiled-resources/local/csv/output-162',\n",
       " '/Users/powers/Documents/code/coiled/coiled-resources/local/csv/output-163',\n",
       " '/Users/powers/Documents/code/coiled/coiled-resources/local/csv/output-164',\n",
       " '/Users/powers/Documents/code/coiled/coiled-resources/local/csv/output-165',\n",
       " '/Users/powers/Documents/code/coiled/coiled-resources/local/csv/output-166',\n",
       " '/Users/powers/Documents/code/coiled/coiled-resources/local/csv/output-167',\n",
       " '/Users/powers/Documents/code/coiled/coiled-resources/local/csv/output-168',\n",
       " '/Users/powers/Documents/code/coiled/coiled-resources/local/csv/output-169',\n",
       " '/Users/powers/Documents/code/coiled/coiled-resources/local/csv/output-170',\n",
       " '/Users/powers/Documents/code/coiled/coiled-resources/local/csv/output-171',\n",
       " '/Users/powers/Documents/code/coiled/coiled-resources/local/csv/output-172',\n",
       " '/Users/powers/Documents/code/coiled/coiled-resources/local/csv/output-173',\n",
       " '/Users/powers/Documents/code/coiled/coiled-resources/local/csv/output-174',\n",
       " '/Users/powers/Documents/code/coiled/coiled-resources/local/csv/output-175',\n",
       " '/Users/powers/Documents/code/coiled/coiled-resources/local/csv/output-176',\n",
       " '/Users/powers/Documents/code/coiled/coiled-resources/local/csv/output-177',\n",
       " '/Users/powers/Documents/code/coiled/coiled-resources/local/csv/output-178',\n",
       " '/Users/powers/Documents/code/coiled/coiled-resources/local/csv/output-179',\n",
       " '/Users/powers/Documents/code/coiled/coiled-resources/local/csv/output-180',\n",
       " '/Users/powers/Documents/code/coiled/coiled-resources/local/csv/output-181',\n",
       " '/Users/powers/Documents/code/coiled/coiled-resources/local/csv/output-182',\n",
       " '/Users/powers/Documents/code/coiled/coiled-resources/local/csv/output-183',\n",
       " '/Users/powers/Documents/code/coiled/coiled-resources/local/csv/output-184',\n",
       " '/Users/powers/Documents/code/coiled/coiled-resources/local/csv/output-185',\n",
       " '/Users/powers/Documents/code/coiled/coiled-resources/local/csv/output-186',\n",
       " '/Users/powers/Documents/code/coiled/coiled-resources/local/csv/output-187',\n",
       " '/Users/powers/Documents/code/coiled/coiled-resources/local/csv/output-188',\n",
       " '/Users/powers/Documents/code/coiled/coiled-resources/local/csv/output-189',\n",
       " '/Users/powers/Documents/code/coiled/coiled-resources/local/csv/output-190',\n",
       " '/Users/powers/Documents/code/coiled/coiled-resources/local/csv/output-191',\n",
       " '/Users/powers/Documents/code/coiled/coiled-resources/local/csv/output-192',\n",
       " '/Users/powers/Documents/code/coiled/coiled-resources/local/csv/output-193',\n",
       " '/Users/powers/Documents/code/coiled/coiled-resources/local/csv/output-194',\n",
       " '/Users/powers/Documents/code/coiled/coiled-resources/local/csv/output-195',\n",
       " '/Users/powers/Documents/code/coiled/coiled-resources/local/csv/output-196',\n",
       " '/Users/powers/Documents/code/coiled/coiled-resources/local/csv/output-197',\n",
       " '/Users/powers/Documents/code/coiled/coiled-resources/local/csv/output-198',\n",
       " '/Users/powers/Documents/code/coiled/coiled-resources/local/csv/output-199',\n",
       " '/Users/powers/Documents/code/coiled/coiled-resources/local/csv/output-200',\n",
       " '/Users/powers/Documents/code/coiled/coiled-resources/local/csv/output-201',\n",
       " '/Users/powers/Documents/code/coiled/coiled-resources/local/csv/output-202',\n",
       " '/Users/powers/Documents/code/coiled/coiled-resources/local/csv/output-203',\n",
       " '/Users/powers/Documents/code/coiled/coiled-resources/local/csv/output-204',\n",
       " '/Users/powers/Documents/code/coiled/coiled-resources/local/csv/output-205',\n",
       " '/Users/powers/Documents/code/coiled/coiled-resources/local/csv/output-206',\n",
       " '/Users/powers/Documents/code/coiled/coiled-resources/local/csv/output-207',\n",
       " '/Users/powers/Documents/code/coiled/coiled-resources/local/csv/output-208',\n",
       " '/Users/powers/Documents/code/coiled/coiled-resources/local/csv/output-209',\n",
       " '/Users/powers/Documents/code/coiled/coiled-resources/local/csv/output-210',\n",
       " '/Users/powers/Documents/code/coiled/coiled-resources/local/csv/output-211',\n",
       " '/Users/powers/Documents/code/coiled/coiled-resources/local/csv/output-212',\n",
       " '/Users/powers/Documents/code/coiled/coiled-resources/local/csv/output-213',\n",
       " '/Users/powers/Documents/code/coiled/coiled-resources/local/csv/output-214',\n",
       " '/Users/powers/Documents/code/coiled/coiled-resources/local/csv/output-215',\n",
       " '/Users/powers/Documents/code/coiled/coiled-resources/local/csv/output-216',\n",
       " '/Users/powers/Documents/code/coiled/coiled-resources/local/csv/output-217',\n",
       " '/Users/powers/Documents/code/coiled/coiled-resources/local/csv/output-218',\n",
       " '/Users/powers/Documents/code/coiled/coiled-resources/local/csv/output-219',\n",
       " '/Users/powers/Documents/code/coiled/coiled-resources/local/csv/output-220',\n",
       " '/Users/powers/Documents/code/coiled/coiled-resources/local/csv/output-221',\n",
       " '/Users/powers/Documents/code/coiled/coiled-resources/local/csv/output-222',\n",
       " '/Users/powers/Documents/code/coiled/coiled-resources/local/csv/output-223',\n",
       " '/Users/powers/Documents/code/coiled/coiled-resources/local/csv/output-224',\n",
       " '/Users/powers/Documents/code/coiled/coiled-resources/local/csv/output-225',\n",
       " '/Users/powers/Documents/code/coiled/coiled-resources/local/csv/output-226',\n",
       " '/Users/powers/Documents/code/coiled/coiled-resources/local/csv/output-227',\n",
       " '/Users/powers/Documents/code/coiled/coiled-resources/local/csv/output-228',\n",
       " '/Users/powers/Documents/code/coiled/coiled-resources/local/csv/output-229',\n",
       " '/Users/powers/Documents/code/coiled/coiled-resources/local/csv/output-230',\n",
       " '/Users/powers/Documents/code/coiled/coiled-resources/local/csv/output-231',\n",
       " '/Users/powers/Documents/code/coiled/coiled-resources/local/csv/output-232',\n",
       " '/Users/powers/Documents/code/coiled/coiled-resources/local/csv/output-233',\n",
       " '/Users/powers/Documents/code/coiled/coiled-resources/local/csv/output-234',\n",
       " '/Users/powers/Documents/code/coiled/coiled-resources/local/csv/output-235',\n",
       " '/Users/powers/Documents/code/coiled/coiled-resources/local/csv/output-236',\n",
       " '/Users/powers/Documents/code/coiled/coiled-resources/local/csv/output-237',\n",
       " '/Users/powers/Documents/code/coiled/coiled-resources/local/csv/output-238',\n",
       " '/Users/powers/Documents/code/coiled/coiled-resources/local/csv/output-239',\n",
       " '/Users/powers/Documents/code/coiled/coiled-resources/local/csv/output-240',\n",
       " '/Users/powers/Documents/code/coiled/coiled-resources/local/csv/output-241',\n",
       " '/Users/powers/Documents/code/coiled/coiled-resources/local/csv/output-242',\n",
       " '/Users/powers/Documents/code/coiled/coiled-resources/local/csv/output-243',\n",
       " '/Users/powers/Documents/code/coiled/coiled-resources/local/csv/output-244',\n",
       " '/Users/powers/Documents/code/coiled/coiled-resources/local/csv/output-245',\n",
       " '/Users/powers/Documents/code/coiled/coiled-resources/local/csv/output-246',\n",
       " '/Users/powers/Documents/code/coiled/coiled-resources/local/csv/output-247',\n",
       " '/Users/powers/Documents/code/coiled/coiled-resources/local/csv/output-248',\n",
       " '/Users/powers/Documents/code/coiled/coiled-resources/local/csv/output-249',\n",
       " '/Users/powers/Documents/code/coiled/coiled-resources/local/csv/output-250',\n",
       " '/Users/powers/Documents/code/coiled/coiled-resources/local/csv/output-251',\n",
       " '/Users/powers/Documents/code/coiled/coiled-resources/local/csv/output-252',\n",
       " '/Users/powers/Documents/code/coiled/coiled-resources/local/csv/output-253',\n",
       " '/Users/powers/Documents/code/coiled/coiled-resources/local/csv/output-254',\n",
       " '/Users/powers/Documents/code/coiled/coiled-resources/local/csv/output-255',\n",
       " '/Users/powers/Documents/code/coiled/coiled-resources/local/csv/output-256',\n",
       " '/Users/powers/Documents/code/coiled/coiled-resources/local/csv/output-257',\n",
       " '/Users/powers/Documents/code/coiled/coiled-resources/local/csv/output-258',\n",
       " '/Users/powers/Documents/code/coiled/coiled-resources/local/csv/output-259',\n",
       " '/Users/powers/Documents/code/coiled/coiled-resources/local/csv/output-260',\n",
       " '/Users/powers/Documents/code/coiled/coiled-resources/local/csv/output-261',\n",
       " '/Users/powers/Documents/code/coiled/coiled-resources/local/csv/output-262',\n",
       " '/Users/powers/Documents/code/coiled/coiled-resources/local/csv/output-263',\n",
       " '/Users/powers/Documents/code/coiled/coiled-resources/local/csv/output-264',\n",
       " '/Users/powers/Documents/code/coiled/coiled-resources/local/csv/output-265',\n",
       " '/Users/powers/Documents/code/coiled/coiled-resources/local/csv/output-266',\n",
       " '/Users/powers/Documents/code/coiled/coiled-resources/local/csv/output-267',\n",
       " '/Users/powers/Documents/code/coiled/coiled-resources/local/csv/output-268',\n",
       " '/Users/powers/Documents/code/coiled/coiled-resources/local/csv/output-269',\n",
       " '/Users/powers/Documents/code/coiled/coiled-resources/local/csv/output-270',\n",
       " '/Users/powers/Documents/code/coiled/coiled-resources/local/csv/output-271',\n",
       " '/Users/powers/Documents/code/coiled/coiled-resources/local/csv/output-272',\n",
       " '/Users/powers/Documents/code/coiled/coiled-resources/local/csv/output-273',\n",
       " '/Users/powers/Documents/code/coiled/coiled-resources/local/csv/output-274',\n",
       " '/Users/powers/Documents/code/coiled/coiled-resources/local/csv/output-275',\n",
       " '/Users/powers/Documents/code/coiled/coiled-resources/local/csv/output-276',\n",
       " '/Users/powers/Documents/code/coiled/coiled-resources/local/csv/output-277',\n",
       " '/Users/powers/Documents/code/coiled/coiled-resources/local/csv/output-278',\n",
       " '/Users/powers/Documents/code/coiled/coiled-resources/local/csv/output-279',\n",
       " '/Users/powers/Documents/code/coiled/coiled-resources/local/csv/output-280',\n",
       " '/Users/powers/Documents/code/coiled/coiled-resources/local/csv/output-281',\n",
       " '/Users/powers/Documents/code/coiled/coiled-resources/local/csv/output-282',\n",
       " '/Users/powers/Documents/code/coiled/coiled-resources/local/csv/output-283',\n",
       " '/Users/powers/Documents/code/coiled/coiled-resources/local/csv/output-284',\n",
       " '/Users/powers/Documents/code/coiled/coiled-resources/local/csv/output-285',\n",
       " '/Users/powers/Documents/code/coiled/coiled-resources/local/csv/output-286',\n",
       " '/Users/powers/Documents/code/coiled/coiled-resources/local/csv/output-287',\n",
       " '/Users/powers/Documents/code/coiled/coiled-resources/local/csv/output-288',\n",
       " '/Users/powers/Documents/code/coiled/coiled-resources/local/csv/output-289',\n",
       " '/Users/powers/Documents/code/coiled/coiled-resources/local/csv/output-290',\n",
       " '/Users/powers/Documents/code/coiled/coiled-resources/local/csv/output-291',\n",
       " '/Users/powers/Documents/code/coiled/coiled-resources/local/csv/output-292',\n",
       " '/Users/powers/Documents/code/coiled/coiled-resources/local/csv/output-293',\n",
       " '/Users/powers/Documents/code/coiled/coiled-resources/local/csv/output-294',\n",
       " '/Users/powers/Documents/code/coiled/coiled-resources/local/csv/output-295',\n",
       " '/Users/powers/Documents/code/coiled/coiled-resources/local/csv/output-296',\n",
       " '/Users/powers/Documents/code/coiled/coiled-resources/local/csv/output-297',\n",
       " '/Users/powers/Documents/code/coiled/coiled-resources/local/csv/output-298',\n",
       " '/Users/powers/Documents/code/coiled/coiled-resources/local/csv/output-299',\n",
       " '/Users/powers/Documents/code/coiled/coiled-resources/local/csv/output-300',\n",
       " '/Users/powers/Documents/code/coiled/coiled-resources/local/csv/output-301',\n",
       " '/Users/powers/Documents/code/coiled/coiled-resources/local/csv/output-302',\n",
       " '/Users/powers/Documents/code/coiled/coiled-resources/local/csv/output-303',\n",
       " '/Users/powers/Documents/code/coiled/coiled-resources/local/csv/output-304',\n",
       " '/Users/powers/Documents/code/coiled/coiled-resources/local/csv/output-305',\n",
       " '/Users/powers/Documents/code/coiled/coiled-resources/local/csv/output-306',\n",
       " '/Users/powers/Documents/code/coiled/coiled-resources/local/csv/output-307',\n",
       " '/Users/powers/Documents/code/coiled/coiled-resources/local/csv/output-308',\n",
       " '/Users/powers/Documents/code/coiled/coiled-resources/local/csv/output-309',\n",
       " '/Users/powers/Documents/code/coiled/coiled-resources/local/csv/output-310',\n",
       " '/Users/powers/Documents/code/coiled/coiled-resources/local/csv/output-311',\n",
       " '/Users/powers/Documents/code/coiled/coiled-resources/local/csv/output-312']"
      ]
     },
     "execution_count": 9,
     "metadata": {},
     "output_type": "execute_result"
    }
   ],
   "source": [
    "%%time\n",
    "ddf.to_csv(\"csv/output-*\", compression=\"gzip\")"
   ]
  },
  {
   "cell_type": "code",
   "execution_count": 8,
   "id": "2715cd3e-dac4-4ab6-8dfc-655af8518023",
   "metadata": {
    "collapsed": true,
    "jupyter": {
     "outputs_hidden": true
    },
    "tags": []
   },
   "outputs": [
    {
     "name": "stdout",
     "output_type": "stream",
     "text": [
      "CPU times: user 3min 19s, sys: 12.2 s, total: 3min 31s\n",
      "Wall time: 3min 23s\n"
     ]
    },
    {
     "data": {
      "text/plain": [
       "['hdf/output-000.hdf',\n",
       " 'hdf/output-001.hdf',\n",
       " 'hdf/output-002.hdf',\n",
       " 'hdf/output-003.hdf',\n",
       " 'hdf/output-004.hdf',\n",
       " 'hdf/output-005.hdf',\n",
       " 'hdf/output-006.hdf',\n",
       " 'hdf/output-007.hdf',\n",
       " 'hdf/output-008.hdf',\n",
       " 'hdf/output-009.hdf',\n",
       " 'hdf/output-010.hdf',\n",
       " 'hdf/output-011.hdf',\n",
       " 'hdf/output-012.hdf',\n",
       " 'hdf/output-013.hdf',\n",
       " 'hdf/output-014.hdf',\n",
       " 'hdf/output-015.hdf',\n",
       " 'hdf/output-016.hdf',\n",
       " 'hdf/output-017.hdf',\n",
       " 'hdf/output-018.hdf',\n",
       " 'hdf/output-019.hdf',\n",
       " 'hdf/output-020.hdf',\n",
       " 'hdf/output-021.hdf',\n",
       " 'hdf/output-022.hdf',\n",
       " 'hdf/output-023.hdf',\n",
       " 'hdf/output-024.hdf',\n",
       " 'hdf/output-025.hdf',\n",
       " 'hdf/output-026.hdf',\n",
       " 'hdf/output-027.hdf',\n",
       " 'hdf/output-028.hdf',\n",
       " 'hdf/output-029.hdf',\n",
       " 'hdf/output-030.hdf',\n",
       " 'hdf/output-031.hdf',\n",
       " 'hdf/output-032.hdf',\n",
       " 'hdf/output-033.hdf',\n",
       " 'hdf/output-034.hdf',\n",
       " 'hdf/output-035.hdf',\n",
       " 'hdf/output-036.hdf',\n",
       " 'hdf/output-037.hdf',\n",
       " 'hdf/output-038.hdf',\n",
       " 'hdf/output-039.hdf',\n",
       " 'hdf/output-040.hdf',\n",
       " 'hdf/output-041.hdf',\n",
       " 'hdf/output-042.hdf',\n",
       " 'hdf/output-043.hdf',\n",
       " 'hdf/output-044.hdf',\n",
       " 'hdf/output-045.hdf',\n",
       " 'hdf/output-046.hdf',\n",
       " 'hdf/output-047.hdf',\n",
       " 'hdf/output-048.hdf',\n",
       " 'hdf/output-049.hdf',\n",
       " 'hdf/output-050.hdf',\n",
       " 'hdf/output-051.hdf',\n",
       " 'hdf/output-052.hdf',\n",
       " 'hdf/output-053.hdf',\n",
       " 'hdf/output-054.hdf',\n",
       " 'hdf/output-055.hdf',\n",
       " 'hdf/output-056.hdf',\n",
       " 'hdf/output-057.hdf',\n",
       " 'hdf/output-058.hdf',\n",
       " 'hdf/output-059.hdf',\n",
       " 'hdf/output-060.hdf',\n",
       " 'hdf/output-061.hdf',\n",
       " 'hdf/output-062.hdf',\n",
       " 'hdf/output-063.hdf',\n",
       " 'hdf/output-064.hdf',\n",
       " 'hdf/output-065.hdf',\n",
       " 'hdf/output-066.hdf',\n",
       " 'hdf/output-067.hdf',\n",
       " 'hdf/output-068.hdf',\n",
       " 'hdf/output-069.hdf',\n",
       " 'hdf/output-070.hdf',\n",
       " 'hdf/output-071.hdf',\n",
       " 'hdf/output-072.hdf',\n",
       " 'hdf/output-073.hdf',\n",
       " 'hdf/output-074.hdf',\n",
       " 'hdf/output-075.hdf',\n",
       " 'hdf/output-076.hdf',\n",
       " 'hdf/output-077.hdf',\n",
       " 'hdf/output-078.hdf',\n",
       " 'hdf/output-079.hdf',\n",
       " 'hdf/output-080.hdf',\n",
       " 'hdf/output-081.hdf',\n",
       " 'hdf/output-082.hdf',\n",
       " 'hdf/output-083.hdf',\n",
       " 'hdf/output-084.hdf',\n",
       " 'hdf/output-085.hdf',\n",
       " 'hdf/output-086.hdf',\n",
       " 'hdf/output-087.hdf',\n",
       " 'hdf/output-088.hdf',\n",
       " 'hdf/output-089.hdf',\n",
       " 'hdf/output-090.hdf',\n",
       " 'hdf/output-091.hdf',\n",
       " 'hdf/output-092.hdf',\n",
       " 'hdf/output-093.hdf',\n",
       " 'hdf/output-094.hdf',\n",
       " 'hdf/output-095.hdf',\n",
       " 'hdf/output-096.hdf',\n",
       " 'hdf/output-097.hdf',\n",
       " 'hdf/output-098.hdf',\n",
       " 'hdf/output-099.hdf',\n",
       " 'hdf/output-100.hdf',\n",
       " 'hdf/output-101.hdf',\n",
       " 'hdf/output-102.hdf',\n",
       " 'hdf/output-103.hdf',\n",
       " 'hdf/output-104.hdf',\n",
       " 'hdf/output-105.hdf',\n",
       " 'hdf/output-106.hdf',\n",
       " 'hdf/output-107.hdf',\n",
       " 'hdf/output-108.hdf',\n",
       " 'hdf/output-109.hdf',\n",
       " 'hdf/output-110.hdf',\n",
       " 'hdf/output-111.hdf',\n",
       " 'hdf/output-112.hdf',\n",
       " 'hdf/output-113.hdf',\n",
       " 'hdf/output-114.hdf',\n",
       " 'hdf/output-115.hdf',\n",
       " 'hdf/output-116.hdf',\n",
       " 'hdf/output-117.hdf',\n",
       " 'hdf/output-118.hdf',\n",
       " 'hdf/output-119.hdf',\n",
       " 'hdf/output-120.hdf',\n",
       " 'hdf/output-121.hdf',\n",
       " 'hdf/output-122.hdf',\n",
       " 'hdf/output-123.hdf',\n",
       " 'hdf/output-124.hdf',\n",
       " 'hdf/output-125.hdf',\n",
       " 'hdf/output-126.hdf',\n",
       " 'hdf/output-127.hdf',\n",
       " 'hdf/output-128.hdf',\n",
       " 'hdf/output-129.hdf',\n",
       " 'hdf/output-130.hdf',\n",
       " 'hdf/output-131.hdf',\n",
       " 'hdf/output-132.hdf',\n",
       " 'hdf/output-133.hdf',\n",
       " 'hdf/output-134.hdf',\n",
       " 'hdf/output-135.hdf',\n",
       " 'hdf/output-136.hdf',\n",
       " 'hdf/output-137.hdf',\n",
       " 'hdf/output-138.hdf',\n",
       " 'hdf/output-139.hdf',\n",
       " 'hdf/output-140.hdf',\n",
       " 'hdf/output-141.hdf',\n",
       " 'hdf/output-142.hdf',\n",
       " 'hdf/output-143.hdf',\n",
       " 'hdf/output-144.hdf',\n",
       " 'hdf/output-145.hdf',\n",
       " 'hdf/output-146.hdf',\n",
       " 'hdf/output-147.hdf',\n",
       " 'hdf/output-148.hdf',\n",
       " 'hdf/output-149.hdf',\n",
       " 'hdf/output-150.hdf',\n",
       " 'hdf/output-151.hdf',\n",
       " 'hdf/output-152.hdf',\n",
       " 'hdf/output-153.hdf',\n",
       " 'hdf/output-154.hdf',\n",
       " 'hdf/output-155.hdf',\n",
       " 'hdf/output-156.hdf',\n",
       " 'hdf/output-157.hdf',\n",
       " 'hdf/output-158.hdf',\n",
       " 'hdf/output-159.hdf',\n",
       " 'hdf/output-160.hdf',\n",
       " 'hdf/output-161.hdf',\n",
       " 'hdf/output-162.hdf',\n",
       " 'hdf/output-163.hdf',\n",
       " 'hdf/output-164.hdf',\n",
       " 'hdf/output-165.hdf',\n",
       " 'hdf/output-166.hdf',\n",
       " 'hdf/output-167.hdf',\n",
       " 'hdf/output-168.hdf',\n",
       " 'hdf/output-169.hdf',\n",
       " 'hdf/output-170.hdf',\n",
       " 'hdf/output-171.hdf',\n",
       " 'hdf/output-172.hdf',\n",
       " 'hdf/output-173.hdf',\n",
       " 'hdf/output-174.hdf',\n",
       " 'hdf/output-175.hdf',\n",
       " 'hdf/output-176.hdf',\n",
       " 'hdf/output-177.hdf',\n",
       " 'hdf/output-178.hdf',\n",
       " 'hdf/output-179.hdf',\n",
       " 'hdf/output-180.hdf',\n",
       " 'hdf/output-181.hdf',\n",
       " 'hdf/output-182.hdf',\n",
       " 'hdf/output-183.hdf',\n",
       " 'hdf/output-184.hdf',\n",
       " 'hdf/output-185.hdf',\n",
       " 'hdf/output-186.hdf',\n",
       " 'hdf/output-187.hdf',\n",
       " 'hdf/output-188.hdf',\n",
       " 'hdf/output-189.hdf',\n",
       " 'hdf/output-190.hdf',\n",
       " 'hdf/output-191.hdf',\n",
       " 'hdf/output-192.hdf',\n",
       " 'hdf/output-193.hdf',\n",
       " 'hdf/output-194.hdf',\n",
       " 'hdf/output-195.hdf',\n",
       " 'hdf/output-196.hdf',\n",
       " 'hdf/output-197.hdf',\n",
       " 'hdf/output-198.hdf',\n",
       " 'hdf/output-199.hdf',\n",
       " 'hdf/output-200.hdf',\n",
       " 'hdf/output-201.hdf',\n",
       " 'hdf/output-202.hdf',\n",
       " 'hdf/output-203.hdf',\n",
       " 'hdf/output-204.hdf',\n",
       " 'hdf/output-205.hdf',\n",
       " 'hdf/output-206.hdf',\n",
       " 'hdf/output-207.hdf',\n",
       " 'hdf/output-208.hdf',\n",
       " 'hdf/output-209.hdf',\n",
       " 'hdf/output-210.hdf',\n",
       " 'hdf/output-211.hdf',\n",
       " 'hdf/output-212.hdf',\n",
       " 'hdf/output-213.hdf',\n",
       " 'hdf/output-214.hdf',\n",
       " 'hdf/output-215.hdf',\n",
       " 'hdf/output-216.hdf',\n",
       " 'hdf/output-217.hdf',\n",
       " 'hdf/output-218.hdf',\n",
       " 'hdf/output-219.hdf',\n",
       " 'hdf/output-220.hdf',\n",
       " 'hdf/output-221.hdf',\n",
       " 'hdf/output-222.hdf',\n",
       " 'hdf/output-223.hdf',\n",
       " 'hdf/output-224.hdf',\n",
       " 'hdf/output-225.hdf',\n",
       " 'hdf/output-226.hdf',\n",
       " 'hdf/output-227.hdf',\n",
       " 'hdf/output-228.hdf',\n",
       " 'hdf/output-229.hdf',\n",
       " 'hdf/output-230.hdf',\n",
       " 'hdf/output-231.hdf',\n",
       " 'hdf/output-232.hdf',\n",
       " 'hdf/output-233.hdf',\n",
       " 'hdf/output-234.hdf',\n",
       " 'hdf/output-235.hdf',\n",
       " 'hdf/output-236.hdf',\n",
       " 'hdf/output-237.hdf',\n",
       " 'hdf/output-238.hdf',\n",
       " 'hdf/output-239.hdf',\n",
       " 'hdf/output-240.hdf',\n",
       " 'hdf/output-241.hdf',\n",
       " 'hdf/output-242.hdf',\n",
       " 'hdf/output-243.hdf',\n",
       " 'hdf/output-244.hdf',\n",
       " 'hdf/output-245.hdf',\n",
       " 'hdf/output-246.hdf',\n",
       " 'hdf/output-247.hdf',\n",
       " 'hdf/output-248.hdf',\n",
       " 'hdf/output-249.hdf',\n",
       " 'hdf/output-250.hdf',\n",
       " 'hdf/output-251.hdf',\n",
       " 'hdf/output-252.hdf',\n",
       " 'hdf/output-253.hdf',\n",
       " 'hdf/output-254.hdf',\n",
       " 'hdf/output-255.hdf',\n",
       " 'hdf/output-256.hdf',\n",
       " 'hdf/output-257.hdf',\n",
       " 'hdf/output-258.hdf',\n",
       " 'hdf/output-259.hdf',\n",
       " 'hdf/output-260.hdf',\n",
       " 'hdf/output-261.hdf',\n",
       " 'hdf/output-262.hdf',\n",
       " 'hdf/output-263.hdf',\n",
       " 'hdf/output-264.hdf',\n",
       " 'hdf/output-265.hdf',\n",
       " 'hdf/output-266.hdf',\n",
       " 'hdf/output-267.hdf',\n",
       " 'hdf/output-268.hdf',\n",
       " 'hdf/output-269.hdf',\n",
       " 'hdf/output-270.hdf',\n",
       " 'hdf/output-271.hdf',\n",
       " 'hdf/output-272.hdf',\n",
       " 'hdf/output-273.hdf',\n",
       " 'hdf/output-274.hdf',\n",
       " 'hdf/output-275.hdf',\n",
       " 'hdf/output-276.hdf',\n",
       " 'hdf/output-277.hdf',\n",
       " 'hdf/output-278.hdf',\n",
       " 'hdf/output-279.hdf',\n",
       " 'hdf/output-280.hdf',\n",
       " 'hdf/output-281.hdf',\n",
       " 'hdf/output-282.hdf',\n",
       " 'hdf/output-283.hdf',\n",
       " 'hdf/output-284.hdf',\n",
       " 'hdf/output-285.hdf',\n",
       " 'hdf/output-286.hdf',\n",
       " 'hdf/output-287.hdf',\n",
       " 'hdf/output-288.hdf',\n",
       " 'hdf/output-289.hdf',\n",
       " 'hdf/output-290.hdf',\n",
       " 'hdf/output-291.hdf',\n",
       " 'hdf/output-292.hdf',\n",
       " 'hdf/output-293.hdf',\n",
       " 'hdf/output-294.hdf',\n",
       " 'hdf/output-295.hdf',\n",
       " 'hdf/output-296.hdf',\n",
       " 'hdf/output-297.hdf',\n",
       " 'hdf/output-298.hdf',\n",
       " 'hdf/output-299.hdf',\n",
       " 'hdf/output-300.hdf',\n",
       " 'hdf/output-301.hdf',\n",
       " 'hdf/output-302.hdf',\n",
       " 'hdf/output-303.hdf',\n",
       " 'hdf/output-304.hdf',\n",
       " 'hdf/output-305.hdf',\n",
       " 'hdf/output-306.hdf',\n",
       " 'hdf/output-307.hdf',\n",
       " 'hdf/output-308.hdf',\n",
       " 'hdf/output-309.hdf',\n",
       " 'hdf/output-310.hdf',\n",
       " 'hdf/output-311.hdf',\n",
       " 'hdf/output-312.hdf']"
      ]
     },
     "execution_count": 8,
     "metadata": {},
     "output_type": "execute_result"
    }
   ],
   "source": [
    "%%time\n",
    "ddf.to_hdf(\"hdf/output-*.hdf\", \"/data1\")"
   ]
  },
  {
   "cell_type": "code",
   "execution_count": 21,
   "id": "f76b2427-70eb-4232-b808-3f051f8f8eca",
   "metadata": {},
   "outputs": [
    {
     "name": "stdout",
     "output_type": "stream",
     "text": [
      "CPU times: user 1min 28s, sys: 6.06 s, total: 1min 34s\n",
      "Wall time: 38.2 s\n"
     ]
    },
    {
     "data": {
      "text/plain": [
       "(None,)"
      ]
     },
     "execution_count": 21,
     "metadata": {},
     "output_type": "execute_result"
    }
   ],
   "source": [
    "%%time\n",
    "ddf.to_parquet(\"parquet\", engine=\"pyarrow\", compression=\"snappy\")"
   ]
  },
  {
   "cell_type": "markdown",
   "id": "39561b52-c568-4b88-9390-7026d4e9e486",
   "metadata": {},
   "source": [
    "## Read medium sized dataset & run query"
   ]
  },
  {
   "cell_type": "code",
   "execution_count": 3,
   "id": "b2cb5c04-fe09-4700-bedd-1dda16b913e6",
   "metadata": {},
   "outputs": [],
   "source": [
    "ddf = dd.read_hdf(\"hdf/output-*.hdf\", \"/data1\")"
   ]
  },
  {
   "cell_type": "code",
   "execution_count": 4,
   "id": "05005704-d66f-4900-a742-a312098033c0",
   "metadata": {},
   "outputs": [
    {
     "data": {
      "text/html": [
       "<div>\n",
       "<style scoped>\n",
       "    .dataframe tbody tr th:only-of-type {\n",
       "        vertical-align: middle;\n",
       "    }\n",
       "\n",
       "    .dataframe tbody tr th {\n",
       "        vertical-align: top;\n",
       "    }\n",
       "\n",
       "    .dataframe thead th {\n",
       "        text-align: right;\n",
       "    }\n",
       "</style>\n",
       "<table border=\"1\" class=\"dataframe\">\n",
       "  <thead>\n",
       "    <tr style=\"text-align: right;\">\n",
       "      <th></th>\n",
       "      <th>id</th>\n",
       "      <th>name</th>\n",
       "      <th>x</th>\n",
       "      <th>y</th>\n",
       "    </tr>\n",
       "    <tr>\n",
       "      <th>timestamp</th>\n",
       "      <th></th>\n",
       "      <th></th>\n",
       "      <th></th>\n",
       "      <th></th>\n",
       "    </tr>\n",
       "  </thead>\n",
       "  <tbody>\n",
       "    <tr>\n",
       "      <th>2015-01-01 00:00:00</th>\n",
       "      <td>1008</td>\n",
       "      <td>Dan</td>\n",
       "      <td>-0.259374</td>\n",
       "      <td>-0.118314</td>\n",
       "    </tr>\n",
       "    <tr>\n",
       "      <th>2015-01-01 00:00:01</th>\n",
       "      <td>987</td>\n",
       "      <td>Patricia</td>\n",
       "      <td>0.069601</td>\n",
       "      <td>0.755351</td>\n",
       "    </tr>\n",
       "    <tr>\n",
       "      <th>2015-01-01 00:00:02</th>\n",
       "      <td>980</td>\n",
       "      <td>Zelda</td>\n",
       "      <td>-0.281843</td>\n",
       "      <td>-0.510507</td>\n",
       "    </tr>\n",
       "    <tr>\n",
       "      <th>2015-01-01 00:00:03</th>\n",
       "      <td>1020</td>\n",
       "      <td>Ursula</td>\n",
       "      <td>-0.569904</td>\n",
       "      <td>0.523132</td>\n",
       "    </tr>\n",
       "    <tr>\n",
       "      <th>2015-01-01 00:00:04</th>\n",
       "      <td>967</td>\n",
       "      <td>Michael</td>\n",
       "      <td>-0.251460</td>\n",
       "      <td>0.810930</td>\n",
       "    </tr>\n",
       "  </tbody>\n",
       "</table>\n",
       "</div>"
      ],
      "text/plain": [
       "                       id      name         x         y\n",
       "timestamp                                              \n",
       "2015-01-01 00:00:00  1008       Dan -0.259374 -0.118314\n",
       "2015-01-01 00:00:01   987  Patricia  0.069601  0.755351\n",
       "2015-01-01 00:00:02   980     Zelda -0.281843 -0.510507\n",
       "2015-01-01 00:00:03  1020    Ursula -0.569904  0.523132\n",
       "2015-01-01 00:00:04   967   Michael -0.251460  0.810930"
      ]
     },
     "execution_count": 4,
     "metadata": {},
     "output_type": "execute_result"
    }
   ],
   "source": [
    "ddf.head()"
   ]
  },
  {
   "cell_type": "code",
   "execution_count": 5,
   "id": "937cda46-2c7d-496e-a3a3-4a26930a7e6c",
   "metadata": {},
   "outputs": [
    {
     "data": {
      "text/plain": [
       "313"
      ]
     },
     "execution_count": 5,
     "metadata": {},
     "output_type": "execute_result"
    }
   ],
   "source": [
    "ddf.npartitions"
   ]
  },
  {
   "cell_type": "code",
   "execution_count": 11,
   "id": "05f92e48-52d1-4a1d-87d8-cdfe5c8852ef",
   "metadata": {},
   "outputs": [
    {
     "name": "stdout",
     "output_type": "stream",
     "text": [
      "CPU times: user 1min 31s, sys: 4.09 s, total: 1min 35s\n",
      "Wall time: 1min 37s\n"
     ]
    },
    {
     "data": {
      "text/plain": [
       "26"
      ]
     },
     "execution_count": 11,
     "metadata": {},
     "output_type": "execute_result"
    }
   ],
   "source": [
    "%%time\n",
    "ddf[\"name\"].nunique().compute()"
   ]
  },
  {
   "cell_type": "code",
   "execution_count": 13,
   "id": "163b1936-5ddf-41a1-883e-26311503456c",
   "metadata": {},
   "outputs": [
    {
     "name": "stderr",
     "output_type": "stream",
     "text": [
      "/Users/powers/opt/miniconda3/envs/standard-coiled/lib/python3.9/site-packages/dask/dataframe/io/csv.py:529: UserWarning: Warning gzip compression does not support breaking apart files\n",
      "Please ensure that each individual file can fit in memory and\n",
      "use the keyword ``blocksize=None to remove this message``\n",
      "Setting ``blocksize=None``\n",
      "  warn(\n"
     ]
    }
   ],
   "source": [
    "ddf = dd.read_csv(\"csv/output-*\", compression=\"gzip\")"
   ]
  },
  {
   "cell_type": "code",
   "execution_count": 14,
   "id": "dfffad3b-47d5-4d75-be38-2e8d7083bbc2",
   "metadata": {},
   "outputs": [
    {
     "name": "stdout",
     "output_type": "stream",
     "text": [
      "CPU times: user 2min 43s, sys: 48.8 s, total: 3min 31s\n",
      "Wall time: 1min 12s\n"
     ]
    },
    {
     "data": {
      "text/plain": [
       "26"
      ]
     },
     "execution_count": 14,
     "metadata": {},
     "output_type": "execute_result"
    }
   ],
   "source": [
    "%%time\n",
    "ddf[\"name\"].nunique().compute()"
   ]
  },
  {
   "cell_type": "code",
   "execution_count": 16,
   "id": "0aee6be2-182c-475b-8ff6-7eee098f7926",
   "metadata": {},
   "outputs": [],
   "source": [
    "ddf = dd.read_parquet(\"parquet\", engine=\"pyarrow\", columns=[\"name\"])"
   ]
  },
  {
   "cell_type": "code",
   "execution_count": 17,
   "id": "73e3d3ff-cd95-416b-8cb7-87f854daff46",
   "metadata": {},
   "outputs": [
    {
     "name": "stdout",
     "output_type": "stream",
     "text": [
      "CPU times: user 16.8 s, sys: 947 ms, total: 17.8 s\n",
      "Wall time: 10.5 s\n"
     ]
    },
    {
     "data": {
      "text/plain": [
       "26"
      ]
     },
     "execution_count": 17,
     "metadata": {},
     "output_type": "execute_result"
    }
   ],
   "source": [
    "%%time\n",
    "ddf[\"name\"].nunique().compute()"
   ]
  },
  {
   "cell_type": "markdown",
   "id": "f7c9ebd1-0e98-4f48-b9b7-db6a08043bca",
   "metadata": {},
   "source": [
    "## Dask Array create HDF5"
   ]
  },
  {
   "cell_type": "code",
   "execution_count": 2,
   "id": "2ec1543e-b385-47df-9939-b211efd649ff",
   "metadata": {},
   "outputs": [],
   "source": [
    "import dask.array as da"
   ]
  },
  {
   "cell_type": "code",
   "execution_count": 3,
   "id": "875291bb-6b22-4b96-b0bc-db1ef77cc89c",
   "metadata": {},
   "outputs": [],
   "source": [
    "arr = da.random.random((10, 2))"
   ]
  },
  {
   "cell_type": "code",
   "execution_count": 4,
   "id": "1a38ee12-3e96-4266-8589-2610a46fe93e",
   "metadata": {},
   "outputs": [
    {
     "data": {
      "text/plain": [
       "array([[0.23100387, 0.48254162],\n",
       "       [0.99983175, 0.84552979],\n",
       "       [0.28108483, 0.66065226],\n",
       "       [0.93905801, 0.76594799],\n",
       "       [0.62132557, 0.30761242],\n",
       "       [0.98902505, 0.43684951],\n",
       "       [0.33143127, 0.13451706],\n",
       "       [0.72742902, 0.86381888],\n",
       "       [0.92025059, 0.38922756],\n",
       "       [0.82958047, 0.05398304]])"
      ]
     },
     "execution_count": 4,
     "metadata": {},
     "output_type": "execute_result"
    }
   ],
   "source": [
    "arr.compute()"
   ]
  },
  {
   "cell_type": "code",
   "execution_count": 5,
   "id": "4bddb8e1-d073-4dd8-a32e-a9e3ccb9c37a",
   "metadata": {},
   "outputs": [],
   "source": [
    "arr.to_hdf5(\"../tmp/myfile.hdf5\", \"/x\")"
   ]
  },
  {
   "cell_type": "markdown",
   "id": "6156bca8-30a0-4597-b535-85e00926cd43",
   "metadata": {},
   "source": [
    "## Read HDF5 into Dask Array"
   ]
  },
  {
   "cell_type": "code",
   "execution_count": 9,
   "id": "dbba149c-20ba-4f05-84e3-baad895bef2a",
   "metadata": {},
   "outputs": [],
   "source": [
    "import h5py"
   ]
  },
  {
   "cell_type": "code",
   "execution_count": 16,
   "id": "3bcb36ce-ca9c-4147-8ea3-88ebee7bcece",
   "metadata": {},
   "outputs": [],
   "source": [
    "file = h5py.File('../tmp/myfile.hdf5')"
   ]
  },
  {
   "cell_type": "code",
   "execution_count": 17,
   "id": "2544cadd-615f-4bb6-85f9-5387e118b775",
   "metadata": {},
   "outputs": [
    {
     "data": {
      "text/plain": [
       "<HDF5 file \"myfile.hdf5\" (mode r)>"
      ]
     },
     "execution_count": 17,
     "metadata": {},
     "output_type": "execute_result"
    }
   ],
   "source": [
    "file"
   ]
  },
  {
   "cell_type": "code",
   "execution_count": 18,
   "id": "f2bae328-24da-45d3-8401-b739271944b5",
   "metadata": {},
   "outputs": [],
   "source": [
    "arr = da.from_array(f[\"x\"])"
   ]
  },
  {
   "cell_type": "code",
   "execution_count": 19,
   "id": "14ecc516-55eb-4686-a9e1-213a9167f450",
   "metadata": {},
   "outputs": [
    {
     "data": {
      "text/plain": [
       "array([[0.23100387, 0.48254162],\n",
       "       [0.99983175, 0.84552979],\n",
       "       [0.28108483, 0.66065226],\n",
       "       [0.93905801, 0.76594799],\n",
       "       [0.62132557, 0.30761242],\n",
       "       [0.98902505, 0.43684951],\n",
       "       [0.33143127, 0.13451706],\n",
       "       [0.72742902, 0.86381888],\n",
       "       [0.92025059, 0.38922756],\n",
       "       [0.82958047, 0.05398304]])"
      ]
     },
     "execution_count": 19,
     "metadata": {},
     "output_type": "execute_result"
    }
   ],
   "source": [
    "arr.compute()"
   ]
  },
  {
   "cell_type": "code",
   "execution_count": 20,
   "id": "9b055329-1176-4f50-9837-c77117c3c7ac",
   "metadata": {},
   "outputs": [
    {
     "data": {
      "text/plain": [
       "dask.array.core.Array"
      ]
     },
     "execution_count": 20,
     "metadata": {},
     "output_type": "execute_result"
    }
   ],
   "source": [
    "type(arr)"
   ]
  },
  {
   "cell_type": "code",
   "execution_count": null,
   "id": "535d15c3-76f5-496d-8ad3-6a4f8f55f506",
   "metadata": {},
   "outputs": [],
   "source": []
  }
 ],
 "metadata": {
  "kernelspec": {
   "display_name": "Python [conda env:standard-coiled] *",
   "language": "python",
   "name": "conda-env-standard-coiled-py"
  },
  "language_info": {
   "codemirror_mode": {
    "name": "ipython",
    "version": 3
   },
   "file_extension": ".py",
   "mimetype": "text/x-python",
   "name": "python",
   "nbconvert_exporter": "python",
   "pygments_lexer": "ipython3",
   "version": "3.9.12"
  }
 },
 "nbformat": 4,
 "nbformat_minor": 5
}
