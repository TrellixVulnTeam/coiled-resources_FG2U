{
 "cells": [
  {
   "cell_type": "code",
   "execution_count": 1,
   "id": "8b163a8c-fb82-4177-9e30-a66f6c052113",
   "metadata": {},
   "outputs": [],
   "source": [
    "import coiled\n",
    "import dask.distributed\n",
    "import dask.dataframe as dd"
   ]
  },
  {
   "cell_type": "code",
   "execution_count": 2,
   "id": "03f7b8aa-c2b7-4922-9138-fa2fb35b115e",
   "metadata": {},
   "outputs": [
    {
     "data": {
      "text/html": [
       "<pre style=\"white-space:pre;overflow-x:auto;line-height:normal;font-family:Menlo,'DejaVu Sans Mono',consolas,'Courier New',monospace\"><span style=\"color: #008000; text-decoration-color: #008000\">⠦</span> <span style=\"color: #008000; text-decoration-color: #008000; font-weight: bold\">Creating Cluster. This might take a few minutes...</span>\n",
       "</pre>\n"
      ],
      "text/plain": [
       "\u001b[32m⠦\u001b[0m \u001b[1;32mCreating Cluster. This might take a few minutes...\u001b[0m\n"
      ]
     },
     "metadata": {},
     "output_type": "display_data"
    },
    {
     "data": {
      "text/html": [
       "<pre style=\"white-space:pre;overflow-x:auto;line-height:normal;font-family:Menlo,'DejaVu Sans Mono',consolas,'Courier New',monospace\"></pre>\n"
      ],
      "text/plain": []
     },
     "metadata": {},
     "output_type": "display_data"
    }
   ],
   "source": [
    "cluster = coiled.Cluster(name=\"demo-cluster\", n_workers=5)"
   ]
  },
  {
   "cell_type": "code",
   "execution_count": 3,
   "id": "b127d291-3f06-491c-bda7-088bb56f15aa",
   "metadata": {},
   "outputs": [],
   "source": [
    "client = dask.distributed.Client(cluster)"
   ]
  },
  {
   "cell_type": "code",
   "execution_count": 4,
   "id": "af0c4292-25bd-4715-bf9e-710db56bb51f",
   "metadata": {},
   "outputs": [],
   "source": [
    "ddf = dd.read_parquet(\"s3://coiled-datasets/timeseries/7d/parquet/2000\")"
   ]
  },
  {
   "cell_type": "code",
   "execution_count": 5,
   "id": "61ffcd8f-c460-41bb-b5e7-3bc0f6b4ec25",
   "metadata": {},
   "outputs": [
    {
     "data": {
      "text/plain": [
       "31449600"
      ]
     },
     "execution_count": 5,
     "metadata": {},
     "output_type": "execute_result"
    }
   ],
   "source": [
    "len(ddf)"
   ]
  },
  {
   "cell_type": "code",
   "execution_count": 6,
   "id": "d42819c5-4d75-40ec-8420-11d6698b35f8",
   "metadata": {},
   "outputs": [
    {
     "data": {
      "text/html": [
       "<div>\n",
       "<style scoped>\n",
       "    .dataframe tbody tr th:only-of-type {\n",
       "        vertical-align: middle;\n",
       "    }\n",
       "\n",
       "    .dataframe tbody tr th {\n",
       "        vertical-align: top;\n",
       "    }\n",
       "\n",
       "    .dataframe thead th {\n",
       "        text-align: right;\n",
       "    }\n",
       "</style>\n",
       "<table border=\"1\" class=\"dataframe\">\n",
       "  <thead>\n",
       "    <tr style=\"text-align: right;\">\n",
       "      <th></th>\n",
       "      <th>name</th>\n",
       "      <th>x</th>\n",
       "      <th>y</th>\n",
       "    </tr>\n",
       "    <tr>\n",
       "      <th>id</th>\n",
       "      <th></th>\n",
       "      <th></th>\n",
       "      <th></th>\n",
       "    </tr>\n",
       "  </thead>\n",
       "  <tbody>\n",
       "    <tr>\n",
       "      <th>832</th>\n",
       "      <td>Oliver</td>\n",
       "      <td>-0.015893</td>\n",
       "      <td>0.678568</td>\n",
       "    </tr>\n",
       "    <tr>\n",
       "      <th>842</th>\n",
       "      <td>Yvonne</td>\n",
       "      <td>-0.690717</td>\n",
       "      <td>0.110788</td>\n",
       "    </tr>\n",
       "    <tr>\n",
       "      <th>843</th>\n",
       "      <td>Yvonne</td>\n",
       "      <td>-0.873540</td>\n",
       "      <td>-0.270038</td>\n",
       "    </tr>\n",
       "    <tr>\n",
       "      <th>843</th>\n",
       "      <td>Oliver</td>\n",
       "      <td>0.514363</td>\n",
       "      <td>0.803397</td>\n",
       "    </tr>\n",
       "    <tr>\n",
       "      <th>844</th>\n",
       "      <td>Yvonne</td>\n",
       "      <td>0.664280</td>\n",
       "      <td>-0.507049</td>\n",
       "    </tr>\n",
       "  </tbody>\n",
       "</table>\n",
       "</div>"
      ],
      "text/plain": [
       "       name         x         y\n",
       "id                             \n",
       "832  Oliver -0.015893  0.678568\n",
       "842  Yvonne -0.690717  0.110788\n",
       "843  Yvonne -0.873540 -0.270038\n",
       "843  Oliver  0.514363  0.803397\n",
       "844  Yvonne  0.664280 -0.507049"
      ]
     },
     "execution_count": 6,
     "metadata": {},
     "output_type": "execute_result"
    },
    {
     "name": "stderr",
     "output_type": "stream",
     "text": [
      "distributed.client - ERROR - Failed to reconnect to scheduler after 30.00 seconds, closing client\n",
      "_GatheringFuture exception was never retrieved\n",
      "future: <_GatheringFuture finished exception=CancelledError()>\n",
      "asyncio.exceptions.CancelledError\n"
     ]
    }
   ],
   "source": [
    "ddf.set_index(\"id\").head(5)"
   ]
  },
  {
   "cell_type": "code",
   "execution_count": null,
   "id": "27bfee76-e438-4b85-b82d-cacddfc1bfb7",
   "metadata": {},
   "outputs": [],
   "source": []
  }
 ],
 "metadata": {
  "kernelspec": {
   "display_name": "Python [conda env:standard-coiled] *",
   "language": "python",
   "name": "conda-env-standard-coiled-py"
  },
  "language_info": {
   "codemirror_mode": {
    "name": "ipython",
    "version": 3
   },
   "file_extension": ".py",
   "mimetype": "text/x-python",
   "name": "python",
   "nbconvert_exporter": "python",
   "pygments_lexer": "ipython3",
   "version": "3.9.6"
  }
 },
 "nbformat": 4,
 "nbformat_minor": 5
}
