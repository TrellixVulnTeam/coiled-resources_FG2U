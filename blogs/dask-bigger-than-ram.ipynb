{
 "cells": [
  {
   "cell_type": "code",
   "execution_count": 1,
   "id": "7f75f272-38c4-48b7-b076-fd79f6f4ede0",
   "metadata": {},
   "outputs": [],
   "source": [
    "import os\n",
    "\n",
    "import dask.dataframe as dd\n",
    "\n",
    "import pandas as pd"
   ]
  },
  {
   "cell_type": "code",
   "execution_count": 2,
   "id": "91619325-4cc3-4473-a670-91e159375be8",
   "metadata": {},
   "outputs": [],
   "source": [
    "home = os.path.expanduser(\"~\")"
   ]
  },
  {
   "cell_type": "code",
   "execution_count": 4,
   "id": "615d8617-9d27-4344-b4f4-9d0104297a42",
   "metadata": {},
   "outputs": [],
   "source": [
    "ddf = dd.read_parquet(f\"{home}/data/timeseries/20-years/parquet/\")"
   ]
  },
  {
   "cell_type": "code",
   "execution_count": 5,
   "id": "c99fd49c-ae39-4cd4-8238-7787d024452e",
   "metadata": {},
   "outputs": [
    {
     "data": {
      "text/html": [
       "<div>\n",
       "<style scoped>\n",
       "    .dataframe tbody tr th:only-of-type {\n",
       "        vertical-align: middle;\n",
       "    }\n",
       "\n",
       "    .dataframe tbody tr th {\n",
       "        vertical-align: top;\n",
       "    }\n",
       "\n",
       "    .dataframe thead th {\n",
       "        text-align: right;\n",
       "    }\n",
       "</style>\n",
       "<table border=\"1\" class=\"dataframe\">\n",
       "  <thead>\n",
       "    <tr style=\"text-align: right;\">\n",
       "      <th></th>\n",
       "      <th>id</th>\n",
       "      <th>name</th>\n",
       "      <th>x</th>\n",
       "      <th>y</th>\n",
       "    </tr>\n",
       "    <tr>\n",
       "      <th>timestamp</th>\n",
       "      <th></th>\n",
       "      <th></th>\n",
       "      <th></th>\n",
       "      <th></th>\n",
       "    </tr>\n",
       "  </thead>\n",
       "  <tbody>\n",
       "    <tr>\n",
       "      <th>2000-01-01 00:00:00</th>\n",
       "      <td>1008</td>\n",
       "      <td>Dan</td>\n",
       "      <td>-0.259374</td>\n",
       "      <td>-0.118314</td>\n",
       "    </tr>\n",
       "    <tr>\n",
       "      <th>2000-01-01 00:00:01</th>\n",
       "      <td>987</td>\n",
       "      <td>Patricia</td>\n",
       "      <td>0.069601</td>\n",
       "      <td>0.755351</td>\n",
       "    </tr>\n",
       "    <tr>\n",
       "      <th>2000-01-01 00:00:02</th>\n",
       "      <td>980</td>\n",
       "      <td>Zelda</td>\n",
       "      <td>-0.281843</td>\n",
       "      <td>-0.510507</td>\n",
       "    </tr>\n",
       "    <tr>\n",
       "      <th>2000-01-01 00:00:03</th>\n",
       "      <td>1020</td>\n",
       "      <td>Ursula</td>\n",
       "      <td>-0.569904</td>\n",
       "      <td>0.523132</td>\n",
       "    </tr>\n",
       "    <tr>\n",
       "      <th>2000-01-01 00:00:04</th>\n",
       "      <td>967</td>\n",
       "      <td>Michael</td>\n",
       "      <td>-0.251460</td>\n",
       "      <td>0.810930</td>\n",
       "    </tr>\n",
       "  </tbody>\n",
       "</table>\n",
       "</div>"
      ],
      "text/plain": [
       "                       id      name         x         y\n",
       "timestamp                                              \n",
       "2000-01-01 00:00:00  1008       Dan -0.259374 -0.118314\n",
       "2000-01-01 00:00:01   987  Patricia  0.069601  0.755351\n",
       "2000-01-01 00:00:02   980     Zelda -0.281843 -0.510507\n",
       "2000-01-01 00:00:03  1020    Ursula -0.569904  0.523132\n",
       "2000-01-01 00:00:04   967   Michael -0.251460  0.810930"
      ]
     },
     "execution_count": 5,
     "metadata": {},
     "output_type": "execute_result"
    }
   ],
   "source": [
    "ddf.head()"
   ]
  },
  {
   "cell_type": "markdown",
   "id": "92d9a65b-6b98-4114-8a80-f3e52229fd5b",
   "metadata": {},
   "source": [
    "## pandas one data file"
   ]
  },
  {
   "cell_type": "code",
   "execution_count": 8,
   "id": "2d5981bc-088d-4fd1-a2b3-ee16c4b1f1b7",
   "metadata": {},
   "outputs": [],
   "source": [
    "path = f\"{home}/data/timeseries/20-years/parquet/part.0.parquet\"\n",
    "df = pd.read_parquet(path)"
   ]
  },
  {
   "cell_type": "code",
   "execution_count": 9,
   "id": "2e6718d9-d648-4d87-8b45-1dc6bdae78d9",
   "metadata": {},
   "outputs": [
    {
     "data": {
      "text/plain": [
       "999.9610085978836"
      ]
     },
     "execution_count": 9,
     "metadata": {},
     "output_type": "execute_result"
    }
   ],
   "source": [
    "df[\"id\"].mean()"
   ]
  },
  {
   "cell_type": "markdown",
   "id": "be1796b5-0951-48ad-af26-8d9f2e84d34b",
   "metadata": {},
   "source": [
    "## pandas multiple data files"
   ]
  },
  {
   "cell_type": "code",
   "execution_count": 11,
   "id": "2bee9036-34ab-412d-80e2-cae5d197ebe3",
   "metadata": {},
   "outputs": [],
   "source": [
    "import glob"
   ]
  },
  {
   "cell_type": "code",
   "execution_count": 12,
   "id": "2835184a-2109-4db0-9460-eba8c613cc17",
   "metadata": {},
   "outputs": [],
   "source": [
    "path = f\"{home}/data/timeseries/20-years/parquet\"\n",
    "all_files = glob.glob(path + \"/*.parquet\")"
   ]
  },
  {
   "cell_type": "code",
   "execution_count": null,
   "id": "080445cb-71b6-40db-9462-836ba583d791",
   "metadata": {},
   "outputs": [],
   "source": [
    "df = pd.concat((pd.read_parquet(f) for f in all_files))"
   ]
  },
  {
   "cell_type": "markdown",
   "id": "f7bb1ee8-b629-4d73-b3f6-5a30523f1905",
   "metadata": {},
   "source": [
    "## dask multiple files"
   ]
  },
  {
   "cell_type": "code",
   "execution_count": 13,
   "id": "aab756ce-330d-4c21-a845-12eb723d36ad",
   "metadata": {},
   "outputs": [],
   "source": [
    "ddf = dd.read_parquet(f\"{home}/data/timeseries/20-years/parquet\", engine=\"pyarrow\")"
   ]
  },
  {
   "cell_type": "code",
   "execution_count": 14,
   "id": "b390e18f-4f38-4736-a595-431ea766a599",
   "metadata": {},
   "outputs": [
    {
     "name": "stdout",
     "output_type": "stream",
     "text": [
      "CPU times: user 18.8 s, sys: 1.91 s, total: 20.7 s\n",
      "Wall time: 8.24 s\n"
     ]
    },
    {
     "data": {
      "text/plain": [
       "1000.0002420317822"
      ]
     },
     "execution_count": 14,
     "metadata": {},
     "output_type": "execute_result"
    }
   ],
   "source": [
    "%%time\n",
    "ddf[\"id\"].mean().compute()"
   ]
  },
  {
   "cell_type": "markdown",
   "id": "e59c3c35-bdd5-4409-ae8f-eece7cb25e43",
   "metadata": {},
   "source": [
    "## dask multiple files"
   ]
  },
  {
   "cell_type": "code",
   "execution_count": 15,
   "id": "9152be3f-256d-41bc-aa35-93a33732b6b2",
   "metadata": {},
   "outputs": [],
   "source": [
    "ddf = dd.read_parquet(\n",
    "    f\"{home}/data/timeseries/20-years/parquet\",\n",
    "    columns=[\"id\"],\n",
    "    engine=\"pyarrow\",\n",
    ")"
   ]
  },
  {
   "cell_type": "code",
   "execution_count": 16,
   "id": "6650fb26-5804-45ce-ad5f-675ae3c77a3f",
   "metadata": {},
   "outputs": [
    {
     "name": "stdout",
     "output_type": "stream",
     "text": [
      "CPU times: user 18.8 s, sys: 1.69 s, total: 20.4 s\n",
      "Wall time: 8.09 s\n"
     ]
    },
    {
     "data": {
      "text/plain": [
       "1000.0002420317822"
      ]
     },
     "execution_count": 16,
     "metadata": {},
     "output_type": "execute_result"
    }
   ],
   "source": [
    "%%time\n",
    "ddf[\"id\"].mean().compute()"
   ]
  },
  {
   "cell_type": "code",
   "execution_count": null,
   "id": "38979312-718d-49eb-ad3f-4f310a4e22b6",
   "metadata": {},
   "outputs": [],
   "source": []
  }
 ],
 "metadata": {
  "kernelspec": {
   "display_name": "Python [conda env:standard-coiled] *",
   "language": "python",
   "name": "conda-env-standard-coiled-py"
  },
  "language_info": {
   "codemirror_mode": {
    "name": "ipython",
    "version": 3
   },
   "file_extension": ".py",
   "mimetype": "text/x-python",
   "name": "python",
   "nbconvert_exporter": "python",
   "pygments_lexer": "ipython3",
   "version": "3.9.9"
  }
 },
 "nbformat": 4,
 "nbformat_minor": 5
}
