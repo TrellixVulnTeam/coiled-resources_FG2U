{
 "cells": [
  {
   "cell_type": "code",
   "execution_count": 2,
   "id": "8e35a06c-aa7f-4037-8549-1a6fbf338a9c",
   "metadata": {},
   "outputs": [
    {
     "data": {
      "application/vnd.jupyter.widget-view+json": {
       "model_id": "740378cda7d5404a89b1468af54cbedc",
       "version_major": 2,
       "version_minor": 0
      },
      "text/plain": [
       "Output()"
      ]
     },
     "metadata": {},
     "output_type": "display_data"
    },
    {
     "name": "stderr",
     "output_type": "stream",
     "text": [
      "distributed.client - ERROR - Failed to reconnect to scheduler after 30.00 seconds, closing client\n"
     ]
    },
    {
     "data": {
      "text/html": [
       "<pre style=\"white-space:pre;overflow-x:auto;line-height:normal;font-family:Menlo,'DejaVu Sans Mono',consolas,'Courier New',monospace\">_GatheringFuture exception was never retrieved\n",
       "future: &lt;_GatheringFuture finished exception=CancelledError()&gt;\n",
       "asyncio.exceptions.CancelledError\n",
       "</pre>\n"
      ],
      "text/plain": [
       "_GatheringFuture exception was never retrieved\n",
       "future: <_GatheringFuture finished exception=CancelledError()>\n",
       "asyncio.exceptions.CancelledError\n"
      ]
     },
     "metadata": {},
     "output_type": "display_data"
    },
    {
     "data": {
      "text/html": [
       "<pre style=\"white-space:pre;overflow-x:auto;line-height:normal;font-family:Menlo,'DejaVu Sans Mono',consolas,'Courier New',monospace\"></pre>\n"
      ],
      "text/plain": []
     },
     "metadata": {},
     "output_type": "display_data"
    },
    {
     "name": "stdout",
     "output_type": "stream",
     "text": [
      "Dask dashboard is available at http://44.193.195.50:8787\n"
     ]
    },
    {
     "name": "stderr",
     "output_type": "stream",
     "text": [
      "distributed.deploy.cluster - WARNING - Failed to sync cluster info multiple times - perhaps there's a connection issue? Error:\n",
      "Traceback (most recent call last):\n",
      "  File \"/Users/rpelgrim/mambaforge/envs/coiled_taxi/lib/python3.9/site-packages/distributed/comm/tcp.py\", line 409, in connect\n",
      "    stream = await self.client.connect(\n",
      "  File \"/Users/rpelgrim/mambaforge/envs/coiled_taxi/lib/python3.9/site-packages/tornado/tcpclient.py\", line 275, in connect\n",
      "    af, addr, stream = await connector.start(connect_timeout=timeout)\n",
      "asyncio.exceptions.CancelledError\n",
      "\n",
      "During handling of the above exception, another exception occurred:\n",
      "\n",
      "Traceback (most recent call last):\n",
      "  File \"/Users/rpelgrim/mambaforge/envs/coiled_taxi/lib/python3.9/asyncio/tasks.py\", line 490, in wait_for\n",
      "    return fut.result()\n",
      "asyncio.exceptions.CancelledError\n",
      "\n",
      "The above exception was the direct cause of the following exception:\n",
      "\n",
      "Traceback (most recent call last):\n",
      "  File \"/Users/rpelgrim/mambaforge/envs/coiled_taxi/lib/python3.9/site-packages/distributed/comm/core.py\", line 289, in connect\n",
      "    comm = await asyncio.wait_for(\n",
      "  File \"/Users/rpelgrim/mambaforge/envs/coiled_taxi/lib/python3.9/asyncio/tasks.py\", line 492, in wait_for\n",
      "    raise exceptions.TimeoutError() from exc\n",
      "asyncio.exceptions.TimeoutError\n",
      "\n",
      "The above exception was the direct cause of the following exception:\n",
      "\n",
      "Traceback (most recent call last):\n",
      "  File \"/Users/rpelgrim/mambaforge/envs/coiled_taxi/lib/python3.9/site-packages/distributed/deploy/cluster.py\", line 131, in _sync_cluster_info\n",
      "    await self.scheduler_comm.set_metadata(\n",
      "  File \"/Users/rpelgrim/mambaforge/envs/coiled_taxi/lib/python3.9/site-packages/distributed/core.py\", line 822, in send_recv_from_rpc\n",
      "    comm = await self.live_comm()\n",
      "  File \"/Users/rpelgrim/mambaforge/envs/coiled_taxi/lib/python3.9/site-packages/distributed/core.py\", line 779, in live_comm\n",
      "    comm = await connect(\n",
      "  File \"/Users/rpelgrim/mambaforge/envs/coiled_taxi/lib/python3.9/site-packages/distributed/comm/core.py\", line 313, in connect\n",
      "    raise OSError(\n",
      "OSError: Timed out trying to connect to tls://35.172.236.150:8786 after 30 s\n"
     ]
    }
   ],
   "source": [
    "import numpy as np\n",
    "import sklearn.datasets\n",
    "import sklearn.metrics\n",
    "from sklearn.model_selection import train_test_split\n",
    "import xgboost as xgb\n",
    "\n",
    "def objective(trial):\n",
    "    # Load our dataset\n",
    "    X, y = sklearn.datasets.load_breast_cancer(return_X_y=True)\n",
    "    X_train, X_test, y_train, y_test = train_test_split(X, y, test_size=0.25)\n",
    "    dtrain = xgb.DMatrix(X_train, label=y_train)\n",
    "    dtest = xgb.DMatrix(X_test, label=y_test)\n",
    "\n",
    "    # Get set of hyperparameters\n",
    "    param = {\n",
    "        \"silent\": 1,\n",
    "        \"objective\": \"binary:logistic\",\n",
    "        \"booster\": trial.suggest_categorical(\"booster\", [\"gbtree\", \"dart\"]),\n",
    "        \"lambda\": trial.suggest_float(\"lambda\", 1e-8, 1.0, log=True),\n",
    "        \"alpha\": trial.suggest_float(\"alpha\", 1e-8, 1.0, log=True),\n",
    "        \"max_depth\": trial.suggest_int(\"max_depth\", 1, 9),\n",
    "        \"eta\": trial.suggest_float(\"eta\", 1e-8, 1.0, log=True),\n",
    "        \"gamma\": trial.suggest_float(\"gamma\", 1e-8, 1.0, log=True),\n",
    "        \"grow_policy\": trial.suggest_categorical(\"grow_policy\", [\"depthwise\", \"lossguide\"]),\n",
    "    }\n",
    "\n",
    "    # Train XGBoost model\n",
    "    bst = xgb.train(param, dtrain)\n",
    "    preds = bst.predict(dtest)\n",
    "\n",
    "    # Compute and return model accuracy\n",
    "    pred_labels = np.rint(preds)\n",
    "    accuracy = sklearn.metrics.accuracy_score(y_test, pred_labels)\n",
    "    return accuracy\n",
    "\n",
    "from dask.distributed import Client\n",
    "import coiled\n",
    "import dask_optuna\n",
    "import joblib\n",
    "import optuna\n",
    "\n",
    "# Create a Dask cluster with Coiled\n",
    "cluster = coiled.Cluster(n_workers=10, software=\"coiled-examples/ml-with-dask\")\n",
    "# Connect Dask to our cluster\n",
    "client = Client(cluster)\n",
    "print(f\"Dask dashboard is available at {client.dashboard_link}\")\n",
    "client.wait_for_workers(10)\n",
    "\n",
    "# Create Dask-compatible Optuna storage class\n",
    "storage = dask_optuna.DaskStorage()\n",
    "\n",
    "# Run 500 optimizations trial on our cluster\n",
    "study = optuna.create_study(direction=\"maximize\", storage=storage)\n",
    "with joblib.parallel_backend(\"dask\"):\n",
    "    study.optimize(objective, n_trials=500, n_jobs=-1)"
   ]
  },
  {
   "cell_type": "code",
   "execution_count": null,
   "id": "2dae404b-f99c-4df6-b512-4d36e95c0d7b",
   "metadata": {},
   "outputs": [],
   "source": []
  }
 ],
 "metadata": {
  "kernelspec": {
   "display_name": "coiled-taxi",
   "language": "python",
   "name": "coiled-taxi"
  },
  "language_info": {
   "codemirror_mode": {
    "name": "ipython",
    "version": 3
   },
   "file_extension": ".py",
   "mimetype": "text/x-python",
   "name": "python",
   "nbconvert_exporter": "python",
   "pygments_lexer": "ipython3",
   "version": "3.9.13"
  }
 },
 "nbformat": 4,
 "nbformat_minor": 5
}
