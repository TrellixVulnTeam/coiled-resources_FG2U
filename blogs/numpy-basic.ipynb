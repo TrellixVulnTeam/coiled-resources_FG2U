{
 "cells": [
  {
   "cell_type": "markdown",
   "id": "ecd888ad-4b0b-45e1-807c-5d4251981cf8",
   "metadata": {},
   "source": [
    "## Basic Usage of NumPy"
   ]
  },
  {
   "cell_type": "code",
   "execution_count": 20,
   "id": "f8d12a68-1875-4772-854f-9c294fe1e47d",
   "metadata": {},
   "outputs": [],
   "source": [
    "import numpy as np"
   ]
  },
  {
   "cell_type": "code",
   "execution_count": 21,
   "id": "1ae94f14-d7fb-4d9d-b108-dd331480fee9",
   "metadata": {},
   "outputs": [],
   "source": [
    "arr = np.array([[[1, 1], [2, 2], [3, 3]], [[4, 4], [5, 5], [6, 6]]], dtype=np.int32)"
   ]
  },
  {
   "cell_type": "code",
   "execution_count": 22,
   "id": "d5ec56dd-6f5a-4c96-bce1-3a735b59fbce",
   "metadata": {},
   "outputs": [
    {
     "name": "stdout",
     "output_type": "stream",
     "text": [
      "[[[1 1]\n",
      "  [2 2]\n",
      "  [3 3]]\n",
      "\n",
      " [[4 4]\n",
      "  [5 5]\n",
      "  [6 6]]]\n"
     ]
    }
   ],
   "source": [
    "print(arr)"
   ]
  },
  {
   "cell_type": "code",
   "execution_count": 23,
   "id": "e071f802-9925-4bcf-ab80-b2c366be5b70",
   "metadata": {},
   "outputs": [
    {
     "data": {
      "text/plain": [
       "dtype('int32')"
      ]
     },
     "execution_count": 23,
     "metadata": {},
     "output_type": "execute_result"
    }
   ],
   "source": [
    "arr.dtype"
   ]
  },
  {
   "cell_type": "markdown",
   "id": "3be7cb59-2790-44cc-a1e8-fa4fcff56f3c",
   "metadata": {},
   "source": [
    "ndim indicates the number of dimensions"
   ]
  },
  {
   "cell_type": "code",
   "execution_count": 24,
   "id": "faae11f2-4837-4dc0-a800-91c8afdc7540",
   "metadata": {},
   "outputs": [
    {
     "data": {
      "text/plain": [
       "3"
      ]
     },
     "execution_count": 24,
     "metadata": {},
     "output_type": "execute_result"
    }
   ],
   "source": [
    "arr.ndim"
   ]
  },
  {
   "cell_type": "markdown",
   "id": "4400bd05-4c3e-45b9-afac-0497dd26f1a4",
   "metadata": {},
   "source": [
    "shape indicates the size of each dimension"
   ]
  },
  {
   "cell_type": "code",
   "execution_count": 16,
   "id": "93f9ea0f-d9bf-403a-bb04-841be6e0cde1",
   "metadata": {},
   "outputs": [
    {
     "data": {
      "text/plain": [
       "(2, 3, 2)"
      ]
     },
     "execution_count": 16,
     "metadata": {},
     "output_type": "execute_result"
    }
   ],
   "source": [
    "arr.shape"
   ]
  },
  {
   "cell_type": "markdown",
   "id": "43e16863-842e-44d3-ba12-430813e00ac4",
   "metadata": {},
   "source": [
    "multiply each value in the ndarray by 10"
   ]
  },
  {
   "cell_type": "code",
   "execution_count": 25,
   "id": "cd0f86a2-913d-4af7-9626-6a26f3b71fca",
   "metadata": {},
   "outputs": [
    {
     "data": {
      "text/plain": [
       "array([[[10, 10],\n",
       "        [20, 20],\n",
       "        [30, 30]],\n",
       "\n",
       "       [[40, 40],\n",
       "        [50, 50],\n",
       "        [60, 60]]], dtype=int32)"
      ]
     },
     "execution_count": 25,
     "metadata": {},
     "output_type": "execute_result"
    }
   ],
   "source": [
    "arr * 10"
   ]
  },
  {
   "cell_type": "code",
   "execution_count": 26,
   "id": "8bb6250f-8028-4df5-9fc4-d77dbdc75981",
   "metadata": {},
   "outputs": [],
   "source": [
    "ones_arr = np.ones((10, 2))"
   ]
  },
  {
   "cell_type": "code",
   "execution_count": 27,
   "id": "9315cd9a-b22d-4bc9-b8c8-05516237c8e9",
   "metadata": {},
   "outputs": [
    {
     "data": {
      "text/plain": [
       "array([[1., 1.],\n",
       "       [1., 1.],\n",
       "       [1., 1.],\n",
       "       [1., 1.],\n",
       "       [1., 1.],\n",
       "       [1., 1.],\n",
       "       [1., 1.],\n",
       "       [1., 1.],\n",
       "       [1., 1.],\n",
       "       [1., 1.]])"
      ]
     },
     "execution_count": 27,
     "metadata": {},
     "output_type": "execute_result"
    }
   ],
   "source": [
    "ones_arr"
   ]
  },
  {
   "cell_type": "code",
   "execution_count": 29,
   "id": "ea1f8343-7d1c-4aad-b951-fb2ee45803a3",
   "metadata": {},
   "outputs": [
    {
     "data": {
      "text/plain": [
       "2"
      ]
     },
     "execution_count": 29,
     "metadata": {},
     "output_type": "execute_result"
    }
   ],
   "source": [
    "ones_arr.ndim"
   ]
  },
  {
   "cell_type": "markdown",
   "id": "5b2a89a5-228e-4ffb-b2d5-3c4b991cc00f",
   "metadata": {},
   "source": [
    "## More NumPy arrays"
   ]
  },
  {
   "cell_type": "code",
   "execution_count": 18,
   "id": "7995ce98-173e-4e38-ad75-28f470e64887",
   "metadata": {},
   "outputs": [
    {
     "data": {
      "text/plain": [
       "array([1, 2, 3])"
      ]
     },
     "execution_count": 18,
     "metadata": {},
     "output_type": "execute_result"
    }
   ],
   "source": [
    "np.array([1, 2, 3])"
   ]
  },
  {
   "cell_type": "code",
   "execution_count": 19,
   "id": "6882b599-d733-47d4-b842-066386be3252",
   "metadata": {},
   "outputs": [
    {
     "data": {
      "text/plain": [
       "array(['1', 'b', '3'], dtype='<U21')"
      ]
     },
     "execution_count": 19,
     "metadata": {},
     "output_type": "execute_result"
    }
   ],
   "source": [
    "np.array([1, \"b\", 3])"
   ]
  },
  {
   "cell_type": "code",
   "execution_count": null,
   "id": "94b61967-6424-4e29-b5ee-ccab1840de16",
   "metadata": {},
   "outputs": [],
   "source": []
  }
 ],
 "metadata": {
  "kernelspec": {
   "display_name": "Python [conda env:standard-coiled] *",
   "language": "python",
   "name": "conda-env-standard-coiled-py"
  },
  "language_info": {
   "codemirror_mode": {
    "name": "ipython",
    "version": 3
   },
   "file_extension": ".py",
   "mimetype": "text/x-python",
   "name": "python",
   "nbconvert_exporter": "python",
   "pygments_lexer": "ipython3",
   "version": "3.9.12"
  }
 },
 "nbformat": 4,
 "nbformat_minor": 5
}
