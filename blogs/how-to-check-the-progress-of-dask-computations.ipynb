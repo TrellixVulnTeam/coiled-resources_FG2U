{
 "cells": [
  {
   "cell_type": "markdown",
   "id": "12cb68ac-5319-440e-818e-c22b6aef4763",
   "metadata": {},
   "source": [
    "# How to Check Progress of Dask Computations"
   ]
  },
  {
   "cell_type": "markdown",
   "id": "a629281b-f982-402d-8b86-628a2509884b",
   "metadata": {},
   "source": [
    "## Local Computations"
   ]
  },
  {
   "cell_type": "code",
   "execution_count": 1,
   "id": "e79206c6-9f4a-4012-b916-631fba810d40",
   "metadata": {},
   "outputs": [],
   "source": [
    "import dask.dataframe as dd # Uses threaded scheduler"
   ]
  },
  {
   "cell_type": "code",
   "execution_count": 2,
   "id": "94c226cb-9ecb-4b1a-9025-10879a4364b5",
   "metadata": {},
   "outputs": [],
   "source": [
    "df = dd.read_csv(\n",
    "    \"s3://nyc-tlc/trip data/yellow_tripdata_2019-01.csv\",\n",
    "    dtype={\n",
    "        \"payment_type\": \"UInt8\",\n",
    "        \"VendorID\": \"UInt8\",\n",
    "        \"passenger_count\": \"UInt8\",\n",
    "        \"RatecodeID\": \"UInt8\",\n",
    "    },\n",
    ")"
   ]
  },
  {
   "cell_type": "markdown",
   "id": "ca6eb43b-1034-4cd2-8b9f-0204532c752f",
   "metadata": {},
   "source": [
    "### ProgressBar"
   ]
  },
  {
   "cell_type": "code",
   "execution_count": 3,
   "id": "6ba24a78-6447-40c2-808f-69a8b244cffb",
   "metadata": {},
   "outputs": [],
   "source": [
    "from dask.diagnostics import ProgressBar"
   ]
  },
  {
   "cell_type": "markdown",
   "id": "5c1bad17-08c8-4297-bcd0-2f455ede3a08",
   "metadata": {},
   "source": [
    "#### 1. Global Registration"
   ]
  },
  {
   "cell_type": "code",
   "execution_count": 4,
   "id": "95007aea-9e75-4ea6-a7a1-9480f7a0dd7d",
   "metadata": {},
   "outputs": [],
   "source": [
    "pbar = ProgressBar()                \n",
    "pbar.register() # global registration"
   ]
  },
  {
   "cell_type": "code",
   "execution_count": 5,
   "id": "d0ab9057-7bb5-4044-9e34-fdbdad7c4c54",
   "metadata": {},
   "outputs": [
    {
     "name": "stdout",
     "output_type": "stream",
     "text": [
      "[########################################] | 100% Completed |  2min 36.8s\n"
     ]
    },
    {
     "data": {
      "text/plain": [
       "passenger_count\n",
       "0    1.786901\n",
       "1    1.828308\n",
       "2    1.833877\n",
       "3    1.795579\n",
       "4    1.702710\n",
       "5    1.869868\n",
       "6    1.856830\n",
       "7    6.542632\n",
       "8    6.480690\n",
       "9    3.116667\n",
       "Name: tip_amount, dtype: float64"
      ]
     },
     "execution_count": 5,
     "metadata": {},
     "output_type": "execute_result"
    }
   ],
   "source": [
    "df.groupby(\"passenger_count\").tip_amount.mean().compute()"
   ]
  },
  {
   "cell_type": "code",
   "execution_count": 6,
   "id": "13b488bf-9422-404b-96bd-5df79ca71bc2",
   "metadata": {},
   "outputs": [
    {
     "data": {
      "text/plain": [
       "156.777657374"
      ]
     },
     "execution_count": 6,
     "metadata": {},
     "output_type": "execute_result"
    }
   ],
   "source": [
    "pbar.last_duration "
   ]
  },
  {
   "cell_type": "code",
   "execution_count": 7,
   "id": "e4972a83-d989-4d5a-b20a-3ecf26e3d842",
   "metadata": {},
   "outputs": [],
   "source": [
    "pbar.unregister()"
   ]
  },
  {
   "cell_type": "markdown",
   "id": "d39e509e-f9b5-46f5-aa44-ac59c6178258",
   "metadata": {},
   "source": [
    "#### 2. Context Managers"
   ]
  },
  {
   "cell_type": "code",
   "execution_count": 8,
   "id": "77da493d-b3bf-4845-8ab1-fa6a1d53b6de",
   "metadata": {},
   "outputs": [
    {
     "name": "stdout",
     "output_type": "stream",
     "text": [
      "[########################################] | 100% Completed |  2min 36.0s\n"
     ]
    }
   ],
   "source": [
    "# Context manager\n",
    "with pbar:\n",
    "    df.groupby(\"passenger_count\").tip_amount.mean().compute()"
   ]
  },
  {
   "cell_type": "markdown",
   "id": "f918cefb-67a0-494c-8498-6b0216c7aa41",
   "metadata": {},
   "source": [
    "### Profilers"
   ]
  },
  {
   "cell_type": "code",
   "execution_count": 9,
   "id": "d2332862-88b7-4d2c-adf6-2681aa956925",
   "metadata": {},
   "outputs": [],
   "source": [
    "from dask.diagnostics import Profiler, ResourceProfiler, CacheProfiler"
   ]
  },
  {
   "cell_type": "code",
   "execution_count": 10,
   "id": "3c4b4694-d820-422e-b828-90a06c7d8c5d",
   "metadata": {},
   "outputs": [],
   "source": [
    "prof = Profiler()\n",
    "rprof = ResourceProfiler()\n",
    "cprof = CacheProfiler()"
   ]
  },
  {
   "cell_type": "code",
   "execution_count": 12,
   "id": "49e6a01d-ff94-429e-a613-44fe7579611e",
   "metadata": {},
   "outputs": [],
   "source": [
    "with prof, rprof, cprof:\n",
    "    df.groupby(\"passenger_count\").tip_amount.mean().compute()"
   ]
  },
  {
   "cell_type": "code",
   "execution_count": 11,
   "id": "c349163a-f3fc-4196-a1d3-f0b941611092",
   "metadata": {
    "tags": []
   },
   "outputs": [
    {
     "data": {
      "text/html": [
       "\n",
       "    <div class=\"bk-root\">\n",
       "        <a href=\"https://bokeh.org\" target=\"_blank\" class=\"bk-logo bk-logo-small bk-logo-notebook\"></a>\n",
       "        <span id=\"1002\">Loading BokehJS ...</span>\n",
       "    </div>"
      ]
     },
     "metadata": {},
     "output_type": "display_data"
    },
    {
     "data": {
      "application/javascript": [
       "\n",
       "(function(root) {\n",
       "  function now() {\n",
       "    return new Date();\n",
       "  }\n",
       "\n",
       "  var force = true;\n",
       "\n",
       "  if (typeof root._bokeh_onload_callbacks === \"undefined\" || force === true) {\n",
       "    root._bokeh_onload_callbacks = [];\n",
       "    root._bokeh_is_loading = undefined;\n",
       "  }\n",
       "\n",
       "  var JS_MIME_TYPE = 'application/javascript';\n",
       "  var HTML_MIME_TYPE = 'text/html';\n",
       "  var EXEC_MIME_TYPE = 'application/vnd.bokehjs_exec.v0+json';\n",
       "  var CLASS_NAME = 'output_bokeh rendered_html';\n",
       "\n",
       "  /**\n",
       "   * Render data to the DOM node\n",
       "   */\n",
       "  function render(props, node) {\n",
       "    var script = document.createElement(\"script\");\n",
       "    node.appendChild(script);\n",
       "  }\n",
       "\n",
       "  /**\n",
       "   * Handle when an output is cleared or removed\n",
       "   */\n",
       "  function handleClearOutput(event, handle) {\n",
       "    var cell = handle.cell;\n",
       "\n",
       "    var id = cell.output_area._bokeh_element_id;\n",
       "    var server_id = cell.output_area._bokeh_server_id;\n",
       "    // Clean up Bokeh references\n",
       "    if (id != null && id in Bokeh.index) {\n",
       "      Bokeh.index[id].model.document.clear();\n",
       "      delete Bokeh.index[id];\n",
       "    }\n",
       "\n",
       "    if (server_id !== undefined) {\n",
       "      // Clean up Bokeh references\n",
       "      var cmd = \"from bokeh.io.state import curstate; print(curstate().uuid_to_server['\" + server_id + \"'].get_sessions()[0].document.roots[0]._id)\";\n",
       "      cell.notebook.kernel.execute(cmd, {\n",
       "        iopub: {\n",
       "          output: function(msg) {\n",
       "            var id = msg.content.text.trim();\n",
       "            if (id in Bokeh.index) {\n",
       "              Bokeh.index[id].model.document.clear();\n",
       "              delete Bokeh.index[id];\n",
       "            }\n",
       "          }\n",
       "        }\n",
       "      });\n",
       "      // Destroy server and session\n",
       "      var cmd = \"import bokeh.io.notebook as ion; ion.destroy_server('\" + server_id + \"')\";\n",
       "      cell.notebook.kernel.execute(cmd);\n",
       "    }\n",
       "  }\n",
       "\n",
       "  /**\n",
       "   * Handle when a new output is added\n",
       "   */\n",
       "  function handleAddOutput(event, handle) {\n",
       "    var output_area = handle.output_area;\n",
       "    var output = handle.output;\n",
       "\n",
       "    // limit handleAddOutput to display_data with EXEC_MIME_TYPE content only\n",
       "    if ((output.output_type != \"display_data\") || (!Object.prototype.hasOwnProperty.call(output.data, EXEC_MIME_TYPE))) {\n",
       "      return\n",
       "    }\n",
       "\n",
       "    var toinsert = output_area.element.find(\".\" + CLASS_NAME.split(' ')[0]);\n",
       "\n",
       "    if (output.metadata[EXEC_MIME_TYPE][\"id\"] !== undefined) {\n",
       "      toinsert[toinsert.length - 1].firstChild.textContent = output.data[JS_MIME_TYPE];\n",
       "      // store reference to embed id on output_area\n",
       "      output_area._bokeh_element_id = output.metadata[EXEC_MIME_TYPE][\"id\"];\n",
       "    }\n",
       "    if (output.metadata[EXEC_MIME_TYPE][\"server_id\"] !== undefined) {\n",
       "      var bk_div = document.createElement(\"div\");\n",
       "      bk_div.innerHTML = output.data[HTML_MIME_TYPE];\n",
       "      var script_attrs = bk_div.children[0].attributes;\n",
       "      for (var i = 0; i < script_attrs.length; i++) {\n",
       "        toinsert[toinsert.length - 1].firstChild.setAttribute(script_attrs[i].name, script_attrs[i].value);\n",
       "        toinsert[toinsert.length - 1].firstChild.textContent = bk_div.children[0].textContent\n",
       "      }\n",
       "      // store reference to server id on output_area\n",
       "      output_area._bokeh_server_id = output.metadata[EXEC_MIME_TYPE][\"server_id\"];\n",
       "    }\n",
       "  }\n",
       "\n",
       "  function register_renderer(events, OutputArea) {\n",
       "\n",
       "    function append_mime(data, metadata, element) {\n",
       "      // create a DOM node to render to\n",
       "      var toinsert = this.create_output_subarea(\n",
       "        metadata,\n",
       "        CLASS_NAME,\n",
       "        EXEC_MIME_TYPE\n",
       "      );\n",
       "      this.keyboard_manager.register_events(toinsert);\n",
       "      // Render to node\n",
       "      var props = {data: data, metadata: metadata[EXEC_MIME_TYPE]};\n",
       "      render(props, toinsert[toinsert.length - 1]);\n",
       "      element.append(toinsert);\n",
       "      return toinsert\n",
       "    }\n",
       "\n",
       "    /* Handle when an output is cleared or removed */\n",
       "    events.on('clear_output.CodeCell', handleClearOutput);\n",
       "    events.on('delete.Cell', handleClearOutput);\n",
       "\n",
       "    /* Handle when a new output is added */\n",
       "    events.on('output_added.OutputArea', handleAddOutput);\n",
       "\n",
       "    /**\n",
       "     * Register the mime type and append_mime function with output_area\n",
       "     */\n",
       "    OutputArea.prototype.register_mime_type(EXEC_MIME_TYPE, append_mime, {\n",
       "      /* Is output safe? */\n",
       "      safe: true,\n",
       "      /* Index of renderer in `output_area.display_order` */\n",
       "      index: 0\n",
       "    });\n",
       "  }\n",
       "\n",
       "  // register the mime type if in Jupyter Notebook environment and previously unregistered\n",
       "  if (root.Jupyter !== undefined) {\n",
       "    var events = require('base/js/events');\n",
       "    var OutputArea = require('notebook/js/outputarea').OutputArea;\n",
       "\n",
       "    if (OutputArea.prototype.mime_types().indexOf(EXEC_MIME_TYPE) == -1) {\n",
       "      register_renderer(events, OutputArea);\n",
       "    }\n",
       "  }\n",
       "\n",
       "  \n",
       "  if (typeof (root._bokeh_timeout) === \"undefined\" || force === true) {\n",
       "    root._bokeh_timeout = Date.now() + 5000;\n",
       "    root._bokeh_failed_load = false;\n",
       "  }\n",
       "\n",
       "  var NB_LOAD_WARNING = {'data': {'text/html':\n",
       "     \"<div style='background-color: #fdd'>\\n\"+\n",
       "     \"<p>\\n\"+\n",
       "     \"BokehJS does not appear to have successfully loaded. If loading BokehJS from CDN, this \\n\"+\n",
       "     \"may be due to a slow or bad network connection. Possible fixes:\\n\"+\n",
       "     \"</p>\\n\"+\n",
       "     \"<ul>\\n\"+\n",
       "     \"<li>re-rerun `output_notebook()` to attempt to load from CDN again, or</li>\\n\"+\n",
       "     \"<li>use INLINE resources instead, as so:</li>\\n\"+\n",
       "     \"</ul>\\n\"+\n",
       "     \"<code>\\n\"+\n",
       "     \"from bokeh.resources import INLINE\\n\"+\n",
       "     \"output_notebook(resources=INLINE)\\n\"+\n",
       "     \"</code>\\n\"+\n",
       "     \"</div>\"}};\n",
       "\n",
       "  function display_loaded() {\n",
       "    var el = document.getElementById(\"1002\");\n",
       "    if (el != null) {\n",
       "      el.textContent = \"BokehJS is loading...\";\n",
       "    }\n",
       "    if (root.Bokeh !== undefined) {\n",
       "      if (el != null) {\n",
       "        el.textContent = \"BokehJS \" + root.Bokeh.version + \" successfully loaded.\";\n",
       "      }\n",
       "    } else if (Date.now() < root._bokeh_timeout) {\n",
       "      setTimeout(display_loaded, 100)\n",
       "    }\n",
       "  }\n",
       "\n",
       "\n",
       "  function run_callbacks() {\n",
       "    try {\n",
       "      root._bokeh_onload_callbacks.forEach(function(callback) {\n",
       "        if (callback != null)\n",
       "          callback();\n",
       "      });\n",
       "    } finally {\n",
       "      delete root._bokeh_onload_callbacks\n",
       "    }\n",
       "    console.debug(\"Bokeh: all callbacks have finished\");\n",
       "  }\n",
       "\n",
       "  function load_libs(css_urls, js_urls, callback) {\n",
       "    if (css_urls == null) css_urls = [];\n",
       "    if (js_urls == null) js_urls = [];\n",
       "\n",
       "    root._bokeh_onload_callbacks.push(callback);\n",
       "    if (root._bokeh_is_loading > 0) {\n",
       "      console.debug(\"Bokeh: BokehJS is being loaded, scheduling callback at\", now());\n",
       "      return null;\n",
       "    }\n",
       "    if (js_urls == null || js_urls.length === 0) {\n",
       "      run_callbacks();\n",
       "      return null;\n",
       "    }\n",
       "    console.debug(\"Bokeh: BokehJS not loaded, scheduling load and callback at\", now());\n",
       "    root._bokeh_is_loading = css_urls.length + js_urls.length;\n",
       "\n",
       "    function on_load() {\n",
       "      root._bokeh_is_loading--;\n",
       "      if (root._bokeh_is_loading === 0) {\n",
       "        console.debug(\"Bokeh: all BokehJS libraries/stylesheets loaded\");\n",
       "        run_callbacks()\n",
       "      }\n",
       "    }\n",
       "\n",
       "    function on_error(url) {\n",
       "      console.error(\"failed to load \" + url);\n",
       "    }\n",
       "\n",
       "    for (let i = 0; i < css_urls.length; i++) {\n",
       "      const url = css_urls[i];\n",
       "      const element = document.createElement(\"link\");\n",
       "      element.onload = on_load;\n",
       "      element.onerror = on_error.bind(null, url);\n",
       "      element.rel = \"stylesheet\";\n",
       "      element.type = \"text/css\";\n",
       "      element.href = url;\n",
       "      console.debug(\"Bokeh: injecting link tag for BokehJS stylesheet: \", url);\n",
       "      document.body.appendChild(element);\n",
       "    }\n",
       "\n",
       "    const hashes = {\"https://cdn.bokeh.org/bokeh/release/bokeh-2.3.3.min.js\": \"dM3QQsP+wXdHg42wTqW85BjZQdLNNIXqlPw/BgKoExPmTG7ZLML4EGqLMfqHT6ON\", \"https://cdn.bokeh.org/bokeh/release/bokeh-tables-2.3.3.min.js\": \"8x57I4YuIfu8XyZfFo0XVr2WAT8EK4rh/uDe3wF7YuW2FNUSNEpJbsPaB1nJ2fz2\", \"https://cdn.bokeh.org/bokeh/release/bokeh-widgets-2.3.3.min.js\": \"3QTqdz9LyAm2i0sG5XTePsHec3UHWwVsrOL68SYRoAXsafvfAyqtQ+h440+qIBhS\"};\n",
       "\n",
       "    for (let i = 0; i < js_urls.length; i++) {\n",
       "      const url = js_urls[i];\n",
       "      const element = document.createElement('script');\n",
       "      element.onload = on_load;\n",
       "      element.onerror = on_error.bind(null, url);\n",
       "      element.async = false;\n",
       "      element.src = url;\n",
       "      if (url in hashes) {\n",
       "        element.crossOrigin = \"anonymous\";\n",
       "        element.integrity = \"sha384-\" + hashes[url];\n",
       "      }\n",
       "      console.debug(\"Bokeh: injecting script tag for BokehJS library: \", url);\n",
       "      document.head.appendChild(element);\n",
       "    }\n",
       "  };\n",
       "\n",
       "  function inject_raw_css(css) {\n",
       "    const element = document.createElement(\"style\");\n",
       "    element.appendChild(document.createTextNode(css));\n",
       "    document.body.appendChild(element);\n",
       "  }\n",
       "\n",
       "  \n",
       "  var js_urls = [\"https://cdn.bokeh.org/bokeh/release/bokeh-2.3.3.min.js\", \"https://cdn.bokeh.org/bokeh/release/bokeh-widgets-2.3.3.min.js\", \"https://cdn.bokeh.org/bokeh/release/bokeh-tables-2.3.3.min.js\"];\n",
       "  var css_urls = [];\n",
       "  \n",
       "\n",
       "  var inline_js = [\n",
       "    function(Bokeh) {\n",
       "      Bokeh.set_log_level(\"info\");\n",
       "    },\n",
       "    function(Bokeh) {\n",
       "    \n",
       "    \n",
       "    }\n",
       "  ];\n",
       "\n",
       "  function run_inline_js() {\n",
       "    \n",
       "    if (root.Bokeh !== undefined || force === true) {\n",
       "      \n",
       "    for (var i = 0; i < inline_js.length; i++) {\n",
       "      inline_js[i].call(root, root.Bokeh);\n",
       "    }\n",
       "    if (force === true) {\n",
       "        display_loaded();\n",
       "      }} else if (Date.now() < root._bokeh_timeout) {\n",
       "      setTimeout(run_inline_js, 100);\n",
       "    } else if (!root._bokeh_failed_load) {\n",
       "      console.log(\"Bokeh: BokehJS failed to load within specified timeout.\");\n",
       "      root._bokeh_failed_load = true;\n",
       "    } else if (force !== true) {\n",
       "      var cell = $(document.getElementById(\"1002\")).parents('.cell').data().cell;\n",
       "      cell.output_area.append_execute_result(NB_LOAD_WARNING)\n",
       "    }\n",
       "\n",
       "  }\n",
       "\n",
       "  if (root._bokeh_is_loading === 0) {\n",
       "    console.debug(\"Bokeh: BokehJS loaded, going straight to plotting\");\n",
       "    run_inline_js();\n",
       "  } else {\n",
       "    load_libs(css_urls, js_urls, function() {\n",
       "      console.debug(\"Bokeh: BokehJS plotting callback run at\", now());\n",
       "      run_inline_js();\n",
       "    });\n",
       "  }\n",
       "}(window));"
      ],
      "application/vnd.bokehjs_load.v0+json": "\n(function(root) {\n  function now() {\n    return new Date();\n  }\n\n  var force = true;\n\n  if (typeof root._bokeh_onload_callbacks === \"undefined\" || force === true) {\n    root._bokeh_onload_callbacks = [];\n    root._bokeh_is_loading = undefined;\n  }\n\n  \n\n  \n  if (typeof (root._bokeh_timeout) === \"undefined\" || force === true) {\n    root._bokeh_timeout = Date.now() + 5000;\n    root._bokeh_failed_load = false;\n  }\n\n  var NB_LOAD_WARNING = {'data': {'text/html':\n     \"<div style='background-color: #fdd'>\\n\"+\n     \"<p>\\n\"+\n     \"BokehJS does not appear to have successfully loaded. If loading BokehJS from CDN, this \\n\"+\n     \"may be due to a slow or bad network connection. Possible fixes:\\n\"+\n     \"</p>\\n\"+\n     \"<ul>\\n\"+\n     \"<li>re-rerun `output_notebook()` to attempt to load from CDN again, or</li>\\n\"+\n     \"<li>use INLINE resources instead, as so:</li>\\n\"+\n     \"</ul>\\n\"+\n     \"<code>\\n\"+\n     \"from bokeh.resources import INLINE\\n\"+\n     \"output_notebook(resources=INLINE)\\n\"+\n     \"</code>\\n\"+\n     \"</div>\"}};\n\n  function display_loaded() {\n    var el = document.getElementById(\"1002\");\n    if (el != null) {\n      el.textContent = \"BokehJS is loading...\";\n    }\n    if (root.Bokeh !== undefined) {\n      if (el != null) {\n        el.textContent = \"BokehJS \" + root.Bokeh.version + \" successfully loaded.\";\n      }\n    } else if (Date.now() < root._bokeh_timeout) {\n      setTimeout(display_loaded, 100)\n    }\n  }\n\n\n  function run_callbacks() {\n    try {\n      root._bokeh_onload_callbacks.forEach(function(callback) {\n        if (callback != null)\n          callback();\n      });\n    } finally {\n      delete root._bokeh_onload_callbacks\n    }\n    console.debug(\"Bokeh: all callbacks have finished\");\n  }\n\n  function load_libs(css_urls, js_urls, callback) {\n    if (css_urls == null) css_urls = [];\n    if (js_urls == null) js_urls = [];\n\n    root._bokeh_onload_callbacks.push(callback);\n    if (root._bokeh_is_loading > 0) {\n      console.debug(\"Bokeh: BokehJS is being loaded, scheduling callback at\", now());\n      return null;\n    }\n    if (js_urls == null || js_urls.length === 0) {\n      run_callbacks();\n      return null;\n    }\n    console.debug(\"Bokeh: BokehJS not loaded, scheduling load and callback at\", now());\n    root._bokeh_is_loading = css_urls.length + js_urls.length;\n\n    function on_load() {\n      root._bokeh_is_loading--;\n      if (root._bokeh_is_loading === 0) {\n        console.debug(\"Bokeh: all BokehJS libraries/stylesheets loaded\");\n        run_callbacks()\n      }\n    }\n\n    function on_error(url) {\n      console.error(\"failed to load \" + url);\n    }\n\n    for (let i = 0; i < css_urls.length; i++) {\n      const url = css_urls[i];\n      const element = document.createElement(\"link\");\n      element.onload = on_load;\n      element.onerror = on_error.bind(null, url);\n      element.rel = \"stylesheet\";\n      element.type = \"text/css\";\n      element.href = url;\n      console.debug(\"Bokeh: injecting link tag for BokehJS stylesheet: \", url);\n      document.body.appendChild(element);\n    }\n\n    const hashes = {\"https://cdn.bokeh.org/bokeh/release/bokeh-2.3.3.min.js\": \"dM3QQsP+wXdHg42wTqW85BjZQdLNNIXqlPw/BgKoExPmTG7ZLML4EGqLMfqHT6ON\", \"https://cdn.bokeh.org/bokeh/release/bokeh-tables-2.3.3.min.js\": \"8x57I4YuIfu8XyZfFo0XVr2WAT8EK4rh/uDe3wF7YuW2FNUSNEpJbsPaB1nJ2fz2\", \"https://cdn.bokeh.org/bokeh/release/bokeh-widgets-2.3.3.min.js\": \"3QTqdz9LyAm2i0sG5XTePsHec3UHWwVsrOL68SYRoAXsafvfAyqtQ+h440+qIBhS\"};\n\n    for (let i = 0; i < js_urls.length; i++) {\n      const url = js_urls[i];\n      const element = document.createElement('script');\n      element.onload = on_load;\n      element.onerror = on_error.bind(null, url);\n      element.async = false;\n      element.src = url;\n      if (url in hashes) {\n        element.crossOrigin = \"anonymous\";\n        element.integrity = \"sha384-\" + hashes[url];\n      }\n      console.debug(\"Bokeh: injecting script tag for BokehJS library: \", url);\n      document.head.appendChild(element);\n    }\n  };\n\n  function inject_raw_css(css) {\n    const element = document.createElement(\"style\");\n    element.appendChild(document.createTextNode(css));\n    document.body.appendChild(element);\n  }\n\n  \n  var js_urls = [\"https://cdn.bokeh.org/bokeh/release/bokeh-2.3.3.min.js\", \"https://cdn.bokeh.org/bokeh/release/bokeh-widgets-2.3.3.min.js\", \"https://cdn.bokeh.org/bokeh/release/bokeh-tables-2.3.3.min.js\"];\n  var css_urls = [];\n  \n\n  var inline_js = [\n    function(Bokeh) {\n      Bokeh.set_log_level(\"info\");\n    },\n    function(Bokeh) {\n    \n    \n    }\n  ];\n\n  function run_inline_js() {\n    \n    if (root.Bokeh !== undefined || force === true) {\n      \n    for (var i = 0; i < inline_js.length; i++) {\n      inline_js[i].call(root, root.Bokeh);\n    }\n    if (force === true) {\n        display_loaded();\n      }} else if (Date.now() < root._bokeh_timeout) {\n      setTimeout(run_inline_js, 100);\n    } else if (!root._bokeh_failed_load) {\n      console.log(\"Bokeh: BokehJS failed to load within specified timeout.\");\n      root._bokeh_failed_load = true;\n    } else if (force !== true) {\n      var cell = $(document.getElementById(\"1002\")).parents('.cell').data().cell;\n      cell.output_area.append_execute_result(NB_LOAD_WARNING)\n    }\n\n  }\n\n  if (root._bokeh_is_loading === 0) {\n    console.debug(\"Bokeh: BokehJS loaded, going straight to plotting\");\n    run_inline_js();\n  } else {\n    load_libs(css_urls, js_urls, function() {\n      console.debug(\"Bokeh: BokehJS plotting callback run at\", now());\n      run_inline_js();\n    });\n  }\n}(window));"
     },
     "metadata": {},
     "output_type": "display_data"
    }
   ],
   "source": [
    "from bokeh.plotting import output_notebook\n",
    "output_notebook()"
   ]
  },
  {
   "cell_type": "code",
   "execution_count": 13,
   "id": "ef6c8c03-4436-44f9-b713-c80737d46e09",
   "metadata": {},
   "outputs": [
    {
     "data": {
      "text/plain": [
       "[TaskData(key=('read-csv-19b96a3dea475d91fd0eedeb908a6a93', 0), task=(subgraph_callable-e53d7957-2f8a-44ae-897e-6cbc0f56df26, [(<function read_block_from_file at 0x7f878de603a0>, <OpenFile 'nyc-tlc/trip data/yellow_tripdata_2019-01.csv'>, 0, 64000000, b'\\n'), None, True, False]), start_time=729.439709938, end_time=846.541354457, worker_id=123145707692032),\n",
       " TaskData(key=('read-csv-19b96a3dea475d91fd0eedeb908a6a93', 1), task=(subgraph_callable-e53d7957-2f8a-44ae-897e-6cbc0f56df26, [(<function read_block_from_file at 0x7f878de603a0>, <OpenFile 'nyc-tlc/trip data/yellow_tripdata_2019-01.csv'>, 64000000, 64000000, b'\\n'), None, False, False]), start_time=729.439725731, end_time=853.16867582, worker_id=123145724481536)]"
      ]
     },
     "execution_count": 13,
     "metadata": {},
     "output_type": "execute_result"
    }
   ],
   "source": [
    "prof.results[:2]"
   ]
  },
  {
   "cell_type": "code",
   "execution_count": 14,
   "id": "5d583a69-716c-4c2f-bcf0-3af09f753650",
   "metadata": {},
   "outputs": [
    {
     "data": {
      "text/html": [
       "\n",
       "\n",
       "\n",
       "\n",
       "\n",
       "\n",
       "  <div class=\"bk-root\" id=\"1400b2f0-0e79-44df-b67e-324b03392b90\" data-root-id=\"1003\"></div>\n"
      ]
     },
     "metadata": {},
     "output_type": "display_data"
    },
    {
     "data": {
      "application/javascript": [
       "(function(root) {\n",
       "  function embed_document(root) {\n",
       "    \n",
       "  var docs_json = {\"e426d9bf-0f46-4925-b0cf-fc3f5539bb01\":{\"defs\":[],\"roots\":{\"references\":[{\"attributes\":{\"below\":[{\"id\":\"1014\"}],\"center\":[{\"id\":\"1017\"},{\"id\":\"1020\"}],\"height\":300,\"left\":[{\"id\":\"1018\"}],\"renderers\":[{\"id\":\"1036\"}],\"title\":{\"id\":\"1004\"},\"toolbar\":{\"id\":\"1026\"},\"toolbar_location\":\"above\",\"width\":800,\"x_range\":{\"id\":\"1006\"},\"x_scale\":{\"id\":\"1010\"},\"y_range\":{\"id\":\"1008\"},\"y_scale\":{\"id\":\"1012\"}},\"id\":\"1003\",\"subtype\":\"Figure\",\"type\":\"Plot\"},{\"attributes\":{},\"id\":\"1022\",\"type\":\"SaveTool\"},{\"attributes\":{\"end\":163.88741710300008},\"id\":\"1006\",\"type\":\"Range1d\"},{\"attributes\":{\"axis_label\":\"Worker ID\",\"axis_line_color\":null,\"formatter\":{\"id\":\"1039\"},\"major_label_policy\":{\"id\":\"1040\"},\"major_tick_line_color\":null,\"ticker\":{\"id\":\"1019\"}},\"id\":\"1018\",\"type\":\"CategoricalAxis\"},{\"attributes\":{},\"id\":\"1012\",\"type\":\"CategoricalScale\"},{\"attributes\":{\"fill_color\":{\"field\":\"color\"},\"height\":{\"value\":1},\"line_color\":{\"value\":\"gray\"},\"width\":{\"field\":\"width\"},\"x\":{\"field\":\"x\"},\"y\":{\"field\":\"y\"}},\"id\":\"1034\",\"type\":\"Rect\"},{\"attributes\":{\"axis_label\":\"Time (s)\",\"axis_line_color\":null,\"formatter\":{\"id\":\"1042\"},\"major_label_policy\":{\"id\":\"1043\"},\"major_tick_line_color\":null,\"ticker\":{\"id\":\"1015\"}},\"id\":\"1014\",\"type\":\"LinearAxis\"},{\"attributes\":{\"data\":{\"color\":[\"#35B778\",\"#35B778\",\"#35B778\",\"#35B778\",\"#35B778\",\"#35B778\",\"#35B778\",\"#35B778\",\"#35B778\",\"#35B778\",\"#35B778\",\"#440154\",\"#440154\",\"#440154\",\"#440154\",\"#440154\",\"#440154\",\"#440154\",\"#440154\",\"#440154\",\"#440154\",\"#440154\",\"#440154\",\"#440154\",\"#440154\",\"#440154\",\"#440154\",\"#440154\",\"#440154\",\"#30678D\",\"#30678D\",\"#440154\",\"#440154\",\"#440154\",\"#440154\",\"#30678D\",\"#30678D\",\"#30678D\",\"#30678D\",\"#FDE724\"],\"function\":[\"subgraph_callable-e53d7957-2f8a-44ae-897e-6cbc0f56([read_block_from_file(...), *, *, ...])\",\"subgraph_callable-e53d7957-2f8a-44ae-897e-6cbc0f56([read_block_from_file(...), *, *, ...])\",\"subgraph_callable-e53d7957-2f8a-44ae-897e-6cbc0f56([read_block_from_file(...), *, *, ...])\",\"subgraph_callable-e53d7957-2f8a-44ae-897e-6cbc0f56([read_block_from_file(...), *, *, ...])\",\"subgraph_callable-e53d7957-2f8a-44ae-897e-6cbc0f56([read_block_from_file(...), *, *, ...])\",\"subgraph_callable-e53d7957-2f8a-44ae-897e-6cbc0f56([read_block_from_file(...), *, *, ...])\",\"subgraph_callable-e53d7957-2f8a-44ae-897e-6cbc0f56([read_block_from_file(...), *, *, ...])\",\"subgraph_callable-e53d7957-2f8a-44ae-897e-6cbc0f56([read_block_from_file(...), *, *, ...])\",\"subgraph_callable-e53d7957-2f8a-44ae-897e-6cbc0f56([read_block_from_file(...), *, *, ...])\",\"subgraph_callable-e53d7957-2f8a-44ae-897e-6cbc0f56([read_block_from_file(...), *, *, ...])\",\"subgraph_callable-e53d7957-2f8a-44ae-897e-6cbc0f56([read_block_from_file(...), *, *, ...])\",\"_apply_chunk(_, *, chunk=*, columns=*)\",\"_apply_chunk(_, *, chunk=*, columns=*)\",\"_apply_chunk(_, *, chunk=*, columns=*)\",\"_apply_chunk(_, *, chunk=*, columns=*)\",\"_apply_chunk(_, *, chunk=*, columns=*)\",\"_apply_chunk(_, *, chunk=*, columns=*)\",\"_apply_chunk(_, *, chunk=*, columns=*)\",\"_apply_chunk(_, *, chunk=*, columns=*)\",\"_apply_chunk(_, *, chunk=*, columns=*)\",\"_apply_chunk(_, *, chunk=*, columns=*)\",\"_apply_chunk(_, *, chunk=*, columns=*)\",\"_apply_chunk(_, *, chunk=*, columns=*)\",\"_apply_chunk(_, *, chunk=*, columns=*)\",\"_apply_chunk(_, *, chunk=*, columns=*)\",\"_apply_chunk(_, *, chunk=*, columns=*)\",\"_apply_chunk(_, *, chunk=*, columns=*)\",\"_apply_chunk(_, *, chunk=*, columns=*)\",\"_apply_chunk(_, *, chunk=*, columns=*)\",\"_groupby_aggregate(_concat(...), aggfunc=*, levels=*)\",\"_groupby_aggregate(_concat(...), aggfunc=*, levels=*)\",\"_apply_chunk(_, *, chunk=*, columns=*)\",\"_apply_chunk(_, *, chunk=*, columns=*)\",\"_apply_chunk(_, *, chunk=*, columns=*)\",\"_apply_chunk(_, *, chunk=*, columns=*)\",\"_groupby_aggregate(_concat(...), aggfunc=*, levels=*)\",\"_groupby_aggregate(_concat(...), aggfunc=*, levels=*)\",\"_groupby_aggregate(_concat(...), aggfunc=*, levels=*)\",\"_groupby_aggregate(_concat(...), aggfunc=*, levels=*)\",\"subgraph_callable-ff2ada67-3764-469d-a313-fdcef3cb(...)\"],\"key\":[\"('read-csv-19b96a3dea475d91fd0eedeb908a6a93', 0)\",\"('read-csv-19b96a3dea475d91fd0eedeb908a6a93', 1)\",\"('read-csv-19b96a3dea475d91fd0eedeb908a6a93', 2)\",\"('read-csv-19b96a3dea475d91fd0eedeb908a6a93', 3)\",\"('read-csv-19b96a3dea475d91fd0eedeb908a6a93', 4)\",\"('read-csv-19b96a3dea475d91fd0eedeb908a6a93', 5)\",\"('read-csv-19b96a3dea475d91fd0eedeb908a6a93', 6)\",\"('read-csv-19b96a3dea475d91fd0eedeb908a6a93', 7)\",\"('read-csv-19b96a3dea475d91fd0eedeb908a6a93', 8)\",\"('read-csv-19b96a3dea475d91fd0eedeb908a6a93', 9)\",\"('read-csv-19b96a3dea475d91fd0eedeb908a6a93', 10)\",\"('series-groupby-count-chunk-38a4a221ad975f52964b0d0d2a8b6fe3', 0, 2, 0)\",\"('series-groupby-sum-chunk-d604d332f64b18169a2d61fb195b0fb7', 0, 2, 0)\",\"('series-groupby-count-chunk-38a4a221ad975f52964b0d0d2a8b6fe3', 0, 4, 0)\",\"('series-groupby-sum-chunk-d604d332f64b18169a2d61fb195b0fb7', 0, 4, 0)\",\"('series-groupby-count-chunk-38a4a221ad975f52964b0d0d2a8b6fe3', 0, 7, 0)\",\"('series-groupby-sum-chunk-d604d332f64b18169a2d61fb195b0fb7', 0, 7, 0)\",\"('series-groupby-count-chunk-38a4a221ad975f52964b0d0d2a8b6fe3', 0, 10, 0)\",\"('series-groupby-sum-chunk-d604d332f64b18169a2d61fb195b0fb7', 0, 10, 0)\",\"('series-groupby-count-chunk-38a4a221ad975f52964b0d0d2a8b6fe3', 0, 0, 0)\",\"('series-groupby-sum-chunk-d604d332f64b18169a2d61fb195b0fb7', 0, 0, 0)\",\"('series-groupby-count-chunk-38a4a221ad975f52964b0d0d2a8b6fe3', 0, 8, 0)\",\"('series-groupby-sum-chunk-d604d332f64b18169a2d61fb195b0fb7', 0, 8, 0)\",\"('series-groupby-count-chunk-38a4a221ad975f52964b0d0d2a8b6fe3', 0, 1, 0)\",\"('series-groupby-sum-chunk-d604d332f64b18169a2d61fb195b0fb7', 0, 1, 0)\",\"('series-groupby-count-chunk-38a4a221ad975f52964b0d0d2a8b6fe3', 0, 5, 0)\",\"('series-groupby-sum-chunk-d604d332f64b18169a2d61fb195b0fb7', 0, 5, 0)\",\"('series-groupby-count-chunk-38a4a221ad975f52964b0d0d2a8b6fe3', 0, 9, 0)\",\"('series-groupby-sum-chunk-d604d332f64b18169a2d61fb195b0fb7', 0, 9, 0)\",\"('series-groupby-sum-combine-d604d332f64b18169a2d61fb195b0fb7', 1, 1, 0)\",\"('series-groupby-count-combine-38a4a221ad975f52964b0d0d2a8b6fe3', 1, 1, 0)\",\"('series-groupby-count-chunk-38a4a221ad975f52964b0d0d2a8b6fe3', 0, 6, 0)\",\"('series-groupby-sum-chunk-d604d332f64b18169a2d61fb195b0fb7', 0, 6, 0)\",\"('series-groupby-count-chunk-38a4a221ad975f52964b0d0d2a8b6fe3', 0, 3, 0)\",\"('series-groupby-sum-chunk-d604d332f64b18169a2d61fb195b0fb7', 0, 3, 0)\",\"('series-groupby-count-combine-38a4a221ad975f52964b0d0d2a8b6fe3', 1, 0, 0)\",\"('series-groupby-sum-combine-d604d332f64b18169a2d61fb195b0fb7', 1, 0, 0)\",\"('series-groupby-count-agg-38a4a221ad975f52964b0d0d2a8b6fe3', 0)\",\"('series-groupby-sum-agg-d604d332f64b18169a2d61fb195b0fb7', 0)\",\"('truediv-7336e05562bf0fbd9fba2c4d990e515a', 0)\"],\"width\":[117.10164451900005,123.72895008900002,79.77644039300003,163.818021487,98.00933949,128.68440117699993,131.58079871899997,98.16222991300003,117.84475452800007,130.80759513099997,106.43138097799999,0.01856040000006942,0.050596852000012404,0.022239038000066103,0.056804357000032724,0.0560928380000405,0.01906218900001022,0.01755442600006063,0.039116873000011765,0.06887542399999802,0.031655559999990146,0.056631226000035895,0.019326252999917415,0.025853723000068385,0.05814220600007047,0.1280532089999724,0.08072144400000525,0.054594757000018035,0.018350786000041808,0.03636788799997248,0.0018768749999935608,0.02001531899998099,0.058445072000040454,0.021276949000025525,0.05805950199999188,0.03701262899994617,0.009067065999943225,0.0036300159999882453,0.001722651000022779,0.0004511570000431675],\"x\":[58.55082225950002,61.86449083750006,39.88824246850004,81.90903818150002,49.00470241000005,64.34223843150005,65.79044243850001,49.08116293449996,58.922430046000045,65.40385527750004,53.215753328999995,79.78575195200006,79.80178784800012,98.02050229100007,98.03780455549997,98.19033422400003,98.17183831850014,106.44023079500005,106.45103193550005,117.13609124499999,117.11749887300005,117.87313353900004,117.85450385750005,123.7419027955001,123.7580657960001,128.7484753095,128.724828624,130.83496364550012,130.8168610040001,130.84422936900012,130.86324036050007,131.59085954549994,131.610093108,163.82869834149994,163.84710965300008,163.85785302650004,163.88068374500006,163.878180703,163.8860957615001,163.88719152450005],\"y\":[7,5,11,1,10,4,2,9,6,3,8,12,11,12,11,10,12,9,11,10,8,9,11,12,8,6,7,9,5,12,8,11,7,3,10,9,8,4,6,7]},\"selected\":{\"id\":\"1046\"},\"selection_policy\":{\"id\":\"1045\"}},\"id\":\"1032\",\"type\":\"ColumnDataSource\"},{\"attributes\":{},\"id\":\"1015\",\"type\":\"BasicTicker\"},{\"attributes\":{\"axis\":{\"id\":\"1018\"},\"dimension\":1,\"grid_line_color\":null,\"ticker\":null},\"id\":\"1020\",\"type\":\"Grid\"},{\"attributes\":{\"text\":\"Profile Results\"},\"id\":\"1004\",\"type\":\"Title\"},{\"attributes\":{},\"id\":\"1023\",\"type\":\"ResetTool\"},{\"attributes\":{},\"id\":\"1043\",\"type\":\"AllLabels\"},{\"attributes\":{},\"id\":\"1046\",\"type\":\"Selection\"},{\"attributes\":{\"source\":{\"id\":\"1032\"}},\"id\":\"1037\",\"type\":\"CDSView\"},{\"attributes\":{\"fill_alpha\":{\"value\":0.1},\"fill_color\":{\"field\":\"color\"},\"height\":{\"value\":1},\"line_alpha\":{\"value\":0.1},\"line_color\":{\"value\":\"gray\"},\"width\":{\"field\":\"width\"},\"x\":{\"field\":\"x\"},\"y\":{\"field\":\"y\"}},\"id\":\"1035\",\"type\":\"Rect\"},{\"attributes\":{},\"id\":\"1039\",\"type\":\"CategoricalTickFormatter\"},{\"attributes\":{},\"id\":\"1019\",\"type\":\"CategoricalTicker\"},{\"attributes\":{\"callback\":null,\"point_policy\":\"follow_mouse\",\"tooltips\":\"\\n    <div>\\n        <span style=\\\"font-size: 14px; font-weight: bold;\\\">Key:</span>&nbsp;\\n        <span style=\\\"font-size: 10px; font-family: Monaco, monospace;\\\">@key</span>\\n    </div>\\n    <div>\\n        <span style=\\\"font-size: 14px; font-weight: bold;\\\">Task:</span>&nbsp;\\n        <span style=\\\"font-size: 10px; font-family: Monaco, monospace;\\\">@function</span>\\n    </div>\\n    \"},\"id\":\"1021\",\"type\":\"HoverTool\"},{\"attributes\":{},\"id\":\"1040\",\"type\":\"AllLabels\"},{\"attributes\":{\"dimensions\":\"width\"},\"id\":\"1024\",\"type\":\"WheelZoomTool\"},{\"attributes\":{\"active_multi\":null,\"tools\":[{\"id\":\"1021\"},{\"id\":\"1022\"},{\"id\":\"1023\"},{\"id\":\"1024\"},{\"id\":\"1025\"}]},\"id\":\"1026\",\"type\":\"Toolbar\"},{\"attributes\":{},\"id\":\"1045\",\"type\":\"UnionRenderers\"},{\"attributes\":{\"axis\":{\"id\":\"1014\"},\"grid_line_color\":null,\"ticker\":null},\"id\":\"1017\",\"type\":\"Grid\"},{\"attributes\":{\"dimensions\":\"width\"},\"id\":\"1025\",\"type\":\"PanTool\"},{\"attributes\":{\"factors\":[\"0\",\"1\",\"2\",\"3\",\"4\",\"5\",\"6\",\"7\",\"8\",\"9\",\"10\",\"11\"]},\"id\":\"1008\",\"type\":\"FactorRange\"},{\"attributes\":{\"data_source\":{\"id\":\"1032\"},\"glyph\":{\"id\":\"1034\"},\"hover_glyph\":null,\"muted_glyph\":null,\"nonselection_glyph\":{\"id\":\"1035\"},\"view\":{\"id\":\"1037\"}},\"id\":\"1036\",\"type\":\"GlyphRenderer\"},{\"attributes\":{},\"id\":\"1010\",\"type\":\"LinearScale\"},{\"attributes\":{},\"id\":\"1042\",\"type\":\"BasicTickFormatter\"}],\"root_ids\":[\"1003\"]},\"title\":\"Bokeh Application\",\"version\":\"2.3.3\"}};\n",
       "  var render_items = [{\"docid\":\"e426d9bf-0f46-4925-b0cf-fc3f5539bb01\",\"root_ids\":[\"1003\"],\"roots\":{\"1003\":\"1400b2f0-0e79-44df-b67e-324b03392b90\"}}];\n",
       "  root.Bokeh.embed.embed_items_notebook(docs_json, render_items);\n",
       "\n",
       "  }\n",
       "  if (root.Bokeh !== undefined) {\n",
       "    embed_document(root);\n",
       "  } else {\n",
       "    var attempts = 0;\n",
       "    var timer = setInterval(function(root) {\n",
       "      if (root.Bokeh !== undefined) {\n",
       "        clearInterval(timer);\n",
       "        embed_document(root);\n",
       "      } else {\n",
       "        attempts++;\n",
       "        if (attempts > 100) {\n",
       "          clearInterval(timer);\n",
       "          console.log(\"Bokeh: ERROR: Unable to run BokehJS code because BokehJS library is missing\");\n",
       "        }\n",
       "      }\n",
       "    }, 10, root)\n",
       "  }\n",
       "})(window);"
      ],
      "application/vnd.bokehjs_exec.v0+json": ""
     },
     "metadata": {
      "application/vnd.bokehjs_exec.v0+json": {
       "id": "1003"
      }
     },
     "output_type": "display_data"
    },
    {
     "data": {
      "text/html": [
       "<div style=\"display: table;\"><div style=\"display: table-row;\"><div style=\"display: table-cell;\"><b title=\"bokeh.plotting.figure.Figure\">Figure</b>(</div><div style=\"display: table-cell;\">id&nbsp;=&nbsp;'1003', <span id=\"1102\" style=\"cursor: pointer;\">&hellip;)</span></div></div><div class=\"1101\" style=\"display: none;\"><div style=\"display: table-cell;\"></div><div style=\"display: table-cell;\">above&nbsp;=&nbsp;[],</div></div><div class=\"1101\" style=\"display: none;\"><div style=\"display: table-cell;\"></div><div style=\"display: table-cell;\">align&nbsp;=&nbsp;'start',</div></div><div class=\"1101\" style=\"display: none;\"><div style=\"display: table-cell;\"></div><div style=\"display: table-cell;\">aspect_ratio&nbsp;=&nbsp;None,</div></div><div class=\"1101\" style=\"display: none;\"><div style=\"display: table-cell;\"></div><div style=\"display: table-cell;\">aspect_scale&nbsp;=&nbsp;1,</div></div><div class=\"1101\" style=\"display: none;\"><div style=\"display: table-cell;\"></div><div style=\"display: table-cell;\">background&nbsp;=&nbsp;None,</div></div><div class=\"1101\" style=\"display: none;\"><div style=\"display: table-cell;\"></div><div style=\"display: table-cell;\">background_fill_alpha&nbsp;=&nbsp;1.0,</div></div><div class=\"1101\" style=\"display: none;\"><div style=\"display: table-cell;\"></div><div style=\"display: table-cell;\">background_fill_color&nbsp;=&nbsp;'#ffffff',</div></div><div class=\"1101\" style=\"display: none;\"><div style=\"display: table-cell;\"></div><div style=\"display: table-cell;\">below&nbsp;=&nbsp;[LinearAxis(id='1014', ...)],</div></div><div class=\"1101\" style=\"display: none;\"><div style=\"display: table-cell;\"></div><div style=\"display: table-cell;\">border_fill_alpha&nbsp;=&nbsp;1.0,</div></div><div class=\"1101\" style=\"display: none;\"><div style=\"display: table-cell;\"></div><div style=\"display: table-cell;\">border_fill_color&nbsp;=&nbsp;'#ffffff',</div></div><div class=\"1101\" style=\"display: none;\"><div style=\"display: table-cell;\"></div><div style=\"display: table-cell;\">center&nbsp;=&nbsp;[Grid(id='1017', ...), Grid(id='1020', ...)],</div></div><div class=\"1101\" style=\"display: none;\"><div style=\"display: table-cell;\"></div><div style=\"display: table-cell;\">css_classes&nbsp;=&nbsp;[],</div></div><div class=\"1101\" style=\"display: none;\"><div style=\"display: table-cell;\"></div><div style=\"display: table-cell;\">disabled&nbsp;=&nbsp;False,</div></div><div class=\"1101\" style=\"display: none;\"><div style=\"display: table-cell;\"></div><div style=\"display: table-cell;\">extra_x_ranges&nbsp;=&nbsp;{},</div></div><div class=\"1101\" style=\"display: none;\"><div style=\"display: table-cell;\"></div><div style=\"display: table-cell;\">extra_y_ranges&nbsp;=&nbsp;{},</div></div><div class=\"1101\" style=\"display: none;\"><div style=\"display: table-cell;\"></div><div style=\"display: table-cell;\">frame_height&nbsp;=&nbsp;None,</div></div><div class=\"1101\" style=\"display: none;\"><div style=\"display: table-cell;\"></div><div style=\"display: table-cell;\">frame_width&nbsp;=&nbsp;None,</div></div><div class=\"1101\" style=\"display: none;\"><div style=\"display: table-cell;\"></div><div style=\"display: table-cell;\">height&nbsp;=&nbsp;300,</div></div><div class=\"1101\" style=\"display: none;\"><div style=\"display: table-cell;\"></div><div style=\"display: table-cell;\">height_policy&nbsp;=&nbsp;'auto',</div></div><div class=\"1101\" style=\"display: none;\"><div style=\"display: table-cell;\"></div><div style=\"display: table-cell;\">hidpi&nbsp;=&nbsp;True,</div></div><div class=\"1101\" style=\"display: none;\"><div style=\"display: table-cell;\"></div><div style=\"display: table-cell;\">inner_height&nbsp;=&nbsp;0,</div></div><div class=\"1101\" style=\"display: none;\"><div style=\"display: table-cell;\"></div><div style=\"display: table-cell;\">inner_width&nbsp;=&nbsp;0,</div></div><div class=\"1101\" style=\"display: none;\"><div style=\"display: table-cell;\"></div><div style=\"display: table-cell;\">js_event_callbacks&nbsp;=&nbsp;{},</div></div><div class=\"1101\" style=\"display: none;\"><div style=\"display: table-cell;\"></div><div style=\"display: table-cell;\">js_property_callbacks&nbsp;=&nbsp;{},</div></div><div class=\"1101\" style=\"display: none;\"><div style=\"display: table-cell;\"></div><div style=\"display: table-cell;\">left&nbsp;=&nbsp;[CategoricalAxis(id='1018', ...)],</div></div><div class=\"1101\" style=\"display: none;\"><div style=\"display: table-cell;\"></div><div style=\"display: table-cell;\">lod_factor&nbsp;=&nbsp;10,</div></div><div class=\"1101\" style=\"display: none;\"><div style=\"display: table-cell;\"></div><div style=\"display: table-cell;\">lod_interval&nbsp;=&nbsp;300,</div></div><div class=\"1101\" style=\"display: none;\"><div style=\"display: table-cell;\"></div><div style=\"display: table-cell;\">lod_threshold&nbsp;=&nbsp;2000,</div></div><div class=\"1101\" style=\"display: none;\"><div style=\"display: table-cell;\"></div><div style=\"display: table-cell;\">lod_timeout&nbsp;=&nbsp;500,</div></div><div class=\"1101\" style=\"display: none;\"><div style=\"display: table-cell;\"></div><div style=\"display: table-cell;\">margin&nbsp;=&nbsp;(0, 0, 0, 0),</div></div><div class=\"1101\" style=\"display: none;\"><div style=\"display: table-cell;\"></div><div style=\"display: table-cell;\">match_aspect&nbsp;=&nbsp;False,</div></div><div class=\"1101\" style=\"display: none;\"><div style=\"display: table-cell;\"></div><div style=\"display: table-cell;\">max_height&nbsp;=&nbsp;None,</div></div><div class=\"1101\" style=\"display: none;\"><div style=\"display: table-cell;\"></div><div style=\"display: table-cell;\">max_width&nbsp;=&nbsp;None,</div></div><div class=\"1101\" style=\"display: none;\"><div style=\"display: table-cell;\"></div><div style=\"display: table-cell;\">min_border&nbsp;=&nbsp;5,</div></div><div class=\"1101\" style=\"display: none;\"><div style=\"display: table-cell;\"></div><div style=\"display: table-cell;\">min_border_bottom&nbsp;=&nbsp;None,</div></div><div class=\"1101\" style=\"display: none;\"><div style=\"display: table-cell;\"></div><div style=\"display: table-cell;\">min_border_left&nbsp;=&nbsp;None,</div></div><div class=\"1101\" style=\"display: none;\"><div style=\"display: table-cell;\"></div><div style=\"display: table-cell;\">min_border_right&nbsp;=&nbsp;None,</div></div><div class=\"1101\" style=\"display: none;\"><div style=\"display: table-cell;\"></div><div style=\"display: table-cell;\">min_border_top&nbsp;=&nbsp;None,</div></div><div class=\"1101\" style=\"display: none;\"><div style=\"display: table-cell;\"></div><div style=\"display: table-cell;\">min_height&nbsp;=&nbsp;None,</div></div><div class=\"1101\" style=\"display: none;\"><div style=\"display: table-cell;\"></div><div style=\"display: table-cell;\">min_width&nbsp;=&nbsp;None,</div></div><div class=\"1101\" style=\"display: none;\"><div style=\"display: table-cell;\"></div><div style=\"display: table-cell;\">name&nbsp;=&nbsp;None,</div></div><div class=\"1101\" style=\"display: none;\"><div style=\"display: table-cell;\"></div><div style=\"display: table-cell;\">outer_height&nbsp;=&nbsp;0,</div></div><div class=\"1101\" style=\"display: none;\"><div style=\"display: table-cell;\"></div><div style=\"display: table-cell;\">outer_width&nbsp;=&nbsp;0,</div></div><div class=\"1101\" style=\"display: none;\"><div style=\"display: table-cell;\"></div><div style=\"display: table-cell;\">outline_line_alpha&nbsp;=&nbsp;1.0,</div></div><div class=\"1101\" style=\"display: none;\"><div style=\"display: table-cell;\"></div><div style=\"display: table-cell;\">outline_line_cap&nbsp;=&nbsp;'butt',</div></div><div class=\"1101\" style=\"display: none;\"><div style=\"display: table-cell;\"></div><div style=\"display: table-cell;\">outline_line_color&nbsp;=&nbsp;'#e5e5e5',</div></div><div class=\"1101\" style=\"display: none;\"><div style=\"display: table-cell;\"></div><div style=\"display: table-cell;\">outline_line_dash&nbsp;=&nbsp;[],</div></div><div class=\"1101\" style=\"display: none;\"><div style=\"display: table-cell;\"></div><div style=\"display: table-cell;\">outline_line_dash_offset&nbsp;=&nbsp;0,</div></div><div class=\"1101\" style=\"display: none;\"><div style=\"display: table-cell;\"></div><div style=\"display: table-cell;\">outline_line_join&nbsp;=&nbsp;'bevel',</div></div><div class=\"1101\" style=\"display: none;\"><div style=\"display: table-cell;\"></div><div style=\"display: table-cell;\">outline_line_width&nbsp;=&nbsp;1,</div></div><div class=\"1101\" style=\"display: none;\"><div style=\"display: table-cell;\"></div><div style=\"display: table-cell;\">output_backend&nbsp;=&nbsp;'canvas',</div></div><div class=\"1101\" style=\"display: none;\"><div style=\"display: table-cell;\"></div><div style=\"display: table-cell;\">renderers&nbsp;=&nbsp;[GlyphRenderer(id='1036', ...)],</div></div><div class=\"1101\" style=\"display: none;\"><div style=\"display: table-cell;\"></div><div style=\"display: table-cell;\">reset_policy&nbsp;=&nbsp;'standard',</div></div><div class=\"1101\" style=\"display: none;\"><div style=\"display: table-cell;\"></div><div style=\"display: table-cell;\">right&nbsp;=&nbsp;[],</div></div><div class=\"1101\" style=\"display: none;\"><div style=\"display: table-cell;\"></div><div style=\"display: table-cell;\">sizing_mode&nbsp;=&nbsp;None,</div></div><div class=\"1101\" style=\"display: none;\"><div style=\"display: table-cell;\"></div><div style=\"display: table-cell;\">subscribed_events&nbsp;=&nbsp;[],</div></div><div class=\"1101\" style=\"display: none;\"><div style=\"display: table-cell;\"></div><div style=\"display: table-cell;\">syncable&nbsp;=&nbsp;True,</div></div><div class=\"1101\" style=\"display: none;\"><div style=\"display: table-cell;\"></div><div style=\"display: table-cell;\">tags&nbsp;=&nbsp;[],</div></div><div class=\"1101\" style=\"display: none;\"><div style=\"display: table-cell;\"></div><div style=\"display: table-cell;\">title&nbsp;=&nbsp;Title(id='1004', ...),</div></div><div class=\"1101\" style=\"display: none;\"><div style=\"display: table-cell;\"></div><div style=\"display: table-cell;\">title_location&nbsp;=&nbsp;'above',</div></div><div class=\"1101\" style=\"display: none;\"><div style=\"display: table-cell;\"></div><div style=\"display: table-cell;\">toolbar&nbsp;=&nbsp;Toolbar(id='1026', ...),</div></div><div class=\"1101\" style=\"display: none;\"><div style=\"display: table-cell;\"></div><div style=\"display: table-cell;\">toolbar_location&nbsp;=&nbsp;'above',</div></div><div class=\"1101\" style=\"display: none;\"><div style=\"display: table-cell;\"></div><div style=\"display: table-cell;\">toolbar_sticky&nbsp;=&nbsp;True,</div></div><div class=\"1101\" style=\"display: none;\"><div style=\"display: table-cell;\"></div><div style=\"display: table-cell;\">visible&nbsp;=&nbsp;True,</div></div><div class=\"1101\" style=\"display: none;\"><div style=\"display: table-cell;\"></div><div style=\"display: table-cell;\">width&nbsp;=&nbsp;800,</div></div><div class=\"1101\" style=\"display: none;\"><div style=\"display: table-cell;\"></div><div style=\"display: table-cell;\">width_policy&nbsp;=&nbsp;'auto',</div></div><div class=\"1101\" style=\"display: none;\"><div style=\"display: table-cell;\"></div><div style=\"display: table-cell;\">x_range&nbsp;=&nbsp;Range1d(id='1006', ...),</div></div><div class=\"1101\" style=\"display: none;\"><div style=\"display: table-cell;\"></div><div style=\"display: table-cell;\">x_scale&nbsp;=&nbsp;LinearScale(id='1010', ...),</div></div><div class=\"1101\" style=\"display: none;\"><div style=\"display: table-cell;\"></div><div style=\"display: table-cell;\">y_range&nbsp;=&nbsp;FactorRange(id='1008', ...),</div></div><div class=\"1101\" style=\"display: none;\"><div style=\"display: table-cell;\"></div><div style=\"display: table-cell;\">y_scale&nbsp;=&nbsp;CategoricalScale(id='1012', ...))</div></div></div>\n",
       "<script>\n",
       "(function() {\n",
       "  var expanded = false;\n",
       "  var ellipsis = document.getElementById(\"1102\");\n",
       "  ellipsis.addEventListener(\"click\", function() {\n",
       "    var rows = document.getElementsByClassName(\"1101\");\n",
       "    for (var i = 0; i < rows.length; i++) {\n",
       "      var el = rows[i];\n",
       "      el.style.display = expanded ? \"none\" : \"table-row\";\n",
       "    }\n",
       "    ellipsis.innerHTML = expanded ? \"&hellip;)\" : \"&lsaquo;&lsaquo;&lsaquo;\";\n",
       "    expanded = !expanded;\n",
       "  });\n",
       "})();\n",
       "</script>\n"
      ],
      "text/plain": [
       "Figure(id='1003', ...)"
      ]
     },
     "execution_count": 14,
     "metadata": {},
     "output_type": "execute_result"
    }
   ],
   "source": [
    "prof.visualize()"
   ]
  },
  {
   "cell_type": "code",
   "execution_count": 15,
   "id": "8c5e72f0-d5b3-4593-9ce9-4e659505fdc5",
   "metadata": {},
   "outputs": [
    {
     "data": {
      "text/plain": [
       "[ResourceData(time=0.230385191, mem=306.028544, cpu=0.0),\n",
       " ResourceData(time=1.242952088, mem=306.270208, cpu=4.4),\n",
       " ResourceData(time=2.244945291, mem=306.364416, cpu=5.5),\n",
       " ResourceData(time=3.246121416, mem=306.823168, cpu=7.4),\n",
       " ResourceData(time=4.246472866, mem=307.613696, cpu=9.0)]"
      ]
     },
     "execution_count": 15,
     "metadata": {},
     "output_type": "execute_result"
    }
   ],
   "source": [
    "rprof.results[:5]"
   ]
  },
  {
   "cell_type": "code",
   "execution_count": 16,
   "id": "c0694260-9a83-4fc6-ac94-a95033ba3168",
   "metadata": {},
   "outputs": [
    {
     "data": {
      "text/html": [
       "\n",
       "\n",
       "\n",
       "\n",
       "\n",
       "\n",
       "  <div class=\"bk-root\" id=\"5ef945f5-0d28-4eab-95d0-4ca71086d09a\" data-root-id=\"1104\"></div>\n"
      ]
     },
     "metadata": {},
     "output_type": "display_data"
    },
    {
     "data": {
      "application/javascript": [
       "(function(root) {\n",
       "  function embed_document(root) {\n",
       "    \n",
       "  var docs_json = {\"c4381508-74ea-492e-9829-31244c609e0e\":{\"defs\":[],\"roots\":{\"references\":[{\"attributes\":{\"below\":[{\"id\":\"1115\"}],\"center\":[{\"id\":\"1118\"},{\"id\":\"1122\"},{\"id\":\"1146\"}],\"extra_y_ranges\":{\"memory\":{\"id\":\"1148\"}},\"height\":300,\"left\":[{\"id\":\"1119\"}],\"renderers\":[{\"id\":\"1135\"},{\"id\":\"1152\"}],\"right\":[{\"id\":\"1166\"}],\"title\":{\"id\":\"1105\"},\"toolbar\":{\"id\":\"1127\"},\"toolbar_location\":\"above\",\"width\":800,\"x_range\":{\"id\":\"1107\"},\"x_scale\":{\"id\":\"1111\"},\"y_range\":{\"id\":\"1109\"},\"y_scale\":{\"id\":\"1113\"}},\"id\":\"1104\",\"subtype\":\"Figure\",\"type\":\"Plot\"},{\"attributes\":{\"items\":[{\"id\":\"1147\"},{\"id\":\"1165\"}]},\"id\":\"1146\",\"type\":\"Legend\"},{\"attributes\":{},\"id\":\"1138\",\"type\":\"BasicTickFormatter\"},{\"attributes\":{\"label\":{\"value\":\"Memory\"},\"renderers\":[{\"id\":\"1152\"}]},\"id\":\"1165\",\"type\":\"LegendItem\"},{\"attributes\":{},\"id\":\"1123\",\"type\":\"SaveTool\"},{\"attributes\":{\"dimensions\":\"width\"},\"id\":\"1126\",\"type\":\"PanTool\"},{\"attributes\":{},\"id\":\"1141\",\"type\":\"BasicTickFormatter\"},{\"attributes\":{},\"id\":\"1183\",\"type\":\"BasicTickFormatter\"},{\"attributes\":{},\"id\":\"1185\",\"type\":\"BasicTicker\"},{\"attributes\":{\"data_source\":{\"id\":\"1132\"},\"glyph\":{\"id\":\"1133\"},\"hover_glyph\":null,\"muted_glyph\":null,\"nonselection_glyph\":{\"id\":\"1134\"},\"view\":{\"id\":\"1136\"}},\"id\":\"1135\",\"type\":\"GlyphRenderer\"},{\"attributes\":{\"line_color\":\"#440154\",\"line_width\":4,\"x\":{\"field\":\"x\"},\"y\":{\"field\":\"y\"}},\"id\":\"1133\",\"type\":\"Line\"},{\"attributes\":{},\"id\":\"1184\",\"type\":\"AllLabels\"},{\"attributes\":{\"axis_label\":\"Memory (MB)\",\"formatter\":{\"id\":\"1183\"},\"major_label_policy\":{\"id\":\"1184\"},\"ticker\":{\"id\":\"1185\"},\"y_range_name\":\"memory\"},\"id\":\"1166\",\"type\":\"LinearAxis\"},{\"attributes\":{\"dimensions\":\"width\"},\"id\":\"1125\",\"type\":\"WheelZoomTool\"},{\"attributes\":{},\"id\":\"1116\",\"type\":\"BasicTicker\"},{\"attributes\":{\"line_alpha\":0.1,\"line_color\":\"#29788E\",\"line_width\":4,\"x\":{\"field\":\"x\"},\"y\":{\"field\":\"y\"}},\"id\":\"1151\",\"type\":\"Line\"},{\"attributes\":{\"axis_label\":\"% CPU\",\"formatter\":{\"id\":\"1138\"},\"major_label_policy\":{\"id\":\"1139\"},\"ticker\":{\"id\":\"1120\"}},\"id\":\"1119\",\"type\":\"LinearAxis\"},{\"attributes\":{},\"id\":\"1124\",\"type\":\"ResetTool\"},{\"attributes\":{\"end\":1303.425024,\"start\":306.028544},\"id\":\"1148\",\"type\":\"Range1d\"},{\"attributes\":{\"end\":135.7},\"id\":\"1109\",\"type\":\"Range1d\"},{\"attributes\":{},\"id\":\"1164\",\"type\":\"Selection\"},{\"attributes\":{\"active_multi\":null,\"tools\":[{\"id\":\"1123\"},{\"id\":\"1124\"},{\"id\":\"1125\"},{\"id\":\"1126\"}]},\"id\":\"1127\",\"type\":\"Toolbar\"},{\"attributes\":{\"axis\":{\"id\":\"1119\"},\"dimension\":1,\"ticker\":null},\"id\":\"1122\",\"type\":\"Grid\"},{\"attributes\":{},\"id\":\"1142\",\"type\":\"AllLabels\"},{\"attributes\":{\"line_color\":\"#29788E\",\"line_width\":4,\"x\":{\"field\":\"x\"},\"y\":{\"field\":\"y\"}},\"id\":\"1150\",\"type\":\"Line\"},{\"attributes\":{},\"id\":\"1144\",\"type\":\"UnionRenderers\"},{\"attributes\":{},\"id\":\"1163\",\"type\":\"UnionRenderers\"},{\"attributes\":{\"label\":{\"value\":\"% CPU\"},\"renderers\":[{\"id\":\"1135\"}]},\"id\":\"1147\",\"type\":\"LegendItem\"},{\"attributes\":{\"axis\":{\"id\":\"1115\"},\"ticker\":null},\"id\":\"1118\",\"type\":\"Grid\"},{\"attributes\":{\"line_alpha\":0.1,\"line_color\":\"#440154\",\"line_width\":4,\"x\":{\"field\":\"x\"},\"y\":{\"field\":\"y\"}},\"id\":\"1134\",\"type\":\"Line\"},{\"attributes\":{\"axis_label\":\"Time (s)\",\"formatter\":{\"id\":\"1141\"},\"major_label_policy\":{\"id\":\"1142\"},\"ticker\":{\"id\":\"1116\"}},\"id\":\"1115\",\"type\":\"LinearAxis\"},{\"attributes\":{\"data\":{\"x\":[0.0,1.0125668970000001,2.0145601,3.015736225,4.0160876750000005,5.016356988,6.020897991,7.023616549,8.028001506,9.031978831,10.032943751,11.036359446,12.036804099,13.039810232,14.044493245,15.045849004,16.048373385,17.053584067,18.05682256,19.061539414,20.063371804,21.06735224,22.067792214,23.071075397,24.074149495,25.078288821,26.082023487,27.082906480000002,28.087884638,29.090798545,30.095863267,31.098548694,32.102248609,33.105091802,34.106337624999995,35.110978474,36.114424547,37.114883023999994,38.119014175,39.119946334,40.124066799999994,41.128431459,42.131988789,43.133544025,44.137320595,45.141484807,46.144475052999994,47.146421489,48.147178841999995,49.148418467,50.153182126999994,51.15642776599999,52.160995416999995,53.163209798,54.164675501999994,55.165540963999995,56.169644614999996,57.170156033999994,58.174368144,59.178787029999995,60.182061391,61.182830460999995,62.184055816,63.18486240599999,64.18687133200001,65.187335672,66.19222350700001,67.194926761,68.197598724,69.200595444,70.200998067,71.205964413,72.210998364,73.212400165,74.21376030900001,75.216354577,76.22031432200001,77.223034776,78.224402974,79.227071255,80.232005451,81.23651198200001,82.23803818100001,83.24030827600001,84.24447197900001,85.247428189,86.250117233,87.252655309,88.257804938,89.26113887000001,90.26179845,91.264359201,92.269134883,93.270377927,94.273689946,95.274103798,96.27546623900001,97.278240268,98.282666499,99.28626270400001,100.29000386700001,101.29453691,102.29941383100001,103.303687736,104.307032913,105.311001334,106.311996805,107.31370128500001,108.317002968,109.31908303200001,110.323707739,111.325964349,112.327334518,113.331974689,114.33584302300001,115.337421795,116.340025249,117.344472509,118.34475406300001,119.34501268300001,120.345630192,121.346364034,122.349927822,123.352527095,124.35308426200001,125.356317811,126.360998044,127.365575264,128.370100695,129.37440098899998,130.378268022,131.38200843299998,132.38560351299998,133.388366943,134.389437883,135.394475291,136.39623186699998,137.396762422,138.39749783099998,139.398243123,140.399031776,141.402557888,142.40333943599998,143.406449795,144.411085609,145.41506991199998,146.418077663,147.418691928,148.41922419899998,149.419679885,150.419995551,151.420365732,152.423304146,153.423581716,154.42444519,155.427003075,156.431973428,157.43620370099998,158.436631402,159.44163516199998,160.446153397,161.447978748,162.45045025299999,163.452178465],\"y\":[0.0,4.4,5.5,7.4,9.0,10.9,10.4,10.3,9.3,11.7,12.0,12.7,13.6,11.9,11.8,11.9,13.2,10.9,12.3,13.1,6.7,9.7,11.0,5.4,11.9,12.6,11.9,10.3,9.1,9.9,10.4,13.2,11.9,10.3,9.0,10.8,10.4,10.8,7.7,13.8,9.6,3.0,7.9,9.8,11.3,9.1,10.2,11.0,10.6,11.2,8.5,6.5,11.5,10.6,9.8,10.5,10.5,10.3,11.4,9.8,11.5,11.1,12.0,10.5,3.9,13.0,14.1,15.7,12.8,6.6,5.6,12.5,14.1,13.2,13.8,12.8,13.9,41.4,104.8,105.2,51.6,14.4,14.4,13.7,4.4,13.0,11.1,13.1,13.2,14.3,8.4,10.6,14.0,22.4,121.8,122.6,123.8,122.1,106.4,12.0,9.3,9.7,7.0,6.8,18.3,103.9,100.9,9.2,4.3,8.4,12.7,11.0,9.2,73.8,122.9,121.7,122.4,126.4,48.5,14.0,14.2,84.7,104.1,105.5,86.8,108.3,122.9,130.4,135.7,126.0,121.3,115.0,11.4,4.8,5.1,3.9,2.5,2.3,2.7,3.4,3.4,1.3,1.9,1.9,2.8,2.7,3.1,3.0,2.8,2.8,3.2,4.4,4.0,5.1,4.8,5.9,5.8,6.7,6.1,4.8,6.5,70.0,99.0,99.4]},\"selected\":{\"id\":\"1145\"},\"selection_policy\":{\"id\":\"1144\"}},\"id\":\"1132\",\"type\":\"ColumnDataSource\"},{\"attributes\":{\"data_source\":{\"id\":\"1149\"},\"glyph\":{\"id\":\"1150\"},\"hover_glyph\":null,\"muted_glyph\":null,\"nonselection_glyph\":{\"id\":\"1151\"},\"view\":{\"id\":\"1153\"},\"y_range_name\":\"memory\"},\"id\":\"1152\",\"type\":\"GlyphRenderer\"},{\"attributes\":{\"source\":{\"id\":\"1149\"}},\"id\":\"1153\",\"type\":\"CDSView\"},{\"attributes\":{},\"id\":\"1139\",\"type\":\"AllLabels\"},{\"attributes\":{},\"id\":\"1113\",\"type\":\"LinearScale\"},{\"attributes\":{},\"id\":\"1145\",\"type\":\"Selection\"},{\"attributes\":{\"source\":{\"id\":\"1132\"}},\"id\":\"1136\",\"type\":\"CDSView\"},{\"attributes\":{},\"id\":\"1111\",\"type\":\"LinearScale\"},{\"attributes\":{\"text\":\"Profile Results\"},\"id\":\"1105\",\"type\":\"Title\"},{\"attributes\":{},\"id\":\"1120\",\"type\":\"BasicTicker\"},{\"attributes\":{\"data\":{\"x\":[0.0,1.0125668970000001,2.0145601,3.015736225,4.0160876750000005,5.016356988,6.020897991,7.023616549,8.028001506,9.031978831,10.032943751,11.036359446,12.036804099,13.039810232,14.044493245,15.045849004,16.048373385,17.053584067,18.05682256,19.061539414,20.063371804,21.06735224,22.067792214,23.071075397,24.074149495,25.078288821,26.082023487,27.082906480000002,28.087884638,29.090798545,30.095863267,31.098548694,32.102248609,33.105091802,34.106337624999995,35.110978474,36.114424547,37.114883023999994,38.119014175,39.119946334,40.124066799999994,41.128431459,42.131988789,43.133544025,44.137320595,45.141484807,46.144475052999994,47.146421489,48.147178841999995,49.148418467,50.153182126999994,51.15642776599999,52.160995416999995,53.163209798,54.164675501999994,55.165540963999995,56.169644614999996,57.170156033999994,58.174368144,59.178787029999995,60.182061391,61.182830460999995,62.184055816,63.18486240599999,64.18687133200001,65.187335672,66.19222350700001,67.194926761,68.197598724,69.200595444,70.200998067,71.205964413,72.210998364,73.212400165,74.21376030900001,75.216354577,76.22031432200001,77.223034776,78.224402974,79.227071255,80.232005451,81.23651198200001,82.23803818100001,83.24030827600001,84.24447197900001,85.247428189,86.250117233,87.252655309,88.257804938,89.26113887000001,90.26179845,91.264359201,92.269134883,93.270377927,94.273689946,95.274103798,96.27546623900001,97.278240268,98.282666499,99.28626270400001,100.29000386700001,101.29453691,102.29941383100001,103.303687736,104.307032913,105.311001334,106.311996805,107.31370128500001,108.317002968,109.31908303200001,110.323707739,111.325964349,112.327334518,113.331974689,114.33584302300001,115.337421795,116.340025249,117.344472509,118.34475406300001,119.34501268300001,120.345630192,121.346364034,122.349927822,123.352527095,124.35308426200001,125.356317811,126.360998044,127.365575264,128.370100695,129.37440098899998,130.378268022,131.38200843299998,132.38560351299998,133.388366943,134.389437883,135.394475291,136.39623186699998,137.396762422,138.39749783099998,139.398243123,140.399031776,141.402557888,142.40333943599998,143.406449795,144.411085609,145.41506991199998,146.418077663,147.418691928,148.41922419899998,149.419679885,150.419995551,151.420365732,152.423304146,153.423581716,154.42444519,155.427003075,156.431973428,157.43620370099998,158.436631402,159.44163516199998,160.446153397,161.447978748,162.45045025299999,163.452178465],\"y\":[306.028544,306.270208,306.364416,306.823168,307.613696,308.576256,311.9104,317.19424,318.337024,323.29728,328.94976,329.6256,329.91232,331.882496,336.683008,342.573056,352.825344,354.152448,360.189952,361.00096,364.347392,373.407744,374.788096,378.5728,380.526592,382.066688,382.439424,382.889984,388.820992,391.04512,392.544256,398.303232,398.712832,400.822272,402.952192,403.968,405.34016,406.765568,409.055232,409.985024,409.993216,411.865088,417.660928,419.979264,422.047744,423.940096,426.491904,431.112192,436.051968,441.99936,446.414848,454.4512,460.378112,467.124224,473.411584,480.346112,486.957056,493.146112,500.559872,506.42944,513.908736,520.31488,527.212544,533.929984,539.774976,548.081664,555.39712,562.823168,569.929728,573.739008,583.847936,588.947456,596.185088,603.144192,610.480128,617.521152,624.893952,761.860096,824.029184,881.926144,700.534784,701.505536,702.795776,703.91808,707.391488,712.351744,715.706368,719.126528,723.243008,729.288704,733.42976,742.744064,748.589056,766.119936,972.898304,1041.199104,1108.574208,1172.180992,734.633984,735.793152,737.447936,739.278848,740.2496,729.182208,762.929152,816.259072,721.801216,719.835136,721.739776,727.486464,728.92416,729.956352,731.222016,827.604992,1003.651072,1066.336256,1133.064192,965.804032,730.308608,731.529216,732.50816,802.091008,848.748544,912.551936,766.042112,864.022528,974.2336,1132.793856,1303.425024,1019.695104,1037.90592,838.930432,584.196096,584.327168,584.728576,585.199616,585.576448,585.89184,586.080256,586.48576,586.747904,587.157504,587.362304,587.452416,587.567104,587.5712,587.5712,587.644928,587.681792,587.866112,588.058624,588.132352,588.382208,588.619776,589.33248,590.286848,591.712256,593.133568,594.751488,595.193856,584.658944,562.405376,608.137216,660.185088]},\"selected\":{\"id\":\"1164\"},\"selection_policy\":{\"id\":\"1163\"}},\"id\":\"1149\",\"type\":\"ColumnDataSource\"},{\"attributes\":{\"end\":163.452178465},\"id\":\"1107\",\"type\":\"Range1d\"}],\"root_ids\":[\"1104\"]},\"title\":\"Bokeh Application\",\"version\":\"2.3.3\"}};\n",
       "  var render_items = [{\"docid\":\"c4381508-74ea-492e-9829-31244c609e0e\",\"root_ids\":[\"1104\"],\"roots\":{\"1104\":\"5ef945f5-0d28-4eab-95d0-4ca71086d09a\"}}];\n",
       "  root.Bokeh.embed.embed_items_notebook(docs_json, render_items);\n",
       "\n",
       "  }\n",
       "  if (root.Bokeh !== undefined) {\n",
       "    embed_document(root);\n",
       "  } else {\n",
       "    var attempts = 0;\n",
       "    var timer = setInterval(function(root) {\n",
       "      if (root.Bokeh !== undefined) {\n",
       "        clearInterval(timer);\n",
       "        embed_document(root);\n",
       "      } else {\n",
       "        attempts++;\n",
       "        if (attempts > 100) {\n",
       "          clearInterval(timer);\n",
       "          console.log(\"Bokeh: ERROR: Unable to run BokehJS code because BokehJS library is missing\");\n",
       "        }\n",
       "      }\n",
       "    }, 10, root)\n",
       "  }\n",
       "})(window);"
      ],
      "application/vnd.bokehjs_exec.v0+json": ""
     },
     "metadata": {
      "application/vnd.bokehjs_exec.v0+json": {
       "id": "1104"
      }
     },
     "output_type": "display_data"
    },
    {
     "data": {
      "text/html": [
       "<div style=\"display: table;\"><div style=\"display: table-row;\"><div style=\"display: table-cell;\"><b title=\"bokeh.plotting.figure.Figure\">Figure</b>(</div><div style=\"display: table-cell;\">id&nbsp;=&nbsp;'1104', <span id=\"1261\" style=\"cursor: pointer;\">&hellip;)</span></div></div><div class=\"1260\" style=\"display: none;\"><div style=\"display: table-cell;\"></div><div style=\"display: table-cell;\">above&nbsp;=&nbsp;[],</div></div><div class=\"1260\" style=\"display: none;\"><div style=\"display: table-cell;\"></div><div style=\"display: table-cell;\">align&nbsp;=&nbsp;'start',</div></div><div class=\"1260\" style=\"display: none;\"><div style=\"display: table-cell;\"></div><div style=\"display: table-cell;\">aspect_ratio&nbsp;=&nbsp;None,</div></div><div class=\"1260\" style=\"display: none;\"><div style=\"display: table-cell;\"></div><div style=\"display: table-cell;\">aspect_scale&nbsp;=&nbsp;1,</div></div><div class=\"1260\" style=\"display: none;\"><div style=\"display: table-cell;\"></div><div style=\"display: table-cell;\">background&nbsp;=&nbsp;None,</div></div><div class=\"1260\" style=\"display: none;\"><div style=\"display: table-cell;\"></div><div style=\"display: table-cell;\">background_fill_alpha&nbsp;=&nbsp;1.0,</div></div><div class=\"1260\" style=\"display: none;\"><div style=\"display: table-cell;\"></div><div style=\"display: table-cell;\">background_fill_color&nbsp;=&nbsp;'#ffffff',</div></div><div class=\"1260\" style=\"display: none;\"><div style=\"display: table-cell;\"></div><div style=\"display: table-cell;\">below&nbsp;=&nbsp;[LinearAxis(id='1115', ...)],</div></div><div class=\"1260\" style=\"display: none;\"><div style=\"display: table-cell;\"></div><div style=\"display: table-cell;\">border_fill_alpha&nbsp;=&nbsp;1.0,</div></div><div class=\"1260\" style=\"display: none;\"><div style=\"display: table-cell;\"></div><div style=\"display: table-cell;\">border_fill_color&nbsp;=&nbsp;'#ffffff',</div></div><div class=\"1260\" style=\"display: none;\"><div style=\"display: table-cell;\"></div><div style=\"display: table-cell;\">center&nbsp;=&nbsp;[Grid(id='1118', ...), Grid(id='1122', ...), Legend(id='1146', ...)],</div></div><div class=\"1260\" style=\"display: none;\"><div style=\"display: table-cell;\"></div><div style=\"display: table-cell;\">css_classes&nbsp;=&nbsp;[],</div></div><div class=\"1260\" style=\"display: none;\"><div style=\"display: table-cell;\"></div><div style=\"display: table-cell;\">disabled&nbsp;=&nbsp;False,</div></div><div class=\"1260\" style=\"display: none;\"><div style=\"display: table-cell;\"></div><div style=\"display: table-cell;\">extra_x_ranges&nbsp;=&nbsp;{},</div></div><div class=\"1260\" style=\"display: none;\"><div style=\"display: table-cell;\"></div><div style=\"display: table-cell;\">extra_y_ranges&nbsp;=&nbsp;{'memory': Range1d(id='1148', ...)},</div></div><div class=\"1260\" style=\"display: none;\"><div style=\"display: table-cell;\"></div><div style=\"display: table-cell;\">frame_height&nbsp;=&nbsp;None,</div></div><div class=\"1260\" style=\"display: none;\"><div style=\"display: table-cell;\"></div><div style=\"display: table-cell;\">frame_width&nbsp;=&nbsp;None,</div></div><div class=\"1260\" style=\"display: none;\"><div style=\"display: table-cell;\"></div><div style=\"display: table-cell;\">height&nbsp;=&nbsp;300,</div></div><div class=\"1260\" style=\"display: none;\"><div style=\"display: table-cell;\"></div><div style=\"display: table-cell;\">height_policy&nbsp;=&nbsp;'auto',</div></div><div class=\"1260\" style=\"display: none;\"><div style=\"display: table-cell;\"></div><div style=\"display: table-cell;\">hidpi&nbsp;=&nbsp;True,</div></div><div class=\"1260\" style=\"display: none;\"><div style=\"display: table-cell;\"></div><div style=\"display: table-cell;\">inner_height&nbsp;=&nbsp;0,</div></div><div class=\"1260\" style=\"display: none;\"><div style=\"display: table-cell;\"></div><div style=\"display: table-cell;\">inner_width&nbsp;=&nbsp;0,</div></div><div class=\"1260\" style=\"display: none;\"><div style=\"display: table-cell;\"></div><div style=\"display: table-cell;\">js_event_callbacks&nbsp;=&nbsp;{},</div></div><div class=\"1260\" style=\"display: none;\"><div style=\"display: table-cell;\"></div><div style=\"display: table-cell;\">js_property_callbacks&nbsp;=&nbsp;{},</div></div><div class=\"1260\" style=\"display: none;\"><div style=\"display: table-cell;\"></div><div style=\"display: table-cell;\">left&nbsp;=&nbsp;[LinearAxis(id='1119', ...)],</div></div><div class=\"1260\" style=\"display: none;\"><div style=\"display: table-cell;\"></div><div style=\"display: table-cell;\">lod_factor&nbsp;=&nbsp;10,</div></div><div class=\"1260\" style=\"display: none;\"><div style=\"display: table-cell;\"></div><div style=\"display: table-cell;\">lod_interval&nbsp;=&nbsp;300,</div></div><div class=\"1260\" style=\"display: none;\"><div style=\"display: table-cell;\"></div><div style=\"display: table-cell;\">lod_threshold&nbsp;=&nbsp;2000,</div></div><div class=\"1260\" style=\"display: none;\"><div style=\"display: table-cell;\"></div><div style=\"display: table-cell;\">lod_timeout&nbsp;=&nbsp;500,</div></div><div class=\"1260\" style=\"display: none;\"><div style=\"display: table-cell;\"></div><div style=\"display: table-cell;\">margin&nbsp;=&nbsp;(0, 0, 0, 0),</div></div><div class=\"1260\" style=\"display: none;\"><div style=\"display: table-cell;\"></div><div style=\"display: table-cell;\">match_aspect&nbsp;=&nbsp;False,</div></div><div class=\"1260\" style=\"display: none;\"><div style=\"display: table-cell;\"></div><div style=\"display: table-cell;\">max_height&nbsp;=&nbsp;None,</div></div><div class=\"1260\" style=\"display: none;\"><div style=\"display: table-cell;\"></div><div style=\"display: table-cell;\">max_width&nbsp;=&nbsp;None,</div></div><div class=\"1260\" style=\"display: none;\"><div style=\"display: table-cell;\"></div><div style=\"display: table-cell;\">min_border&nbsp;=&nbsp;5,</div></div><div class=\"1260\" style=\"display: none;\"><div style=\"display: table-cell;\"></div><div style=\"display: table-cell;\">min_border_bottom&nbsp;=&nbsp;None,</div></div><div class=\"1260\" style=\"display: none;\"><div style=\"display: table-cell;\"></div><div style=\"display: table-cell;\">min_border_left&nbsp;=&nbsp;None,</div></div><div class=\"1260\" style=\"display: none;\"><div style=\"display: table-cell;\"></div><div style=\"display: table-cell;\">min_border_right&nbsp;=&nbsp;None,</div></div><div class=\"1260\" style=\"display: none;\"><div style=\"display: table-cell;\"></div><div style=\"display: table-cell;\">min_border_top&nbsp;=&nbsp;None,</div></div><div class=\"1260\" style=\"display: none;\"><div style=\"display: table-cell;\"></div><div style=\"display: table-cell;\">min_height&nbsp;=&nbsp;None,</div></div><div class=\"1260\" style=\"display: none;\"><div style=\"display: table-cell;\"></div><div style=\"display: table-cell;\">min_width&nbsp;=&nbsp;None,</div></div><div class=\"1260\" style=\"display: none;\"><div style=\"display: table-cell;\"></div><div style=\"display: table-cell;\">name&nbsp;=&nbsp;None,</div></div><div class=\"1260\" style=\"display: none;\"><div style=\"display: table-cell;\"></div><div style=\"display: table-cell;\">outer_height&nbsp;=&nbsp;0,</div></div><div class=\"1260\" style=\"display: none;\"><div style=\"display: table-cell;\"></div><div style=\"display: table-cell;\">outer_width&nbsp;=&nbsp;0,</div></div><div class=\"1260\" style=\"display: none;\"><div style=\"display: table-cell;\"></div><div style=\"display: table-cell;\">outline_line_alpha&nbsp;=&nbsp;1.0,</div></div><div class=\"1260\" style=\"display: none;\"><div style=\"display: table-cell;\"></div><div style=\"display: table-cell;\">outline_line_cap&nbsp;=&nbsp;'butt',</div></div><div class=\"1260\" style=\"display: none;\"><div style=\"display: table-cell;\"></div><div style=\"display: table-cell;\">outline_line_color&nbsp;=&nbsp;'#e5e5e5',</div></div><div class=\"1260\" style=\"display: none;\"><div style=\"display: table-cell;\"></div><div style=\"display: table-cell;\">outline_line_dash&nbsp;=&nbsp;[],</div></div><div class=\"1260\" style=\"display: none;\"><div style=\"display: table-cell;\"></div><div style=\"display: table-cell;\">outline_line_dash_offset&nbsp;=&nbsp;0,</div></div><div class=\"1260\" style=\"display: none;\"><div style=\"display: table-cell;\"></div><div style=\"display: table-cell;\">outline_line_join&nbsp;=&nbsp;'bevel',</div></div><div class=\"1260\" style=\"display: none;\"><div style=\"display: table-cell;\"></div><div style=\"display: table-cell;\">outline_line_width&nbsp;=&nbsp;1,</div></div><div class=\"1260\" style=\"display: none;\"><div style=\"display: table-cell;\"></div><div style=\"display: table-cell;\">output_backend&nbsp;=&nbsp;'canvas',</div></div><div class=\"1260\" style=\"display: none;\"><div style=\"display: table-cell;\"></div><div style=\"display: table-cell;\">renderers&nbsp;=&nbsp;[GlyphRenderer(id='1135', ...), GlyphRenderer(id='1152', ...)],</div></div><div class=\"1260\" style=\"display: none;\"><div style=\"display: table-cell;\"></div><div style=\"display: table-cell;\">reset_policy&nbsp;=&nbsp;'standard',</div></div><div class=\"1260\" style=\"display: none;\"><div style=\"display: table-cell;\"></div><div style=\"display: table-cell;\">right&nbsp;=&nbsp;[LinearAxis(id='1166', ...)],</div></div><div class=\"1260\" style=\"display: none;\"><div style=\"display: table-cell;\"></div><div style=\"display: table-cell;\">sizing_mode&nbsp;=&nbsp;None,</div></div><div class=\"1260\" style=\"display: none;\"><div style=\"display: table-cell;\"></div><div style=\"display: table-cell;\">subscribed_events&nbsp;=&nbsp;[],</div></div><div class=\"1260\" style=\"display: none;\"><div style=\"display: table-cell;\"></div><div style=\"display: table-cell;\">syncable&nbsp;=&nbsp;True,</div></div><div class=\"1260\" style=\"display: none;\"><div style=\"display: table-cell;\"></div><div style=\"display: table-cell;\">tags&nbsp;=&nbsp;[],</div></div><div class=\"1260\" style=\"display: none;\"><div style=\"display: table-cell;\"></div><div style=\"display: table-cell;\">title&nbsp;=&nbsp;Title(id='1105', ...),</div></div><div class=\"1260\" style=\"display: none;\"><div style=\"display: table-cell;\"></div><div style=\"display: table-cell;\">title_location&nbsp;=&nbsp;'above',</div></div><div class=\"1260\" style=\"display: none;\"><div style=\"display: table-cell;\"></div><div style=\"display: table-cell;\">toolbar&nbsp;=&nbsp;Toolbar(id='1127', ...),</div></div><div class=\"1260\" style=\"display: none;\"><div style=\"display: table-cell;\"></div><div style=\"display: table-cell;\">toolbar_location&nbsp;=&nbsp;'above',</div></div><div class=\"1260\" style=\"display: none;\"><div style=\"display: table-cell;\"></div><div style=\"display: table-cell;\">toolbar_sticky&nbsp;=&nbsp;True,</div></div><div class=\"1260\" style=\"display: none;\"><div style=\"display: table-cell;\"></div><div style=\"display: table-cell;\">visible&nbsp;=&nbsp;True,</div></div><div class=\"1260\" style=\"display: none;\"><div style=\"display: table-cell;\"></div><div style=\"display: table-cell;\">width&nbsp;=&nbsp;800,</div></div><div class=\"1260\" style=\"display: none;\"><div style=\"display: table-cell;\"></div><div style=\"display: table-cell;\">width_policy&nbsp;=&nbsp;'auto',</div></div><div class=\"1260\" style=\"display: none;\"><div style=\"display: table-cell;\"></div><div style=\"display: table-cell;\">x_range&nbsp;=&nbsp;Range1d(id='1107', ...),</div></div><div class=\"1260\" style=\"display: none;\"><div style=\"display: table-cell;\"></div><div style=\"display: table-cell;\">x_scale&nbsp;=&nbsp;LinearScale(id='1111', ...),</div></div><div class=\"1260\" style=\"display: none;\"><div style=\"display: table-cell;\"></div><div style=\"display: table-cell;\">y_range&nbsp;=&nbsp;Range1d(id='1109', ...),</div></div><div class=\"1260\" style=\"display: none;\"><div style=\"display: table-cell;\"></div><div style=\"display: table-cell;\">y_scale&nbsp;=&nbsp;LinearScale(id='1113', ...))</div></div></div>\n",
       "<script>\n",
       "(function() {\n",
       "  var expanded = false;\n",
       "  var ellipsis = document.getElementById(\"1261\");\n",
       "  ellipsis.addEventListener(\"click\", function() {\n",
       "    var rows = document.getElementsByClassName(\"1260\");\n",
       "    for (var i = 0; i < rows.length; i++) {\n",
       "      var el = rows[i];\n",
       "      el.style.display = expanded ? \"none\" : \"table-row\";\n",
       "    }\n",
       "    ellipsis.innerHTML = expanded ? \"&hellip;)\" : \"&lsaquo;&lsaquo;&lsaquo;\";\n",
       "    expanded = !expanded;\n",
       "  });\n",
       "})();\n",
       "</script>\n"
      ],
      "text/plain": [
       "Figure(id='1104', ...)"
      ]
     },
     "execution_count": 16,
     "metadata": {},
     "output_type": "execute_result"
    }
   ],
   "source": [
    "rprof.visualize()"
   ]
  },
  {
   "cell_type": "code",
   "execution_count": 17,
   "id": "57d00b7b-5290-4a2d-bcd7-86d218695840",
   "metadata": {},
   "outputs": [
    {
     "data": {
      "text/plain": [
       "[CacheData(key=('read-csv-19b96a3dea475d91fd0eedeb908a6a93', 2), task=(subgraph_callable-e53d7957-2f8a-44ae-897e-6cbc0f56df26, [(<function read_block_from_file at 0x7f878de603a0>, <OpenFile 'nyc-tlc/trip data/yellow_tripdata_2019-01.csv'>, 128000000, 64000000, b'\\n'), None, False, False]), metric=1, cache_time=809.216166928, free_time=809.266780843),\n",
       " CacheData(key=('read-csv-19b96a3dea475d91fd0eedeb908a6a93', 4), task=(subgraph_callable-e53d7957-2f8a-44ae-897e-6cbc0f56df26, [(<function read_block_from_file at 0x7f878de603a0>, <OpenFile 'nyc-tlc/trip data/yellow_tripdata_2019-01.csv'>, 256000000, 64000000, b'\\n'), None, False, False]), metric=1, cache_time=827.4490766, free_time=827.505900753)]"
      ]
     },
     "execution_count": 17,
     "metadata": {},
     "output_type": "execute_result"
    }
   ],
   "source": [
    "cprof.results[:2]"
   ]
  },
  {
   "cell_type": "code",
   "execution_count": 18,
   "id": "8d2e8945-93c5-43a2-83e9-075d694a6779",
   "metadata": {},
   "outputs": [
    {
     "data": {
      "text/html": [
       "\n",
       "\n",
       "\n",
       "\n",
       "\n",
       "\n",
       "  <div class=\"bk-root\" id=\"c2354ca2-cc22-4922-b064-758c395cf318\" data-root-id=\"1263\"></div>\n"
      ]
     },
     "metadata": {},
     "output_type": "display_data"
    },
    {
     "data": {
      "application/javascript": [
       "(function(root) {\n",
       "  function embed_document(root) {\n",
       "    \n",
       "  var docs_json = {\"c849b6f7-7438-4dc3-8fb4-d15d918cd2ea\":{\"defs\":[],\"roots\":{\"references\":[{\"attributes\":{\"below\":[{\"id\":\"1274\"}],\"center\":[{\"id\":\"1277\"},{\"id\":\"1281\"}],\"height\":300,\"left\":[{\"id\":\"1278\"}],\"renderers\":[{\"id\":\"1297\"},{\"id\":\"1303\"},{\"id\":\"1309\"},{\"id\":\"1315\"}],\"title\":{\"id\":\"1264\"},\"toolbar\":{\"id\":\"1287\"},\"toolbar_location\":\"above\",\"width\":800,\"x_range\":{\"id\":\"1266\"},\"x_scale\":{\"id\":\"1270\"},\"y_range\":{\"id\":\"1268\"},\"y_scale\":{\"id\":\"1272\"}},\"id\":\"1263\",\"subtype\":\"Figure\",\"type\":\"Plot\"},{\"attributes\":{},\"id\":\"1327\",\"type\":\"Selection\"},{\"attributes\":{\"text\":\"Profile Results\"},\"id\":\"1264\",\"type\":\"Title\"},{\"attributes\":{\"source\":{\"id\":\"1299\"}},\"id\":\"1304\",\"type\":\"CDSView\"},{\"attributes\":{\"callback\":null,\"tooltips\":\"\\n    <div>\\n        <span style=\\\"font-size: 14px; font-weight: bold;\\\">Task:</span>&nbsp;\\n        <span style=\\\"font-size: 10px; font-family: Monaco, monospace;\\\">@label</span>\\n    </div>\\n    \"},\"id\":\"1282\",\"type\":\"HoverTool\"},{\"attributes\":{\"source\":{\"id\":\"1305\"}},\"id\":\"1310\",\"type\":\"CDSView\"},{\"attributes\":{},\"id\":\"1270\",\"type\":\"LinearScale\"},{\"attributes\":{},\"id\":\"1285\",\"type\":\"WheelZoomTool\"},{\"attributes\":{\"line_color\":\"#440154\",\"line_width\":3,\"x\":{\"field\":\"x\"},\"y\":{\"field\":\"y\"}},\"id\":\"1301\",\"type\":\"Line\"},{\"attributes\":{},\"id\":\"1275\",\"type\":\"BasicTicker\"},{\"attributes\":{\"line_color\":\"#FDE724\",\"line_width\":3,\"x\":{\"field\":\"x\"},\"y\":{\"field\":\"y\"}},\"id\":\"1313\",\"type\":\"Line\"},{\"attributes\":{},\"id\":\"1321\",\"type\":\"BasicTickFormatter\"},{\"attributes\":{},\"id\":\"1283\",\"type\":\"SaveTool\"},{\"attributes\":{\"data\":{\"label\":[\"subgraph_callable-e53d7957-2f8a-44ae-897e-6cbc0f56([read_block_from_file(...), *, *, ...])\",\"subgraph_callable-e53d7957-2f8a-44ae-897e-6cbc0f56([read_block_from_file(...), *, *, ...])\",\"subgraph_callable-e53d7957-2f8a-44ae-897e-6cbc0f56([read_block_from_file(...), *, *, ...])\",\"subgraph_callable-e53d7957-2f8a-44ae-897e-6cbc0f56([read_block_from_file(...), *, *, ...])\",\"subgraph_callable-e53d7957-2f8a-44ae-897e-6cbc0f56([read_block_from_file(...), *, *, ...])\",\"subgraph_callable-e53d7957-2f8a-44ae-897e-6cbc0f56([read_block_from_file(...), *, *, ...])\",\"subgraph_callable-e53d7957-2f8a-44ae-897e-6cbc0f56([read_block_from_file(...), *, *, ...])\",\"subgraph_callable-e53d7957-2f8a-44ae-897e-6cbc0f56([read_block_from_file(...), *, *, ...])\",\"subgraph_callable-e53d7957-2f8a-44ae-897e-6cbc0f56([read_block_from_file(...), *, *, ...])\",\"subgraph_callable-e53d7957-2f8a-44ae-897e-6cbc0f56([read_block_from_file(...), *, *, ...])\",\"subgraph_callable-e53d7957-2f8a-44ae-897e-6cbc0f56([read_block_from_file(...), *, *, ...])\",\"subgraph_callable-e53d7957-2f8a-44ae-897e-6cbc0f56([read_block_from_file(...), *, *, ...])\",\"subgraph_callable-e53d7957-2f8a-44ae-897e-6cbc0f56([read_block_from_file(...), *, *, ...])\",\"subgraph_callable-e53d7957-2f8a-44ae-897e-6cbc0f56([read_block_from_file(...), *, *, ...])\",\"subgraph_callable-e53d7957-2f8a-44ae-897e-6cbc0f56([read_block_from_file(...), *, *, ...])\",\"subgraph_callable-e53d7957-2f8a-44ae-897e-6cbc0f56([read_block_from_file(...), *, *, ...])\",\"subgraph_callable-e53d7957-2f8a-44ae-897e-6cbc0f56([read_block_from_file(...), *, *, ...])\",\"subgraph_callable-e53d7957-2f8a-44ae-897e-6cbc0f56([read_block_from_file(...), *, *, ...])\",\"subgraph_callable-e53d7957-2f8a-44ae-897e-6cbc0f56([read_block_from_file(...), *, *, ...])\",\"subgraph_callable-e53d7957-2f8a-44ae-897e-6cbc0f56([read_block_from_file(...), *, *, ...])\",\"subgraph_callable-e53d7957-2f8a-44ae-897e-6cbc0f56([read_block_from_file(...), *, *, ...])\",\"subgraph_callable-e53d7957-2f8a-44ae-897e-6cbc0f56([read_block_from_file(...), *, *, ...])\",\"subgraph_callable-e53d7957-2f8a-44ae-897e-6cbc0f56([read_block_from_file(...), *, *, ...])\",\"subgraph_callable-e53d7957-2f8a-44ae-897e-6cbc0f56([read_block_from_file(...), *, *, ...])\",\"subgraph_callable-e53d7957-2f8a-44ae-897e-6cbc0f56([read_block_from_file(...), *, *, ...])\",\"subgraph_callable-e53d7957-2f8a-44ae-897e-6cbc0f56([read_block_from_file(...), *, *, ...])\",\"subgraph_callable-e53d7957-2f8a-44ae-897e-6cbc0f56([read_block_from_file(...), *, *, ...])\",\"subgraph_callable-e53d7957-2f8a-44ae-897e-6cbc0f56([read_block_from_file(...), *, *, ...])\",\"subgraph_callable-e53d7957-2f8a-44ae-897e-6cbc0f56([read_block_from_file(...), *, *, ...])\",\"subgraph_callable-e53d7957-2f8a-44ae-897e-6cbc0f56([read_block_from_file(...), *, *, ...])\",\"subgraph_callable-e53d7957-2f8a-44ae-897e-6cbc0f56([read_block_from_file(...), *, *, ...])\",\"subgraph_callable-e53d7957-2f8a-44ae-897e-6cbc0f56([read_block_from_file(...), *, *, ...])\",\"subgraph_callable-e53d7957-2f8a-44ae-897e-6cbc0f56([read_block_from_file(...), *, *, ...])\",\"subgraph_callable-e53d7957-2f8a-44ae-897e-6cbc0f56([read_block_from_file(...), *, *, ...])\",\"subgraph_callable-e53d7957-2f8a-44ae-897e-6cbc0f56([read_block_from_file(...), *, *, ...])\",\"subgraph_callable-e53d7957-2f8a-44ae-897e-6cbc0f56([read_block_from_file(...), *, *, ...])\",\"subgraph_callable-e53d7957-2f8a-44ae-897e-6cbc0f56([read_block_from_file(...), *, *, ...])\",\"subgraph_callable-e53d7957-2f8a-44ae-897e-6cbc0f56([read_block_from_file(...), *, *, ...])\",\"subgraph_callable-e53d7957-2f8a-44ae-897e-6cbc0f56([read_block_from_file(...), *, *, ...])\",\"subgraph_callable-e53d7957-2f8a-44ae-897e-6cbc0f56([read_block_from_file(...), *, *, ...])\",\"subgraph_callable-e53d7957-2f8a-44ae-897e-6cbc0f56([read_block_from_file(...), *, *, ...])\",\"subgraph_callable-e53d7957-2f8a-44ae-897e-6cbc0f56([read_block_from_file(...), *, *, ...])\"],\"x\":[0,79.77826461100005,79.79683541000009,79.82887852600004,98.01117428300006,98.03342438900006,98.06799843600004,98.16407980200006,98.183171474,98.22017204100007,106.43324594500007,106.45080997500008,106.47238039700005,117.1034464820001,117.13512939500004,117.17232066000008,117.8466082870001,117.86596855000005,117.90324075000001,123.730767291,123.75662973300007,123.788927898,128.68624003000002,128.76699081100003,128.814292755,130.8094529880001,130.827838369,130.86405444600007,130.86419226300006,130.8659747480001,131.582638686,131.60266797600002,131.64110552500006,163.81984885000008,163.84113670400006,163.87793231600006,163.8781522280001,163.881791723,163.8869922880001,163.88875309900004,163.8892153700001,163.88922766400003],\"y\":[0,1,1,0,1,1,0,1,1,0,1,1,0,1,1,0,1,1,0,1,1,0,1,1,0,1,1,0,0,0,1,1,0,1,1,0,0,0,0,0,0,0]},\"selected\":{\"id\":\"1325\"},\"selection_policy\":{\"id\":\"1324\"}},\"id\":\"1293\",\"type\":\"ColumnDataSource\"},{\"attributes\":{\"data\":{\"label\":[\"_groupby_aggregate(_concat(...), aggfunc=*, levels=*)\",\"_groupby_aggregate(_concat(...), aggfunc=*, levels=*)\",\"_groupby_aggregate(_concat(...), aggfunc=*, levels=*)\",\"_groupby_aggregate(_concat(...), aggfunc=*, levels=*)\",\"_groupby_aggregate(_concat(...), aggfunc=*, levels=*)\",\"_groupby_aggregate(_concat(...), aggfunc=*, levels=*)\",\"_groupby_aggregate(_concat(...), aggfunc=*, levels=*)\",\"_groupby_aggregate(_concat(...), aggfunc=*, levels=*)\",\"_groupby_aggregate(_concat(...), aggfunc=*, levels=*)\",\"_groupby_aggregate(_concat(...), aggfunc=*, levels=*)\",\"_groupby_aggregate(_concat(...), aggfunc=*, levels=*)\",\"_groupby_aggregate(_concat(...), aggfunc=*, levels=*)\",\"_groupby_aggregate(_concat(...), aggfunc=*, levels=*)\",\"_groupby_aggregate(_concat(...), aggfunc=*, levels=*)\",\"_groupby_aggregate(_concat(...), aggfunc=*, levels=*)\",\"_groupby_aggregate(_concat(...), aggfunc=*, levels=*)\",\"_groupby_aggregate(_concat(...), aggfunc=*, levels=*)\",\"_groupby_aggregate(_concat(...), aggfunc=*, levels=*)\",\"_groupby_aggregate(_concat(...), aggfunc=*, levels=*)\",\"_groupby_aggregate(_concat(...), aggfunc=*, levels=*)\",\"_groupby_aggregate(_concat(...), aggfunc=*, levels=*)\",\"_groupby_aggregate(_concat(...), aggfunc=*, levels=*)\",\"_groupby_aggregate(_concat(...), aggfunc=*, levels=*)\",\"_groupby_aggregate(_concat(...), aggfunc=*, levels=*)\",\"_groupby_aggregate(_concat(...), aggfunc=*, levels=*)\",\"_groupby_aggregate(_concat(...), aggfunc=*, levels=*)\",\"_groupby_aggregate(_concat(...), aggfunc=*, levels=*)\",\"_groupby_aggregate(_concat(...), aggfunc=*, levels=*)\",\"_groupby_aggregate(_concat(...), aggfunc=*, levels=*)\",\"_groupby_aggregate(_concat(...), aggfunc=*, levels=*)\",\"_groupby_aggregate(_concat(...), aggfunc=*, levels=*)\",\"_groupby_aggregate(_concat(...), aggfunc=*, levels=*)\",\"_groupby_aggregate(_concat(...), aggfunc=*, levels=*)\",\"_groupby_aggregate(_concat(...), aggfunc=*, levels=*)\",\"_groupby_aggregate(_concat(...), aggfunc=*, levels=*)\",\"_groupby_aggregate(_concat(...), aggfunc=*, levels=*)\",\"_groupby_aggregate(_concat(...), aggfunc=*, levels=*)\",\"_groupby_aggregate(_concat(...), aggfunc=*, levels=*)\",\"_groupby_aggregate(_concat(...), aggfunc=*, levels=*)\",\"_groupby_aggregate(_concat(...), aggfunc=*, levels=*)\",\"_groupby_aggregate(_concat(...), aggfunc=*, levels=*)\",\"_groupby_aggregate(_concat(...), aggfunc=*, levels=*)\"],\"x\":[0,79.77826461100005,79.79683541000009,79.82887852600004,98.01117428300006,98.03342438900006,98.06799843600004,98.16407980200006,98.183171474,98.22017204100007,106.43324594500007,106.45080997500008,106.47238039700005,117.1034464820001,117.13512939500004,117.17232066000008,117.8466082870001,117.86596855000005,117.90324075000001,123.730767291,123.75662973300007,123.788927898,128.68624003000002,128.76699081100003,128.814292755,130.8094529880001,130.827838369,130.86405444600007,130.86419226300006,130.8659747480001,131.582638686,131.60266797600002,131.64110552500006,163.81984885000008,163.84113670400006,163.87793231600006,163.8781522280001,163.881791723,163.8869922880001,163.88875309900004,163.8892153700001,163.88922766400003],\"y\":[0,0,0,0,0,0,0,0,0,0,0,0,0,0,0,0,0,0,0,0,0,0,0,0,0,0,0,0,1,2,2,2,2,2,2,2,3,2,3,2,0,0]},\"selected\":{\"id\":\"1329\"},\"selection_policy\":{\"id\":\"1328\"}},\"id\":\"1305\",\"type\":\"ColumnDataSource\"},{\"attributes\":{},\"id\":\"1331\",\"type\":\"Selection\"},{\"attributes\":{},\"id\":\"1284\",\"type\":\"ResetTool\"},{\"attributes\":{\"data_source\":{\"id\":\"1305\"},\"glyph\":{\"id\":\"1307\"},\"hover_glyph\":null,\"muted_glyph\":null,\"nonselection_glyph\":{\"id\":\"1308\"},\"view\":{\"id\":\"1310\"}},\"id\":\"1309\",\"type\":\"GlyphRenderer\"},{\"attributes\":{\"line_alpha\":0.1,\"line_color\":\"#30678D\",\"line_width\":3,\"x\":{\"field\":\"x\"},\"y\":{\"field\":\"y\"}},\"id\":\"1308\",\"type\":\"Line\"},{\"attributes\":{\"source\":{\"id\":\"1311\"}},\"id\":\"1316\",\"type\":\"CDSView\"},{\"attributes\":{},\"id\":\"1279\",\"type\":\"BasicTicker\"},{\"attributes\":{\"data_source\":{\"id\":\"1311\"},\"glyph\":{\"id\":\"1313\"},\"hover_glyph\":null,\"muted_glyph\":null,\"nonselection_glyph\":{\"id\":\"1314\"},\"view\":{\"id\":\"1316\"}},\"id\":\"1315\",\"type\":\"GlyphRenderer\"},{\"attributes\":{},\"id\":\"1326\",\"type\":\"UnionRenderers\"},{\"attributes\":{\"line_alpha\":0.1,\"line_color\":\"#440154\",\"line_width\":3,\"x\":{\"field\":\"x\"},\"y\":{\"field\":\"y\"}},\"id\":\"1302\",\"type\":\"Line\"},{\"attributes\":{\"line_alpha\":0.1,\"line_color\":\"#FDE724\",\"line_width\":3,\"x\":{\"field\":\"x\"},\"y\":{\"field\":\"y\"}},\"id\":\"1314\",\"type\":\"Line\"},{\"attributes\":{\"axis_label\":\"Time (s)\",\"formatter\":{\"id\":\"1321\"},\"major_label_policy\":{\"id\":\"1322\"},\"ticker\":{\"id\":\"1275\"}},\"id\":\"1274\",\"type\":\"LinearAxis\"},{\"attributes\":{\"data\":{\"label\":[\"subgraph_callable-ff2ada67-3764-469d-a313-fdcef3cb(...)\",\"subgraph_callable-ff2ada67-3764-469d-a313-fdcef3cb(...)\",\"subgraph_callable-ff2ada67-3764-469d-a313-fdcef3cb(...)\",\"subgraph_callable-ff2ada67-3764-469d-a313-fdcef3cb(...)\",\"subgraph_callable-ff2ada67-3764-469d-a313-fdcef3cb(...)\",\"subgraph_callable-ff2ada67-3764-469d-a313-fdcef3cb(...)\",\"subgraph_callable-ff2ada67-3764-469d-a313-fdcef3cb(...)\",\"subgraph_callable-ff2ada67-3764-469d-a313-fdcef3cb(...)\",\"subgraph_callable-ff2ada67-3764-469d-a313-fdcef3cb(...)\",\"subgraph_callable-ff2ada67-3764-469d-a313-fdcef3cb(...)\",\"subgraph_callable-ff2ada67-3764-469d-a313-fdcef3cb(...)\",\"subgraph_callable-ff2ada67-3764-469d-a313-fdcef3cb(...)\",\"subgraph_callable-ff2ada67-3764-469d-a313-fdcef3cb(...)\",\"subgraph_callable-ff2ada67-3764-469d-a313-fdcef3cb(...)\",\"subgraph_callable-ff2ada67-3764-469d-a313-fdcef3cb(...)\",\"subgraph_callable-ff2ada67-3764-469d-a313-fdcef3cb(...)\",\"subgraph_callable-ff2ada67-3764-469d-a313-fdcef3cb(...)\",\"subgraph_callable-ff2ada67-3764-469d-a313-fdcef3cb(...)\",\"subgraph_callable-ff2ada67-3764-469d-a313-fdcef3cb(...)\",\"subgraph_callable-ff2ada67-3764-469d-a313-fdcef3cb(...)\",\"subgraph_callable-ff2ada67-3764-469d-a313-fdcef3cb(...)\",\"subgraph_callable-ff2ada67-3764-469d-a313-fdcef3cb(...)\",\"subgraph_callable-ff2ada67-3764-469d-a313-fdcef3cb(...)\",\"subgraph_callable-ff2ada67-3764-469d-a313-fdcef3cb(...)\",\"subgraph_callable-ff2ada67-3764-469d-a313-fdcef3cb(...)\",\"subgraph_callable-ff2ada67-3764-469d-a313-fdcef3cb(...)\",\"subgraph_callable-ff2ada67-3764-469d-a313-fdcef3cb(...)\",\"subgraph_callable-ff2ada67-3764-469d-a313-fdcef3cb(...)\",\"subgraph_callable-ff2ada67-3764-469d-a313-fdcef3cb(...)\",\"subgraph_callable-ff2ada67-3764-469d-a313-fdcef3cb(...)\",\"subgraph_callable-ff2ada67-3764-469d-a313-fdcef3cb(...)\",\"subgraph_callable-ff2ada67-3764-469d-a313-fdcef3cb(...)\",\"subgraph_callable-ff2ada67-3764-469d-a313-fdcef3cb(...)\",\"subgraph_callable-ff2ada67-3764-469d-a313-fdcef3cb(...)\",\"subgraph_callable-ff2ada67-3764-469d-a313-fdcef3cb(...)\",\"subgraph_callable-ff2ada67-3764-469d-a313-fdcef3cb(...)\",\"subgraph_callable-ff2ada67-3764-469d-a313-fdcef3cb(...)\",\"subgraph_callable-ff2ada67-3764-469d-a313-fdcef3cb(...)\",\"subgraph_callable-ff2ada67-3764-469d-a313-fdcef3cb(...)\",\"subgraph_callable-ff2ada67-3764-469d-a313-fdcef3cb(...)\",\"subgraph_callable-ff2ada67-3764-469d-a313-fdcef3cb(...)\",\"subgraph_callable-ff2ada67-3764-469d-a313-fdcef3cb(...)\"],\"x\":[0,79.77826461100005,79.79683541000009,79.82887852600004,98.01117428300006,98.03342438900006,98.06799843600004,98.16407980200006,98.183171474,98.22017204100007,106.43324594500007,106.45080997500008,106.47238039700005,117.1034464820001,117.13512939500004,117.17232066000008,117.8466082870001,117.86596855000005,117.90324075000001,123.730767291,123.75662973300007,123.788927898,128.68624003000002,128.76699081100003,128.814292755,130.8094529880001,130.827838369,130.86405444600007,130.86419226300006,130.8659747480001,131.582638686,131.60266797600002,131.64110552500006,163.81984885000008,163.84113670400006,163.87793231600006,163.8781522280001,163.881791723,163.8869922880001,163.88875309900004,163.8892153700001,163.88922766400003],\"y\":[0,0,0,0,0,0,0,0,0,0,0,0,0,0,0,0,0,0,0,0,0,0,0,0,0,0,0,0,0,0,0,0,0,0,0,0,0,0,0,0,1,0]},\"selected\":{\"id\":\"1331\"},\"selection_policy\":{\"id\":\"1330\"}},\"id\":\"1311\",\"type\":\"ColumnDataSource\"},{\"attributes\":{},\"id\":\"1325\",\"type\":\"Selection\"},{\"attributes\":{\"line_color\":\"#35B778\",\"line_width\":3,\"x\":{\"field\":\"x\"},\"y\":{\"field\":\"y\"}},\"id\":\"1295\",\"type\":\"Line\"},{\"attributes\":{},\"id\":\"1329\",\"type\":\"Selection\"},{\"attributes\":{\"active_multi\":null,\"tools\":[{\"id\":\"1282\"},{\"id\":\"1283\"},{\"id\":\"1284\"},{\"id\":\"1285\"},{\"id\":\"1286\"}]},\"id\":\"1287\",\"type\":\"Toolbar\"},{\"attributes\":{\"data_source\":{\"id\":\"1293\"},\"glyph\":{\"id\":\"1295\"},\"hover_glyph\":null,\"muted_glyph\":null,\"nonselection_glyph\":{\"id\":\"1296\"},\"view\":{\"id\":\"1298\"}},\"id\":\"1297\",\"type\":\"GlyphRenderer\"},{\"attributes\":{},\"id\":\"1272\",\"type\":\"LinearScale\"},{\"attributes\":{\"data_source\":{\"id\":\"1299\"},\"glyph\":{\"id\":\"1301\"},\"hover_glyph\":null,\"muted_glyph\":null,\"nonselection_glyph\":{\"id\":\"1302\"},\"view\":{\"id\":\"1304\"}},\"id\":\"1303\",\"type\":\"GlyphRenderer\"},{\"attributes\":{},\"id\":\"1319\",\"type\":\"AllLabels\"},{\"attributes\":{\"end\":163.88922766400003},\"id\":\"1266\",\"type\":\"Range1d\"},{\"attributes\":{\"line_alpha\":0.1,\"line_color\":\"#35B778\",\"line_width\":3,\"x\":{\"field\":\"x\"},\"y\":{\"field\":\"y\"}},\"id\":\"1296\",\"type\":\"Line\"},{\"attributes\":{\"data\":{\"label\":[\"_apply_chunk(_, *, chunk=*, columns=*)\",\"_apply_chunk(_, *, chunk=*, columns=*)\",\"_apply_chunk(_, *, chunk=*, columns=*)\",\"_apply_chunk(_, *, chunk=*, columns=*)\",\"_apply_chunk(_, *, chunk=*, columns=*)\",\"_apply_chunk(_, *, chunk=*, columns=*)\",\"_apply_chunk(_, *, chunk=*, columns=*)\",\"_apply_chunk(_, *, chunk=*, columns=*)\",\"_apply_chunk(_, *, chunk=*, columns=*)\",\"_apply_chunk(_, *, chunk=*, columns=*)\",\"_apply_chunk(_, *, chunk=*, columns=*)\",\"_apply_chunk(_, *, chunk=*, columns=*)\",\"_apply_chunk(_, *, chunk=*, columns=*)\",\"_apply_chunk(_, *, chunk=*, columns=*)\",\"_apply_chunk(_, *, chunk=*, columns=*)\",\"_apply_chunk(_, *, chunk=*, columns=*)\",\"_apply_chunk(_, *, chunk=*, columns=*)\",\"_apply_chunk(_, *, chunk=*, columns=*)\",\"_apply_chunk(_, *, chunk=*, columns=*)\",\"_apply_chunk(_, *, chunk=*, columns=*)\",\"_apply_chunk(_, *, chunk=*, columns=*)\",\"_apply_chunk(_, *, chunk=*, columns=*)\",\"_apply_chunk(_, *, chunk=*, columns=*)\",\"_apply_chunk(_, *, chunk=*, columns=*)\",\"_apply_chunk(_, *, chunk=*, columns=*)\",\"_apply_chunk(_, *, chunk=*, columns=*)\",\"_apply_chunk(_, *, chunk=*, columns=*)\",\"_apply_chunk(_, *, chunk=*, columns=*)\",\"_apply_chunk(_, *, chunk=*, columns=*)\",\"_apply_chunk(_, *, chunk=*, columns=*)\",\"_apply_chunk(_, *, chunk=*, columns=*)\",\"_apply_chunk(_, *, chunk=*, columns=*)\",\"_apply_chunk(_, *, chunk=*, columns=*)\",\"_apply_chunk(_, *, chunk=*, columns=*)\",\"_apply_chunk(_, *, chunk=*, columns=*)\",\"_apply_chunk(_, *, chunk=*, columns=*)\",\"_apply_chunk(_, *, chunk=*, columns=*)\",\"_apply_chunk(_, *, chunk=*, columns=*)\",\"_apply_chunk(_, *, chunk=*, columns=*)\",\"_apply_chunk(_, *, chunk=*, columns=*)\",\"_apply_chunk(_, *, chunk=*, columns=*)\",\"_apply_chunk(_, *, chunk=*, columns=*)\"],\"x\":[0,79.77826461100005,79.79683541000009,79.82887852600004,98.01117428300006,98.03342438900006,98.06799843600004,98.16407980200006,98.183171474,98.22017204100007,106.43324594500007,106.45080997500008,106.47238039700005,117.1034464820001,117.13512939500004,117.17232066000008,117.8466082870001,117.86596855000005,117.90324075000001,123.730767291,123.75662973300007,123.788927898,128.68624003000002,128.76699081100003,128.814292755,130.8094529880001,130.827838369,130.86405444600007,130.86419226300006,130.8659747480001,131.582638686,131.60266797600002,131.64110552500006,163.81984885000008,163.84113670400006,163.87793231600006,163.8781522280001,163.881791723,163.8869922880001,163.88875309900004,163.8892153700001,163.88922766400003],\"y\":[0,0,1,2,2,3,4,4,5,6,6,7,8,8,9,10,10,11,12,12,13,14,14,15,16,16,17,18,15,12,12,13,14,14,15,16,8,8,0,0,0,0]},\"selected\":{\"id\":\"1327\"},\"selection_policy\":{\"id\":\"1326\"}},\"id\":\"1299\",\"type\":\"ColumnDataSource\"},{\"attributes\":{},\"id\":\"1330\",\"type\":\"UnionRenderers\"},{\"attributes\":{},\"id\":\"1318\",\"type\":\"BasicTickFormatter\"},{\"attributes\":{\"source\":{\"id\":\"1293\"}},\"id\":\"1298\",\"type\":\"CDSView\"},{\"attributes\":{\"axis_label\":\"Cache Size (count)\",\"formatter\":{\"id\":\"1318\"},\"major_label_policy\":{\"id\":\"1319\"},\"ticker\":{\"id\":\"1279\"}},\"id\":\"1278\",\"type\":\"LinearAxis\"},{\"attributes\":{\"dimensions\":\"width\"},\"id\":\"1286\",\"type\":\"PanTool\"},{\"attributes\":{\"axis\":{\"id\":\"1278\"},\"dimension\":1,\"ticker\":null},\"id\":\"1281\",\"type\":\"Grid\"},{\"attributes\":{},\"id\":\"1324\",\"type\":\"UnionRenderers\"},{\"attributes\":{},\"id\":\"1322\",\"type\":\"AllLabels\"},{\"attributes\":{\"line_color\":\"#30678D\",\"line_width\":3,\"x\":{\"field\":\"x\"},\"y\":{\"field\":\"y\"}},\"id\":\"1307\",\"type\":\"Line\"},{\"attributes\":{\"axis\":{\"id\":\"1274\"},\"ticker\":null},\"id\":\"1277\",\"type\":\"Grid\"},{\"attributes\":{},\"id\":\"1268\",\"type\":\"DataRange1d\"},{\"attributes\":{},\"id\":\"1328\",\"type\":\"UnionRenderers\"}],\"root_ids\":[\"1263\"]},\"title\":\"Bokeh Application\",\"version\":\"2.3.3\"}};\n",
       "  var render_items = [{\"docid\":\"c849b6f7-7438-4dc3-8fb4-d15d918cd2ea\",\"root_ids\":[\"1263\"],\"roots\":{\"1263\":\"c2354ca2-cc22-4922-b064-758c395cf318\"}}];\n",
       "  root.Bokeh.embed.embed_items_notebook(docs_json, render_items);\n",
       "\n",
       "  }\n",
       "  if (root.Bokeh !== undefined) {\n",
       "    embed_document(root);\n",
       "  } else {\n",
       "    var attempts = 0;\n",
       "    var timer = setInterval(function(root) {\n",
       "      if (root.Bokeh !== undefined) {\n",
       "        clearInterval(timer);\n",
       "        embed_document(root);\n",
       "      } else {\n",
       "        attempts++;\n",
       "        if (attempts > 100) {\n",
       "          clearInterval(timer);\n",
       "          console.log(\"Bokeh: ERROR: Unable to run BokehJS code because BokehJS library is missing\");\n",
       "        }\n",
       "      }\n",
       "    }, 10, root)\n",
       "  }\n",
       "})(window);"
      ],
      "application/vnd.bokehjs_exec.v0+json": ""
     },
     "metadata": {
      "application/vnd.bokehjs_exec.v0+json": {
       "id": "1263"
      }
     },
     "output_type": "display_data"
    },
    {
     "data": {
      "text/html": [
       "<div style=\"display: table;\"><div style=\"display: table-row;\"><div style=\"display: table-cell;\"><b title=\"bokeh.plotting.figure.Figure\">Figure</b>(</div><div style=\"display: table-cell;\">id&nbsp;=&nbsp;'1263', <span id=\"1446\" style=\"cursor: pointer;\">&hellip;)</span></div></div><div class=\"1445\" style=\"display: none;\"><div style=\"display: table-cell;\"></div><div style=\"display: table-cell;\">above&nbsp;=&nbsp;[],</div></div><div class=\"1445\" style=\"display: none;\"><div style=\"display: table-cell;\"></div><div style=\"display: table-cell;\">align&nbsp;=&nbsp;'start',</div></div><div class=\"1445\" style=\"display: none;\"><div style=\"display: table-cell;\"></div><div style=\"display: table-cell;\">aspect_ratio&nbsp;=&nbsp;None,</div></div><div class=\"1445\" style=\"display: none;\"><div style=\"display: table-cell;\"></div><div style=\"display: table-cell;\">aspect_scale&nbsp;=&nbsp;1,</div></div><div class=\"1445\" style=\"display: none;\"><div style=\"display: table-cell;\"></div><div style=\"display: table-cell;\">background&nbsp;=&nbsp;None,</div></div><div class=\"1445\" style=\"display: none;\"><div style=\"display: table-cell;\"></div><div style=\"display: table-cell;\">background_fill_alpha&nbsp;=&nbsp;1.0,</div></div><div class=\"1445\" style=\"display: none;\"><div style=\"display: table-cell;\"></div><div style=\"display: table-cell;\">background_fill_color&nbsp;=&nbsp;'#ffffff',</div></div><div class=\"1445\" style=\"display: none;\"><div style=\"display: table-cell;\"></div><div style=\"display: table-cell;\">below&nbsp;=&nbsp;[LinearAxis(id='1274', ...)],</div></div><div class=\"1445\" style=\"display: none;\"><div style=\"display: table-cell;\"></div><div style=\"display: table-cell;\">border_fill_alpha&nbsp;=&nbsp;1.0,</div></div><div class=\"1445\" style=\"display: none;\"><div style=\"display: table-cell;\"></div><div style=\"display: table-cell;\">border_fill_color&nbsp;=&nbsp;'#ffffff',</div></div><div class=\"1445\" style=\"display: none;\"><div style=\"display: table-cell;\"></div><div style=\"display: table-cell;\">center&nbsp;=&nbsp;[Grid(id='1277', ...), Grid(id='1281', ...)],</div></div><div class=\"1445\" style=\"display: none;\"><div style=\"display: table-cell;\"></div><div style=\"display: table-cell;\">css_classes&nbsp;=&nbsp;[],</div></div><div class=\"1445\" style=\"display: none;\"><div style=\"display: table-cell;\"></div><div style=\"display: table-cell;\">disabled&nbsp;=&nbsp;False,</div></div><div class=\"1445\" style=\"display: none;\"><div style=\"display: table-cell;\"></div><div style=\"display: table-cell;\">extra_x_ranges&nbsp;=&nbsp;{},</div></div><div class=\"1445\" style=\"display: none;\"><div style=\"display: table-cell;\"></div><div style=\"display: table-cell;\">extra_y_ranges&nbsp;=&nbsp;{},</div></div><div class=\"1445\" style=\"display: none;\"><div style=\"display: table-cell;\"></div><div style=\"display: table-cell;\">frame_height&nbsp;=&nbsp;None,</div></div><div class=\"1445\" style=\"display: none;\"><div style=\"display: table-cell;\"></div><div style=\"display: table-cell;\">frame_width&nbsp;=&nbsp;None,</div></div><div class=\"1445\" style=\"display: none;\"><div style=\"display: table-cell;\"></div><div style=\"display: table-cell;\">height&nbsp;=&nbsp;300,</div></div><div class=\"1445\" style=\"display: none;\"><div style=\"display: table-cell;\"></div><div style=\"display: table-cell;\">height_policy&nbsp;=&nbsp;'auto',</div></div><div class=\"1445\" style=\"display: none;\"><div style=\"display: table-cell;\"></div><div style=\"display: table-cell;\">hidpi&nbsp;=&nbsp;True,</div></div><div class=\"1445\" style=\"display: none;\"><div style=\"display: table-cell;\"></div><div style=\"display: table-cell;\">inner_height&nbsp;=&nbsp;0,</div></div><div class=\"1445\" style=\"display: none;\"><div style=\"display: table-cell;\"></div><div style=\"display: table-cell;\">inner_width&nbsp;=&nbsp;0,</div></div><div class=\"1445\" style=\"display: none;\"><div style=\"display: table-cell;\"></div><div style=\"display: table-cell;\">js_event_callbacks&nbsp;=&nbsp;{},</div></div><div class=\"1445\" style=\"display: none;\"><div style=\"display: table-cell;\"></div><div style=\"display: table-cell;\">js_property_callbacks&nbsp;=&nbsp;{},</div></div><div class=\"1445\" style=\"display: none;\"><div style=\"display: table-cell;\"></div><div style=\"display: table-cell;\">left&nbsp;=&nbsp;[LinearAxis(id='1278', ...)],</div></div><div class=\"1445\" style=\"display: none;\"><div style=\"display: table-cell;\"></div><div style=\"display: table-cell;\">lod_factor&nbsp;=&nbsp;10,</div></div><div class=\"1445\" style=\"display: none;\"><div style=\"display: table-cell;\"></div><div style=\"display: table-cell;\">lod_interval&nbsp;=&nbsp;300,</div></div><div class=\"1445\" style=\"display: none;\"><div style=\"display: table-cell;\"></div><div style=\"display: table-cell;\">lod_threshold&nbsp;=&nbsp;2000,</div></div><div class=\"1445\" style=\"display: none;\"><div style=\"display: table-cell;\"></div><div style=\"display: table-cell;\">lod_timeout&nbsp;=&nbsp;500,</div></div><div class=\"1445\" style=\"display: none;\"><div style=\"display: table-cell;\"></div><div style=\"display: table-cell;\">margin&nbsp;=&nbsp;(0, 0, 0, 0),</div></div><div class=\"1445\" style=\"display: none;\"><div style=\"display: table-cell;\"></div><div style=\"display: table-cell;\">match_aspect&nbsp;=&nbsp;False,</div></div><div class=\"1445\" style=\"display: none;\"><div style=\"display: table-cell;\"></div><div style=\"display: table-cell;\">max_height&nbsp;=&nbsp;None,</div></div><div class=\"1445\" style=\"display: none;\"><div style=\"display: table-cell;\"></div><div style=\"display: table-cell;\">max_width&nbsp;=&nbsp;None,</div></div><div class=\"1445\" style=\"display: none;\"><div style=\"display: table-cell;\"></div><div style=\"display: table-cell;\">min_border&nbsp;=&nbsp;5,</div></div><div class=\"1445\" style=\"display: none;\"><div style=\"display: table-cell;\"></div><div style=\"display: table-cell;\">min_border_bottom&nbsp;=&nbsp;None,</div></div><div class=\"1445\" style=\"display: none;\"><div style=\"display: table-cell;\"></div><div style=\"display: table-cell;\">min_border_left&nbsp;=&nbsp;None,</div></div><div class=\"1445\" style=\"display: none;\"><div style=\"display: table-cell;\"></div><div style=\"display: table-cell;\">min_border_right&nbsp;=&nbsp;None,</div></div><div class=\"1445\" style=\"display: none;\"><div style=\"display: table-cell;\"></div><div style=\"display: table-cell;\">min_border_top&nbsp;=&nbsp;None,</div></div><div class=\"1445\" style=\"display: none;\"><div style=\"display: table-cell;\"></div><div style=\"display: table-cell;\">min_height&nbsp;=&nbsp;None,</div></div><div class=\"1445\" style=\"display: none;\"><div style=\"display: table-cell;\"></div><div style=\"display: table-cell;\">min_width&nbsp;=&nbsp;None,</div></div><div class=\"1445\" style=\"display: none;\"><div style=\"display: table-cell;\"></div><div style=\"display: table-cell;\">name&nbsp;=&nbsp;None,</div></div><div class=\"1445\" style=\"display: none;\"><div style=\"display: table-cell;\"></div><div style=\"display: table-cell;\">outer_height&nbsp;=&nbsp;0,</div></div><div class=\"1445\" style=\"display: none;\"><div style=\"display: table-cell;\"></div><div style=\"display: table-cell;\">outer_width&nbsp;=&nbsp;0,</div></div><div class=\"1445\" style=\"display: none;\"><div style=\"display: table-cell;\"></div><div style=\"display: table-cell;\">outline_line_alpha&nbsp;=&nbsp;1.0,</div></div><div class=\"1445\" style=\"display: none;\"><div style=\"display: table-cell;\"></div><div style=\"display: table-cell;\">outline_line_cap&nbsp;=&nbsp;'butt',</div></div><div class=\"1445\" style=\"display: none;\"><div style=\"display: table-cell;\"></div><div style=\"display: table-cell;\">outline_line_color&nbsp;=&nbsp;'#e5e5e5',</div></div><div class=\"1445\" style=\"display: none;\"><div style=\"display: table-cell;\"></div><div style=\"display: table-cell;\">outline_line_dash&nbsp;=&nbsp;[],</div></div><div class=\"1445\" style=\"display: none;\"><div style=\"display: table-cell;\"></div><div style=\"display: table-cell;\">outline_line_dash_offset&nbsp;=&nbsp;0,</div></div><div class=\"1445\" style=\"display: none;\"><div style=\"display: table-cell;\"></div><div style=\"display: table-cell;\">outline_line_join&nbsp;=&nbsp;'bevel',</div></div><div class=\"1445\" style=\"display: none;\"><div style=\"display: table-cell;\"></div><div style=\"display: table-cell;\">outline_line_width&nbsp;=&nbsp;1,</div></div><div class=\"1445\" style=\"display: none;\"><div style=\"display: table-cell;\"></div><div style=\"display: table-cell;\">output_backend&nbsp;=&nbsp;'canvas',</div></div><div class=\"1445\" style=\"display: none;\"><div style=\"display: table-cell;\"></div><div style=\"display: table-cell;\">renderers&nbsp;=&nbsp;[GlyphRenderer(id='1297', ...), GlyphRenderer(id='1303', ...), GlyphRenderer(id='1309', ...), GlyphRenderer(id='1315', ...)],</div></div><div class=\"1445\" style=\"display: none;\"><div style=\"display: table-cell;\"></div><div style=\"display: table-cell;\">reset_policy&nbsp;=&nbsp;'standard',</div></div><div class=\"1445\" style=\"display: none;\"><div style=\"display: table-cell;\"></div><div style=\"display: table-cell;\">right&nbsp;=&nbsp;[],</div></div><div class=\"1445\" style=\"display: none;\"><div style=\"display: table-cell;\"></div><div style=\"display: table-cell;\">sizing_mode&nbsp;=&nbsp;None,</div></div><div class=\"1445\" style=\"display: none;\"><div style=\"display: table-cell;\"></div><div style=\"display: table-cell;\">subscribed_events&nbsp;=&nbsp;[],</div></div><div class=\"1445\" style=\"display: none;\"><div style=\"display: table-cell;\"></div><div style=\"display: table-cell;\">syncable&nbsp;=&nbsp;True,</div></div><div class=\"1445\" style=\"display: none;\"><div style=\"display: table-cell;\"></div><div style=\"display: table-cell;\">tags&nbsp;=&nbsp;[],</div></div><div class=\"1445\" style=\"display: none;\"><div style=\"display: table-cell;\"></div><div style=\"display: table-cell;\">title&nbsp;=&nbsp;Title(id='1264', ...),</div></div><div class=\"1445\" style=\"display: none;\"><div style=\"display: table-cell;\"></div><div style=\"display: table-cell;\">title_location&nbsp;=&nbsp;'above',</div></div><div class=\"1445\" style=\"display: none;\"><div style=\"display: table-cell;\"></div><div style=\"display: table-cell;\">toolbar&nbsp;=&nbsp;Toolbar(id='1287', ...),</div></div><div class=\"1445\" style=\"display: none;\"><div style=\"display: table-cell;\"></div><div style=\"display: table-cell;\">toolbar_location&nbsp;=&nbsp;'above',</div></div><div class=\"1445\" style=\"display: none;\"><div style=\"display: table-cell;\"></div><div style=\"display: table-cell;\">toolbar_sticky&nbsp;=&nbsp;True,</div></div><div class=\"1445\" style=\"display: none;\"><div style=\"display: table-cell;\"></div><div style=\"display: table-cell;\">visible&nbsp;=&nbsp;True,</div></div><div class=\"1445\" style=\"display: none;\"><div style=\"display: table-cell;\"></div><div style=\"display: table-cell;\">width&nbsp;=&nbsp;800,</div></div><div class=\"1445\" style=\"display: none;\"><div style=\"display: table-cell;\"></div><div style=\"display: table-cell;\">width_policy&nbsp;=&nbsp;'auto',</div></div><div class=\"1445\" style=\"display: none;\"><div style=\"display: table-cell;\"></div><div style=\"display: table-cell;\">x_range&nbsp;=&nbsp;Range1d(id='1266', ...),</div></div><div class=\"1445\" style=\"display: none;\"><div style=\"display: table-cell;\"></div><div style=\"display: table-cell;\">x_scale&nbsp;=&nbsp;LinearScale(id='1270', ...),</div></div><div class=\"1445\" style=\"display: none;\"><div style=\"display: table-cell;\"></div><div style=\"display: table-cell;\">y_range&nbsp;=&nbsp;DataRange1d(id='1268', ...),</div></div><div class=\"1445\" style=\"display: none;\"><div style=\"display: table-cell;\"></div><div style=\"display: table-cell;\">y_scale&nbsp;=&nbsp;LinearScale(id='1272', ...))</div></div></div>\n",
       "<script>\n",
       "(function() {\n",
       "  var expanded = false;\n",
       "  var ellipsis = document.getElementById(\"1446\");\n",
       "  ellipsis.addEventListener(\"click\", function() {\n",
       "    var rows = document.getElementsByClassName(\"1445\");\n",
       "    for (var i = 0; i < rows.length; i++) {\n",
       "      var el = rows[i];\n",
       "      el.style.display = expanded ? \"none\" : \"table-row\";\n",
       "    }\n",
       "    ellipsis.innerHTML = expanded ? \"&hellip;)\" : \"&lsaquo;&lsaquo;&lsaquo;\";\n",
       "    expanded = !expanded;\n",
       "  });\n",
       "})();\n",
       "</script>\n"
      ],
      "text/plain": [
       "Figure(id='1263', ...)"
      ]
     },
     "execution_count": 18,
     "metadata": {},
     "output_type": "execute_result"
    }
   ],
   "source": [
    "cprof.visualize()"
   ]
  },
  {
   "cell_type": "markdown",
   "id": "6078c5b9-8f81-4345-9e8e-4ab6ab54867a",
   "metadata": {},
   "source": [
    "## Distributed Computation"
   ]
  },
  {
   "cell_type": "code",
   "execution_count": 19,
   "id": "a864e2c6-d52a-460e-8cba-e29a5706f4af",
   "metadata": {},
   "outputs": [],
   "source": [
    "from dask.distributed import Client\n",
    "client = Client()"
   ]
  },
  {
   "cell_type": "markdown",
   "id": "487bb9e5-5275-49e8-a0c7-aee5aab5da3c",
   "metadata": {},
   "source": [
    "### 1. Progress Bar"
   ]
  },
  {
   "cell_type": "code",
   "execution_count": 20,
   "id": "c6a413e3-a4b0-4eaa-95f0-68dac1e9bf18",
   "metadata": {},
   "outputs": [
    {
     "data": {
      "application/vnd.jupyter.widget-view+json": {
       "model_id": "c4532262cb7a40079457abced3c5853b",
       "version_major": 2,
       "version_minor": 0
      },
      "text/plain": [
       "VBox()"
      ]
     },
     "metadata": {},
     "output_type": "display_data"
    }
   ],
   "source": [
    "from dask.distributed import progress\n",
    "\n",
    "result = df.groupby(\"passenger_count\").tip_amount.mean().persist()\n",
    "progress(result)"
   ]
  },
  {
   "cell_type": "markdown",
   "id": "9fcc66ea-d8d9-42e2-b6d6-470f10e388e2",
   "metadata": {},
   "source": [
    "### 2. Diagnostic Dashboard"
   ]
  },
  {
   "cell_type": "code",
   "execution_count": 25,
   "id": "035ac909-869b-4372-b2e7-24cf850642c2",
   "metadata": {},
   "outputs": [
    {
     "data": {
      "text/plain": [
       "'http://127.0.0.1:8787/status'"
      ]
     },
     "execution_count": 25,
     "metadata": {},
     "output_type": "execute_result"
    }
   ],
   "source": [
    "client.dashboard_link"
   ]
  },
  {
   "cell_type": "markdown",
   "id": "fe6a8547-db5f-4e8b-a3ed-e607f1284d9c",
   "metadata": {},
   "source": [
    "### 3. Dask JupyterLab Extension"
   ]
  },
  {
   "cell_type": "code",
   "execution_count": 22,
   "id": "1499688a-94b6-46c8-8f2f-8e9cdb06beab",
   "metadata": {},
   "outputs": [
    {
     "data": {
      "text/plain": [
       "passenger_count\n",
       "0     209748.20\n",
       "1    9975467.18\n",
       "2    2043133.07\n",
       "3     565106.33\n",
       "4     239661.51\n",
       "5     605541.83\n",
       "6     372871.93\n",
       "7        124.31\n",
       "8        187.94\n",
       "9         28.05\n",
       "Name: tip_amount, dtype: float64"
      ]
     },
     "execution_count": 22,
     "metadata": {},
     "output_type": "execute_result"
    }
   ],
   "source": [
    "df.groupby(\"passenger_count\").tip_amount.sum().compute()"
   ]
  },
  {
   "cell_type": "code",
   "execution_count": null,
   "id": "7d720bdc-33b8-4ea3-acee-fe1a3bd8b04d",
   "metadata": {},
   "outputs": [],
   "source": [
    "client.close()"
   ]
  },
  {
   "cell_type": "code",
   "execution_count": null,
   "id": "2aadffa7-15c9-4d3b-95c1-1e44c5f63051",
   "metadata": {},
   "outputs": [],
   "source": []
  }
 ],
 "metadata": {
  "kernelspec": {
   "display_name": "Python 3 (ipykernel)",
   "language": "python",
   "name": "python3"
  },
  "language_info": {
   "codemirror_mode": {
    "name": "ipython",
    "version": 3
   },
   "file_extension": ".py",
   "mimetype": "text/x-python",
   "name": "python",
   "nbconvert_exporter": "python",
   "pygments_lexer": "ipython3",
   "version": "3.9.0"
  }
 },
 "nbformat": 4,
 "nbformat_minor": 5
}
