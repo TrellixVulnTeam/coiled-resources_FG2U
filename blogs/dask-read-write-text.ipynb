{
 "cells": [
  {
   "cell_type": "code",
   "execution_count": 33,
   "id": "83425494-09c2-4197-9181-dc1ffd6a7ff6",
   "metadata": {},
   "outputs": [],
   "source": [
    "import dask.bag as db"
   ]
  },
  {
   "cell_type": "markdown",
   "id": "ad234135-1951-419d-8515-030ff4abdfa3",
   "metadata": {},
   "source": [
    "## Read text file to bag"
   ]
  },
  {
   "cell_type": "code",
   "execution_count": 34,
   "id": "5d95a8db-5c45-4be3-85d4-dc8897ed2bb2",
   "metadata": {},
   "outputs": [],
   "source": [
    "b = db.read_text(\"animals.txt\").map(lambda x: x.strip()).repartition(2)"
   ]
  },
  {
   "cell_type": "code",
   "execution_count": 35,
   "id": "62d441a3-231c-463a-ba68-9cb920d60217",
   "metadata": {},
   "outputs": [
    {
     "data": {
      "text/plain": [
       "['dog', 'cat', 'snake', 'mouse']"
      ]
     },
     "execution_count": 35,
     "metadata": {},
     "output_type": "execute_result"
    }
   ],
   "source": [
    "b.compute()"
   ]
  },
  {
   "cell_type": "code",
   "execution_count": 36,
   "id": "90aa4aa6-2ef7-4c41-b6e6-19eba379b53b",
   "metadata": {},
   "outputs": [
    {
     "data": {
      "text/plain": [
       "dask.bag<repartition, npartitions=2>"
      ]
     },
     "execution_count": 36,
     "metadata": {},
     "output_type": "execute_result"
    }
   ],
   "source": [
    "b"
   ]
  },
  {
   "cell_type": "code",
   "execution_count": 51,
   "id": "12ed9daf-4e88-4535-a186-5f8dbccec90e",
   "metadata": {},
   "outputs": [
    {
     "data": {
      "text/plain": [
       "list"
      ]
     },
     "execution_count": 51,
     "metadata": {},
     "output_type": "execute_result"
    }
   ],
   "source": [
    "type(b.compute())"
   ]
  },
  {
   "cell_type": "markdown",
   "id": "89a15835-d20c-4f1b-a8fa-e5f8fd21e0fc",
   "metadata": {},
   "source": [
    "## Convert bag to DataFrame"
   ]
  },
  {
   "cell_type": "code",
   "execution_count": 53,
   "id": "5699ce2d-96ba-4408-83f5-b733dd383e9b",
   "metadata": {},
   "outputs": [],
   "source": [
    "ddf = b.to_dataframe(columns=[\"animal_type\"])"
   ]
  },
  {
   "cell_type": "code",
   "execution_count": 54,
   "id": "049a8c66-ace3-4e0f-bbc1-01c7eb2fd80f",
   "metadata": {},
   "outputs": [
    {
     "name": "stdout",
     "output_type": "stream",
     "text": [
      "  animal_type\n",
      "0         dog\n",
      "1         cat\n",
      "0       snake\n",
      "1       mouse\n"
     ]
    }
   ],
   "source": [
    "print(ddf.compute())"
   ]
  },
  {
   "cell_type": "code",
   "execution_count": 55,
   "id": "f3fabcb2-b501-45ca-8bf8-f57fd8a15fbd",
   "metadata": {},
   "outputs": [
    {
     "data": {
      "text/plain": [
       "2"
      ]
     },
     "execution_count": 55,
     "metadata": {},
     "output_type": "execute_result"
    }
   ],
   "source": [
    "ddf.npartitions"
   ]
  },
  {
   "cell_type": "code",
   "execution_count": 61,
   "id": "3d618424-79e5-4ff7-85b8-2c7b692b351f",
   "metadata": {},
   "outputs": [],
   "source": [
    "ddf[\"len_animal_type\"] = ddf[\"animal_type\"].apply(\n",
    "    lambda x: len(x), meta=(\"animal_type\", \"int64\")\n",
    ")"
   ]
  },
  {
   "cell_type": "code",
   "execution_count": 63,
   "id": "dfc511d2-2bfa-41b9-b007-07ee7f373c0f",
   "metadata": {},
   "outputs": [
    {
     "name": "stdout",
     "output_type": "stream",
     "text": [
      "  animal_type  len_animal_type\n",
      "0         dog                3\n",
      "1         cat                3\n",
      "0       snake                5\n",
      "1       mouse                5\n"
     ]
    }
   ],
   "source": [
    "print(ddf.compute())"
   ]
  },
  {
   "cell_type": "markdown",
   "id": "1b68afb9-b9a1-4215-bd83-d17204f3e96e",
   "metadata": {},
   "source": [
    "## Write text files"
   ]
  },
  {
   "cell_type": "code",
   "execution_count": 48,
   "id": "2faa912e-6998-499d-ad20-5a5958a16d51",
   "metadata": {},
   "outputs": [],
   "source": [
    "animals_length = b.map(lambda x: str(len(x)))"
   ]
  },
  {
   "cell_type": "code",
   "execution_count": 49,
   "id": "9cabe4c3-a437-4466-8a27-77e95dfa19c3",
   "metadata": {},
   "outputs": [
    {
     "data": {
      "text/plain": [
       "['3', '3', '5', '5']"
      ]
     },
     "execution_count": 49,
     "metadata": {},
     "output_type": "execute_result"
    }
   ],
   "source": [
    "animals_length.compute()"
   ]
  },
  {
   "cell_type": "code",
   "execution_count": 64,
   "id": "22c98b45-93c9-4737-8db3-3acf70b16cfc",
   "metadata": {},
   "outputs": [
    {
     "data": {
      "text/plain": [
       "['/Users/powers/Documents/code/coiled/coiled-resources/local/../tmp/animals_length/0.part',\n",
       " '/Users/powers/Documents/code/coiled/coiled-resources/local/../tmp/animals_length/1.part']"
      ]
     },
     "execution_count": 64,
     "metadata": {},
     "output_type": "execute_result"
    }
   ],
   "source": [
    "animals_length.to_textfiles(\"../tmp/animals_length\")"
   ]
  },
  {
   "cell_type": "markdown",
   "id": "2ca1bdec-2554-4411-bbaf-5f56eeb2b303",
   "metadata": {},
   "source": [
    "## Read JSON to bag"
   ]
  },
  {
   "cell_type": "code",
   "execution_count": 80,
   "id": "8280c50d-8bbf-477e-9c24-7d679b486630",
   "metadata": {},
   "outputs": [],
   "source": [
    "import json"
   ]
  },
  {
   "cell_type": "code",
   "execution_count": 81,
   "id": "60a163a5-9db2-48d4-8ba2-a41aa6b8318b",
   "metadata": {},
   "outputs": [],
   "source": [
    "pets = db.read_text(\"pets1.json\")"
   ]
  },
  {
   "cell_type": "code",
   "execution_count": 82,
   "id": "04ff9b24-96e6-4ab2-a439-06a346fd6ef2",
   "metadata": {},
   "outputs": [],
   "source": [
    "lines = pets.map(json.loads)"
   ]
  },
  {
   "cell_type": "code",
   "execution_count": 83,
   "id": "4e8036b8-bbed-4852-b273-795158d000f8",
   "metadata": {},
   "outputs": [],
   "source": [
    "cats = lines.filter(lambda d: d[\"species\"] == \"cat\")"
   ]
  },
  {
   "cell_type": "code",
   "execution_count": 84,
   "id": "57f2617b-2383-4c6c-ae2d-a78bcb09117d",
   "metadata": {},
   "outputs": [
    {
     "data": {
      "text/plain": [
       "[{'name': 'fluffy', 'age': 5, 'species': 'cat'},\n",
       " {'name': 'harvey', 'age': 8, 'species': 'cat'},\n",
       " {'name': 'chunkers', 'age': 9, 'species': 'cat'}]"
      ]
     },
     "execution_count": 84,
     "metadata": {},
     "output_type": "execute_result"
    }
   ],
   "source": [
    "cats.compute()"
   ]
  },
  {
   "cell_type": "code",
   "execution_count": 85,
   "id": "1ab41601-a531-4c67-97ee-03b17563496c",
   "metadata": {},
   "outputs": [
    {
     "data": {
      "text/plain": [
       "['fluffy', 'harvey', 'chunkers']"
      ]
     },
     "execution_count": 85,
     "metadata": {},
     "output_type": "execute_result"
    }
   ],
   "source": [
    "cats.map(lambda d: d[\"name\"]).compute()"
   ]
  },
  {
   "cell_type": "code",
   "execution_count": 86,
   "id": "fbaaa5ba-7f4e-4ff1-8a2d-679014966ddf",
   "metadata": {},
   "outputs": [
    {
     "data": {
      "text/plain": [
       "({'name': 'fluffy', 'age': 5, 'species': 'cat'},\n",
       " {'name': 'fido', 'age': 2, 'species': 'dog'})"
      ]
     },
     "execution_count": 86,
     "metadata": {},
     "output_type": "execute_result"
    }
   ],
   "source": [
    "lines.take(2)"
   ]
  },
  {
   "cell_type": "code",
   "execution_count": 87,
   "id": "eb92ec47-cf36-49c8-9e4c-5a6a8f62349e",
   "metadata": {},
   "outputs": [
    {
     "data": {
      "text/plain": [
       "[{'name': 'fluffy', 'age': 5, 'species': 'cat'},\n",
       " {'name': 'fido', 'age': 2, 'species': 'dog'},\n",
       " {'name': 'harvey', 'age': 8, 'species': 'cat'},\n",
       " {'name': 'chunkers', 'age': 9, 'species': 'cat'},\n",
       " {'name': 'lola', 'age': 1, 'species': 'bird'}]"
      ]
     },
     "execution_count": 87,
     "metadata": {},
     "output_type": "execute_result"
    }
   ],
   "source": [
    "lines.compute()"
   ]
  },
  {
   "cell_type": "markdown",
   "id": "fa665be5-3767-408b-821a-d2c54931b3c2",
   "metadata": {},
   "source": [
    "## Read large text file to bag"
   ]
  },
  {
   "cell_type": "code",
   "execution_count": null,
   "id": "825b229b-509d-4a4c-9693-52b61df4e83d",
   "metadata": {},
   "outputs": [],
   "source": []
  }
 ],
 "metadata": {
  "kernelspec": {
   "display_name": "Python [conda env:standard-coiled] *",
   "language": "python",
   "name": "conda-env-standard-coiled-py"
  },
  "language_info": {
   "codemirror_mode": {
    "name": "ipython",
    "version": 3
   },
   "file_extension": ".py",
   "mimetype": "text/x-python",
   "name": "python",
   "nbconvert_exporter": "python",
   "pygments_lexer": "ipython3",
   "version": "3.9.12"
  }
 },
 "nbformat": 4,
 "nbformat_minor": 5
}
